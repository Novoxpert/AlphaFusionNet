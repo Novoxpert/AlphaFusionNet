{
  "cells": [
    {
      "cell_type": "code",
      "execution_count": 1,
      "metadata": {
        "colab": {
          "base_uri": "https://localhost:8080/"
        },
        "id": "M4JJZsmd8vbp",
        "outputId": "094311e0-21c7-4401-9eb8-47d96e0bec18"
      },
      "outputs": [
        {
          "name": "stdout",
          "output_type": "stream",
          "text": [
            "Mounted at /content/drive\n"
          ]
        }
      ],
      "source": [
        "# Connect to Google Drive\n",
        "\n",
        "from google.colab import drive\n",
        "drive.mount('/content/drive')"
      ]
    },
    {
      "cell_type": "code",
      "execution_count": 2,
      "metadata": {
        "colab": {
          "base_uri": "https://localhost:8080/"
        },
        "id": "kda-CfcdpDBw",
        "outputId": "ce34c8eb-408c-487b-e94e-a164b09789a1"
      },
      "outputs": [
        {
          "name": "stdout",
          "output_type": "stream",
          "text": [
            "\n",
            "UNRAR 6.11 beta 1 freeware      Copyright (c) 1993-2022 Alexander Roshal\n",
            "\n",
            "\n",
            "Extracting from /content/drive/MyDrive/data_1min_p.rar\n",
            "\n",
            "Creating    /content/content                                          OK\n",
            "Creating    /content/content/data_1min                                OK\n",
            "Extracting  /content/content/data_1min/TONUSDT.pickle                    \b\b\b\b  0%\b\b\b\b  1%\b\b\b\b\b  OK \n",
            "Extracting  /content/content/data_1min/ETHUSDT.pickle                    \b\b\b\b  2%\b\b\b\b  3%\b\b\b\b\b  OK \n",
            "Extracting  /content/content/data_1min/EIGENUSDT.pickle                  \b\b\b\b  3%\b\b\b\b  4%\b\b\b\b\b  OK \n",
            "Extracting  /content/content/data_1min/ARBUSDT.pickle                    \b\b\b\b  5%\b\b\b\b\b  OK \n",
            "Extracting  /content/content/data_1min/PENGUUSDT.pickle                  \b\b\b\b  6%\b\b\b\b  7%\b\b\b\b\b  OK \n",
            "Extracting  /content/content/data_1min/ENAUSDT.pickle                    \b\b\b\b  8%\b\b\b\b\b  OK \n",
            "Extracting  /content/content/data_1min/1000BONKUSDT.pickle               \b\b\b\b  9%\b\b\b\b 10%\b\b\b\b\b  OK \n",
            "Extracting  /content/content/data_1min/DOGEUSDT.pickle                   \b\b\b\b 11%\b\b\b\b 12%\b\b\b\b\b  OK \n",
            "Extracting  /content/content/data_1min/SOLUSDT.pickle                    \b\b\b\b 13%\b\b\b\b\b  OK \n",
            "Extracting  /content/content/data_1min/BNSOLUSDT.pickle                  \b\b\b\b 14%\b\b\b\b\b  OK \n",
            "Extracting  /content/content/data_1min/BTCUSDT.pickle                    \b\b\b\b 15%\b\b\b\b\b  OK \n",
            "Extracting  /content/content/data_1min/XRPUSDT.pickle                    \b\b\b\b 16%\b\b\b\b 17%\b\b\b\b\b  OK \n",
            "Extracting  /content/content/data_1min/PNUTUSDT.pickle                   \b\b\b\b 18%\b\b\b\b 19%\b\b\b\b\b  OK \n",
            "Extracting  /content/content/data_1min/WBETHUSDT.pickle                  \b\b\b\b 19%\b\b\b\b\b  OK \n",
            "Extracting  /content/content/data_1min/INJUSDT.pickle                    \b\b\b\b 20%\b\b\b\b 21%\b\b\b\b\b  OK \n",
            "Extracting  /content/content/data_1min/WLDUSDT.pickle                    \b\b\b\b 22%\b\b\b\b\b  OK \n",
            "Extracting  /content/content/data_1min/MAGICUSDT.pickle                  \b\b\b\b 23%\b\b\b\b\b  OK \n",
            "Extracting  /content/content/data_1min/AEROUSDT.pickle                   \b\b\b\b 24%\b\b\b\b\b  OK \n",
            "Extracting  /content/content/data_1min/POPCATUSDT.pickle                 \b\b\b\b 25%\b\b\b\b 26%\b\b\b\b\b  OK \n",
            "Extracting  /content/content/data_1min/BERAUSDT.pickle                   \b\b\b\b 27%\b\b\b\b\b  OK \n",
            "Extracting  /content/content/data_1min/MEMEUSDT.pickle                   \b\b\b\b 28%\b\b\b\b\b  OK \n",
            "Extracting  /content/content/data_1min/1000SHIBUSDT.pickle               \b\b\b\b 29%\b\b\b\b 30%\b\b\b\b\b  OK \n",
            "Extracting  /content/content/data_1min/FETUSDT.pickle                    \b\b\b\b 31%\b\b\b\b\b  OK \n",
            "Extracting  /content/content/data_1min/SEIUSDT.pickle                    \b\b\b\b 32%\b\b\b\b\b  OK \n",
            "Extracting  /content/content/data_1min/1000FLOKIUSDT.pickle              \b\b\b\b 33%\b\b\b\b\b  OK \n",
            "Extracting  /content/content/data_1min/TIAUSDT.pickle                    \b\b\b\b 34%\b\b\b\b 35%\b\b\b\b\b  OK \n",
            "Extracting  /content/content/data_1min/VVVUSDT.pickle                    \b\b\b\b 36%\b\b\b\b\b  OK \n",
            "Extracting  /content/content/data_1min/JUPUSDT.pickle                    \b\b\b\b 37%\b\b\b\b\b  OK \n",
            "Extracting  /content/content/data_1min/LINKUSDT.pickle                   \b\b\b\b 38%\b\b\b\b\b  OK \n",
            "Extracting  /content/content/data_1min/SPXUSDT.pickle                    \b\b\b\b 39%\b\b\b\b 40%\b\b\b\b\b  OK \n",
            "Extracting  /content/content/data_1min/APTUSDT.pickle                    \b\b\b\b 41%\b\b\b\b\b  OK \n",
            "Extracting  /content/content/data_1min/LTCUSDT.pickle                    \b\b\b\b 42%\b\b\b\b 43%\b\b\b\b\b  OK \n",
            "Extracting  /content/content/data_1min/CFXUSDT.pickle                    \b\b\b\b 43%\b\b\b\b 44%\b\b\b\b\b  OK \n",
            "Extracting  /content/content/data_1min/ADAUSDT.pickle                    \b\b\b\b 45%\b\b\b\b\b  OK \n",
            "Extracting  /content/content/data_1min/PENDLEUSDT.pickle                 \b\b\b\b 46%\b\b\b\b\b  OK \n",
            "Extracting  /content/content/data_1min/BCHUSDT.pickle                    \b\b\b\b 47%\b\b\b\b 48%\b\b\b\b\b  OK \n",
            "Extracting  /content/content/data_1min/BNBUSDT.pickle                    \b\b\b\b 49%\b\b\b\b\b  OK \n",
            "Extracting  /content/content/data_1min/TAOUSDT.pickle                    \b\b\b\b 50%\b\b\b\b 51%\b\b\b\b\b  OK \n",
            "Extracting  /content/content/data_1min/LDOUSDT.pickle                    \b\b\b\b 52%\b\b\b\b\b  OK \n",
            "Extracting  /content/content/data_1min/ETCUSDT.pickle                    \b\b\b\b 53%\b\b\b\b\b  OK \n",
            "Extracting  /content/content/data_1min/ATOMUSDT.pickle                   \b\b\b\b 54%\b\b\b\b 55%\b\b\b\b\b  OK \n",
            "Extracting  /content/content/data_1min/ALGOUSDT.pickle                   \b\b\b\b 55%\b\b\b\b 56%\b\b\b\b\b  OK \n",
            "Extracting  /content/content/data_1min/GALAUSDT.pickle                   \b\b\b\b 57%\b\b\b\b\b  OK \n",
            "Extracting  /content/content/data_1min/HBARUSDT.pickle                   \b\b\b\b 58%\b\b\b\b\b  OK \n",
            "Extracting  /content/content/data_1min/TRXUSDT.pickle                    \b\b\b\b 59%\b\b\b\b 60%\b\b\b\b\b  OK \n",
            "Extracting  /content/content/data_1min/XLMUSDT.pickle                    \b\b\b\b 61%\b\b\b\b\b  OK \n",
            "Extracting  /content/content/data_1min/DOTUSDT.pickle                    \b\b\b\b 62%\b\b\b\b 63%\b\b\b\b\b  OK \n",
            "Extracting  /content/content/data_1min/FILUSDT.pickle                    \b\b\b\b 63%\b\b\b\b 64%\b\b\b\b\b  OK \n",
            "Extracting  /content/content/data_1min/AAVEUSDT.pickle                   \b\b\b\b 65%\b\b\b\b\b  OK \n",
            "Extracting  /content/content/data_1min/AVAXUSDT.pickle                   \b\b\b\b 66%\b\b\b\b\b  OK \n",
            "Extracting  /content/content/data_1min/NEARUSDT.pickle                   \b\b\b\b 67%\b\b\b\b\b  OK \n",
            "Extracting  /content/content/data_1min/UNIUSDT.pickle                    \b\b\b\b 68%\b\b\b\b\b  OK \n",
            "Extracting  /content/content/data_1min/ENSUSDT.pickle                    \b\b\b\b 69%\b\b\b\b 70%\b\b\b\b\b  OK \n",
            "Extracting  /content/content/data_1min/SKLUSDT.pickle                    \b\b\b\b 70%\b\b\b\b 71%\b\b\b\b\b  OK \n",
            "Extracting  /content/content/data_1min/USDCUSDT.pickle                   \b\b\b\b 71%\b\b\b\b 72%\b\b\b\b\b  OK \n",
            "Extracting  /content/content/data_1min/PEPEUSDT.pickle                   \b\b\b\b 73%\b\b\b\b\b  OK \n",
            "Extracting  /content/content/data_1min/CRVUSDT.pickle                    \b\b\b\b 74%\b\b\b\b 75%\b\b\b\b\b  OK \n",
            "Extracting  /content/content/data_1min/VETUSDT.pickle                    \b\b\b\b 75%\b\b\b\b 76%\b\b\b\b\b  OK \n",
            "Extracting  /content/content/data_1min/BONKUSDT.pickle                   \b\b\b\b 77%\b\b\b\b\b  OK \n",
            "Extracting  /content/content/data_1min/POLUSDT.pickle                    \b\b\b\b 78%\b\b\b\b\b  OK \n",
            "Extracting  /content/content/data_1min/RENDERUSDT.pickle                 \b\b\b\b 79%\b\b\b\b 80%\b\b\b\b\b  OK \n",
            "Extracting  /content/content/data_1min/SHIBUSDT.pickle                   \b\b\b\b 81%\b\b\b\b\b  OK \n",
            "Extracting  /content/content/data_1min/ICPUSDT.pickle                    \b\b\b\b 82%\b\b\b\b\b  OK \n",
            "Extracting  /content/content/data_1min/FARTCOINUSDT.pickle               \b\b\b\b 83%\b\b\b\b 84%\b\b\b\b\b  OK \n",
            "Extracting  /content/content/data_1min/TRUMPUSDT.pickle                  \b\b\b\b 85%\b\b\b\b\b  OK \n",
            "Extracting  /content/content/data_1min/WIFUSDT.pickle                    \b\b\b\b 86%\b\b\b\b 87%\b\b\b\b\b  OK \n",
            "Extracting  /content/content/data_1min/NEIROUSDT.pickle                  \b\b\b\b 88%\b\b\b\b\b  OK \n",
            "Extracting  /content/content/data_1min/1000PEPEUSDT.pickle               \b\b\b\b 89%\b\b\b\b 90%\b\b\b\b 91%\b\b\b\b\b  OK \n",
            "Extracting  /content/content/data_1min/ONDOUSDT.pickle                   \b\b\b\b 92%\b\b\b\b\b  OK \n",
            "Extracting  /content/content/data_1min/OPUSDT.pickle                     \b\b\b\b 93%\b\b\b\b\b  OK \n",
            "Extracting  /content/content/data_1min/SUIUSDT.pickle                    \b\b\b\b 94%\b\b\b\b 95%\b\b\b\b\b  OK \n",
            "Extracting  /content/content/data_1min/VIRTUALUSDT.pickle                \b\b\b\b 96%\b\b\b\b\b  OK \n",
            "Extracting  /content/content/data_1min/ETHFIUSDT.pickle                  \b\b\b\b 97%\b\b\b\b 98%\b\b\b\b\b  OK \n",
            "Extracting  /content/content/data_1min/QNTUSDT.pickle                    \b\b\b\b 99%\b\b\b\b\b  OK \n",
            "Extracting  /content/content/data_1min/NEXOUSDT.pickle                   \b\b\b\b100%\b\b\b\b\b  OK \n",
            "All OK\n"
          ]
        }
      ],
      "source": [
        "!unrar x \"/content/drive/MyDrive/data_1min_p.rar\" \"/content/content/data_1min/\""
      ]
    },
    {
      "cell_type": "markdown",
      "metadata": {
        "id": "TtD3YCrnC6me"
      },
      "source": [
        "Loading Embeded news based on Finbert"
      ]
    },
    {
      "cell_type": "code",
      "execution_count": 3,
      "metadata": {
        "id": "0hnx5gF4QxYs"
      },
      "outputs": [],
      "source": [
        "import pandas as pd\n",
        "import warnings\n",
        "warnings.filterwarnings('ignore')"
      ]
    },
    {
      "cell_type": "markdown",
      "metadata": {
        "id": "VOuH6VDZDUqa"
      },
      "source": [
        "Loading OHLCV of multi stocks"
      ]
    },
    {
      "cell_type": "code",
      "execution_count": 4,
      "metadata": {
        "colab": {
          "base_uri": "https://localhost:8080/"
        },
        "id": "1SdJSHGWZM4G",
        "outputId": "e4a870d7-533f-434e-a76d-9de416994af6"
      },
      "outputs": [
        {
          "data": {
            "text/plain": [
              "75"
            ]
          },
          "execution_count": 4,
          "metadata": {},
          "output_type": "execute_result"
        }
      ],
      "source": [
        "import os\n",
        "# data_crypto_path = '/content/content2/'\n",
        "# list_crypto = [x[5:-4] for x in os.listdir(data_crypto_path) if 'data_' in x and 'FORMUSDT' not in x]\n",
        "\n",
        "data_crypto_path = '/content/content/data_1min/'\n",
        "list_crypto = [x[:-7] for x in os.listdir(data_crypto_path)]\n",
        "# list_crypto = list_crypto[4:10]\n",
        "# list_crypto = list_crypto[:10] + list_crypto[-10:]\n",
        "len(list_crypto)"
      ]
    },
    {
      "cell_type": "markdown",
      "metadata": {},
      "source": [
        "Loading Embeded news based on bigbird"
      ]
    },
    {
      "cell_type": "code",
      "execution_count": null,
      "metadata": {},
      "outputs": [],
      "source": [
        "df_news_main = pd.read_pickle('/content/drive/MyDrive/news.pickle')\n",
        "\n",
        "dfff = df_news_main[[x[:-4] for x in list_crypto if x[:-4] in df_news_main.columns]].sum().sort_values(ascending=False).iloc[:30]\n",
        "list_crypto = list(dfff.index)\n",
        "list_crypto = [x+'USDT' for x in list_crypto]\n",
        "\n",
        "df_news_main['news_count'] = df_news_main[[x[:-4] for x in list_crypto]].sum(axis=1)\n",
        "df_news_main = df_news_main[df_news_main['news_count']>0].copy()\n",
        "df_news_main"
      ]
    },
    {
      "cell_type": "markdown",
      "metadata": {},
      "source": [
        "Get No news Embedding"
      ]
    },
    {
      "cell_type": "code",
      "execution_count": 5,
      "metadata": {
        "id": "NVSzdOmSttlb"
      },
      "outputs": [],
      "source": [
        "import torch\n",
        "import pandas as pd\n",
        "from transformers import AutoTokenizer, AutoModel\n",
        "from tqdm import tqdm\n",
        "\n",
        "# === Config ===\n",
        "MODEL_PATH = \"/content/drive/MyDrive/ColabModels/bigbird-2048-final\"\n",
        "BATCH_SIZE = 32\n",
        "MAX_LEN = 2048\n",
        "DEVICE = torch.device(\"cuda\" if torch.cuda.is_available() else \"cpu\")\n",
        "\n",
        "# === Load model & tokenizer ===\n",
        "tokenizer = AutoTokenizer.from_pretrained(MODEL_PATH)\n",
        "model = AutoModel.from_pretrained(MODEL_PATH).to(DEVICE)\n",
        "model.eval()  # No dropout\n",
        "\n",
        "# === Embedding function ===\n",
        "def get_embeddings(texts):\n",
        "    \"\"\"Tokenize and get embeddings for a batch of texts.\"\"\"\n",
        "    enc = tokenizer(\n",
        "        texts,\n",
        "        truncation=True,\n",
        "        padding=\"max_length\",  # Ensures same shape for batching\n",
        "        max_length=MAX_LEN,\n",
        "        return_tensors=\"pt\"\n",
        "    )\n",
        "    enc = {k: v.to(DEVICE) for k, v in enc.items()}\n",
        "\n",
        "    with torch.no_grad():\n",
        "        outputs = model(**enc)\n",
        "        # Use CLS token embedding (first token)\n",
        "        embeddings = outputs.last_hidden_state[:, 0, :].cpu()\n",
        "    return embeddings\n",
        "\n",
        "\n",
        "no_news_embedding = get_embeddings([\"no news at this time\"]).cpu().numpy()[0]"
      ]
    },
    {
      "cell_type": "markdown",
      "metadata": {},
      "source": [
        "Preparing embedding of news (Handling multi news and no news)"
      ]
    },
    {
      "cell_type": "code",
      "execution_count": 9,
      "metadata": {
        "id": "odz3w8OfwgmC"
      },
      "outputs": [],
      "source": [
        "import pandas as pd\n",
        "import numpy as np\n",
        "\n",
        "def _parse_to_dt(s):\n",
        "    \"\"\"Parse timestamps; handles ms-epoch or datetime-like strings.\"\"\"\n",
        "    # try ms epoch first\n",
        "    dt_ms = pd.to_datetime(s, unit=\"ms\", errors=\"coerce\")\n",
        "    if getattr(dt_ms, \"notna\", lambda: False)().mean() > 0.9:\n",
        "        return dt_ms\n",
        "    return pd.to_datetime(s, errors=\"coerce\")\n",
        "\n",
        "def _avg_embeddings(series):\n",
        "    \"\"\"Average a Series of embeddings (lists/np arrays) into one np array.\"\"\"\n",
        "    arrs = []\n",
        "    for x in series:\n",
        "        if x is None:\n",
        "            continue\n",
        "        if isinstance(x, (list, tuple)):\n",
        "            x = np.asarray(x, dtype=float)\n",
        "        elif isinstance(x, np.ndarray):\n",
        "            x = x.astype(float, copy=False)\n",
        "        else:\n",
        "            # skip non-array values\n",
        "            continue\n",
        "        arrs.append(x)\n",
        "    if not arrs:\n",
        "        return None\n",
        "    # Ensure same length\n",
        "    lens = {a.shape for a in arrs}\n",
        "    if len(lens) != 1:\n",
        "        raise ValueError(f\"Embedding length mismatch in group: shapes={lens}\")\n",
        "    return np.mean(np.stack(arrs, axis=0), axis=0)\n",
        "\n",
        "def resample_news_to_3min(df_news, no_news_embedding, rule=\"3T\"):\n",
        "    \"\"\"\n",
        "    Resample df_news to 3-min bins:\n",
        "      - embedding: mean over bin\n",
        "      - per-asset columns (0/1): sum -> count of related news per asset\n",
        "      - news_count: sum if present; else group size\n",
        "    Returns a DataFrame indexed by 3-min timestamps with filled 'no news' rows.\n",
        "    \"\"\"\n",
        "    df = df_news.copy()\n",
        "\n",
        "    # Identify columns\n",
        "    base_cols = {\"releasedAt\", \"embedding\", \"news_count\"}\n",
        "    # infer asset columns as 0/1 flags (all the rest)\n",
        "    asset_cols = [c for c in df.columns if c not in base_cols]\n",
        "\n",
        "    # Parse releasedAt and floor to 3-min\n",
        "    df[\"releasedAt\"] = _parse_to_dt(df[\"releasedAt\"])\n",
        "    df = df.dropna(subset=[\"releasedAt\"])\n",
        "    df[\"t3\"] = df[\"releasedAt\"].dt.floor(rule)\n",
        "    df = df.sort_values(\"t3\")\n",
        "\n",
        "    # Build aggregation dict\n",
        "    agg_dict = {c: \"sum\" for c in asset_cols}  # counts per asset\n",
        "    if \"news_count\" in df.columns:\n",
        "        agg_dict[\"news_count\"] = \"sum\"\n",
        "\n",
        "    # Group and aggregate\n",
        "    g = df.groupby(\"t3\", sort=True)\n",
        "    news_agg = g.agg(agg_dict)\n",
        "    # If news_count not provided, use group size as total count\n",
        "    if \"news_count\" not in news_agg.columns:\n",
        "        news_agg[\"news_count\"] = g.size()\n",
        "\n",
        "    # Embedding: custom mean\n",
        "    emb_mean = g[\"embedding\"].apply(_avg_embeddings)\n",
        "    news_agg = news_agg.join(emb_mean.rename(\"embedding\"))\n",
        "\n",
        "    # Ensure integer dtype for asset counts\n",
        "    for c in asset_cols:\n",
        "        if c in news_agg.columns:\n",
        "            news_agg[c] = news_agg[c].fillna(0).astype(int)\n",
        "\n",
        "    # Fill missing bins **within the observed range** (optional; often we reindex to market later)\n",
        "    full_index = pd.date_range(news_agg.index.min(), news_agg.index.max(), freq=rule)\n",
        "    news_agg = news_agg.reindex(full_index)\n",
        "\n",
        "    # Fill 'no news' bins: zero counts, no_news_embedding\n",
        "    news_agg[\"news_count\"] = news_agg[\"news_count\"].fillna(0).astype(int)\n",
        "    for c in asset_cols:\n",
        "        news_agg[c] = news_agg[c].fillna(0).astype(int)\n",
        "\n",
        "    # Fill embeddings where NaN with the provided no-news vector\n",
        "    if no_news_embedding is None:\n",
        "        raise ValueError(\"no_news_embedding must be provided (list or np.array).\")\n",
        "    no_news_embedding = np.asarray(no_news_embedding, dtype=float)\n",
        "    mask = news_agg[\"embedding\"].isna()\n",
        "    news_agg.loc[mask, \"embedding\"] = news_agg.loc[mask, \"embedding\"].apply(\n",
        "        lambda _: np.asarray(no_news_embedding, dtype=float).copy()\n",
        "    )\n",
        "\n",
        "\n",
        "    news_agg.index.name = \"t3\"\n",
        "    return news_agg\n",
        "\n",
        "def merge_news_into_market(df_market, news_3m, rule=\"3T\", date_col=\"dateTime\"):\n",
        "    \"\"\"\n",
        "    Merge resampled news into market dataframe on 3-min bins.\n",
        "    - df_market[date_col] can be ms-epoch or datetime-like; we floor to 3T.\n",
        "    - Returns df_market with added columns: embedding, news_count, and per-asset counts.\n",
        "    \"\"\"\n",
        "    dm = df_market.copy()\n",
        "\n",
        "    # Parse/normalize market times → 3-min bins\n",
        "    if not np.issubdtype(dm[date_col].dtype, np.datetime64):\n",
        "        dt_ms = pd.to_datetime(dm[date_col], unit=\"ms\", errors=\"coerce\")\n",
        "        if dt_ms.notna().mean() > 0.9:\n",
        "            dm[date_col] = dt_ms\n",
        "        else:\n",
        "            dm[date_col] = pd.to_datetime(dm[date_col], errors=\"coerce\")\n",
        "    dm = dm.dropna(subset=[date_col]).sort_values(date_col)\n",
        "    dm[\"t3\"] = dm[date_col].dt.floor(rule)\n",
        "\n",
        "    # Reindex news to exactly the market timestamps so every market row gets a match\n",
        "    needed_index = dm[\"t3\"].unique()\n",
        "    news_for_market = news_3m.reindex(needed_index)\n",
        "\n",
        "    # (Safety) Any remaining missing embeddings -> fill with first non-null or leave None\n",
        "    if news_for_market[\"embedding\"].isna().any():\n",
        "        # better to leave them NaN if you want to detect them later\n",
        "        pass\n",
        "\n",
        "    # Merge\n",
        "    out = dm.merge(\n",
        "        news_for_market.reset_index().rename(columns={\"t3\": \"t3_news\"}),\n",
        "        left_on=\"t3\",\n",
        "        right_on=\"t3_news\",\n",
        "        how=\"left\",\n",
        "        suffixes=(\"\", \"_news\"),\n",
        "    ).drop(columns=[\"t3_news\"])\n",
        "\n",
        "    return out\n",
        "\n",
        "# ----------------------\n",
        "# Usage:\n",
        "# news_3m = resample_news_to_3min(df_news, no_news_embedding, rule=\"3T\")\n",
        "# merged  = merge_news_into_market(df_market, news_3m, rule=\"3T\", date_col=\"dateTime\")\n"
      ]
    },
    {
      "cell_type": "code",
      "execution_count": null,
      "metadata": {
        "id": "_uHTChhQwxBC"
      },
      "outputs": [],
      "source": [
        "df_news = df_news_main[['releasedAt','embedding','news_count']+[x[:-4] for x in list_crypto]].copy()\n",
        "news_3m = resample_news_to_3min(df_news, no_news_embedding, rule=\"3T\")"
      ]
    },
    {
      "cell_type": "markdown",
      "metadata": {},
      "source": [
        "Preprocessing OHLCV"
      ]
    },
    {
      "cell_type": "code",
      "execution_count": 13,
      "metadata": {
        "colab": {
          "base_uri": "https://localhost:8080/"
        },
        "id": "xjVhl2HuvTxA",
        "outputId": "1cc9a385-7a48-428c-fa2f-804b7550eb93"
      },
      "outputs": [
        {
          "name": "stdout",
          "output_type": "stream",
          "text": [
            "BTCUSDT 80161\n",
            "ETHUSDT 80161\n",
            "XRPUSDT 80161\n",
            "SOLUSDT 80161\n",
            "DOGEUSDT 80161\n",
            "ADAUSDT 80161\n",
            "TRUMPUSDT 80161\n",
            "SHIBUSDT 80161\n",
            "BNBUSDT 80161\n",
            "USDCUSDT 80161\n",
            "PEPEUSDT 80161\n",
            "LINKUSDT 80161\n",
            "AVAXUSDT 80161\n",
            "SUIUSDT 80161\n",
            "XLMUSDT 80161\n",
            "LTCUSDT 80161\n",
            "HBARUSDT 80161\n",
            "PENGUUSDT 80161\n",
            "DOTUSDT 80161\n",
            "UNIUSDT 80161\n",
            "OPUSDT 80161\n",
            "TRXUSDT 80161\n",
            "ARBUSDT 80161\n",
            "APTUSDT 80161\n",
            "TONUSDT 80161\n",
            "ATOMUSDT 80161\n",
            "BONKUSDT 80161\n",
            "AAVEUSDT 80161\n",
            "BCHUSDT 80161\n",
            "ONDOUSDT 80161\n"
          ]
        }
      ],
      "source": [
        "list_data = []\n",
        "shifted_window = 80\n",
        "selected_f_asset = ['open', 'high', 'low', 'close', 'volume',\n",
        "    'quoteAssetVolume', 'numberOfTrades', 'takerBuyBaseVol',\n",
        "       'takerBuyQuoteVol']\n",
        "selected_f_asset = ['close', 'volume', 'numberOfTrades', 'prev_return', 'prev_volatility', 'return', 'volatility']\n",
        "# selected_f_asset = ['close', 'volume', 'numberOfTrades', 'quoteAssetVolume', 'takerBuyBaseVol', 'takerBuyQuoteVol','return']\n",
        "selected_f_all = []\n",
        "list_target = []\n",
        "\n",
        "for symb in list_crypto:\n",
        "  df = pd.read_pickle(data_crypto_path+'{}.pickle'.format(symb))\n",
        "  df = df.set_index('dateTime').resample('3T').agg({\n",
        "        \"open\": \"first\",\n",
        "        \"high\": \"max\",\n",
        "        \"low\":  \"min\",\n",
        "        \"close\":\"last\",\n",
        "        \"volume\": \"sum\",\n",
        "        \"quoteAssetVolume\": \"sum\",\n",
        "        \"numberOfTrades\": \"sum\",\n",
        "        \"takerBuyBaseVol\": \"sum\",\n",
        "        \"takerBuyQuoteVol\": \"sum\",\n",
        "        # \"closeTime\": \"last\",  # we'll recompute below to be exact\n",
        "        \"ignore\": \"last\"\n",
        "    }).reset_index()\n",
        "  print(symb, len(df))\n",
        "  df['return'] = 100*((df['close'].shift(-80)/df['close'])-1)\n",
        "  df['prev_return'] = 100*((df['close']/df['close'].shift(shifted_window))-1)\n",
        "  df['volatility'] = 100*df['close'].rolling(shifted_window).std().shift(-shifted_window)\n",
        "  df['prev_volatility'] = 100*df['close'].rolling(shifted_window).std()\n",
        "  df = df[selected_f_asset].rename(columns={x:symb+'_'+x for x in selected_f_asset})\n",
        "  selected_f_all.extend(list(df.columns))\n",
        "\n",
        "  df[symb+'_return'] = df[symb+'_'+'return']\n",
        "  df[symb+'_volatility'] = df[symb+'_'+'volatility']\n",
        "  list_target.append(symb+'_return')\n",
        "  list_target.append(symb+'_volatility')\n",
        "  list_data.append(df.copy())"
      ]
    },
    {
      "cell_type": "code",
      "execution_count": 14,
      "metadata": {
        "colab": {
          "base_uri": "https://localhost:8080/",
          "height": 791
        },
        "id": "JOqUDUbXWGYb",
        "outputId": "df2245cd-61fd-49b4-8fd6-71b498c44983"
      },
      "outputs": [
        {
          "data": {
            "application/vnd.google.colaboratory.intrinsic+json": {
              "type": "dataframe",
              "variable_name": "data"
            },
            "text/html": [
              "\n",
              "  <div id=\"df-5fdcf013-9401-4940-92ed-f581b9747cc7\" class=\"colab-df-container\">\n",
              "    <div>\n",
              "<style scoped>\n",
              "    .dataframe tbody tr th:only-of-type {\n",
              "        vertical-align: middle;\n",
              "    }\n",
              "\n",
              "    .dataframe tbody tr th {\n",
              "        vertical-align: top;\n",
              "    }\n",
              "\n",
              "    .dataframe thead th {\n",
              "        text-align: right;\n",
              "    }\n",
              "</style>\n",
              "<table border=\"1\" class=\"dataframe\">\n",
              "  <thead>\n",
              "    <tr style=\"text-align: right;\">\n",
              "      <th></th>\n",
              "      <th>BTCUSDT_close</th>\n",
              "      <th>BTCUSDT_volume</th>\n",
              "      <th>BTCUSDT_numberOfTrades</th>\n",
              "      <th>BTCUSDT_prev_return</th>\n",
              "      <th>BTCUSDT_prev_volatility</th>\n",
              "      <th>BTCUSDT_return</th>\n",
              "      <th>BTCUSDT_volatility</th>\n",
              "      <th>ETHUSDT_close</th>\n",
              "      <th>ETHUSDT_volume</th>\n",
              "      <th>ETHUSDT_numberOfTrades</th>\n",
              "      <th>...</th>\n",
              "      <th>ONDOUSDT_close</th>\n",
              "      <th>ONDOUSDT_volume</th>\n",
              "      <th>ONDOUSDT_numberOfTrades</th>\n",
              "      <th>ONDOUSDT_prev_return</th>\n",
              "      <th>ONDOUSDT_prev_volatility</th>\n",
              "      <th>ONDOUSDT_return</th>\n",
              "      <th>ONDOUSDT_volatility</th>\n",
              "      <th>dateTime</th>\n",
              "      <th>time</th>\n",
              "      <th>return</th>\n",
              "    </tr>\n",
              "  </thead>\n",
              "  <tbody>\n",
              "    <tr>\n",
              "      <th>0</th>\n",
              "      <td>88576.6</td>\n",
              "      <td>687.785</td>\n",
              "      <td>10675</td>\n",
              "      <td>NaN</td>\n",
              "      <td>NaN</td>\n",
              "      <td>0.441765</td>\n",
              "      <td>34425.588501</td>\n",
              "      <td>2497.69</td>\n",
              "      <td>7141.740</td>\n",
              "      <td>10497</td>\n",
              "      <td>...</td>\n",
              "      <td>1.0047</td>\n",
              "      <td>447930.4</td>\n",
              "      <td>1833</td>\n",
              "      <td>NaN</td>\n",
              "      <td>NaN</td>\n",
              "      <td>-0.507614</td>\n",
              "      <td>0.819794</td>\n",
              "      <td>2025-02-26 00:00:00</td>\n",
              "      <td>2025-02-26 00:00:00</td>\n",
              "      <td>NaN</td>\n",
              "    </tr>\n",
              "    <tr>\n",
              "      <th>1</th>\n",
              "      <td>88507.1</td>\n",
              "      <td>603.665</td>\n",
              "      <td>7962</td>\n",
              "      <td>NaN</td>\n",
              "      <td>NaN</td>\n",
              "      <td>0.457477</td>\n",
              "      <td>34542.567484</td>\n",
              "      <td>2491.67</td>\n",
              "      <td>6647.830</td>\n",
              "      <td>10633</td>\n",
              "      <td>...</td>\n",
              "      <td>0.9993</td>\n",
              "      <td>567530.5</td>\n",
              "      <td>1812</td>\n",
              "      <td>NaN</td>\n",
              "      <td>NaN</td>\n",
              "      <td>-0.340238</td>\n",
              "      <td>0.817664</td>\n",
              "      <td>2025-02-26 00:03:00</td>\n",
              "      <td>2025-02-26 00:03:00</td>\n",
              "      <td>-0.000785</td>\n",
              "    </tr>\n",
              "    <tr>\n",
              "      <th>2</th>\n",
              "      <td>88550.0</td>\n",
              "      <td>219.852</td>\n",
              "      <td>5441</td>\n",
              "      <td>NaN</td>\n",
              "      <td>NaN</td>\n",
              "      <td>0.516318</td>\n",
              "      <td>34780.275386</td>\n",
              "      <td>2490.75</td>\n",
              "      <td>15111.279</td>\n",
              "      <td>13290</td>\n",
              "      <td>...</td>\n",
              "      <td>0.9958</td>\n",
              "      <td>1416951.1</td>\n",
              "      <td>3808</td>\n",
              "      <td>NaN</td>\n",
              "      <td>NaN</td>\n",
              "      <td>0.421771</td>\n",
              "      <td>0.820485</td>\n",
              "      <td>2025-02-26 00:06:00</td>\n",
              "      <td>2025-02-26 00:06:00</td>\n",
              "      <td>0.000485</td>\n",
              "    </tr>\n",
              "    <tr>\n",
              "      <th>3</th>\n",
              "      <td>88408.0</td>\n",
              "      <td>536.513</td>\n",
              "      <td>6205</td>\n",
              "      <td>NaN</td>\n",
              "      <td>NaN</td>\n",
              "      <td>0.585807</td>\n",
              "      <td>34826.656321</td>\n",
              "      <td>2485.56</td>\n",
              "      <td>13124.788</td>\n",
              "      <td>12112</td>\n",
              "      <td>...</td>\n",
              "      <td>0.9965</td>\n",
              "      <td>325510.9</td>\n",
              "      <td>1206</td>\n",
              "      <td>NaN</td>\n",
              "      <td>NaN</td>\n",
              "      <td>0.371300</td>\n",
              "      <td>0.823190</td>\n",
              "      <td>2025-02-26 00:09:00</td>\n",
              "      <td>2025-02-26 00:09:00</td>\n",
              "      <td>-0.001604</td>\n",
              "    </tr>\n",
              "    <tr>\n",
              "      <th>4</th>\n",
              "      <td>88450.5</td>\n",
              "      <td>224.461</td>\n",
              "      <td>4530</td>\n",
              "      <td>NaN</td>\n",
              "      <td>NaN</td>\n",
              "      <td>0.497001</td>\n",
              "      <td>34861.771950</td>\n",
              "      <td>2486.74</td>\n",
              "      <td>13028.360</td>\n",
              "      <td>10062</td>\n",
              "      <td>...</td>\n",
              "      <td>0.9941</td>\n",
              "      <td>473624.9</td>\n",
              "      <td>1452</td>\n",
              "      <td>NaN</td>\n",
              "      <td>NaN</td>\n",
              "      <td>0.523086</td>\n",
              "      <td>0.825619</td>\n",
              "      <td>2025-02-26 00:12:00</td>\n",
              "      <td>2025-02-26 00:12:00</td>\n",
              "      <td>0.000481</td>\n",
              "    </tr>\n",
              "    <tr>\n",
              "      <th>...</th>\n",
              "      <td>...</td>\n",
              "      <td>...</td>\n",
              "      <td>...</td>\n",
              "      <td>...</td>\n",
              "      <td>...</td>\n",
              "      <td>...</td>\n",
              "      <td>...</td>\n",
              "      <td>...</td>\n",
              "      <td>...</td>\n",
              "      <td>...</td>\n",
              "      <td>...</td>\n",
              "      <td>...</td>\n",
              "      <td>...</td>\n",
              "      <td>...</td>\n",
              "      <td>...</td>\n",
              "      <td>...</td>\n",
              "      <td>...</td>\n",
              "      <td>...</td>\n",
              "      <td>...</td>\n",
              "      <td>...</td>\n",
              "      <td>...</td>\n",
              "    </tr>\n",
              "    <tr>\n",
              "      <th>80156</th>\n",
              "      <td>118674.0</td>\n",
              "      <td>112.568</td>\n",
              "      <td>3051</td>\n",
              "      <td>-0.290624</td>\n",
              "      <td>18083.461542</td>\n",
              "      <td>NaN</td>\n",
              "      <td>NaN</td>\n",
              "      <td>4225.80</td>\n",
              "      <td>2716.411</td>\n",
              "      <td>5218</td>\n",
              "      <td>...</td>\n",
              "      <td>0.9857</td>\n",
              "      <td>51114.3</td>\n",
              "      <td>517</td>\n",
              "      <td>-1.272035</td>\n",
              "      <td>0.734577</td>\n",
              "      <td>NaN</td>\n",
              "      <td>NaN</td>\n",
              "      <td>2025-08-11 23:48:00</td>\n",
              "      <td>2025-08-11 23:48:00</td>\n",
              "      <td>-0.000253</td>\n",
              "    </tr>\n",
              "    <tr>\n",
              "      <th>80157</th>\n",
              "      <td>118780.9</td>\n",
              "      <td>155.130</td>\n",
              "      <td>3380</td>\n",
              "      <td>0.082573</td>\n",
              "      <td>18091.237275</td>\n",
              "      <td>NaN</td>\n",
              "      <td>NaN</td>\n",
              "      <td>4226.50</td>\n",
              "      <td>3044.104</td>\n",
              "      <td>5525</td>\n",
              "      <td>...</td>\n",
              "      <td>0.9854</td>\n",
              "      <td>126264.9</td>\n",
              "      <td>501</td>\n",
              "      <td>-0.695354</td>\n",
              "      <td>0.736758</td>\n",
              "      <td>NaN</td>\n",
              "      <td>NaN</td>\n",
              "      <td>2025-08-11 23:51:00</td>\n",
              "      <td>2025-08-11 23:51:00</td>\n",
              "      <td>0.000901</td>\n",
              "    </tr>\n",
              "    <tr>\n",
              "      <th>80158</th>\n",
              "      <td>118678.7</td>\n",
              "      <td>105.195</td>\n",
              "      <td>2801</td>\n",
              "      <td>-0.085788</td>\n",
              "      <td>18084.739502</td>\n",
              "      <td>NaN</td>\n",
              "      <td>NaN</td>\n",
              "      <td>4226.08</td>\n",
              "      <td>3532.942</td>\n",
              "      <td>6106</td>\n",
              "      <td>...</td>\n",
              "      <td>0.9851</td>\n",
              "      <td>98157.5</td>\n",
              "      <td>477</td>\n",
              "      <td>-1.034760</td>\n",
              "      <td>0.737341</td>\n",
              "      <td>NaN</td>\n",
              "      <td>NaN</td>\n",
              "      <td>2025-08-11 23:54:00</td>\n",
              "      <td>2025-08-11 23:54:00</td>\n",
              "      <td>-0.000860</td>\n",
              "    </tr>\n",
              "    <tr>\n",
              "      <th>80159</th>\n",
              "      <td>118641.9</td>\n",
              "      <td>51.928</td>\n",
              "      <td>1636</td>\n",
              "      <td>-0.330490</td>\n",
              "      <td>17747.989444</td>\n",
              "      <td>NaN</td>\n",
              "      <td>NaN</td>\n",
              "      <td>4221.31</td>\n",
              "      <td>2938.447</td>\n",
              "      <td>4933</td>\n",
              "      <td>...</td>\n",
              "      <td>0.9833</td>\n",
              "      <td>103772.5</td>\n",
              "      <td>631</td>\n",
              "      <td>-1.463072</td>\n",
              "      <td>0.736899</td>\n",
              "      <td>NaN</td>\n",
              "      <td>NaN</td>\n",
              "      <td>2025-08-11 23:57:00</td>\n",
              "      <td>2025-08-11 23:57:00</td>\n",
              "      <td>-0.000310</td>\n",
              "    </tr>\n",
              "    <tr>\n",
              "      <th>80160</th>\n",
              "      <td>118677.9</td>\n",
              "      <td>206.934</td>\n",
              "      <td>3040</td>\n",
              "      <td>0.007163</td>\n",
              "      <td>17745.480240</td>\n",
              "      <td>NaN</td>\n",
              "      <td>NaN</td>\n",
              "      <td>4229.59</td>\n",
              "      <td>8143.614</td>\n",
              "      <td>9347</td>\n",
              "      <td>...</td>\n",
              "      <td>0.9842</td>\n",
              "      <td>375145.4</td>\n",
              "      <td>1536</td>\n",
              "      <td>-1.085427</td>\n",
              "      <td>0.738131</td>\n",
              "      <td>NaN</td>\n",
              "      <td>NaN</td>\n",
              "      <td>2025-08-12 00:00:00</td>\n",
              "      <td>2025-08-12 00:00:00</td>\n",
              "      <td>0.000303</td>\n",
              "    </tr>\n",
              "  </tbody>\n",
              "</table>\n",
              "<p>80161 rows × 213 columns</p>\n",
              "</div>\n",
              "    <div class=\"colab-df-buttons\">\n",
              "\n",
              "  <div class=\"colab-df-container\">\n",
              "    <button class=\"colab-df-convert\" onclick=\"convertToInteractive('df-5fdcf013-9401-4940-92ed-f581b9747cc7')\"\n",
              "            title=\"Convert this dataframe to an interactive table.\"\n",
              "            style=\"display:none;\">\n",
              "\n",
              "  <svg xmlns=\"http://www.w3.org/2000/svg\" height=\"24px\" viewBox=\"0 -960 960 960\">\n",
              "    <path d=\"M120-120v-720h720v720H120Zm60-500h600v-160H180v160Zm220 220h160v-160H400v160Zm0 220h160v-160H400v160ZM180-400h160v-160H180v160Zm440 0h160v-160H620v160ZM180-180h160v-160H180v160Zm440 0h160v-160H620v160Z\"/>\n",
              "  </svg>\n",
              "    </button>\n",
              "\n",
              "  <style>\n",
              "    .colab-df-container {\n",
              "      display:flex;\n",
              "      gap: 12px;\n",
              "    }\n",
              "\n",
              "    .colab-df-convert {\n",
              "      background-color: #E8F0FE;\n",
              "      border: none;\n",
              "      border-radius: 50%;\n",
              "      cursor: pointer;\n",
              "      display: none;\n",
              "      fill: #1967D2;\n",
              "      height: 32px;\n",
              "      padding: 0 0 0 0;\n",
              "      width: 32px;\n",
              "    }\n",
              "\n",
              "    .colab-df-convert:hover {\n",
              "      background-color: #E2EBFA;\n",
              "      box-shadow: 0px 1px 2px rgba(60, 64, 67, 0.3), 0px 1px 3px 1px rgba(60, 64, 67, 0.15);\n",
              "      fill: #174EA6;\n",
              "    }\n",
              "\n",
              "    .colab-df-buttons div {\n",
              "      margin-bottom: 4px;\n",
              "    }\n",
              "\n",
              "    [theme=dark] .colab-df-convert {\n",
              "      background-color: #3B4455;\n",
              "      fill: #D2E3FC;\n",
              "    }\n",
              "\n",
              "    [theme=dark] .colab-df-convert:hover {\n",
              "      background-color: #434B5C;\n",
              "      box-shadow: 0px 1px 3px 1px rgba(0, 0, 0, 0.15);\n",
              "      filter: drop-shadow(0px 1px 2px rgba(0, 0, 0, 0.3));\n",
              "      fill: #FFFFFF;\n",
              "    }\n",
              "  </style>\n",
              "\n",
              "    <script>\n",
              "      const buttonEl =\n",
              "        document.querySelector('#df-5fdcf013-9401-4940-92ed-f581b9747cc7 button.colab-df-convert');\n",
              "      buttonEl.style.display =\n",
              "        google.colab.kernel.accessAllowed ? 'block' : 'none';\n",
              "\n",
              "      async function convertToInteractive(key) {\n",
              "        const element = document.querySelector('#df-5fdcf013-9401-4940-92ed-f581b9747cc7');\n",
              "        const dataTable =\n",
              "          await google.colab.kernel.invokeFunction('convertToInteractive',\n",
              "                                                    [key], {});\n",
              "        if (!dataTable) return;\n",
              "\n",
              "        const docLinkHtml = 'Like what you see? Visit the ' +\n",
              "          '<a target=\"_blank\" href=https://colab.research.google.com/notebooks/data_table.ipynb>data table notebook</a>'\n",
              "          + ' to learn more about interactive tables.';\n",
              "        element.innerHTML = '';\n",
              "        dataTable['output_type'] = 'display_data';\n",
              "        await google.colab.output.renderOutput(dataTable, element);\n",
              "        const docLink = document.createElement('div');\n",
              "        docLink.innerHTML = docLinkHtml;\n",
              "        element.appendChild(docLink);\n",
              "      }\n",
              "    </script>\n",
              "  </div>\n",
              "\n",
              "\n",
              "    <div id=\"df-5984965b-8b99-4ce9-b4ff-cd02dba3b612\">\n",
              "      <button class=\"colab-df-quickchart\" onclick=\"quickchart('df-5984965b-8b99-4ce9-b4ff-cd02dba3b612')\"\n",
              "                title=\"Suggest charts\"\n",
              "                style=\"display:none;\">\n",
              "\n",
              "<svg xmlns=\"http://www.w3.org/2000/svg\" height=\"24px\"viewBox=\"0 0 24 24\"\n",
              "     width=\"24px\">\n",
              "    <g>\n",
              "        <path d=\"M19 3H5c-1.1 0-2 .9-2 2v14c0 1.1.9 2 2 2h14c1.1 0 2-.9 2-2V5c0-1.1-.9-2-2-2zM9 17H7v-7h2v7zm4 0h-2V7h2v10zm4 0h-2v-4h2v4z\"/>\n",
              "    </g>\n",
              "</svg>\n",
              "      </button>\n",
              "\n",
              "<style>\n",
              "  .colab-df-quickchart {\n",
              "      --bg-color: #E8F0FE;\n",
              "      --fill-color: #1967D2;\n",
              "      --hover-bg-color: #E2EBFA;\n",
              "      --hover-fill-color: #174EA6;\n",
              "      --disabled-fill-color: #AAA;\n",
              "      --disabled-bg-color: #DDD;\n",
              "  }\n",
              "\n",
              "  [theme=dark] .colab-df-quickchart {\n",
              "      --bg-color: #3B4455;\n",
              "      --fill-color: #D2E3FC;\n",
              "      --hover-bg-color: #434B5C;\n",
              "      --hover-fill-color: #FFFFFF;\n",
              "      --disabled-bg-color: #3B4455;\n",
              "      --disabled-fill-color: #666;\n",
              "  }\n",
              "\n",
              "  .colab-df-quickchart {\n",
              "    background-color: var(--bg-color);\n",
              "    border: none;\n",
              "    border-radius: 50%;\n",
              "    cursor: pointer;\n",
              "    display: none;\n",
              "    fill: var(--fill-color);\n",
              "    height: 32px;\n",
              "    padding: 0;\n",
              "    width: 32px;\n",
              "  }\n",
              "\n",
              "  .colab-df-quickchart:hover {\n",
              "    background-color: var(--hover-bg-color);\n",
              "    box-shadow: 0 1px 2px rgba(60, 64, 67, 0.3), 0 1px 3px 1px rgba(60, 64, 67, 0.15);\n",
              "    fill: var(--button-hover-fill-color);\n",
              "  }\n",
              "\n",
              "  .colab-df-quickchart-complete:disabled,\n",
              "  .colab-df-quickchart-complete:disabled:hover {\n",
              "    background-color: var(--disabled-bg-color);\n",
              "    fill: var(--disabled-fill-color);\n",
              "    box-shadow: none;\n",
              "  }\n",
              "\n",
              "  .colab-df-spinner {\n",
              "    border: 2px solid var(--fill-color);\n",
              "    border-color: transparent;\n",
              "    border-bottom-color: var(--fill-color);\n",
              "    animation:\n",
              "      spin 1s steps(1) infinite;\n",
              "  }\n",
              "\n",
              "  @keyframes spin {\n",
              "    0% {\n",
              "      border-color: transparent;\n",
              "      border-bottom-color: var(--fill-color);\n",
              "      border-left-color: var(--fill-color);\n",
              "    }\n",
              "    20% {\n",
              "      border-color: transparent;\n",
              "      border-left-color: var(--fill-color);\n",
              "      border-top-color: var(--fill-color);\n",
              "    }\n",
              "    30% {\n",
              "      border-color: transparent;\n",
              "      border-left-color: var(--fill-color);\n",
              "      border-top-color: var(--fill-color);\n",
              "      border-right-color: var(--fill-color);\n",
              "    }\n",
              "    40% {\n",
              "      border-color: transparent;\n",
              "      border-right-color: var(--fill-color);\n",
              "      border-top-color: var(--fill-color);\n",
              "    }\n",
              "    60% {\n",
              "      border-color: transparent;\n",
              "      border-right-color: var(--fill-color);\n",
              "    }\n",
              "    80% {\n",
              "      border-color: transparent;\n",
              "      border-right-color: var(--fill-color);\n",
              "      border-bottom-color: var(--fill-color);\n",
              "    }\n",
              "    90% {\n",
              "      border-color: transparent;\n",
              "      border-bottom-color: var(--fill-color);\n",
              "    }\n",
              "  }\n",
              "</style>\n",
              "\n",
              "      <script>\n",
              "        async function quickchart(key) {\n",
              "          const quickchartButtonEl =\n",
              "            document.querySelector('#' + key + ' button');\n",
              "          quickchartButtonEl.disabled = true;  // To prevent multiple clicks.\n",
              "          quickchartButtonEl.classList.add('colab-df-spinner');\n",
              "          try {\n",
              "            const charts = await google.colab.kernel.invokeFunction(\n",
              "                'suggestCharts', [key], {});\n",
              "          } catch (error) {\n",
              "            console.error('Error during call to suggestCharts:', error);\n",
              "          }\n",
              "          quickchartButtonEl.classList.remove('colab-df-spinner');\n",
              "          quickchartButtonEl.classList.add('colab-df-quickchart-complete');\n",
              "        }\n",
              "        (() => {\n",
              "          let quickchartButtonEl =\n",
              "            document.querySelector('#df-5984965b-8b99-4ce9-b4ff-cd02dba3b612 button');\n",
              "          quickchartButtonEl.style.display =\n",
              "            google.colab.kernel.accessAllowed ? 'block' : 'none';\n",
              "        })();\n",
              "      </script>\n",
              "    </div>\n",
              "\n",
              "  <div id=\"id_05bd6ca8-226c-4ae4-8818-5c5add9098e0\">\n",
              "    <style>\n",
              "      .colab-df-generate {\n",
              "        background-color: #E8F0FE;\n",
              "        border: none;\n",
              "        border-radius: 50%;\n",
              "        cursor: pointer;\n",
              "        display: none;\n",
              "        fill: #1967D2;\n",
              "        height: 32px;\n",
              "        padding: 0 0 0 0;\n",
              "        width: 32px;\n",
              "      }\n",
              "\n",
              "      .colab-df-generate:hover {\n",
              "        background-color: #E2EBFA;\n",
              "        box-shadow: 0px 1px 2px rgba(60, 64, 67, 0.3), 0px 1px 3px 1px rgba(60, 64, 67, 0.15);\n",
              "        fill: #174EA6;\n",
              "      }\n",
              "\n",
              "      [theme=dark] .colab-df-generate {\n",
              "        background-color: #3B4455;\n",
              "        fill: #D2E3FC;\n",
              "      }\n",
              "\n",
              "      [theme=dark] .colab-df-generate:hover {\n",
              "        background-color: #434B5C;\n",
              "        box-shadow: 0px 1px 3px 1px rgba(0, 0, 0, 0.15);\n",
              "        filter: drop-shadow(0px 1px 2px rgba(0, 0, 0, 0.3));\n",
              "        fill: #FFFFFF;\n",
              "      }\n",
              "    </style>\n",
              "    <button class=\"colab-df-generate\" onclick=\"generateWithVariable('data')\"\n",
              "            title=\"Generate code using this dataframe.\"\n",
              "            style=\"display:none;\">\n",
              "\n",
              "  <svg xmlns=\"http://www.w3.org/2000/svg\" height=\"24px\"viewBox=\"0 0 24 24\"\n",
              "       width=\"24px\">\n",
              "    <path d=\"M7,19H8.4L18.45,9,17,7.55,7,17.6ZM5,21V16.75L18.45,3.32a2,2,0,0,1,2.83,0l1.4,1.43a1.91,1.91,0,0,1,.58,1.4,1.91,1.91,0,0,1-.58,1.4L9.25,21ZM18.45,9,17,7.55Zm-12,3A5.31,5.31,0,0,0,4.9,8.1,5.31,5.31,0,0,0,1,6.5,5.31,5.31,0,0,0,4.9,4.9,5.31,5.31,0,0,0,6.5,1,5.31,5.31,0,0,0,8.1,4.9,5.31,5.31,0,0,0,12,6.5,5.46,5.46,0,0,0,6.5,12Z\"/>\n",
              "  </svg>\n",
              "    </button>\n",
              "    <script>\n",
              "      (() => {\n",
              "      const buttonEl =\n",
              "        document.querySelector('#id_05bd6ca8-226c-4ae4-8818-5c5add9098e0 button.colab-df-generate');\n",
              "      buttonEl.style.display =\n",
              "        google.colab.kernel.accessAllowed ? 'block' : 'none';\n",
              "\n",
              "      buttonEl.onclick = () => {\n",
              "        google.colab.notebook.generateWithVariable('data');\n",
              "      }\n",
              "      })();\n",
              "    </script>\n",
              "  </div>\n",
              "\n",
              "    </div>\n",
              "  </div>\n"
            ],
            "text/plain": [
              "       BTCUSDT_close  BTCUSDT_volume  BTCUSDT_numberOfTrades  \\\n",
              "0            88576.6         687.785                   10675   \n",
              "1            88507.1         603.665                    7962   \n",
              "2            88550.0         219.852                    5441   \n",
              "3            88408.0         536.513                    6205   \n",
              "4            88450.5         224.461                    4530   \n",
              "...              ...             ...                     ...   \n",
              "80156       118674.0         112.568                    3051   \n",
              "80157       118780.9         155.130                    3380   \n",
              "80158       118678.7         105.195                    2801   \n",
              "80159       118641.9          51.928                    1636   \n",
              "80160       118677.9         206.934                    3040   \n",
              "\n",
              "       BTCUSDT_prev_return  BTCUSDT_prev_volatility  BTCUSDT_return  \\\n",
              "0                      NaN                      NaN        0.441765   \n",
              "1                      NaN                      NaN        0.457477   \n",
              "2                      NaN                      NaN        0.516318   \n",
              "3                      NaN                      NaN        0.585807   \n",
              "4                      NaN                      NaN        0.497001   \n",
              "...                    ...                      ...             ...   \n",
              "80156            -0.290624             18083.461542             NaN   \n",
              "80157             0.082573             18091.237275             NaN   \n",
              "80158            -0.085788             18084.739502             NaN   \n",
              "80159            -0.330490             17747.989444             NaN   \n",
              "80160             0.007163             17745.480240             NaN   \n",
              "\n",
              "       BTCUSDT_volatility  ETHUSDT_close  ETHUSDT_volume  \\\n",
              "0            34425.588501        2497.69        7141.740   \n",
              "1            34542.567484        2491.67        6647.830   \n",
              "2            34780.275386        2490.75       15111.279   \n",
              "3            34826.656321        2485.56       13124.788   \n",
              "4            34861.771950        2486.74       13028.360   \n",
              "...                   ...            ...             ...   \n",
              "80156                 NaN        4225.80        2716.411   \n",
              "80157                 NaN        4226.50        3044.104   \n",
              "80158                 NaN        4226.08        3532.942   \n",
              "80159                 NaN        4221.31        2938.447   \n",
              "80160                 NaN        4229.59        8143.614   \n",
              "\n",
              "       ETHUSDT_numberOfTrades  ...  ONDOUSDT_close  ONDOUSDT_volume  \\\n",
              "0                       10497  ...          1.0047         447930.4   \n",
              "1                       10633  ...          0.9993         567530.5   \n",
              "2                       13290  ...          0.9958        1416951.1   \n",
              "3                       12112  ...          0.9965         325510.9   \n",
              "4                       10062  ...          0.9941         473624.9   \n",
              "...                       ...  ...             ...              ...   \n",
              "80156                    5218  ...          0.9857          51114.3   \n",
              "80157                    5525  ...          0.9854         126264.9   \n",
              "80158                    6106  ...          0.9851          98157.5   \n",
              "80159                    4933  ...          0.9833         103772.5   \n",
              "80160                    9347  ...          0.9842         375145.4   \n",
              "\n",
              "       ONDOUSDT_numberOfTrades  ONDOUSDT_prev_return  \\\n",
              "0                         1833                   NaN   \n",
              "1                         1812                   NaN   \n",
              "2                         3808                   NaN   \n",
              "3                         1206                   NaN   \n",
              "4                         1452                   NaN   \n",
              "...                        ...                   ...   \n",
              "80156                      517             -1.272035   \n",
              "80157                      501             -0.695354   \n",
              "80158                      477             -1.034760   \n",
              "80159                      631             -1.463072   \n",
              "80160                     1536             -1.085427   \n",
              "\n",
              "       ONDOUSDT_prev_volatility  ONDOUSDT_return  ONDOUSDT_volatility  \\\n",
              "0                           NaN        -0.507614             0.819794   \n",
              "1                           NaN        -0.340238             0.817664   \n",
              "2                           NaN         0.421771             0.820485   \n",
              "3                           NaN         0.371300             0.823190   \n",
              "4                           NaN         0.523086             0.825619   \n",
              "...                         ...              ...                  ...   \n",
              "80156                  0.734577              NaN                  NaN   \n",
              "80157                  0.736758              NaN                  NaN   \n",
              "80158                  0.737341              NaN                  NaN   \n",
              "80159                  0.736899              NaN                  NaN   \n",
              "80160                  0.738131              NaN                  NaN   \n",
              "\n",
              "                 dateTime                 time    return  \n",
              "0     2025-02-26 00:00:00  2025-02-26 00:00:00       NaN  \n",
              "1     2025-02-26 00:03:00  2025-02-26 00:03:00 -0.000785  \n",
              "2     2025-02-26 00:06:00  2025-02-26 00:06:00  0.000485  \n",
              "3     2025-02-26 00:09:00  2025-02-26 00:09:00 -0.001604  \n",
              "4     2025-02-26 00:12:00  2025-02-26 00:12:00  0.000481  \n",
              "...                   ...                  ...       ...  \n",
              "80156 2025-08-11 23:48:00  2025-08-11 23:48:00 -0.000253  \n",
              "80157 2025-08-11 23:51:00  2025-08-11 23:51:00  0.000901  \n",
              "80158 2025-08-11 23:54:00  2025-08-11 23:54:00 -0.000860  \n",
              "80159 2025-08-11 23:57:00  2025-08-11 23:57:00 -0.000310  \n",
              "80160 2025-08-12 00:00:00  2025-08-12 00:00:00  0.000303  \n",
              "\n",
              "[80161 rows x 213 columns]"
            ]
          },
          "execution_count": 14,
          "metadata": {},
          "output_type": "execute_result"
        }
      ],
      "source": [
        "data = pd.concat(list_data,axis=1)\n",
        "df = pd.read_pickle(data_crypto_path+'{}.pickle'.format('BTCUSDT'))\n",
        "df = df.set_index('dateTime').resample('3T').agg({\n",
        "      \"open\": \"first\",\n",
        "      \"high\": \"max\",\n",
        "      \"low\":  \"min\",\n",
        "      \"close\":\"last\",\n",
        "      \"volume\": \"sum\",\n",
        "      \"quoteAssetVolume\": \"sum\",\n",
        "      \"numberOfTrades\": \"sum\",\n",
        "      \"takerBuyBaseVol\": \"sum\",\n",
        "      \"takerBuyQuoteVol\": \"sum\",\n",
        "      # \"closeTime\": \"last\",  # we'll recompute below to be exact\n",
        "      \"ignore\": \"last\"\n",
        "  }).reset_index()\n",
        "df['return'] = df['close'].pct_change()\n",
        "data['dateTime'] = df['dateTime']\n",
        "data['time'] = data['dateTime'].astype(str).copy()\n",
        "data['return'] = df['close'].pct_change()\n",
        "data"
      ]
    },
    {
      "cell_type": "markdown",
      "metadata": {},
      "source": [
        "Merging news and ohlcv"
      ]
    },
    {
      "cell_type": "code",
      "execution_count": 15,
      "metadata": {
        "id": "CRH1_rzE6HRF"
      },
      "outputs": [],
      "source": [
        "data  = merge_news_into_market(data, news_3m, rule=\"3T\", date_col=\"dateTime\")"
      ]
    },
    {
      "cell_type": "code",
      "execution_count": 16,
      "metadata": {
        "colab": {
          "base_uri": "https://localhost:8080/"
        },
        "id": "-rYekFwMrFJX",
        "outputId": "dd91e68e-ce21-451d-9837-2d5abed2e7fc"
      },
      "outputs": [
        {
          "data": {
            "text/plain": [
              "(80161, 246)"
            ]
          },
          "execution_count": 16,
          "metadata": {},
          "output_type": "execute_result"
        }
      ],
      "source": [
        "data.shape"
      ]
    },
    {
      "cell_type": "markdown",
      "metadata": {},
      "source": [
        "Creating list of days for splitting data"
      ]
    },
    {
      "cell_type": "code",
      "execution_count": null,
      "metadata": {},
      "outputs": [],
      "source": [
        "data['day'] = data['dateTime'].apply(lambda x:str(x)[:10])"
      ]
    },
    {
      "cell_type": "code",
      "execution_count": 18,
      "metadata": {
        "id": "IZNChxweib3z"
      },
      "outputs": [],
      "source": [
        "list(data['day'].unique())\n",
        "list_days = list(data['day'].unique())\n",
        "list_days_train = list_days[:int(0.77*len(list_days))]\n",
        "list_days_valid = list_days[int(0.77*len(list_days)):int(0.88*len(list_days))]\n",
        "list_days_test = list_days[int(0.88*len(list_days)):]"
      ]
    },
    {
      "cell_type": "code",
      "execution_count": 19,
      "metadata": {
        "id": "3f5u6STle9J0"
      },
      "outputs": [],
      "source": [
        "data_all = data[~data['day'].isin(list_days_test)].copy()\n",
        "data_all = data.copy()"
      ]
    },
    {
      "cell_type": "code",
      "execution_count": 20,
      "metadata": {
        "colab": {
          "base_uri": "https://localhost:8080/"
        },
        "id": "7C3hYw_6e3jr",
        "outputId": "af4012f4-5345-4048-dbe2-c37159439614"
      },
      "outputs": [
        {
          "data": {
            "text/plain": [
              "30"
            ]
          },
          "execution_count": 20,
          "metadata": {},
          "output_type": "execute_result"
        }
      ],
      "source": [
        "list_crypto_first = [x[:-4] for x in list_crypto]\n",
        "len(list_crypto_first)"
      ]
    },
    {
      "cell_type": "code",
      "execution_count": null,
      "metadata": {
        "id": "w4FR3DMt-8PD"
      },
      "outputs": [],
      "source": [
        "# data_all = data_all[data_all['time']>=df_news['time'].min()][data_all['time']<=df_news['time'].max()]"
      ]
    },
    {
      "cell_type": "markdown",
      "metadata": {
        "id": "_lPXu_E1Dwq3"
      },
      "source": [
        "Removing nan part of data"
      ]
    },
    {
      "cell_type": "code",
      "execution_count": 21,
      "metadata": {
        "id": "KnoYdNDeA4KT"
      },
      "outputs": [],
      "source": [
        "data_all = data_all.iloc[100:-100].copy()"
      ]
    },
    {
      "cell_type": "code",
      "execution_count": 22,
      "metadata": {
        "colab": {
          "base_uri": "https://localhost:8080/"
        },
        "id": "PUmC8Tw51Np7",
        "outputId": "1a802d7d-38c5-413b-bbae-5a5e4f7b5353"
      },
      "outputs": [
        {
          "data": {
            "text/plain": [
              "(79961, 247)"
            ]
          },
          "execution_count": 22,
          "metadata": {},
          "output_type": "execute_result"
        }
      ],
      "source": [
        "data_all.shape"
      ]
    },
    {
      "cell_type": "markdown",
      "metadata": {
        "id": "tbm4EfCfetGY"
      },
      "source": [
        "Normalizing Data Z-Score"
      ]
    },
    {
      "cell_type": "code",
      "execution_count": 23,
      "metadata": {
        "id": "oYBQteQlgw_C"
      },
      "outputs": [],
      "source": [
        "##Normalization\n",
        "list_normalizing = []\n",
        "for x in selected_f_all:\n",
        "  if(x not in list_target):\n",
        "    data_all[x] = data_all[x].fillna(0)\n",
        "    data_all[x] = data_all[x].astype(float)\n",
        "    list_normalizing.append({x:{'mean':data_all[x].mean(), 'std':data_all[x].std()}})\n",
        "    data_all[x] = (data_all[x]-data_all[x].mean())/(data_all[x].std())\n"
      ]
    },
    {
      "cell_type": "markdown",
      "metadata": {},
      "source": [
        "Save and Load normalizing variables"
      ]
    },
    {
      "cell_type": "code",
      "execution_count": 28,
      "metadata": {
        "colab": {
          "base_uri": "https://localhost:8080/"
        },
        "id": "JYNGzbcQ911e",
        "outputId": "329c5b2f-1b11-4a63-a3ca-ed64bcb325c3"
      },
      "outputs": [
        {
          "name": "stdout",
          "output_type": "stream",
          "text": [
            "[{'BTCUSDT_close': {'mean': np.float64(99935.40110428835), 'std': 12722.971842647166}}, {'BTCUSDT_volume': {'mean': np.float64(386.16266182263854), 'std': 598.2167094178158}}, {'BTCUSDT_numberOfTrades': {'mean': np.float64(6764.290991858531), 'std': 8190.489304207392}}, {'BTCUSDT_prev_return': {'mean': np.float64(0.03445154860271861), 'std': 0.9340718421065288}}, {'BTCUSDT_prev_volatility': {'mean': np.float64(28140.429000269916), 'std': 22321.248681509554}}, {'ETHUSDT_close': {'mean': np.float64(2452.7579903953174), 'std': 669.1936863057207}}, {'ETHUSDT_volume': {'mean': np.float64(12641.914893172921), 'std': 18270.722248631086}}, {'ETHUSDT_numberOfTrades': {'mean': np.float64(11521.93769462613), 'std': 11496.266438846033}}, {'ETHUSDT_prev_return': {'mean': np.float64(0.06719693808976368), 'std': 1.5735038021609014}}, {'ETHUSDT_prev_volatility': {'mean': np.float64(1217.9800518507213), 'std': 955.5367332761357}}, {'XRPUSDT_close': {'mean': np.float64(2.40694215930266), 'std': 0.38827413833635155}}, {'XRPUSDT_volume': {'mean': np.float64(1831393.4712709945), 'std': 2791208.4227935015}}, {'XRPUSDT_numberOfTrades': {'mean': np.float64(5478.997448756269), 'std': 6240.807044237139}}, {'XRPUSDT_prev_return': {'mean': np.float64(0.04849945330051547), 'std': 1.8059177421737203}}, {'XRPUSDT_prev_volatility': {'mean': np.float64(1.3378691236158315), 'std': 1.2235746760795665}}, {'SOLUSDT_close': {'mean': np.float64(151.22314293217943), 'std': 19.90429351814329}}, {'SOLUSDT_volume': {'mean': np.float64(50122.23858280912), 'std': 64830.30461942511}}, {'SOLUSDT_numberOfTrades': {'mean': np.float64(5325.162566751292), 'std': 5196.860981251263}}, {'SOLUSDT_prev_return': {'mean': np.float64(0.03824175299203658), 'std': 1.7985526807197905}}, {'SOLUSDT_prev_volatility': {'mean': np.float64(87.20557874743363), 'std': 64.94245023750044}}, {'DOGEUSDT_close': {'mean': np.float64(0.19050484486187017), 'std': 0.02820822670828072}}, {'DOGEUSDT_volume': {'mean': np.float64(13819348.49158965), 'std': 17502010.7781843}}, {'DOGEUSDT_numberOfTrades': {'mean': np.float64(4723.450269506385), 'std': 4787.1969824424}}, {'DOGEUSDT_prev_return': {'mean': np.float64(0.02719983599507754), 'std': 1.9283114726528976}}, {'DOGEUSDT_prev_volatility': {'mean': np.float64(0.1276703276515005), 'std': 0.09477934682698025}}, {'ADAUSDT_close': {'mean': np.float64(0.7034505108740511), 'std': 0.08854519881612566}}, {'ADAUSDT_volume': {'mean': np.float64(1797215.1306636985), 'std': 3405471.254107136}}, {'ADAUSDT_numberOfTrades': {'mean': np.float64(3058.7221895674143), 'std': 4888.6311493572375}}, {'ADAUSDT_prev_return': {'mean': np.float64(0.042856267191819314), 'std': 2.53129241683191}}, {'ADAUSDT_prev_volatility': {'mean': np.float64(0.47411112510731235), 'std': 0.5597469859864442}}, {'TRUMPUSDT_close': {'mean': np.float64(10.654270031640424), 'std': 1.8763009609779249}}, {'TRUMPUSDT_volume': {'mean': np.float64(97009.0523846625), 'std': 198611.67998313686}}, {'TRUMPUSDT_numberOfTrades': {'mean': np.float64(2972.113167669239), 'std': 5343.704733265592}}, {'TRUMPUSDT_prev_return': {'mean': np.float64(-0.00701614832394684), 'std': 2.531569063842779}}, {'TRUMPUSDT_prev_volatility': {'mean': np.float64(8.104621625649987), 'std': 9.121311673860003}}, {'SHIBUSDT_close': {'mean': np.float64(1.3031490476607345e-05), 'std': 1.200923480353943e-06}}, {'SHIBUSDT_volume': {'mean': np.float64(4392242762.633659), 'std': 8684363139.349052}}, {'SHIBUSDT_numberOfTrades': {'mean': np.float64(2423.192418804167), 'std': 2990.859842832452}}, {'SHIBUSDT_prev_return': {'mean': np.float64(0.00600900561037965), 'std': 1.6274816807279293}}, {'SHIBUSDT_prev_volatility': {'mean': np.float64(7.613550920696483e-06), 'std': 5.118066443328062e-06}}, {'BNBUSDT_close': {'mean': np.float64(650.618462125286), 'std': 63.92919950429155}}, {'BNBUSDT_volume': {'mean': np.float64(1468.8854601618289), 'std': 2597.5880472599324}}, {'BNBUSDT_numberOfTrades': {'mean': np.float64(1972.3203311614411), 'std': 2368.140695269029}}, {'BNBUSDT_prev_return': {'mean': np.float64(0.02926188797454987), 'std': 0.9148802124737065}}, {'BNBUSDT_prev_volatility': {'mean': np.float64(201.98355774473129), 'std': 151.31878515671215}}, {'USDCUSDT_close': {'mean': np.float64(0.9998601705831593), 'std': 0.0003415178738288962}}, {'USDCUSDT_volume': {'mean': np.float64(2485561.3637023047), 'std': 4816906.022255288}}, {'USDCUSDT_numberOfTrades': {'mean': np.float64(859.7288177986768), 'std': 805.0905312465264}}, {'USDCUSDT_prev_return': {'mean': np.float64(-0.0001292350594701303), 'std': 0.013215074622582096}}, {'USDCUSDT_prev_volatility': {'mean': np.float64(0.006555928190895722), 'std': 0.0022104396900459095}}, {'PEPEUSDT_close': {'mean': np.float64(9.980851665186778e-06), 'std': 2.472476736114048e-06}}, {'PEPEUSDT_volume': {'mean': np.float64(46170108863.52237), 'std': 69195758363.0655}}, {'PEPEUSDT_numberOfTrades': {'mean': np.float64(1175.3233701429447), 'std': 1577.9375951688824}}, {'PEPEUSDT_prev_return': {'mean': np.float64(0.0634873615851196), 'std': 2.451860356465004}}, {'PEPEUSDT_prev_volatility': {'mean': np.float64(8.522407199401086e-06), 'std': 6.411273099319676e-06}}, {'LINKUSDT_close': {'mean': np.float64(14.831685746801567), 'std': 2.0046259725727076}}, {'LINKUSDT_volume': {'mean': np.float64(45431.598769525146), 'std': 57604.45293726636}}, {'LINKUSDT_numberOfTrades': {'mean': np.float64(1602.0854916771925), 'std': 1493.6541143706522}}, {'LINKUSDT_prev_return': {'mean': np.float64(0.05255895280026633), 'std': 1.8738606824132582}}, {'LINKUSDT_prev_volatility': {'mean': np.float64(9.567063901558171), 'std': 6.665120633352296}}, {'AVAXUSDT_close': {'mean': np.float64(20.811511649429093), 'std': 2.3664785512041315}}, {'AVAXUSDT_volume': {'mean': np.float64(28317.67883093008), 'std': 31817.3740301787}}, {'AVAXUSDT_numberOfTrades': {'mean': np.float64(1702.9132952314253), 'std': 1421.2899071084987}}, {'AVAXUSDT_prev_return': {'mean': np.float64(0.024392442710573684), 'std': 1.8820937646975557}}, {'AVAXUSDT_prev_volatility': {'mean': np.float64(13.702650803098845), 'std': 8.841634823381478}}, {'SUIUSDT_close': {'mean': np.float64(3.0734441377671615), 'std': 0.6347759676718575}}, {'SUIUSDT_volume': {'mean': np.float64(599064.4524568227), 'std': 776679.8573695935}}, {'SUIUSDT_numberOfTrades': {'mean': np.float64(4397.583684546216), 'std': 4154.6988711588565}}, {'SUIUSDT_prev_return': {'mean': np.float64(0.04523105412329552), 'std': 2.1999389321238856}}, {'SUIUSDT_prev_volatility': {'mean': np.float64(2.274231500889492), 'std': 1.524704140776009}}, {'XLMUSDT_close': {'mean': np.float64(0.29929195945523435), 'std': 0.06912283607653487}}, {'XLMUSDT_volume': {'mean': np.float64(937956.9039156588), 'std': 1734746.7659519915}}, {'XLMUSDT_numberOfTrades': {'mean': np.float64(1462.1676567326572), 'std': 2212.296444966203}}, {'XLMUSDT_prev_return': {'mean': np.float64(0.05803644286284329), 'std': 1.8896869583378744}}, {'XLMUSDT_prev_volatility': {'mean': np.float64(0.19064510823006042), 'std': 0.17972843890128187}}, {'LTCUSDT_close': {'mean': np.float64(93.77985117744902), 'std': 12.936599548443745}}, {'LTCUSDT_volume': {'mean': np.float64(6497.750179525019), 'std': 9800.884015661492}}, {'LTCUSDT_numberOfTrades': {'mean': np.float64(1361.244319105564), 'std': 1540.4321722087889}}, {'LTCUSDT_prev_return': {'mean': np.float64(0.018901600162773237), 'std': 1.5851944091028485}}, {'LTCUSDT_prev_volatility': {'mean': np.float64(52.22301551015476), 'std': 39.52811237157901}}, {'HBARUSDT_close': {'mean': np.float64(0.1932955792198697), 'std': 0.037294867187579996}}, {'HBARUSDT_volume': {'mean': np.float64(1488253.182201323), 'std': 2304650.1794678746}}, {'HBARUSDT_numberOfTrades': {'mean': np.float64(1659.561636297695), 'std': 2006.6521521144923}}, {'HBARUSDT_prev_return': {'mean': np.float64(0.04501494090112855), 'std': 2.040898151082249}}, {'HBARUSDT_prev_volatility': {'mean': np.float64(0.137666993037821), 'std': 0.10808141447178954}}, {'PENGUUSDT_close': {'mean': np.float64(0.014249672978076812), 'std': 0.010771017155086778}}, {'PENGUUSDT_volume': {'mean': np.float64(28769765.47493153), 'std': 50412813.8924745}}, {'PENGUUSDT_numberOfTrades': {'mean': np.float64(2659.9189980115307), 'std': 4103.885434494855}}, {'PENGUUSDT_prev_return': {'mean': np.float64(0.21205636673586772), 'std': 3.4426083297380714}}, {'PENGUUSDT_prev_volatility': {'mean': np.float64(0.01749826593163527), 'std': 0.019513869254455862}}, {'DOTUSDT_close': {'mean': np.float64(4.07834769450107), 'std': 0.451081470178981}}, {'DOTUSDT_volume': {'mean': np.float64(77821.43472192693), 'std': 105003.69270805066}}, {'DOTUSDT_numberOfTrades': {'mean': np.float64(893.1104788584435), 'std': 736.5769036005852}}, {'DOTUSDT_prev_return': {'mean': np.float64(-0.004095985810612465), 'std': 1.6204932046430771}}, {'DOTUSDT_prev_volatility': {'mean': np.float64(2.3930470782192694), 'std': 1.5377745369208011}}, {'UNIUSDT_close': {'mean': np.float64(7.073881679818912), 'std': 1.6053294403176577}}, {'UNIUSDT_volume': {'mean': np.float64(60461.30583659534), 'std': 121891.99497268091}}, {'UNIUSDT_numberOfTrades': {'mean': np.float64(1289.9695226422882), 'std': 1601.1217534884265}}, {'UNIUSDT_prev_return': {'mean': np.float64(0.05428899519182686), 'std': 2.19252228159953}}, {'UNIUSDT_prev_volatility': {'mean': np.float64(5.25836655353188), 'std': 4.048190877440414}}, {'OPUSDT_close': {'mean': np.float64(0.7250814922274609), 'std': 0.13016903669195629}}, {'OPUSDT_volume': {'mean': np.float64(398571.75103988196), 'std': 600958.161626572}}, {'OPUSDT_numberOfTrades': {'mean': np.float64(1030.361213591626), 'std': 998.0624945725538}}, {'OPUSDT_prev_return': {'mean': np.float64(-0.01073594030798778), 'std': 2.1492605039411035}}, {'OPUSDT_prev_volatility': {'mean': np.float64(0.5556402370968953), 'std': 0.3884214331989659}}, {'TRXUSDT_close': {'mean': np.float64(0.2676192802741336), 'std': 0.032098648331563305}}, {'TRXUSDT_volume': {'mean': np.float64(1037597.011505609), 'std': 2247080.4650706453}}, {'TRXUSDT_numberOfTrades': {'mean': np.float64(786.4686909868561), 'std': 887.2114999373921}}, {'TRXUSDT_prev_return': {'mean': np.float64(0.04457880590177569), 'std': 0.8630355678564416}}, {'TRXUSDT_prev_volatility': {'mean': np.float64(0.07597086382044578), 'std': 0.05474491826679893}}, {'ARBUSDT_close': {'mean': np.float64(0.36451968959867936), 'std': 0.05270685009115912}}, {'ARBUSDT_volume': {'mean': np.float64(666570.4945535949), 'std': 1044995.5596341055}}, {'ARBUSDT_numberOfTrades': {'mean': np.float64(739.5432023111267), 'std': 743.7200403625118}}, {'ARBUSDT_prev_return': {'mean': np.float64(0.028767629027860692), 'std': 2.079479356985707}}, {'ARBUSDT_prev_volatility': {'mean': np.float64(0.26827928343052665), 'std': 0.18476567817906464}}, {'APTUSDT_close': {'mean': np.float64(5.068773380773126), 'std': 0.5230619860054754}}, {'APTUSDT_volume': {'mean': np.float64(44103.10082415177), 'std': 66820.85484299542}}, {'APTUSDT_numberOfTrades': {'mean': np.float64(1265.4607371093407), 'std': 1239.2428013701317}}, {'APTUSDT_prev_return': {'mean': np.float64(-0.001311072644869979), 'std': 1.8399170376849974}}, {'APTUSDT_prev_volatility': {'mean': np.float64(3.2586832554729597), 'std': 2.1803698288826805}}, {'TONUSDT_close': {'mean': np.float64(3.171307721264116), 'std': 0.2877911019360893}}, {'TONUSDT_volume': {'mean': np.float64(61746.92775728168), 'std': 169189.24326689873}}, {'TONUSDT_numberOfTrades': {'mean': np.float64(1110.849664211303), 'std': 1888.6453597605278}}, {'TONUSDT_prev_return': {'mean': np.float64(0.008643066387149607), 'std': 1.6755723243118423}}, {'TONUSDT_prev_volatility': {'mean': np.float64(1.7352568300519164), 'std': 1.3833211095878934}}, {'ATOMUSDT_close': {'mean': np.float64(4.436132289491127), 'std': 0.35357123114128775}}, {'ATOMUSDT_volume': {'mean': np.float64(24992.653486449643), 'std': 36688.52418221582}}, {'ATOMUSDT_numberOfTrades': {'mean': np.float64(472.0345043208564), 'std': 430.7628006138945}}, {'ATOMUSDT_prev_return': {'mean': np.float64(0.01436261443460533), 'std': 1.5606043234550748}}, {'ATOMUSDT_prev_volatility': {'mean': np.float64(2.479502601844998), 'std': 1.5423863244792673}}, {'BONKUSDT_close': {'mean': np.float64(1.80638317429747e-05), 'std': 6.862093379131916e-06}}, {'BONKUSDT_volume': {'mean': np.float64(5232848371.501983), 'std': 8204218274.563916}}, {'BONKUSDT_numberOfTrades': {'mean': np.float64(6341.05787821563), 'std': 6124.378873025936}}, {'BONKUSDT_prev_return': {'mean': np.float64(0.10461257276014968), 'std': 2.8080196011669805}}, {'BONKUSDT_prev_volatility': {'mean': np.float64(1.8962489988372155e-05), 'std': 1.5183704901384022e-05}}, {'AAVEUSDT_close': {'mean': np.float64(226.65126274058605), 'std': 56.790280613553364}}, {'AAVEUSDT_volume': {'mean': np.float64(2505.508456622603), 'std': 2939.315954783405}}, {'AAVEUSDT_numberOfTrades': {'mean': np.float64(1681.6568201998475), 'std': 1469.3478865821546}}, {'AAVEUSDT_prev_return': {'mean': np.float64(0.05896703315278445), 'std': 2.0989862679360467}}, {'AAVEUSDT_prev_volatility': {'mean': np.float64(158.63643004987887), 'std': 105.97848562432672}}, {'BCHUSDT_close': {'mean': np.float64(414.6537141856656), 'std': 85.57217214710225}}, {'BCHUSDT_volume': {'mean': np.float64(1002.5048318430237), 'std': 2089.0656743505574}}, {'BCHUSDT_numberOfTrades': {'mean': np.float64(1413.4872500343918), 'std': 1671.845518845892}}, {'BCHUSDT_prev_return': {'mean': np.float64(0.08333367194050556), 'std': 1.679078366265887}}, {'BCHUSDT_prev_volatility': {'mean': np.float64(222.1971032176293), 'std': 159.17467178775598}}, {'ONDOUSDT_close': {'mean': np.float64(0.8911575655632122), 'std': 0.09780846248401885}}, {'ONDOUSDT_volume': {'mean': np.float64(340962.96683883393), 'std': 526622.8076082887}}, {'ONDOUSDT_numberOfTrades': {'mean': np.float64(1129.5887495153888), 'std': 1251.3613378754546}}, {'ONDOUSDT_prev_return': {'mean': np.float64(0.023772811422245015), 'std': 2.133159499518583}}, {'ONDOUSDT_prev_volatility': {'mean': np.float64(0.6506582487937452), 'std': 0.48917891184920775}}]\n"
          ]
        }
      ],
      "source": [
        "import pickle\n",
        "\n",
        "# my_list = [1, 2, 3, 'apple', {'a': 10}]\n",
        "with open('/content/drive/MyDrive/portfolio_novo/normalizing_config_joint_3min_perp.pkl', 'wb') as f:\n",
        "    pickle.dump(list_normalizing, f)\n",
        "\n",
        "with open('/content/drive/MyDrive/portfolio_novo/normalizing_config_joint_3min_perp.pkl', 'rb') as f:\n",
        "    loaded_list = pickle.load(f)\n",
        "\n",
        "print(loaded_list)\n"
      ]
    },
    {
      "cell_type": "markdown",
      "metadata": {
        "id": "0sdOT5kTessQ"
      },
      "source": [
        "Create time index for TimseNet"
      ]
    },
    {
      "cell_type": "code",
      "execution_count": 29,
      "metadata": {
        "id": "PWQs34gQ7njD"
      },
      "outputs": [],
      "source": [
        "import warnings\n",
        "warnings.filterwarnings('ignore')\n",
        "from torch.utils.data import Dataset, DataLoader\n",
        "\n",
        "df_stamp = data_all[['time']].rename(columns={'time':'dateTime'})\n",
        "df_stamp['dateTime'] = pd.to_datetime(df_stamp['dateTime'])\n",
        "df_stamp['month'] = df_stamp.dateTime.apply(lambda row: row.month, 1)\n",
        "df_stamp['day'] = df_stamp.dateTime.apply(lambda row: row.day, 1)\n",
        "df_stamp['weekday'] = df_stamp.dateTime.apply(lambda row: row.weekday(), 1)\n",
        "df_stamp['hour'] = df_stamp.dateTime.apply(lambda row: row.hour, 1)\n",
        "df_stamp['minute'] = df_stamp.dateTime.apply(lambda row: row.minute, 1)\n",
        "data_stamp = df_stamp.drop(['dateTime'], axis=1)"
      ]
    },
    {
      "cell_type": "markdown",
      "metadata": {
        "id": "gskia2Lre1nx"
      },
      "source": [
        "Dataset Class and Creating DataLoader"
      ]
    },
    {
      "cell_type": "code",
      "execution_count": 30,
      "metadata": {
        "colab": {
          "base_uri": "https://localhost:8080/"
        },
        "id": "roHtsxJxkdcw",
        "outputId": "b6e4a655-1f4c-4ad3-fcaa-db4b95f25be9"
      },
      "outputs": [
        {
          "data": {
            "text/plain": [
              "['BTCUSDT_close',\n",
              " 'BTCUSDT_volume',\n",
              " 'BTCUSDT_numberOfTrades',\n",
              " 'BTCUSDT_prev_return',\n",
              " 'BTCUSDT_prev_volatility',\n",
              " 'ETHUSDT_close',\n",
              " 'ETHUSDT_volume',\n",
              " 'ETHUSDT_numberOfTrades',\n",
              " 'ETHUSDT_prev_return',\n",
              " 'ETHUSDT_prev_volatility',\n",
              " 'XRPUSDT_close',\n",
              " 'XRPUSDT_volume',\n",
              " 'XRPUSDT_numberOfTrades',\n",
              " 'XRPUSDT_prev_return',\n",
              " 'XRPUSDT_prev_volatility',\n",
              " 'SOLUSDT_close',\n",
              " 'SOLUSDT_volume',\n",
              " 'SOLUSDT_numberOfTrades',\n",
              " 'SOLUSDT_prev_return',\n",
              " 'SOLUSDT_prev_volatility',\n",
              " 'DOGEUSDT_close',\n",
              " 'DOGEUSDT_volume',\n",
              " 'DOGEUSDT_numberOfTrades',\n",
              " 'DOGEUSDT_prev_return',\n",
              " 'DOGEUSDT_prev_volatility',\n",
              " 'ADAUSDT_close',\n",
              " 'ADAUSDT_volume',\n",
              " 'ADAUSDT_numberOfTrades',\n",
              " 'ADAUSDT_prev_return',\n",
              " 'ADAUSDT_prev_volatility',\n",
              " 'TRUMPUSDT_close',\n",
              " 'TRUMPUSDT_volume',\n",
              " 'TRUMPUSDT_numberOfTrades',\n",
              " 'TRUMPUSDT_prev_return',\n",
              " 'TRUMPUSDT_prev_volatility',\n",
              " 'SHIBUSDT_close',\n",
              " 'SHIBUSDT_volume',\n",
              " 'SHIBUSDT_numberOfTrades',\n",
              " 'SHIBUSDT_prev_return',\n",
              " 'SHIBUSDT_prev_volatility',\n",
              " 'BNBUSDT_close',\n",
              " 'BNBUSDT_volume',\n",
              " 'BNBUSDT_numberOfTrades',\n",
              " 'BNBUSDT_prev_return',\n",
              " 'BNBUSDT_prev_volatility',\n",
              " 'USDCUSDT_close',\n",
              " 'USDCUSDT_volume',\n",
              " 'USDCUSDT_numberOfTrades',\n",
              " 'USDCUSDT_prev_return',\n",
              " 'USDCUSDT_prev_volatility',\n",
              " 'PEPEUSDT_close',\n",
              " 'PEPEUSDT_volume',\n",
              " 'PEPEUSDT_numberOfTrades',\n",
              " 'PEPEUSDT_prev_return',\n",
              " 'PEPEUSDT_prev_volatility',\n",
              " 'LINKUSDT_close',\n",
              " 'LINKUSDT_volume',\n",
              " 'LINKUSDT_numberOfTrades',\n",
              " 'LINKUSDT_prev_return',\n",
              " 'LINKUSDT_prev_volatility',\n",
              " 'AVAXUSDT_close',\n",
              " 'AVAXUSDT_volume',\n",
              " 'AVAXUSDT_numberOfTrades',\n",
              " 'AVAXUSDT_prev_return',\n",
              " 'AVAXUSDT_prev_volatility',\n",
              " 'SUIUSDT_close',\n",
              " 'SUIUSDT_volume',\n",
              " 'SUIUSDT_numberOfTrades',\n",
              " 'SUIUSDT_prev_return',\n",
              " 'SUIUSDT_prev_volatility',\n",
              " 'XLMUSDT_close',\n",
              " 'XLMUSDT_volume',\n",
              " 'XLMUSDT_numberOfTrades',\n",
              " 'XLMUSDT_prev_return',\n",
              " 'XLMUSDT_prev_volatility',\n",
              " 'LTCUSDT_close',\n",
              " 'LTCUSDT_volume',\n",
              " 'LTCUSDT_numberOfTrades',\n",
              " 'LTCUSDT_prev_return',\n",
              " 'LTCUSDT_prev_volatility',\n",
              " 'HBARUSDT_close',\n",
              " 'HBARUSDT_volume',\n",
              " 'HBARUSDT_numberOfTrades',\n",
              " 'HBARUSDT_prev_return',\n",
              " 'HBARUSDT_prev_volatility',\n",
              " 'PENGUUSDT_close',\n",
              " 'PENGUUSDT_volume',\n",
              " 'PENGUUSDT_numberOfTrades',\n",
              " 'PENGUUSDT_prev_return',\n",
              " 'PENGUUSDT_prev_volatility',\n",
              " 'DOTUSDT_close',\n",
              " 'DOTUSDT_volume',\n",
              " 'DOTUSDT_numberOfTrades',\n",
              " 'DOTUSDT_prev_return',\n",
              " 'DOTUSDT_prev_volatility',\n",
              " 'UNIUSDT_close',\n",
              " 'UNIUSDT_volume',\n",
              " 'UNIUSDT_numberOfTrades',\n",
              " 'UNIUSDT_prev_return',\n",
              " 'UNIUSDT_prev_volatility',\n",
              " 'OPUSDT_close',\n",
              " 'OPUSDT_volume',\n",
              " 'OPUSDT_numberOfTrades',\n",
              " 'OPUSDT_prev_return',\n",
              " 'OPUSDT_prev_volatility',\n",
              " 'TRXUSDT_close',\n",
              " 'TRXUSDT_volume',\n",
              " 'TRXUSDT_numberOfTrades',\n",
              " 'TRXUSDT_prev_return',\n",
              " 'TRXUSDT_prev_volatility',\n",
              " 'ARBUSDT_close',\n",
              " 'ARBUSDT_volume',\n",
              " 'ARBUSDT_numberOfTrades',\n",
              " 'ARBUSDT_prev_return',\n",
              " 'ARBUSDT_prev_volatility',\n",
              " 'APTUSDT_close',\n",
              " 'APTUSDT_volume',\n",
              " 'APTUSDT_numberOfTrades',\n",
              " 'APTUSDT_prev_return',\n",
              " 'APTUSDT_prev_volatility',\n",
              " 'TONUSDT_close',\n",
              " 'TONUSDT_volume',\n",
              " 'TONUSDT_numberOfTrades',\n",
              " 'TONUSDT_prev_return',\n",
              " 'TONUSDT_prev_volatility',\n",
              " 'ATOMUSDT_close',\n",
              " 'ATOMUSDT_volume',\n",
              " 'ATOMUSDT_numberOfTrades',\n",
              " 'ATOMUSDT_prev_return',\n",
              " 'ATOMUSDT_prev_volatility',\n",
              " 'BONKUSDT_close',\n",
              " 'BONKUSDT_volume',\n",
              " 'BONKUSDT_numberOfTrades',\n",
              " 'BONKUSDT_prev_return',\n",
              " 'BONKUSDT_prev_volatility',\n",
              " 'AAVEUSDT_close',\n",
              " 'AAVEUSDT_volume',\n",
              " 'AAVEUSDT_numberOfTrades',\n",
              " 'AAVEUSDT_prev_return',\n",
              " 'AAVEUSDT_prev_volatility',\n",
              " 'BCHUSDT_close',\n",
              " 'BCHUSDT_volume',\n",
              " 'BCHUSDT_numberOfTrades',\n",
              " 'BCHUSDT_prev_return',\n",
              " 'BCHUSDT_prev_volatility',\n",
              " 'ONDOUSDT_close',\n",
              " 'ONDOUSDT_volume',\n",
              " 'ONDOUSDT_numberOfTrades',\n",
              " 'ONDOUSDT_prev_return',\n",
              " 'ONDOUSDT_prev_volatility']"
            ]
          },
          "execution_count": 30,
          "metadata": {},
          "output_type": "execute_result"
        }
      ],
      "source": [
        "selected_f_all = [x for x in selected_f_all if (('return' not in x) or ('prev_return' in x))]\n",
        "selected_f_all = [x for x in selected_f_all if (('volatility' not in x) or ('prev_volatility' in x))]\n",
        "seleted_crypto = [x[:-4] for x in list_crypto]\n",
        "selected_f_all"
      ]
    },
    {
      "cell_type": "code",
      "execution_count": 31,
      "metadata": {
        "colab": {
          "base_uri": "https://localhost:8080/"
        },
        "id": "NM8sWNUk6tjV",
        "outputId": "5121557b-4e51-4f48-8adc-96896609276c"
      },
      "outputs": [
        {
          "data": {
            "text/plain": [
              "30"
            ]
          },
          "execution_count": 31,
          "metadata": {},
          "output_type": "execute_result"
        }
      ],
      "source": [
        "selected_return = [x for x in data_all.columns if (('return' in x) and ('prev_return' not in x))][:-1]\n",
        "len(selected_return)"
      ]
    },
    {
      "cell_type": "code",
      "execution_count": 32,
      "metadata": {
        "colab": {
          "base_uri": "https://localhost:8080/"
        },
        "id": "XmZqBjf-0wQY",
        "outputId": "d1fdd586-4804-4134-e830-165a11bfd921"
      },
      "outputs": [
        {
          "data": {
            "text/plain": [
              "80"
            ]
          },
          "execution_count": 32,
          "metadata": {},
          "output_type": "execute_result"
        }
      ],
      "source": [
        "shifted_window"
      ]
    },
    {
      "cell_type": "code",
      "execution_count": 33,
      "metadata": {
        "id": "Pfe2ODdGKlBd"
      },
      "outputs": [],
      "source": [
        "import torch\n",
        "from torch.utils.data import Dataset\n",
        "import numpy as np\n",
        "from torch.utils.data import Dataset, DataLoader\n",
        "\n",
        "class NewsTimeSeriesDataset(Dataset):\n",
        "    def __init__(self, df, data_stamp, selected_f_all, stock_list, seq_len=30):\n",
        "        self.df = df.reset_index(drop=True)\n",
        "        self.data_stamp = data_stamp.reset_index(drop=True)\n",
        "        self.features = selected_f_all\n",
        "        self.seq_len = seq_len\n",
        "        self.stock_list = [x+'_return' for x in stock_list]\n",
        "\n",
        "    def __len__(self):\n",
        "        return len(self.df) - self.seq_len-shifted_window\n",
        "\n",
        "    def __getitem__(self, idx):\n",
        "        ts_window = self.df.loc[idx:idx + self.seq_len - 1, self.features].values.astype('float32')\n",
        "        nc_window = self.df.loc[idx:idx + self.seq_len - 1, seleted_crypto].values.astype('float32')\n",
        "        # x_mask = self.data_stamp.loc[idx:idx + self.seq_len - 1].values.astype('float32')\n",
        "        news_window = self.df.loc[idx:idx + self.seq_len - 1, 'embedding'].values\n",
        "        news_window = np.stack(news_window).astype('float32')\n",
        "        target = self.df.loc[idx + self.seq_len, self.stock_list].values.astype('float32')  # shape: [19]\n",
        "        return {\n",
        "            'timeseries': torch.tensor(ts_window),     # [30, 114]\n",
        "            'news': torch.tensor(news_window),         # [30, 768]\n",
        "            'target': torch.tensor(target),\n",
        "            'news_count':torch.tensor(nc_window)# [19]\n",
        "        }\n",
        "\n",
        "my_seq_len = 80\n",
        "split = int(0.8 * len(data_all))\n",
        "\n",
        "data_train = data_all[data_all['day'].isin(list_days_train)].copy()\n",
        "data_test = data_all[data_all['day'].isin(list_days_valid)].copy()\n",
        "train_dataset = NewsTimeSeriesDataset(data_train, data_stamp.iloc[:split], selected_f_all, list_crypto, seq_len=my_seq_len)\n",
        "val_dataset = NewsTimeSeriesDataset(data_test, data_stamp.iloc[split:], selected_f_all, list_crypto, seq_len=my_seq_len)\n",
        "\n",
        "train_loader = DataLoader(train_dataset, batch_size=32, shuffle=True)\n",
        "val_loader = DataLoader(val_dataset, batch_size=32)\n"
      ]
    },
    {
      "cell_type": "code",
      "execution_count": 34,
      "metadata": {
        "colab": {
          "base_uri": "https://localhost:8080/"
        },
        "id": "lfmh5c292lOF",
        "outputId": "6a8f69af-7795-4be3-9c84-93424d3e21fc"
      },
      "outputs": [
        {
          "data": {
            "text/plain": [
              "(61820, 150)"
            ]
          },
          "execution_count": 34,
          "metadata": {},
          "output_type": "execute_result"
        }
      ],
      "source": [
        "data_train[selected_f_all].shape"
      ]
    },
    {
      "cell_type": "code",
      "execution_count": 35,
      "metadata": {
        "colab": {
          "base_uri": "https://localhost:8080/"
        },
        "id": "oNRP0lsP2g_r",
        "outputId": "7a15fc4f-e2c8-42e8-e60c-ad1eb95892f8"
      },
      "outputs": [
        {
          "data": {
            "text/plain": [
              "150"
            ]
          },
          "execution_count": 35,
          "metadata": {},
          "output_type": "execute_result"
        }
      ],
      "source": [
        "len(selected_f_all)"
      ]
    },
    {
      "cell_type": "markdown",
      "metadata": {},
      "source": [
        "Loss Function and Validation Func (for m of n and also n of n)"
      ]
    },
    {
      "cell_type": "code",
      "execution_count": 36,
      "metadata": {
        "id": "eD4Yk_e_4qGi"
      },
      "outputs": [],
      "source": [
        "import torch\n",
        "import torch.nn.functional as F\n",
        "\n",
        "\n",
        "import math\n",
        "def gaussian_nll_loss(mu, sigma, target):\n",
        "    var = sigma.pow(2)\n",
        "    # note: + math.log(2*pi) to keep it ≥ 0\n",
        "    const = math.log(2 * math.pi)\n",
        "    loss = 0.5 * ((target - mu).pow(2) / var + torch.log(var) + const)\n",
        "    return loss.mean()\n",
        "\n",
        "\n"
      ]
    },
    {
      "cell_type": "markdown",
      "metadata": {
        "id": "CoqSg9XZD11W"
      },
      "source": [
        "Model Architecture"
      ]
    },
    {
      "cell_type": "code",
      "execution_count": 37,
      "metadata": {
        "id": "avriBN1s5zrP"
      },
      "outputs": [],
      "source": [
        "import math\n",
        "import torch.nn as nn\n",
        "import torch\n",
        "\n",
        "class PositionalEncoding(nn.Module):\n",
        "    def __init__(self, d_model, max_len=500):\n",
        "        super().__init__()\n",
        "        pe = torch.zeros(max_len, d_model)  # [max_len, d_model]\n",
        "        position = torch.arange(0, max_len, dtype=torch.float32).unsqueeze(1)  # [max_len, 1]\n",
        "        div_term = torch.exp(torch.arange(0, d_model, 2).float() * (-math.log(10000.0) / d_model))  # [d_model/2]\n",
        "\n",
        "        pe[:, 0::2] = torch.sin(position * div_term)  # even dims\n",
        "        pe[:, 1::2] = torch.cos(position * div_term)  # odd dims\n",
        "        pe = pe.unsqueeze(0)  # [1, max_len, d_model]\n",
        "        self.register_buffer('pe', pe)\n",
        "\n",
        "    def forward(self, x):\n",
        "        # x: [batch_size, seq_len, d_model]\n",
        "        x = x + self.pe[:, :x.size(1), :]\n",
        "        return x\n",
        "\n",
        "class TransformerReturnPredictor(nn.Module):\n",
        "    def __init__(self, feature_dim, d_model=64, nhead=4, num_layers=2, max_len=500):\n",
        "        super().__init__()\n",
        "        self.input_proj = nn.Linear(feature_dim, d_model)\n",
        "        self.pos_encoder = PositionalEncoding(d_model, max_len=max_len)\n",
        "\n",
        "        encoder_layer = nn.TransformerEncoderLayer(d_model=d_model, nhead=nhead, batch_first=True)\n",
        "        self.transformer = nn.TransformerEncoder(encoder_layer, num_layers=num_layers)\n",
        "        self.output_layer = nn.Linear(d_model, 1)\n",
        "\n",
        "    def forward(self, x):\n",
        "        # x: [batch_size, seq_len, feature_dim]\n",
        "        x = self.input_proj(x)             # [batch_size, seq_len, d_model]\n",
        "        x = self.pos_encoder(x)            # Add positional encoding\n",
        "        x = self.transformer(x)            # [batch_size, seq_len, d_model]\n",
        "        x = x[:, -1, :]                    # Use representation of last time step\n",
        "        return self.output_layer(x).squeeze(-1)\n"
      ]
    },
    {
      "cell_type": "code",
      "execution_count": 38,
      "metadata": {
        "colab": {
          "base_uri": "https://localhost:8080/"
        },
        "id": "5gnVrC9G8qN6",
        "outputId": "a41ba36f-eac5-4d06-af5d-0ee4cf96d276"
      },
      "outputs": [
        {
          "data": {
            "text/plain": [
              "(768,)"
            ]
          },
          "execution_count": 38,
          "metadata": {},
          "output_type": "execute_result"
        }
      ],
      "source": [
        "data_all['embedding'].iloc[0].shape"
      ]
    },
    {
      "cell_type": "code",
      "execution_count": 71,
      "metadata": {
        "id": "suadoQon5Wu8"
      },
      "outputs": [],
      "source": [
        "import torch\n",
        "import torch.nn as nn\n",
        "import torch.nn.functional as F\n",
        "import torch.fft\n",
        "from transformers import AutoTokenizer, AutoModel\n",
        "finbert_model_name = \"yiyanghkust/finbert-tone\"\n",
        "import torch.nn as nn\n",
        "\n",
        "from torch import Tensor\n",
        "class GatedCrossAttentionFusion2D(nn.Module):\n",
        "    \"\"\"\n",
        "    Fusion module for MSGCA with 2D inputs:\n",
        "    1. Cross-attention between two modalities.\n",
        "    2. Gated feature selection guided by a primary modality.\n",
        "    Inputs are 2D: (batch_size, d_model)\n",
        "    \"\"\"\n",
        "    def __init__(self, d_model: int, n_heads: int):\n",
        "        super().__init__()\n",
        "        self.d_model = d_model\n",
        "        self.n_heads = n_heads\n",
        "        self.head_dim = d_model // n_heads\n",
        "\n",
        "        # Cross-attention projections (for queries, keys, values)\n",
        "        self.q_proj = nn.Linear(d_model, d_model)\n",
        "        self.k_proj = nn.Linear(d_model, d_model)\n",
        "        self.v_proj = nn.Linear(d_model, d_model)\n",
        "\n",
        "        # Gating mechanism projections\n",
        "        self.gate_proj = nn.Linear(d_model, d_model)  # For primary modality\n",
        "        self.unstable_proj = nn.Linear(d_model, d_model)  # For unstable features\n",
        "\n",
        "        # Output projection\n",
        "        self.out_proj = nn.Linear(d_model, d_model)\n",
        "\n",
        "    def forward(self,\n",
        "                primary: torch.Tensor,\n",
        "                auxiliary: torch.Tensor,\n",
        "                ) -> torch.Tensor:\n",
        "        \"\"\"\n",
        "        Args:\n",
        "            primary:   (batch_size, d_model)\n",
        "            auxiliary: (batch_size, d_model)\n",
        "        Returns:\n",
        "            fused:     (batch_size, d_model)\n",
        "        \"\"\"\n",
        "        # --- Step 1: Unstable Cross-Attention Fusion ---\n",
        "        Q = self.q_proj(primary)  # (batch, d_model)\n",
        "        K = self.k_proj(auxiliary)\n",
        "        V = self.v_proj(auxiliary)\n",
        "\n",
        "        # Multi-head attention for 2D inputs\n",
        "        batch_size, _ = Q.size()\n",
        "\n",
        "        # Reshape for multi-head attention\n",
        "        # (batch, n_heads, head_dim)\n",
        "        Q = Q.view(batch_size, self.n_heads, self.head_dim)\n",
        "        K = K.view(batch_size, self.n_heads, self.head_dim)\n",
        "        V = V.view(batch_size, self.n_heads, self.head_dim)\n",
        "\n",
        "        # Scaled dot-product attention\n",
        "        # (batch, n_heads, n_heads)\n",
        "        attn_scores = torch.matmul(Q, K.transpose(-2, -1)) / (self.head_dim ** 0.5)\n",
        "        attn_weights = F.softmax(attn_scores, dim=-1)\n",
        "        # (batch, n_heads, head_dim)\n",
        "        attn_output = torch.matmul(attn_weights, V)\n",
        "\n",
        "        # Restore original shape: (batch, d_model)\n",
        "        attn_output = attn_output.view(batch_size, self.d_model)\n",
        "\n",
        "        # --- Step 2: Stable Gated Feature Selection ---\n",
        "        # (batch, d_model)\n",
        "        unstable_features = self.unstable_proj(attn_output)\n",
        "        gate = torch.sigmoid(self.gate_proj(primary))\n",
        "\n",
        "        # Element-wise gating\n",
        "        # (batch, d_model)\n",
        "        fused = unstable_features * gate\n",
        "\n",
        "        # Output projection\n",
        "        fused = self.out_proj(fused)\n",
        "        return fused\n",
        "\n",
        "class MSGCAFusion(nn.Module):\n",
        "    \"\"\"\n",
        "    Complete fusion module for MSGCA:\n",
        "    1. Fuses indicators + documents.\n",
        "    2. Fuses (indicators + documents) + graph.\n",
        "    \"\"\"\n",
        "    def __init__(self, d_model: int, n_heads: int):\n",
        "        super().__init__()\n",
        "        # First fusion: Indicators (primary) + Documents (auxiliary)\n",
        "        self.fusion1 = GatedCrossAttentionFusion2D(d_model, n_heads)\n",
        "\n",
        "\n",
        "    def forward(self,\n",
        "                indicators: Tensor,  # (batch, seq_len, d_model)\n",
        "                documents: Tensor  # (batch, seq_len, d_model)\n",
        "                ) -> Tensor:\n",
        "        # First fusion stage\n",
        "        fused_id = self.fusion1(primary=indicators, auxiliary=documents)  # (batch, seq_len, d_model)\n",
        "\n",
        "        return fused_id\n",
        "\n",
        "\n",
        "class MarketNewsFusionModel(nn.Module):\n",
        "    def __init__(self, ts_input_dim, hidden_dim=64, num_stocks=19,\n",
        "                 max_len=30, d_model=64, nhead=4, num_layers=2):\n",
        "        super().__init__()\n",
        "        self.num_stocks = num_stocks\n",
        "\n",
        "        self.d_model = d_model\n",
        "        self.input_proj = nn.Linear(ts_input_dim, self.d_model)\n",
        "        self.pos_encoder = PositionalEncoding(self.d_model, max_len=max_len)\n",
        "        encoder_layer = nn.TransformerEncoderLayer(d_model=self.d_model, nhead=nhead, batch_first=True)\n",
        "        self.transformer = nn.TransformerEncoder(encoder_layer, num_layers=num_layers)\n",
        "        self.ts_out = nn.Linear(128, hidden_dim)\n",
        "        news_embed_dim = 768\n",
        "\n",
        "        # 2. News LSTM\n",
        "        self.news_proj = nn.Linear(news_embed_dim+len(seleted_crypto), 64)\n",
        "        self.news_lstm = nn.LSTM(input_size=64, hidden_size=hidden_dim, batch_first=True)\n",
        "\n",
        "        # self.news_proj = nn.Linear(news_embed_dim, 64)\n",
        "        # self.count_lstm = nn.LSTM(input_size=len(seleted_crypto), hidden_size=len(seleted_crypto), batch_first=True)\n",
        "        self.fusion = nn.ModuleList([MSGCAFusion(self.d_model, n_heads=4) for _ in range(num_stocks)])\n",
        "\n",
        "        # 3. Stock-specific regression heads (1 per stock)\n",
        "        # self.stock_heads = nn.Sequential(\n",
        "        #         nn.Linear(self.d_model+hidden_dim+len(seleted_crypto), 64),\n",
        "        #         nn.ReLU(),\n",
        "        #         nn.Linear(64, num_stocks)\n",
        "        #     )\n",
        "\n",
        "        # 3. Stock-specific regression heads (1 per stock)\n",
        "        self.stock_heads = nn.ModuleList([\n",
        "            nn.Sequential(\n",
        "                nn.ReLU(),\n",
        "                nn.Linear(64, 2)\n",
        "            )\n",
        "            for _ in range(self.num_stocks)\n",
        "        ])\n",
        "\n",
        "    def forward(self, ts_input, nc_input,news_input, x_mark_enc):  # [B, 30, F], [B, 30, E]\n",
        "\n",
        "                # Transformer on OHLCV\n",
        "        x = self.input_proj(ts_input)           # [B, T, d_model]\n",
        "        x = self.pos_encoder(x)\n",
        "        x = self.transformer(x)                  # [B, T, d_model]\n",
        "        ts_emb = x[:, -1, :].squeeze(1)                   # [B, d_model]\n",
        "\n",
        "        concat_news = torch.cat([news_input, nc_input], dim=2)   # [B, 128]\n",
        "        news_proj = self.news_proj(concat_news)         # [B, 30, 64]\n",
        "\n",
        "        _, (hn, _) = self.news_lstm(news_proj)        # hn: [1, B, 64]\n",
        "        news_emb = hn[-1]\n",
        "        fused = [fusion(ts_emb, news_emb) for fusion in self.fusion]\n",
        "        # fused = torch.cat([ts_emb, news_emb], dim=1)   # [B, 128]\n",
        "        outputs = [self.stock_heads[ij](fused[ij]).squeeze(-1) for ij in range(self.num_stocks)]\n",
        "        # print(outputs)\n",
        "        logits = torch.stack(outputs, dim=1)\n",
        "        mu = logits[..., 0]                 # [B, num_stocks]\n",
        "        sigma_raw = logits[..., 1]          # [B, num_stocks]\n",
        "        sigma = F.softplus(sigma_raw) + 1e-6\n",
        "        return mu, sigma\n",
        "\n",
        "\n",
        "seq_len = my_seq_len\n",
        "\n",
        "# model = TimesNet.Model(args).float()\n",
        "# model = Model_TimesNet(configs).float()"
      ]
    },
    {
      "cell_type": "markdown",
      "metadata": {
        "id": "izF1C6gMEdON"
      },
      "source": [
        "Loading Model and dataloader"
      ]
    },
    {
      "cell_type": "code",
      "execution_count": 72,
      "metadata": {
        "colab": {
          "base_uri": "https://localhost:8080/"
        },
        "id": "dcq4GZM8gcgn",
        "outputId": "b26b42cc-dd7a-46de-b855-6d4a50342bd2"
      },
      "outputs": [
        {
          "name": "stdout",
          "output_type": "stream",
          "text": [
            "Using device: cuda\n"
          ]
        }
      ],
      "source": [
        "from torch.utils.data import DataLoader\n",
        "\n",
        "# Example setup\n",
        "# selected_f_all = list of feature columns (e.g., 6 × 19 = 114)\n",
        "# stock_list = ['AAPL', 'GOOG', ..., 'TSLA'] → 19 stock target columns\n",
        "# df = your dataframe with those columns and 'embedding' column\n",
        "\n",
        "\n",
        "split = int(0.8 * len(data_all))\n",
        "\n",
        "# train_dataset = NewsTimeSeriesDataset(data_all.iloc[:split], data_stamp.iloc[:split], selected_f_all, list_crypto, seq_len=30)\n",
        "# val_dataset = NewsTimeSeriesDataset(data_all.iloc[split:], data_stamp.iloc[split:], selected_f_all, list_crypto, seq_len=30)\n",
        "\n",
        "# train_loader = DataLoader(train_dataset, batch_size=32, shuffle=True)\n",
        "# val_loader = DataLoader(val_dataset, batch_size=32)\n",
        "data_train = data_all[data_all['day'].isin(list_days_train)].copy()\n",
        "data_val   = data_all[data_all['day'].isin(list_days_valid)].copy()\n",
        "data_test  = data_all[data_all['day'].isin(list_days_test)].copy()\n",
        "\n",
        "train_dataset = NewsTimeSeriesDataset(data_train, data_stamp.iloc[:split], selected_f_all, list_crypto, seq_len=my_seq_len)\n",
        "val_dataset   = NewsTimeSeriesDataset(data_val, data_stamp.iloc[split:], selected_f_all, list_crypto, seq_len=my_seq_len)\n",
        "test_dataset  = NewsTimeSeriesDataset(data_test, data_stamp.iloc[split:], selected_f_all, list_crypto, seq_len=my_seq_len)\n",
        "\n",
        "train_loader = DataLoader(train_dataset, batch_size=32, shuffle=True)\n",
        "val_loader = DataLoader(val_dataset, batch_size=32)\n",
        "test_loader = DataLoader(test_dataset, batch_size=32)\n",
        "\n",
        "device = torch.device('cuda' if torch.cuda.is_available() else 'cpu')\n",
        "print(f'Using device: {device}')\n",
        "\n",
        "\n",
        "model = MarketNewsFusionModel(ts_input_dim=len(selected_f_all),\n",
        " hidden_dim=64,\n",
        " num_stocks=len(list_crypto),\n",
        " max_len=my_seq_len,\n",
        " d_model=64, nhead=4, num_layers=2).to(device)\n",
        "\n",
        "optimizer = torch.optim.Adam(model.parameters(), lr=1e-4)\n",
        "loss_fn = nn.MSELoss()\n",
        "\n"
      ]
    },
    {
      "cell_type": "code",
      "execution_count": 41,
      "metadata": {
        "colab": {
          "base_uri": "https://localhost:8080/"
        },
        "id": "0R8YEQ4Ey3oK",
        "outputId": "e5ee9607-5029-4da8-d711-eb243f701e25"
      },
      "outputs": [
        {
          "data": {
            "text/plain": [
              "150"
            ]
          },
          "execution_count": 41,
          "metadata": {},
          "output_type": "execute_result"
        }
      ],
      "source": [
        "len(selected_f_all)"
      ]
    },
    {
      "cell_type": "markdown",
      "metadata": {
        "id": "a9ZdJH7BEiAc"
      },
      "source": [
        "Testing model pipeline"
      ]
    },
    {
      "cell_type": "code",
      "execution_count": 75,
      "metadata": {
        "colab": {
          "base_uri": "https://localhost:8080/"
        },
        "id": "sk_4Oo6zhmTf",
        "outputId": "4b29ba39-c61f-41a0-ffe4-da1f550923da"
      },
      "outputs": [
        {
          "name": "stdout",
          "output_type": "stream",
          "text": [
            "torch.Size([32, 80, 150])\n"
          ]
        }
      ],
      "source": [
        "top_k = 15\n",
        "\n",
        "# One training step\n",
        "for batch in val_loader:\n",
        "    ts_input = batch['timeseries'].to(device)\n",
        "    news_input = batch['news'].cuda()\n",
        "    target = batch['target'].to(device)\n",
        "    news_count = batch['news_count'].cuda()\n",
        "    time_mask = 1\n",
        "    mu, sigma = model(ts_input, news_count,news_input, time_mask)  # [B, 19]\n",
        "    loss = gaussian_nll_loss(mu, sigma, target)\n",
        "    print(ts_input.shape)\n",
        "    break"
      ]
    },
    {
      "cell_type": "code",
      "execution_count": null,
      "metadata": {
        "id": "Sx6_X43CvAm9"
      },
      "outputs": [],
      "source": [
        "import matplotlib.pyplot as plt\n"
      ]
    },
    {
      "cell_type": "markdown",
      "metadata": {},
      "source": [
        "Training model"
      ]
    },
    {
      "cell_type": "code",
      "execution_count": 79,
      "metadata": {
        "colab": {
          "base_uri": "https://localhost:8080/",
          "height": 1000
        },
        "id": "HYSvx1aYglIR",
        "outputId": "875b4d62-d42d-4cc0-d760-848d6620edb4"
      },
      "outputs": [
        {
          "name": "stdout",
          "output_type": "stream",
          "text": [
            "\n",
            "🔁 Epoch 1/50\n"
          ]
        },
        {
          "name": "stderr",
          "output_type": "stream",
          "text": [
            "Training:   0%|          | 1/1927 [00:00<29:58,  1.07it/s]"
          ]
        },
        {
          "name": "stdout",
          "output_type": "stream",
          "text": [
            "  Step 0/1927 - Batch Loss: 4.3866 - Avg Loss: 4.3866\n"
          ]
        },
        {
          "name": "stderr",
          "output_type": "stream",
          "text": [
            "Training:   5%|▌         | 101/1927 [01:32<27:25,  1.11it/s]"
          ]
        },
        {
          "name": "stdout",
          "output_type": "stream",
          "text": [
            "  Step 100/1927 - Batch Loss: 1.8867 - Avg Loss: 3.6631\n"
          ]
        },
        {
          "name": "stderr",
          "output_type": "stream",
          "text": [
            "Training:  10%|█         | 201/1927 [03:03<26:15,  1.10it/s]"
          ]
        },
        {
          "name": "stdout",
          "output_type": "stream",
          "text": [
            "  Step 200/1927 - Batch Loss: 1.6703 - Avg Loss: 2.8571\n"
          ]
        },
        {
          "name": "stderr",
          "output_type": "stream",
          "text": [
            "Training:  16%|█▌        | 301/1927 [04:34<24:46,  1.09it/s]"
          ]
        },
        {
          "name": "stdout",
          "output_type": "stream",
          "text": [
            "  Step 300/1927 - Batch Loss: 1.6614 - Avg Loss: 2.5353\n"
          ]
        },
        {
          "name": "stderr",
          "output_type": "stream",
          "text": [
            "Training:  21%|██        | 401/1927 [06:05<23:24,  1.09it/s]"
          ]
        },
        {
          "name": "stdout",
          "output_type": "stream",
          "text": [
            "  Step 400/1927 - Batch Loss: 1.7512 - Avg Loss: 2.3624\n"
          ]
        },
        {
          "name": "stderr",
          "output_type": "stream",
          "text": [
            "Training:  26%|██▌       | 501/1927 [07:36<21:40,  1.10it/s]"
          ]
        },
        {
          "name": "stdout",
          "output_type": "stream",
          "text": [
            "  Step 500/1927 - Batch Loss: 2.4801 - Avg Loss: 2.2515\n"
          ]
        },
        {
          "name": "stderr",
          "output_type": "stream",
          "text": [
            "Training:  31%|███       | 601/1927 [09:07<20:12,  1.09it/s]"
          ]
        },
        {
          "name": "stdout",
          "output_type": "stream",
          "text": [
            "  Step 600/1927 - Batch Loss: 1.6473 - Avg Loss: 2.1793\n"
          ]
        },
        {
          "name": "stderr",
          "output_type": "stream",
          "text": [
            "Training:  36%|███▋      | 701/1927 [10:38<18:56,  1.08it/s]"
          ]
        },
        {
          "name": "stdout",
          "output_type": "stream",
          "text": [
            "  Step 700/1927 - Batch Loss: 1.7735 - Avg Loss: 2.1267\n"
          ]
        },
        {
          "name": "stderr",
          "output_type": "stream",
          "text": [
            "Training:  42%|████▏     | 801/1927 [12:09<16:56,  1.11it/s]"
          ]
        },
        {
          "name": "stdout",
          "output_type": "stream",
          "text": [
            "  Step 800/1927 - Batch Loss: 1.6709 - Avg Loss: 2.0833\n"
          ]
        },
        {
          "name": "stderr",
          "output_type": "stream",
          "text": [
            "Training:  47%|████▋     | 901/1927 [13:40<15:35,  1.10it/s]"
          ]
        },
        {
          "name": "stdout",
          "output_type": "stream",
          "text": [
            "  Step 900/1927 - Batch Loss: 1.7815 - Avg Loss: 2.0481\n"
          ]
        },
        {
          "name": "stderr",
          "output_type": "stream",
          "text": [
            "Training:  52%|█████▏    | 1001/1927 [15:10<13:53,  1.11it/s]"
          ]
        },
        {
          "name": "stdout",
          "output_type": "stream",
          "text": [
            "  Step 1000/1927 - Batch Loss: 1.9832 - Avg Loss: 2.0205\n"
          ]
        },
        {
          "name": "stderr",
          "output_type": "stream",
          "text": [
            "Training:  57%|█████▋    | 1101/1927 [16:41<12:30,  1.10it/s]"
          ]
        },
        {
          "name": "stdout",
          "output_type": "stream",
          "text": [
            "  Step 1100/1927 - Batch Loss: 2.0109 - Avg Loss: 1.9964\n"
          ]
        },
        {
          "name": "stderr",
          "output_type": "stream",
          "text": [
            "Training:  62%|██████▏   | 1201/1927 [18:11<11:00,  1.10it/s]"
          ]
        },
        {
          "name": "stdout",
          "output_type": "stream",
          "text": [
            "  Step 1200/1927 - Batch Loss: 1.7064 - Avg Loss: 1.9762\n"
          ]
        },
        {
          "name": "stderr",
          "output_type": "stream",
          "text": [
            "Training:  68%|██████▊   | 1301/1927 [19:41<09:19,  1.12it/s]"
          ]
        },
        {
          "name": "stdout",
          "output_type": "stream",
          "text": [
            "  Step 1300/1927 - Batch Loss: 1.6848 - Avg Loss: 1.9581\n"
          ]
        },
        {
          "name": "stderr",
          "output_type": "stream",
          "text": [
            "Training:  73%|███████▎  | 1401/1927 [21:12<08:00,  1.09it/s]"
          ]
        },
        {
          "name": "stdout",
          "output_type": "stream",
          "text": [
            "  Step 1400/1927 - Batch Loss: 1.6141 - Avg Loss: 1.9416\n"
          ]
        },
        {
          "name": "stderr",
          "output_type": "stream",
          "text": [
            "Training:  78%|███████▊  | 1501/1927 [22:43<06:26,  1.10it/s]"
          ]
        },
        {
          "name": "stdout",
          "output_type": "stream",
          "text": [
            "  Step 1500/1927 - Batch Loss: 1.5396 - Avg Loss: 1.9270\n"
          ]
        },
        {
          "name": "stderr",
          "output_type": "stream",
          "text": [
            "Training:  83%|████████▎ | 1601/1927 [24:14<04:57,  1.10it/s]"
          ]
        },
        {
          "name": "stdout",
          "output_type": "stream",
          "text": [
            "  Step 1600/1927 - Batch Loss: 1.8182 - Avg Loss: 1.9137\n"
          ]
        },
        {
          "name": "stderr",
          "output_type": "stream",
          "text": [
            "Training:  88%|████████▊ | 1701/1927 [25:44<03:24,  1.11it/s]"
          ]
        },
        {
          "name": "stdout",
          "output_type": "stream",
          "text": [
            "  Step 1700/1927 - Batch Loss: 1.5926 - Avg Loss: 1.9007\n"
          ]
        },
        {
          "name": "stderr",
          "output_type": "stream",
          "text": [
            "Training:  93%|█████████▎| 1801/1927 [27:15<01:54,  1.10it/s]"
          ]
        },
        {
          "name": "stdout",
          "output_type": "stream",
          "text": [
            "  Step 1800/1927 - Batch Loss: 1.5045 - Avg Loss: 1.8876\n"
          ]
        },
        {
          "name": "stderr",
          "output_type": "stream",
          "text": [
            "Training:  99%|█████████▊| 1901/1927 [28:45<00:23,  1.11it/s]"
          ]
        },
        {
          "name": "stdout",
          "output_type": "stream",
          "text": [
            "  Step 1900/1927 - Batch Loss: 1.6204 - Avg Loss: 1.8760\n"
          ]
        },
        {
          "name": "stderr",
          "output_type": "stream",
          "text": [
            "Training: 100%|██████████| 1927/1927 [29:09<00:00,  1.10it/s]\n",
            "Validating: 100%|██████████| 1927/1927 [27:49<00:00,  1.15it/s]\n",
            "Validating: 100%|██████████| 265/265 [00:38<00:00,  6.86it/s]\n"
          ]
        },
        {
          "name": "stdout",
          "output_type": "stream",
          "text": [
            "📊 Epoch 1 Summary:\n",
            "  Train Loss: 1.8732\n",
            "  Val Loss: 1.9516\n",
            "BTCUSDT Val R²: 0.0041 | Train R²: 0.0189\n",
            "ETHUSDT Val R²: -0.0624 | Train R²: 0.0146\n",
            "XRPUSDT Val R²: -0.0761 | Train R²: 0.0115\n",
            "SOLUSDT Val R²: -0.1096 | Train R²: 0.0087\n",
            "DOGEUSDT Val R²: -0.0696 | Train R²: 0.0102\n",
            "ADAUSDT Val R²: -0.0845 | Train R²: 0.0044\n",
            "TRUMPUSDT Val R²: -0.0404 | Train R²: 0.0038\n",
            "SHIBUSDT Val R²: -0.0584 | Train R²: 0.0148\n",
            "BNBUSDT Val R²: -0.0320 | Train R²: 0.0196\n",
            "USDCUSDT Val R²: -0.1520 | Train R²: 0.0988\n",
            "PEPEUSDT Val R²: -0.0245 | Train R²: 0.0083\n",
            "LINKUSDT Val R²: -0.0818 | Train R²: 0.0125\n",
            "AVAXUSDT Val R²: -0.0669 | Train R²: 0.0092\n",
            "SUIUSDT Val R²: -0.0143 | Train R²: 0.0143\n",
            "XLMUSDT Val R²: -0.0616 | Train R²: 0.0115\n",
            "LTCUSDT Val R²: -0.0446 | Train R²: 0.0213\n",
            "HBARUSDT Val R²: -0.0583 | Train R²: 0.0109\n",
            "PENGUUSDT Val R²: -0.0322 | Train R²: 0.0134\n",
            "DOTUSDT Val R²: -0.0374 | Train R²: 0.0093\n",
            "UNIUSDT Val R²: -0.0381 | Train R²: 0.0021\n",
            "OPUSDT Val R²: -0.0571 | Train R²: 0.0079\n",
            "TRXUSDT Val R²: -0.0040 | Train R²: 0.0116\n",
            "ARBUSDT Val R²: -0.0372 | Train R²: 0.0076\n",
            "APTUSDT Val R²: -0.0328 | Train R²: 0.0032\n",
            "TONUSDT Val R²: -0.0179 | Train R²: 0.0050\n",
            "ATOMUSDT Val R²: -0.0165 | Train R²: 0.0101\n",
            "BONKUSDT Val R²: -0.0338 | Train R²: 0.0105\n",
            "AAVEUSDT Val R²: 0.0010 | Train R²: 0.0049\n",
            "BCHUSDT Val R²: 0.0012 | Train R²: 0.0098\n",
            "ONDOUSDT Val R²: -0.0374 | Train R²: 0.0159\n",
            "✅ Best model saved.\n",
            "\n",
            "🔁 Epoch 2/50\n"
          ]
        },
        {
          "name": "stderr",
          "output_type": "stream",
          "text": [
            "Training:   0%|          | 1/1927 [00:00<28:48,  1.11it/s]"
          ]
        },
        {
          "name": "stdout",
          "output_type": "stream",
          "text": [
            "  Step 0/1927 - Batch Loss: 1.6133 - Avg Loss: 1.6133\n"
          ]
        },
        {
          "name": "stderr",
          "output_type": "stream",
          "text": [
            "Training:   5%|▌         | 101/1927 [01:31<27:33,  1.10it/s]"
          ]
        },
        {
          "name": "stdout",
          "output_type": "stream",
          "text": [
            "  Step 100/1927 - Batch Loss: 1.6331 - Avg Loss: 1.6764\n"
          ]
        },
        {
          "name": "stderr",
          "output_type": "stream",
          "text": [
            "Training:  10%|█         | 201/1927 [03:01<26:01,  1.11it/s]"
          ]
        },
        {
          "name": "stdout",
          "output_type": "stream",
          "text": [
            "  Step 200/1927 - Batch Loss: 1.6641 - Avg Loss: 1.6685\n"
          ]
        },
        {
          "name": "stderr",
          "output_type": "stream",
          "text": [
            "Training:  16%|█▌        | 301/1927 [04:32<24:51,  1.09it/s]"
          ]
        },
        {
          "name": "stdout",
          "output_type": "stream",
          "text": [
            "  Step 300/1927 - Batch Loss: 1.5978 - Avg Loss: 1.6628\n"
          ]
        },
        {
          "name": "stderr",
          "output_type": "stream",
          "text": [
            "Training:  21%|██        | 401/1927 [06:03<23:05,  1.10it/s]"
          ]
        },
        {
          "name": "stdout",
          "output_type": "stream",
          "text": [
            "  Step 400/1927 - Batch Loss: 1.7311 - Avg Loss: 1.6523\n"
          ]
        },
        {
          "name": "stderr",
          "output_type": "stream",
          "text": [
            "Training:  26%|██▌       | 501/1927 [07:34<21:28,  1.11it/s]"
          ]
        },
        {
          "name": "stdout",
          "output_type": "stream",
          "text": [
            "  Step 500/1927 - Batch Loss: 1.5720 - Avg Loss: 1.6497\n"
          ]
        },
        {
          "name": "stderr",
          "output_type": "stream",
          "text": [
            "Training:  31%|███       | 601/1927 [09:05<20:07,  1.10it/s]"
          ]
        },
        {
          "name": "stdout",
          "output_type": "stream",
          "text": [
            "  Step 600/1927 - Batch Loss: 1.5827 - Avg Loss: 1.6479\n"
          ]
        },
        {
          "name": "stderr",
          "output_type": "stream",
          "text": [
            "Training:  36%|███▋      | 701/1927 [10:35<18:27,  1.11it/s]"
          ]
        },
        {
          "name": "stdout",
          "output_type": "stream",
          "text": [
            "  Step 700/1927 - Batch Loss: 1.6246 - Avg Loss: 1.6468\n"
          ]
        },
        {
          "name": "stderr",
          "output_type": "stream",
          "text": [
            "Training:  42%|████▏     | 801/1927 [12:06<17:08,  1.10it/s]"
          ]
        },
        {
          "name": "stdout",
          "output_type": "stream",
          "text": [
            "  Step 800/1927 - Batch Loss: 1.4830 - Avg Loss: 1.6430\n"
          ]
        },
        {
          "name": "stderr",
          "output_type": "stream",
          "text": [
            "Training:  47%|████▋     | 901/1927 [13:37<15:34,  1.10it/s]"
          ]
        },
        {
          "name": "stdout",
          "output_type": "stream",
          "text": [
            "  Step 900/1927 - Batch Loss: 1.6330 - Avg Loss: 1.6385\n"
          ]
        },
        {
          "name": "stderr",
          "output_type": "stream",
          "text": [
            "Training:  52%|█████▏    | 1001/1927 [15:08<14:09,  1.09it/s]"
          ]
        },
        {
          "name": "stdout",
          "output_type": "stream",
          "text": [
            "  Step 1000/1927 - Batch Loss: 1.6405 - Avg Loss: 1.6340\n"
          ]
        },
        {
          "name": "stderr",
          "output_type": "stream",
          "text": [
            "Training:  57%|█████▋    | 1101/1927 [16:39<12:37,  1.09it/s]"
          ]
        },
        {
          "name": "stdout",
          "output_type": "stream",
          "text": [
            "  Step 1100/1927 - Batch Loss: 1.5810 - Avg Loss: 1.6320\n"
          ]
        },
        {
          "name": "stderr",
          "output_type": "stream",
          "text": [
            "Training:  62%|██████▏   | 1201/1927 [18:10<10:56,  1.11it/s]"
          ]
        },
        {
          "name": "stdout",
          "output_type": "stream",
          "text": [
            "  Step 1200/1927 - Batch Loss: 1.6650 - Avg Loss: 1.6299\n"
          ]
        },
        {
          "name": "stderr",
          "output_type": "stream",
          "text": [
            "Training:  68%|██████▊   | 1301/1927 [19:40<09:26,  1.10it/s]"
          ]
        },
        {
          "name": "stdout",
          "output_type": "stream",
          "text": [
            "  Step 1300/1927 - Batch Loss: 1.6804 - Avg Loss: 1.6267\n"
          ]
        },
        {
          "name": "stderr",
          "output_type": "stream",
          "text": [
            "Training:  73%|███████▎  | 1401/1927 [21:11<07:55,  1.11it/s]"
          ]
        },
        {
          "name": "stdout",
          "output_type": "stream",
          "text": [
            "  Step 1400/1927 - Batch Loss: 1.4495 - Avg Loss: 1.6229\n"
          ]
        },
        {
          "name": "stderr",
          "output_type": "stream",
          "text": [
            "Training:  78%|███████▊  | 1501/1927 [22:42<06:27,  1.10it/s]"
          ]
        },
        {
          "name": "stdout",
          "output_type": "stream",
          "text": [
            "  Step 1500/1927 - Batch Loss: 1.6070 - Avg Loss: 1.6191\n"
          ]
        },
        {
          "name": "stderr",
          "output_type": "stream",
          "text": [
            "Training:  83%|████████▎ | 1601/1927 [24:13<04:53,  1.11it/s]"
          ]
        },
        {
          "name": "stdout",
          "output_type": "stream",
          "text": [
            "  Step 1600/1927 - Batch Loss: 1.4880 - Avg Loss: 1.6144\n"
          ]
        },
        {
          "name": "stderr",
          "output_type": "stream",
          "text": [
            "Training:  88%|████████▊ | 1701/1927 [25:43<03:23,  1.11it/s]"
          ]
        },
        {
          "name": "stdout",
          "output_type": "stream",
          "text": [
            "  Step 1700/1927 - Batch Loss: 1.5813 - Avg Loss: 1.6091\n"
          ]
        },
        {
          "name": "stderr",
          "output_type": "stream",
          "text": [
            "Training:  93%|█████████▎| 1801/1927 [27:14<01:55,  1.09it/s]"
          ]
        },
        {
          "name": "stdout",
          "output_type": "stream",
          "text": [
            "  Step 1800/1927 - Batch Loss: 1.4689 - Avg Loss: 1.6047\n"
          ]
        },
        {
          "name": "stderr",
          "output_type": "stream",
          "text": [
            "Training:  99%|█████████▊| 1901/1927 [28:45<00:23,  1.10it/s]"
          ]
        },
        {
          "name": "stdout",
          "output_type": "stream",
          "text": [
            "  Step 1900/1927 - Batch Loss: 1.2882 - Avg Loss: 1.5999\n"
          ]
        },
        {
          "name": "stderr",
          "output_type": "stream",
          "text": [
            "Training: 100%|██████████| 1927/1927 [29:08<00:00,  1.10it/s]\n",
            "Validating: 100%|██████████| 1927/1927 [27:49<00:00,  1.15it/s]\n",
            "Validating: 100%|██████████| 265/265 [00:38<00:00,  6.88it/s]\n"
          ]
        },
        {
          "name": "stdout",
          "output_type": "stream",
          "text": [
            "📊 Epoch 2 Summary:\n",
            "  Train Loss: 1.5988\n",
            "  Val Loss: 2.3335\n",
            "BTCUSDT Val R²: -0.3421 | Train R²: 0.2244\n",
            "ETHUSDT Val R²: -0.4122 | Train R²: 0.2606\n",
            "XRPUSDT Val R²: -0.3901 | Train R²: 0.2116\n",
            "SOLUSDT Val R²: -0.7095 | Train R²: 0.1750\n",
            "DOGEUSDT Val R²: -0.5548 | Train R²: 0.2710\n",
            "ADAUSDT Val R²: -0.5262 | Train R²: 0.1082\n",
            "TRUMPUSDT Val R²: -0.3396 | Train R²: 0.1283\n",
            "SHIBUSDT Val R²: -0.4797 | Train R²: 0.2813\n",
            "BNBUSDT Val R²: -0.4415 | Train R²: 0.2216\n",
            "USDCUSDT Val R²: -0.0624 | Train R²: 0.2053\n",
            "PEPEUSDT Val R²: -0.6170 | Train R²: 0.2435\n",
            "LINKUSDT Val R²: -0.5832 | Train R²: 0.2509\n",
            "AVAXUSDT Val R²: -0.8241 | Train R²: 0.2533\n",
            "SUIUSDT Val R²: -0.3504 | Train R²: 0.2260\n",
            "XLMUSDT Val R²: -0.2218 | Train R²: 0.2525\n",
            "LTCUSDT Val R²: -0.3936 | Train R²: 0.2404\n",
            "HBARUSDT Val R²: -0.2875 | Train R²: 0.2025\n",
            "PENGUUSDT Val R²: -0.1323 | Train R²: 0.1284\n",
            "DOTUSDT Val R²: -0.4838 | Train R²: 0.1972\n",
            "UNIUSDT Val R²: -0.3922 | Train R²: 0.2045\n",
            "OPUSDT Val R²: -0.4354 | Train R²: 0.2478\n",
            "TRXUSDT Val R²: -0.1737 | Train R²: 0.1121\n",
            "ARBUSDT Val R²: -0.3497 | Train R²: 0.2276\n",
            "APTUSDT Val R²: -0.3112 | Train R²: 0.1870\n",
            "TONUSDT Val R²: -0.1530 | Train R²: 0.1014\n",
            "ATOMUSDT Val R²: -0.4416 | Train R²: 0.2596\n",
            "BONKUSDT Val R²: -0.2330 | Train R²: 0.2474\n",
            "AAVEUSDT Val R²: -0.3095 | Train R²: 0.1719\n",
            "BCHUSDT Val R²: -0.1807 | Train R²: 0.1330\n",
            "ONDOUSDT Val R²: -0.6596 | Train R²: 0.2438\n",
            "⏳ Early stopping patience: 1/5\n",
            "\n",
            "🔁 Epoch 3/50\n"
          ]
        },
        {
          "name": "stderr",
          "output_type": "stream",
          "text": [
            "Training:   0%|          | 1/1927 [00:00<29:40,  1.08it/s]"
          ]
        },
        {
          "name": "stdout",
          "output_type": "stream",
          "text": [
            "  Step 0/1927 - Batch Loss: 1.5082 - Avg Loss: 1.5082\n"
          ]
        },
        {
          "name": "stderr",
          "output_type": "stream",
          "text": [
            "Training:   5%|▌         | 101/1927 [01:31<27:44,  1.10it/s]"
          ]
        },
        {
          "name": "stdout",
          "output_type": "stream",
          "text": [
            "  Step 100/1927 - Batch Loss: 1.5628 - Avg Loss: 1.4945\n"
          ]
        },
        {
          "name": "stderr",
          "output_type": "stream",
          "text": [
            "Training:   5%|▌         | 103/1927 [01:33<27:43,  1.10it/s]\n"
          ]
        },
        {
          "ename": "KeyboardInterrupt",
          "evalue": "",
          "output_type": "error",
          "traceback": [
            "\u001b[0;31m---------------------------------------------------------------------------\u001b[0m",
            "\u001b[0;31mKeyboardInterrupt\u001b[0m                         Traceback (most recent call last)",
            "\u001b[0;32m/tmp/ipython-input-2627341494.py\u001b[0m in \u001b[0;36m<cell line: 0>\u001b[0;34m()\u001b[0m\n\u001b[1;32m     37\u001b[0m \u001b[0;34m\u001b[0m\u001b[0m\n\u001b[1;32m     38\u001b[0m     \u001b[0mprint\u001b[0m\u001b[0;34m(\u001b[0m\u001b[0;34mf\"\\n🔁 Epoch {epoch}/{num_epochs}\"\u001b[0m\u001b[0;34m)\u001b[0m\u001b[0;34m\u001b[0m\u001b[0;34m\u001b[0m\u001b[0m\n\u001b[0;32m---> 39\u001b[0;31m     \u001b[0;32mfor\u001b[0m \u001b[0mstep\u001b[0m\u001b[0;34m,\u001b[0m \u001b[0mbatch\u001b[0m \u001b[0;32min\u001b[0m \u001b[0menumerate\u001b[0m\u001b[0;34m(\u001b[0m\u001b[0mtqdm\u001b[0m\u001b[0;34m(\u001b[0m\u001b[0mtrain_loader\u001b[0m\u001b[0;34m,\u001b[0m \u001b[0mdesc\u001b[0m\u001b[0;34m=\u001b[0m\u001b[0;34m\"Training\"\u001b[0m\u001b[0;34m)\u001b[0m\u001b[0;34m)\u001b[0m\u001b[0;34m:\u001b[0m\u001b[0;34m\u001b[0m\u001b[0;34m\u001b[0m\u001b[0m\n\u001b[0m\u001b[1;32m     40\u001b[0m         \u001b[0mts_input\u001b[0m \u001b[0;34m=\u001b[0m \u001b[0mbatch\u001b[0m\u001b[0;34m[\u001b[0m\u001b[0;34m'timeseries'\u001b[0m\u001b[0;34m]\u001b[0m\u001b[0;34m.\u001b[0m\u001b[0mcuda\u001b[0m\u001b[0;34m(\u001b[0m\u001b[0;34m)\u001b[0m\u001b[0;34m\u001b[0m\u001b[0;34m\u001b[0m\u001b[0m\n\u001b[1;32m     41\u001b[0m         \u001b[0mnews_input\u001b[0m \u001b[0;34m=\u001b[0m \u001b[0mbatch\u001b[0m\u001b[0;34m[\u001b[0m\u001b[0;34m'news'\u001b[0m\u001b[0;34m]\u001b[0m\u001b[0;34m.\u001b[0m\u001b[0mcuda\u001b[0m\u001b[0;34m(\u001b[0m\u001b[0;34m)\u001b[0m\u001b[0;34m\u001b[0m\u001b[0;34m\u001b[0m\u001b[0m\n",
            "\u001b[0;32m/usr/local/lib/python3.12/dist-packages/tqdm/std.py\u001b[0m in \u001b[0;36m__iter__\u001b[0;34m(self)\u001b[0m\n\u001b[1;32m   1179\u001b[0m \u001b[0;34m\u001b[0m\u001b[0m\n\u001b[1;32m   1180\u001b[0m         \u001b[0;32mtry\u001b[0m\u001b[0;34m:\u001b[0m\u001b[0;34m\u001b[0m\u001b[0;34m\u001b[0m\u001b[0m\n\u001b[0;32m-> 1181\u001b[0;31m             \u001b[0;32mfor\u001b[0m \u001b[0mobj\u001b[0m \u001b[0;32min\u001b[0m \u001b[0miterable\u001b[0m\u001b[0;34m:\u001b[0m\u001b[0;34m\u001b[0m\u001b[0;34m\u001b[0m\u001b[0m\n\u001b[0m\u001b[1;32m   1182\u001b[0m                 \u001b[0;32myield\u001b[0m \u001b[0mobj\u001b[0m\u001b[0;34m\u001b[0m\u001b[0;34m\u001b[0m\u001b[0m\n\u001b[1;32m   1183\u001b[0m                 \u001b[0;31m# Update and possibly print the progressbar.\u001b[0m\u001b[0;34m\u001b[0m\u001b[0;34m\u001b[0m\u001b[0m\n",
            "\u001b[0;32m/usr/local/lib/python3.12/dist-packages/torch/utils/data/dataloader.py\u001b[0m in \u001b[0;36m__next__\u001b[0;34m(self)\u001b[0m\n\u001b[1;32m    732\u001b[0m                 \u001b[0;31m# TODO(https://github.com/pytorch/pytorch/issues/76750)\u001b[0m\u001b[0;34m\u001b[0m\u001b[0;34m\u001b[0m\u001b[0m\n\u001b[1;32m    733\u001b[0m                 \u001b[0mself\u001b[0m\u001b[0;34m.\u001b[0m\u001b[0m_reset\u001b[0m\u001b[0;34m(\u001b[0m\u001b[0;34m)\u001b[0m  \u001b[0;31m# type: ignore[call-arg]\u001b[0m\u001b[0;34m\u001b[0m\u001b[0;34m\u001b[0m\u001b[0m\n\u001b[0;32m--> 734\u001b[0;31m             \u001b[0mdata\u001b[0m \u001b[0;34m=\u001b[0m \u001b[0mself\u001b[0m\u001b[0;34m.\u001b[0m\u001b[0m_next_data\u001b[0m\u001b[0;34m(\u001b[0m\u001b[0;34m)\u001b[0m\u001b[0;34m\u001b[0m\u001b[0;34m\u001b[0m\u001b[0m\n\u001b[0m\u001b[1;32m    735\u001b[0m             \u001b[0mself\u001b[0m\u001b[0;34m.\u001b[0m\u001b[0m_num_yielded\u001b[0m \u001b[0;34m+=\u001b[0m \u001b[0;36m1\u001b[0m\u001b[0;34m\u001b[0m\u001b[0;34m\u001b[0m\u001b[0m\n\u001b[1;32m    736\u001b[0m             if (\n",
            "\u001b[0;32m/usr/local/lib/python3.12/dist-packages/torch/utils/data/dataloader.py\u001b[0m in \u001b[0;36m_next_data\u001b[0;34m(self)\u001b[0m\n\u001b[1;32m    788\u001b[0m     \u001b[0;32mdef\u001b[0m \u001b[0m_next_data\u001b[0m\u001b[0;34m(\u001b[0m\u001b[0mself\u001b[0m\u001b[0;34m)\u001b[0m\u001b[0;34m:\u001b[0m\u001b[0;34m\u001b[0m\u001b[0;34m\u001b[0m\u001b[0m\n\u001b[1;32m    789\u001b[0m         \u001b[0mindex\u001b[0m \u001b[0;34m=\u001b[0m \u001b[0mself\u001b[0m\u001b[0;34m.\u001b[0m\u001b[0m_next_index\u001b[0m\u001b[0;34m(\u001b[0m\u001b[0;34m)\u001b[0m  \u001b[0;31m# may raise StopIteration\u001b[0m\u001b[0;34m\u001b[0m\u001b[0;34m\u001b[0m\u001b[0m\n\u001b[0;32m--> 790\u001b[0;31m         \u001b[0mdata\u001b[0m \u001b[0;34m=\u001b[0m \u001b[0mself\u001b[0m\u001b[0;34m.\u001b[0m\u001b[0m_dataset_fetcher\u001b[0m\u001b[0;34m.\u001b[0m\u001b[0mfetch\u001b[0m\u001b[0;34m(\u001b[0m\u001b[0mindex\u001b[0m\u001b[0;34m)\u001b[0m  \u001b[0;31m# may raise StopIteration\u001b[0m\u001b[0;34m\u001b[0m\u001b[0;34m\u001b[0m\u001b[0m\n\u001b[0m\u001b[1;32m    791\u001b[0m         \u001b[0;32mif\u001b[0m \u001b[0mself\u001b[0m\u001b[0;34m.\u001b[0m\u001b[0m_pin_memory\u001b[0m\u001b[0;34m:\u001b[0m\u001b[0;34m\u001b[0m\u001b[0;34m\u001b[0m\u001b[0m\n\u001b[1;32m    792\u001b[0m             \u001b[0mdata\u001b[0m \u001b[0;34m=\u001b[0m \u001b[0m_utils\u001b[0m\u001b[0;34m.\u001b[0m\u001b[0mpin_memory\u001b[0m\u001b[0;34m.\u001b[0m\u001b[0mpin_memory\u001b[0m\u001b[0;34m(\u001b[0m\u001b[0mdata\u001b[0m\u001b[0;34m,\u001b[0m \u001b[0mself\u001b[0m\u001b[0;34m.\u001b[0m\u001b[0m_pin_memory_device\u001b[0m\u001b[0;34m)\u001b[0m\u001b[0;34m\u001b[0m\u001b[0;34m\u001b[0m\u001b[0m\n",
            "\u001b[0;32m/usr/local/lib/python3.12/dist-packages/torch/utils/data/_utils/fetch.py\u001b[0m in \u001b[0;36mfetch\u001b[0;34m(self, possibly_batched_index)\u001b[0m\n\u001b[1;32m     50\u001b[0m                 \u001b[0mdata\u001b[0m \u001b[0;34m=\u001b[0m \u001b[0mself\u001b[0m\u001b[0;34m.\u001b[0m\u001b[0mdataset\u001b[0m\u001b[0;34m.\u001b[0m\u001b[0m__getitems__\u001b[0m\u001b[0;34m(\u001b[0m\u001b[0mpossibly_batched_index\u001b[0m\u001b[0;34m)\u001b[0m\u001b[0;34m\u001b[0m\u001b[0;34m\u001b[0m\u001b[0m\n\u001b[1;32m     51\u001b[0m             \u001b[0;32melse\u001b[0m\u001b[0;34m:\u001b[0m\u001b[0;34m\u001b[0m\u001b[0;34m\u001b[0m\u001b[0m\n\u001b[0;32m---> 52\u001b[0;31m                 \u001b[0mdata\u001b[0m \u001b[0;34m=\u001b[0m \u001b[0;34m[\u001b[0m\u001b[0mself\u001b[0m\u001b[0;34m.\u001b[0m\u001b[0mdataset\u001b[0m\u001b[0;34m[\u001b[0m\u001b[0midx\u001b[0m\u001b[0;34m]\u001b[0m \u001b[0;32mfor\u001b[0m \u001b[0midx\u001b[0m \u001b[0;32min\u001b[0m \u001b[0mpossibly_batched_index\u001b[0m\u001b[0;34m]\u001b[0m\u001b[0;34m\u001b[0m\u001b[0;34m\u001b[0m\u001b[0m\n\u001b[0m\u001b[1;32m     53\u001b[0m         \u001b[0;32melse\u001b[0m\u001b[0;34m:\u001b[0m\u001b[0;34m\u001b[0m\u001b[0;34m\u001b[0m\u001b[0m\n\u001b[1;32m     54\u001b[0m             \u001b[0mdata\u001b[0m \u001b[0;34m=\u001b[0m \u001b[0mself\u001b[0m\u001b[0;34m.\u001b[0m\u001b[0mdataset\u001b[0m\u001b[0;34m[\u001b[0m\u001b[0mpossibly_batched_index\u001b[0m\u001b[0;34m]\u001b[0m\u001b[0;34m\u001b[0m\u001b[0;34m\u001b[0m\u001b[0m\n",
            "\u001b[0;32m/tmp/ipython-input-2969887530.py\u001b[0m in \u001b[0;36m__getitem__\u001b[0;34m(self, idx)\u001b[0m\n\u001b[1;32m     24\u001b[0m         return {\n\u001b[1;32m     25\u001b[0m             \u001b[0;34m'timeseries'\u001b[0m\u001b[0;34m:\u001b[0m \u001b[0mtorch\u001b[0m\u001b[0;34m.\u001b[0m\u001b[0mtensor\u001b[0m\u001b[0;34m(\u001b[0m\u001b[0mts_window\u001b[0m\u001b[0;34m)\u001b[0m\u001b[0;34m,\u001b[0m     \u001b[0;31m# [30, 114]\u001b[0m\u001b[0;34m\u001b[0m\u001b[0;34m\u001b[0m\u001b[0m\n\u001b[0;32m---> 26\u001b[0;31m             \u001b[0;34m'news'\u001b[0m\u001b[0;34m:\u001b[0m \u001b[0mtorch\u001b[0m\u001b[0;34m.\u001b[0m\u001b[0mtensor\u001b[0m\u001b[0;34m(\u001b[0m\u001b[0mnews_window\u001b[0m\u001b[0;34m)\u001b[0m\u001b[0;34m,\u001b[0m         \u001b[0;31m# [30, 768]\u001b[0m\u001b[0;34m\u001b[0m\u001b[0;34m\u001b[0m\u001b[0m\n\u001b[0m\u001b[1;32m     27\u001b[0m             \u001b[0;34m'target'\u001b[0m\u001b[0;34m:\u001b[0m \u001b[0mtorch\u001b[0m\u001b[0;34m.\u001b[0m\u001b[0mtensor\u001b[0m\u001b[0;34m(\u001b[0m\u001b[0mtarget\u001b[0m\u001b[0;34m)\u001b[0m\u001b[0;34m,\u001b[0m\u001b[0;34m\u001b[0m\u001b[0;34m\u001b[0m\u001b[0m\n\u001b[1;32m     28\u001b[0m             \u001b[0;34m'news_count'\u001b[0m\u001b[0;34m:\u001b[0m\u001b[0mtorch\u001b[0m\u001b[0;34m.\u001b[0m\u001b[0mtensor\u001b[0m\u001b[0;34m(\u001b[0m\u001b[0mnc_window\u001b[0m\u001b[0;34m)\u001b[0m\u001b[0;31m# [19]\u001b[0m\u001b[0;34m\u001b[0m\u001b[0;34m\u001b[0m\u001b[0m\n",
            "\u001b[0;31mKeyboardInterrupt\u001b[0m: "
          ]
        }
      ],
      "source": [
        "from sklearn.metrics import r2_score\n",
        "from tqdm import tqdm\n",
        "import torch\n",
        "import numpy as np\n",
        "import os\n",
        "\n",
        "def compute_r2_per_stock(y_true, y_pred):\n",
        "    r2s = []\n",
        "    for i in range(y_true.shape[1]):\n",
        "        r2s.append(r2_score(y_true[:, i], y_pred[:, i]))\n",
        "    return r2s\n",
        "\n",
        "num_epochs=50\n",
        "patience=5\n",
        "save_path='/content/drive/MyDrive/portfolio_novo/model_5of20_v1_30min_ls.pth'\n",
        "device='cuda'\n",
        "# top_k = 10\n",
        "\n",
        "best_val_loss = float('inf')\n",
        "patience_counter = 0\n",
        "\n",
        "model = MarketNewsFusionModel(ts_input_dim=len(selected_f_all),\n",
        " hidden_dim=64,\n",
        " num_stocks=len(list_crypto),\n",
        " max_len=my_seq_len,\n",
        " d_model=64, nhead=4, num_layers=2).cuda()\n",
        "\n",
        "optimizer = torch.optim.Adam(model.parameters(), lr=1e-4)\n",
        "loss_fn = nn.MSELoss()\n",
        "\n",
        "model.to(device)\n",
        "\n",
        "for epoch in range(1, num_epochs + 1):\n",
        "    model.train()\n",
        "    total_train_loss = 0\n",
        "\n",
        "\n",
        "    print(f\"\\n🔁 Epoch {epoch}/{num_epochs}\")\n",
        "    for step, batch in enumerate(tqdm(train_loader, desc=\"Training\")):\n",
        "        ts_input = batch['timeseries'].cuda()\n",
        "        news_input = batch['news'].cuda()\n",
        "        target = batch['target'].cuda()\n",
        "        news_count = batch['news_count'].cuda()\n",
        "        time_mask = 1 #batch['time_mask'].to(device)\n",
        "        mu, sigma = model(ts_input, news_count,news_input, time_mask)  # [B, 19]\n",
        "        loss = gaussian_nll_loss(mu, sigma, target)\n",
        "        optimizer.zero_grad()\n",
        "        loss.backward()\n",
        "        optimizer.step()\n",
        "        total_train_loss += loss.item()\n",
        "        # Step-wise print every 100 steps\n",
        "        if step % 100 == 0:\n",
        "            avg_loss = total_train_loss / (step + 1)\n",
        "            print(f\"  Step {step}/{len(train_loader)} - Batch Loss: {loss.item():.4f} - Avg Loss: {avg_loss:.4f}\")\n",
        "\n",
        "    # train_preds = np.array(all_preds)\n",
        "    # train_targets = np.array(all_targets)\n",
        "\n",
        "\n",
        "    model.eval()\n",
        "    total_val_loss = 0\n",
        "    train_targets, train_preds = [], []\n",
        "    with torch.no_grad():\n",
        "        for batch in tqdm(train_loader, desc=\"Validating\"):\n",
        "            ts_input = batch['timeseries'].cuda()\n",
        "            news_input = batch['news'].cuda()\n",
        "            target = batch['target'].cuda()\n",
        "            news_count = batch['news_count'].cuda()\n",
        "            time_mask = 1 #batch['time_mask'].to(device)\n",
        "\n",
        "            output = model(ts_input, news_count,news_input, time_mask)\n",
        "            mu, sigma = model(ts_input, news_count,news_input, time_mask)  # [B, 19]\n",
        "            loss = gaussian_nll_loss(mu, sigma, target)\n",
        "            total_val_loss += loss.item()\n",
        "            train_preds.append(mu.cpu().numpy())\n",
        "            train_targets.append(target.cpu().numpy())\n",
        "\n",
        "    train_preds = np.vstack(train_preds)\n",
        "    train_targets = np.vstack(train_targets)\n",
        "\n",
        "    # Validation phase\n",
        "    model.eval()\n",
        "    total_val_loss = 0\n",
        "    all_preds, all_targets = [], []\n",
        "    all_return, all_sharp = [], []\n",
        "\n",
        "    with torch.no_grad():\n",
        "        for batch in tqdm(val_loader, desc=\"Validating\"):\n",
        "            ts_input = batch['timeseries'].cuda()\n",
        "            news_input = batch['news'].cuda()\n",
        "            target = batch['target'].cuda()\n",
        "            news_count = batch['news_count'].cuda()\n",
        "            time_mask = 1 #batch['time_mask'].to(device)\n",
        "\n",
        "            output = model(ts_input, news_count,news_input, time_mask)\n",
        "            mu, sigma = model(ts_input, news_count,news_input, time_mask)  # [B, 19]\n",
        "            loss = gaussian_nll_loss(mu, sigma, target)\n",
        "            total_val_loss += loss.item()\n",
        "            all_preds.append(mu.cpu().numpy())\n",
        "            all_targets.append(target.cpu().numpy())\n",
        "            # all_return.extend(L.cpu().numpy())\n",
        "\n",
        "    avg_train_loss = total_train_loss / len(train_loader)\n",
        "    avg_val_loss = total_val_loss / len(val_loader)\n",
        "\n",
        "    # y_pred = np.concatenate(all_preds, axis=0)\n",
        "    # y_true = np.concatenate(all_targets, axis=0)\n",
        "    # r2_scores = compute_r2_per_stock(y_true, y_pred)\n",
        "\n",
        "    print(f\"📊 Epoch {epoch} Summary:\")\n",
        "    print(f\"  Train Loss: {avg_train_loss:.4f}\")\n",
        "    print(f\"  Val Loss: {avg_val_loss:.4f}\")\n",
        "\n",
        "\n",
        "    val_preds = np.vstack(all_preds)\n",
        "    val_targets = np.vstack(all_targets)\n",
        "    for i in range(len(list_crypto)):\n",
        "        r2 = r2_score(val_targets[:,i], val_preds[:,i])\n",
        "        r2_train = r2_score(train_targets[:,i], train_preds[:,i])\n",
        "        print(f\"{list_crypto[i]} Val R²: {r2:.4f} | Train R²: {r2_train:.4f}\")\n",
        "\n",
        "    # df_portfolio = func_generate_portfolio(all_preds, data_portfo=data_val, seq_len=my_seq_len)\n",
        "    # if epoch % 5 == 0:\n",
        "    #     np.save(f\"y_pred_epoch_{epoch}.npy\", y_pred)\n",
        "    #     np.save(f\"y_true_epoch_{epoch}.npy\", y_true)\n",
        "\n",
        "    if avg_val_loss < best_val_loss:\n",
        "        best_val_loss = avg_val_loss\n",
        "        patience_counter = 0\n",
        "        torch.save(model.state_dict(), save_path)\n",
        "        print(\"✅ Best model saved.\")\n",
        "    else:\n",
        "        patience_counter += 1\n",
        "        print(f\"⏳ Early stopping patience: {patience_counter}/{patience}\")\n",
        "\n",
        "    if patience_counter >= patience:\n",
        "        print(\"⛔ Early stopping triggered.\")\n",
        "        break\n"
      ]
    },
    {
      "cell_type": "markdown",
      "metadata": {},
      "source": [
        "Load best model and test on Test Data"
      ]
    },
    {
      "cell_type": "code",
      "execution_count": 84,
      "metadata": {
        "colab": {
          "base_uri": "https://localhost:8080/"
        },
        "id": "AuOA7a3VQaxg",
        "outputId": "392abeff-e8fd-498e-ce32-ea077aa3bcd6"
      },
      "outputs": [
        {
          "data": {
            "text/plain": [
              "<All keys matched successfully>"
            ]
          },
          "execution_count": 84,
          "metadata": {},
          "output_type": "execute_result"
        }
      ],
      "source": [
        "save_path='/content/drive/MyDrive/portfolio_novo/model_5of20_v1_30min_ls.pth'\n",
        "\n",
        "device='cuda'\n",
        "\n",
        "model = MarketNewsFusionModel(ts_input_dim=len(selected_f_all),\n",
        " hidden_dim=64,\n",
        " num_stocks=len(list_crypto),\n",
        " max_len=my_seq_len,\n",
        " d_model=64, nhead=4, num_layers=2).cuda()\n",
        "\n",
        "model.load_state_dict(torch.load(save_path, map_location=device))"
      ]
    },
    {
      "cell_type": "code",
      "execution_count": 87,
      "metadata": {
        "colab": {
          "base_uri": "https://localhost:8080/"
        },
        "id": "9JnGiK6KKoUa",
        "outputId": "3ea62a8b-6f79-47b2-e442-563361f73471"
      },
      "outputs": [
        {
          "name": "stderr",
          "output_type": "stream",
          "text": [
            "Validating: 100%|██████████| 292/292 [00:45<00:00,  6.47it/s]"
          ]
        },
        {
          "name": "stdout",
          "output_type": "stream",
          "text": [
            "  Val Loss: 2.0865\n",
            "BTCUSDT Val R²: -0.0209\n",
            "ETHUSDT Val R²: -0.0204\n",
            "XRPUSDT Val R²: 0.0106\n",
            "SOLUSDT Val R²: -0.0088\n",
            "DOGEUSDT Val R²: -0.0018\n",
            "ADAUSDT Val R²: 0.0019\n",
            "TRUMPUSDT Val R²: 0.0043\n",
            "SHIBUSDT Val R²: 0.0110\n",
            "BNBUSDT Val R²: 0.0073\n",
            "USDCUSDT Val R²: -0.1372\n",
            "PEPEUSDT Val R²: 0.0087\n",
            "LINKUSDT Val R²: -0.0240\n",
            "AVAXUSDT Val R²: -0.0008\n",
            "SUIUSDT Val R²: 0.0130\n",
            "XLMUSDT Val R²: -0.0049\n",
            "LTCUSDT Val R²: -0.0281\n",
            "HBARUSDT Val R²: 0.0031\n",
            "PENGUUSDT Val R²: 0.0086\n",
            "DOTUSDT Val R²: -0.0077\n",
            "UNIUSDT Val R²: -0.0156\n",
            "OPUSDT Val R²: 0.0062\n",
            "TRXUSDT Val R²: -0.0111\n",
            "ARBUSDT Val R²: 0.0053\n",
            "APTUSDT Val R²: 0.0040\n",
            "TONUSDT Val R²: -0.0020\n",
            "ATOMUSDT Val R²: 0.0102\n",
            "BONKUSDT Val R²: -0.0008\n",
            "AAVEUSDT Val R²: 0.0057\n",
            "BCHUSDT Val R²: -0.0008\n",
            "ONDOUSDT Val R²: 0.0208\n"
          ]
        },
        {
          "name": "stderr",
          "output_type": "stream",
          "text": [
            "\n"
          ]
        }
      ],
      "source": [
        "from sklearn.metrics import r2_score\n",
        "\n",
        "# Validation phase\n",
        "model.eval()\n",
        "total_val_loss = 0\n",
        "all_preds, all_targets = [], []\n",
        "all_sigma, all_sharp = [], []\n",
        "\n",
        "with torch.no_grad():\n",
        "    for batch in tqdm(test_loader, desc=\"Validating\"):\n",
        "        ts_input = batch['timeseries'].cuda()\n",
        "        news_input = batch['news'].cuda()\n",
        "        target = batch['target'].cuda()\n",
        "        news_count = batch['news_count'].cuda()\n",
        "        time_mask = 1 #batch['time_mask'].to(device)\n",
        "\n",
        "        output = model(ts_input, news_count,news_input, time_mask)\n",
        "        mu, sigma = model(ts_input, news_count,news_input, time_mask)  # [B, 19]\n",
        "        loss = gaussian_nll_loss(mu, sigma, target)\n",
        "        total_val_loss += loss.item()\n",
        "        all_preds.append(mu.cpu().numpy())\n",
        "        all_targets.append(target.cpu().numpy())\n",
        "        all_sigma.extend(sigma.cpu().numpy())\n",
        "\n",
        "avg_val_loss = total_val_loss / len(val_loader)\n",
        "\n",
        "print(f\"  Val Loss: {avg_val_loss:.4f}\")\n",
        "\n",
        "val_preds = np.vstack(all_preds)\n",
        "val_targets = np.vstack(all_targets)\n",
        "for i in range(len(list_crypto)):\n",
        "    r2 = r2_score(val_targets[:,i], val_preds[:,i])\n",
        "    print(f\"{list_crypto[i]} Val R²: {r2:.4f}\")"
      ]
    },
    {
      "cell_type": "markdown",
      "metadata": {},
      "source": [
        "Generating Volatility"
      ]
    },
    {
      "cell_type": "code",
      "execution_count": 101,
      "metadata": {
        "colab": {
          "base_uri": "https://localhost:8080/",
          "height": 296
        },
        "id": "6-KeluLYoLfV",
        "outputId": "6dd2d3c3-46be-4924-e246-3df36f6aa533"
      },
      "outputs": [
        {
          "data": {
            "image/png": "[encoded data removed]",
            "text/plain": [
              "<Figure size 1200x400 with 1 Axes>"
            ]
          },
          "metadata": {},
          "output_type": "display_data"
        }
      ],
      "source": [
        "import numpy as np\n",
        "import matplotlib.pyplot as plt\n",
        "\n",
        "sigma_all = np.array(all_sigma).copy()\n",
        "means = np.vstack(all_preds).copy()     # [T, S] (optional)\n",
        "targets = np.vstack(all_targets).copy()  # [T, S] (optional)\n",
        "predicted_vol = np.sqrt(all_sigma)\n",
        "predicted_return = means.copy()\n",
        "\n",
        "T, S = sigma_all.shape\n",
        "\n",
        "asset_names = list_crypto.copy()\n",
        "\n",
        "plt.figure(figsize=(12, 4))\n",
        "idx = np.arange(S)\n",
        "plt.bar(idx, predicted_vol.mean(axis=0) )\n",
        "plt.xticks(idx, asset_names, rotation=90)\n",
        "plt.ylabel(\"Volatility (std dev)\")\n",
        "plt.title(\"Per-Asset Volatility (time-averaged)\")\n",
        "plt.tight_layout()\n",
        "plt.show()\n"
      ]
    },
    {
      "cell_type": "code",
      "execution_count": 100,
      "metadata": {
        "colab": {
          "base_uri": "https://localhost:8080/",
          "height": 472
        },
        "id": "ZMdpHt4sVg3y",
        "outputId": "a36c3331-8fc6-4efd-e325-734e0a3c74ec"
      },
      "outputs": [
        {
          "data": {
            "image/png": "[encoded data removed]",
            "text/plain": [
              "<Figure size 640x480 with 1 Axes>"
            ]
          },
          "metadata": {},
          "output_type": "display_data"
        }
      ],
      "source": [
        "import matplotlib.pyplot as plt\n",
        "\n",
        "plt.hist(means[:, 2], bins=50)\n",
        "plt.xlabel('Mean Value')\n",
        "plt.ylabel('Frequency')\n",
        "plt.title('Histogram of Mean Predictions for the First Asset')\n",
        "plt.show()\n"
      ]
    },
    {
      "cell_type": "markdown",
      "metadata": {},
      "source": [
        "Creating Predicted Volatility and Predicted mean"
      ]
    },
    {
      "cell_type": "code",
      "execution_count": 102,
      "metadata": {
        "id": "A9WfXf9xpLSy"
      },
      "outputs": [],
      "source": [
        "sigma_all = np.array(all_sigma).copy()\n",
        "means = np.vstack(all_preds).copy()     # [T, S] (optional)\n",
        "targets = np.vstack(all_targets).copy()  # [T, S] (optional)\n",
        "predicted_vol = np.sqrt(all_sigma)\n",
        "predicted_return = means.copy()"
      ]
    },
    {
      "cell_type": "markdown",
      "metadata": {},
      "source": [
        "Optimizer Functions"
      ]
    },
    {
      "cell_type": "code",
      "execution_count": 104,
      "metadata": {
        "id": "jqzi09Q5jOCo"
      },
      "outputs": [],
      "source": [
        "import numpy as np\n",
        "import cvxpy as cp\n",
        "from random import sample\n",
        "\n",
        "def build_cov_matrix(std, corr):\n",
        "    \"\"\"Cov_ij = corr_ij * std_i * std_j\"\"\"\n",
        "    return np.outer(std, std) * corr\n",
        "\n",
        "def _solve_mvo_l1(mu, cov, gamma):\n",
        "    \"\"\"\n",
        "    Maximize mu^T x - 0.5 * gamma * x^T cov x\n",
        "    s.t. x = x+ - x-, x+>=0, x->=0, sum(x+ + x-) = 1   (=> ||x||_1 = 1)\n",
        "    \"\"\"\n",
        "    n = len(mu)\n",
        "    x_pos = cp.Variable(n, nonneg=True)\n",
        "    x_neg = cp.Variable(n, nonneg=True)\n",
        "    x = x_pos - x_neg\n",
        "\n",
        "    obj = cp.Maximize(mu @ x - 0.5 * gamma * cp.quad_form(x, cov))\n",
        "    cons = [cp.sum(x_pos + x_neg) == 1]  # exact L1 = 1\n",
        "    prob = cp.Problem(obj, cons)\n",
        "    prob.solve(solver=cp.SCS)\n",
        "    return x.value\n",
        "\n",
        "def optimize_mvo(stats, gamma=3.0):\n",
        "    mu, std, corr = stats['mean'], stats['std'], stats['corr']\n",
        "    cov = build_cov_matrix(std, corr)\n",
        "    return _solve_mvo_l1(mu, cov, gamma)\n",
        "\n",
        "def optimize_method1(stats, gamma=3.0, theta=0.90):\n",
        "    \"\"\"\n",
        "    1) Solve MVO under L1=1 to get eps (utility)\n",
        "    2) Minimize ||x||_2^2 subject to utility >= theta * eps and L1=1 (via x = x+-x-)\n",
        "    \"\"\"\n",
        "    mu, std, corr = stats['mean'], stats['std'], stats['corr']\n",
        "    cov = build_cov_matrix(std, corr)\n",
        "    n = len(mu)\n",
        "\n",
        "    # --- Stage 1: baseline utility eps under L1=1\n",
        "    w0 = _solve_mvo_l1(mu, cov, gamma)\n",
        "    eps = float(mu @ w0 - 0.5 * gamma * (w0.T @ cov @ w0))\n",
        "\n",
        "    # --- Stage 2: minimize ||x||_2^2 with same L1=1 and utility floor\n",
        "    x_pos = cp.Variable(n, nonneg=True)\n",
        "    x_neg = cp.Variable(n, nonneg=True)\n",
        "    x = x_pos - x_neg\n",
        "\n",
        "    util_constr = (mu @ x - 0.5 * gamma * cp.quad_form(x, cov)) >= theta * eps\n",
        "    obj = cp.Minimize(cp.sum_squares(x))\n",
        "    cons = [cp.sum(x_pos + x_neg) == 1, util_constr]\n",
        "    prob = cp.Problem(obj, cons)\n",
        "    prob.solve(solver=cp.SCS)\n",
        "    return x.value\n",
        "\n",
        "def _solve_mvo_sub_l1(mu_sub, cov_sub, gamma):\n",
        "    m = len(mu_sub)\n",
        "    x_pos = cp.Variable(m, nonneg=True)\n",
        "    x_neg = cp.Variable(m, nonneg=True)\n",
        "    x = x_pos - x_neg\n",
        "    obj = cp.Maximize(mu_sub @ x - 0.5 * gamma * cp.quad_form(x, cov_sub))\n",
        "    cons = [cp.sum(x_pos + x_neg) == 1]\n",
        "    prob = cp.Problem(obj, cons)\n",
        "    prob.solve(solver=cp.SCS)\n",
        "    return x.value\n",
        "\n",
        "def optimize_method2(stats, gamma=3.0, num_resamples=100, subset_size=5):\n",
        "    mu, std, corr = stats['mean'], stats['std'], stats['corr']\n",
        "    cov = build_cov_matrix(std, corr)\n",
        "    n = len(mu)\n",
        "    w_acc = np.zeros(n)\n",
        "\n",
        "    for _ in range(num_resamples):\n",
        "        subset = sorted(sample(range(n), subset_size))\n",
        "        mu_sub  = mu[subset]\n",
        "        cov_sub = cov[np.ix_(subset, subset)]\n",
        "        try:\n",
        "            w_sub = _solve_mvo_sub_l1(mu_sub, cov_sub, gamma)\n",
        "        except Exception:\n",
        "            continue\n",
        "        w_full = np.zeros(n)\n",
        "        for i, wi in zip(subset, w_sub):\n",
        "            w_full[i] = wi\n",
        "        w_acc += w_full\n",
        "\n",
        "    return w_acc / max(1, num_resamples)\n"
      ]
    },
    {
      "cell_type": "markdown",
      "metadata": {},
      "source": [
        "Creating dataset for test based on one step return"
      ]
    },
    {
      "cell_type": "code",
      "execution_count": 105,
      "metadata": {
        "colab": {
          "base_uri": "https://localhost:8080/",
          "height": 822
        },
        "id": "147SNw8O1YPX",
        "outputId": "58f0eb7c-4159-434d-b2ec-2a66c1fab82c"
      },
      "outputs": [
        {
          "data": {
            "application/vnd.google.colaboratory.intrinsic+json": {
              "type": "dataframe"
            },
            "text/html": [
              "\n",
              "  <div id=\"df-13b6d370-b6f4-4a0a-a1a4-76b2c7ab737f\" class=\"colab-df-container\">\n",
              "    <div>\n",
              "<style scoped>\n",
              "    .dataframe tbody tr th:only-of-type {\n",
              "        vertical-align: middle;\n",
              "    }\n",
              "\n",
              "    .dataframe tbody tr th {\n",
              "        vertical-align: top;\n",
              "    }\n",
              "\n",
              "    .dataframe thead th {\n",
              "        text-align: right;\n",
              "    }\n",
              "</style>\n",
              "<table border=\"1\" class=\"dataframe\">\n",
              "  <thead>\n",
              "    <tr style=\"text-align: right;\">\n",
              "      <th></th>\n",
              "      <th>BTCUSDT_return</th>\n",
              "      <th>ETHUSDT_return</th>\n",
              "      <th>XRPUSDT_return</th>\n",
              "      <th>SOLUSDT_return</th>\n",
              "      <th>DOGEUSDT_return</th>\n",
              "      <th>ADAUSDT_return</th>\n",
              "      <th>TRUMPUSDT_return</th>\n",
              "      <th>SHIBUSDT_return</th>\n",
              "      <th>BNBUSDT_return</th>\n",
              "      <th>USDCUSDT_return</th>\n",
              "      <th>...</th>\n",
              "      <th>OPUSDT_return</th>\n",
              "      <th>TRXUSDT_return</th>\n",
              "      <th>ARBUSDT_return</th>\n",
              "      <th>APTUSDT_return</th>\n",
              "      <th>TONUSDT_return</th>\n",
              "      <th>ATOMUSDT_return</th>\n",
              "      <th>BONKUSDT_return</th>\n",
              "      <th>AAVEUSDT_return</th>\n",
              "      <th>BCHUSDT_return</th>\n",
              "      <th>ONDOUSDT_return</th>\n",
              "    </tr>\n",
              "    <tr>\n",
              "      <th>dateTime</th>\n",
              "      <th></th>\n",
              "      <th></th>\n",
              "      <th></th>\n",
              "      <th></th>\n",
              "      <th></th>\n",
              "      <th></th>\n",
              "      <th></th>\n",
              "      <th></th>\n",
              "      <th></th>\n",
              "      <th></th>\n",
              "      <th></th>\n",
              "      <th></th>\n",
              "      <th></th>\n",
              "      <th></th>\n",
              "      <th></th>\n",
              "      <th></th>\n",
              "      <th></th>\n",
              "      <th></th>\n",
              "      <th></th>\n",
              "      <th></th>\n",
              "      <th></th>\n",
              "    </tr>\n",
              "  </thead>\n",
              "  <tbody>\n",
              "    <tr>\n",
              "      <th>2025-07-23 00:00:00</th>\n",
              "      <td>-0.017172</td>\n",
              "      <td>-0.026474</td>\n",
              "      <td>0.056481</td>\n",
              "      <td>0.068239</td>\n",
              "      <td>-0.003713</td>\n",
              "      <td>-0.111062</td>\n",
              "      <td>-0.432199</td>\n",
              "      <td>0.000000</td>\n",
              "      <td>0.383560</td>\n",
              "      <td>0.010005</td>\n",
              "      <td>...</td>\n",
              "      <td>-0.212819</td>\n",
              "      <td>-0.028492</td>\n",
              "      <td>0.000000</td>\n",
              "      <td>-0.153925</td>\n",
              "      <td>0.129067</td>\n",
              "      <td>-0.137255</td>\n",
              "      <td>-0.162338</td>\n",
              "      <td>0.100337</td>\n",
              "      <td>-0.045703</td>\n",
              "      <td>-0.070597</td>\n",
              "    </tr>\n",
              "    <tr>\n",
              "      <th>2025-07-23 00:03:00</th>\n",
              "      <td>-0.062781</td>\n",
              "      <td>0.028353</td>\n",
              "      <td>-0.112899</td>\n",
              "      <td>-0.126644</td>\n",
              "      <td>-0.048270</td>\n",
              "      <td>-0.044474</td>\n",
              "      <td>0.072346</td>\n",
              "      <td>-0.064935</td>\n",
              "      <td>0.118930</td>\n",
              "      <td>-0.010004</td>\n",
              "      <td>...</td>\n",
              "      <td>-0.263455</td>\n",
              "      <td>0.009500</td>\n",
              "      <td>-0.124896</td>\n",
              "      <td>0.201879</td>\n",
              "      <td>0.128901</td>\n",
              "      <td>0.019635</td>\n",
              "      <td>-0.135501</td>\n",
              "      <td>-0.045268</td>\n",
              "      <td>-0.110499</td>\n",
              "      <td>-0.485694</td>\n",
              "    </tr>\n",
              "    <tr>\n",
              "      <th>2025-07-23 00:06:00</th>\n",
              "      <td>-0.028115</td>\n",
              "      <td>-0.044122</td>\n",
              "      <td>-0.155411</td>\n",
              "      <td>-0.160944</td>\n",
              "      <td>-0.148594</td>\n",
              "      <td>-0.033370</td>\n",
              "      <td>-0.009037</td>\n",
              "      <td>-0.064977</td>\n",
              "      <td>0.180711</td>\n",
              "      <td>0.000000</td>\n",
              "      <td>...</td>\n",
              "      <td>0.138365</td>\n",
              "      <td>0.155152</td>\n",
              "      <td>0.208420</td>\n",
              "      <td>0.012821</td>\n",
              "      <td>-0.233519</td>\n",
              "      <td>0.157048</td>\n",
              "      <td>-0.624152</td>\n",
              "      <td>-0.067933</td>\n",
              "      <td>0.133509</td>\n",
              "      <td>-0.106487</td>\n",
              "    </tr>\n",
              "    <tr>\n",
              "      <th>2025-07-23 00:09:00</th>\n",
              "      <td>-0.032629</td>\n",
              "      <td>-0.036918</td>\n",
              "      <td>0.019810</td>\n",
              "      <td>-0.161204</td>\n",
              "      <td>0.055806</td>\n",
              "      <td>-0.133526</td>\n",
              "      <td>-0.063263</td>\n",
              "      <td>-0.130039</td>\n",
              "      <td>0.409965</td>\n",
              "      <td>0.000000</td>\n",
              "      <td>...</td>\n",
              "      <td>0.087929</td>\n",
              "      <td>-0.148588</td>\n",
              "      <td>-0.083195</td>\n",
              "      <td>-0.148338</td>\n",
              "      <td>0.006002</td>\n",
              "      <td>-0.117601</td>\n",
              "      <td>-0.163845</td>\n",
              "      <td>-0.126246</td>\n",
              "      <td>-0.142854</td>\n",
              "      <td>-0.151017</td>\n",
              "    </tr>\n",
              "    <tr>\n",
              "      <th>2025-07-23 00:12:00</th>\n",
              "      <td>0.052007</td>\n",
              "      <td>0.090456</td>\n",
              "      <td>0.138645</td>\n",
              "      <td>0.161464</td>\n",
              "      <td>0.226816</td>\n",
              "      <td>0.222841</td>\n",
              "      <td>0.226081</td>\n",
              "      <td>0.260417</td>\n",
              "      <td>0.084171</td>\n",
              "      <td>-0.010005</td>\n",
              "      <td>...</td>\n",
              "      <td>0.263554</td>\n",
              "      <td>-0.025329</td>\n",
              "      <td>0.187344</td>\n",
              "      <td>0.256768</td>\n",
              "      <td>0.003001</td>\n",
              "      <td>0.372841</td>\n",
              "      <td>0.492341</td>\n",
              "      <td>0.187988</td>\n",
              "      <td>0.268951</td>\n",
              "      <td>0.213523</td>\n",
              "    </tr>\n",
              "    <tr>\n",
              "      <th>...</th>\n",
              "      <td>...</td>\n",
              "      <td>...</td>\n",
              "      <td>...</td>\n",
              "      <td>...</td>\n",
              "      <td>...</td>\n",
              "      <td>...</td>\n",
              "      <td>...</td>\n",
              "      <td>...</td>\n",
              "      <td>...</td>\n",
              "      <td>...</td>\n",
              "      <td>...</td>\n",
              "      <td>...</td>\n",
              "      <td>...</td>\n",
              "      <td>...</td>\n",
              "      <td>...</td>\n",
              "      <td>...</td>\n",
              "      <td>...</td>\n",
              "      <td>...</td>\n",
              "      <td>...</td>\n",
              "      <td>...</td>\n",
              "      <td>...</td>\n",
              "    </tr>\n",
              "    <tr>\n",
              "      <th>2025-07-23 03:45:00</th>\n",
              "      <td>-0.033285</td>\n",
              "      <td>-0.091556</td>\n",
              "      <td>0.091625</td>\n",
              "      <td>-0.014898</td>\n",
              "      <td>0.068221</td>\n",
              "      <td>0.022712</td>\n",
              "      <td>-0.063822</td>\n",
              "      <td>0.066007</td>\n",
              "      <td>0.370445</td>\n",
              "      <td>0.000000</td>\n",
              "      <td>...</td>\n",
              "      <td>0.000000</td>\n",
              "      <td>-0.211563</td>\n",
              "      <td>-0.063573</td>\n",
              "      <td>0.000000</td>\n",
              "      <td>0.024410</td>\n",
              "      <td>0.039596</td>\n",
              "      <td>-0.162426</td>\n",
              "      <td>-0.117582</td>\n",
              "      <td>-0.078174</td>\n",
              "      <td>-0.009082</td>\n",
              "    </tr>\n",
              "    <tr>\n",
              "      <th>2025-07-23 03:48:00</th>\n",
              "      <td>-0.030767</td>\n",
              "      <td>0.054126</td>\n",
              "      <td>0.008582</td>\n",
              "      <td>0.054634</td>\n",
              "      <td>0.121198</td>\n",
              "      <td>0.056767</td>\n",
              "      <td>0.072986</td>\n",
              "      <td>0.065963</td>\n",
              "      <td>-0.061513</td>\n",
              "      <td>0.000000</td>\n",
              "      <td>...</td>\n",
              "      <td>0.127616</td>\n",
              "      <td>0.034808</td>\n",
              "      <td>0.148431</td>\n",
              "      <td>0.072257</td>\n",
              "      <td>-0.042706</td>\n",
              "      <td>0.079161</td>\n",
              "      <td>0.027115</td>\n",
              "      <td>0.071940</td>\n",
              "      <td>0.499943</td>\n",
              "      <td>0.045413</td>\n",
              "    </tr>\n",
              "    <tr>\n",
              "      <th>2025-07-23 03:51:00</th>\n",
              "      <td>0.016948</td>\n",
              "      <td>-0.189340</td>\n",
              "      <td>0.005721</td>\n",
              "      <td>0.004964</td>\n",
              "      <td>0.034046</td>\n",
              "      <td>-0.034041</td>\n",
              "      <td>-0.072933</td>\n",
              "      <td>0.000000</td>\n",
              "      <td>-0.035172</td>\n",
              "      <td>0.010006</td>\n",
              "      <td>...</td>\n",
              "      <td>-0.012745</td>\n",
              "      <td>-0.006327</td>\n",
              "      <td>-0.063519</td>\n",
              "      <td>0.000000</td>\n",
              "      <td>-0.042725</td>\n",
              "      <td>-0.079098</td>\n",
              "      <td>-0.081323</td>\n",
              "      <td>-0.114368</td>\n",
              "      <td>-0.068353</td>\n",
              "      <td>-0.045393</td>\n",
              "    </tr>\n",
              "    <tr>\n",
              "      <th>2025-07-23 03:54:00</th>\n",
              "      <td>0.003878</td>\n",
              "      <td>0.027905</td>\n",
              "      <td>-0.028602</td>\n",
              "      <td>0.029783</td>\n",
              "      <td>-0.037816</td>\n",
              "      <td>0.045403</td>\n",
              "      <td>0.036493</td>\n",
              "      <td>0.065920</td>\n",
              "      <td>0.280218</td>\n",
              "      <td>-0.010005</td>\n",
              "      <td>...</td>\n",
              "      <td>0.165711</td>\n",
              "      <td>0.034798</td>\n",
              "      <td>0.042373</td>\n",
              "      <td>0.044434</td>\n",
              "      <td>0.042743</td>\n",
              "      <td>0.079161</td>\n",
              "      <td>-0.162778</td>\n",
              "      <td>0.055614</td>\n",
              "      <td>-0.089299</td>\n",
              "      <td>0.136240</td>\n",
              "    </tr>\n",
              "    <tr>\n",
              "      <th>2025-07-23 03:57:00</th>\n",
              "      <td>0.015006</td>\n",
              "      <td>-0.128755</td>\n",
              "      <td>-0.080110</td>\n",
              "      <td>-0.049623</td>\n",
              "      <td>-0.109707</td>\n",
              "      <td>-0.124801</td>\n",
              "      <td>-0.118559</td>\n",
              "      <td>-0.131752</td>\n",
              "      <td>-0.104005</td>\n",
              "      <td>0.000000</td>\n",
              "      <td>...</td>\n",
              "      <td>-0.063629</td>\n",
              "      <td>0.003162</td>\n",
              "      <td>-0.105887</td>\n",
              "      <td>-0.099932</td>\n",
              "      <td>0.030518</td>\n",
              "      <td>-0.059324</td>\n",
              "      <td>0.353261</td>\n",
              "      <td>-0.058852</td>\n",
              "      <td>-0.140725</td>\n",
              "      <td>0.054422</td>\n",
              "    </tr>\n",
              "  </tbody>\n",
              "</table>\n",
              "<p>80 rows × 30 columns</p>\n",
              "</div>\n",
              "    <div class=\"colab-df-buttons\">\n",
              "\n",
              "  <div class=\"colab-df-container\">\n",
              "    <button class=\"colab-df-convert\" onclick=\"convertToInteractive('df-13b6d370-b6f4-4a0a-a1a4-76b2c7ab737f')\"\n",
              "            title=\"Convert this dataframe to an interactive table.\"\n",
              "            style=\"display:none;\">\n",
              "\n",
              "  <svg xmlns=\"http://www.w3.org/2000/svg\" height=\"24px\" viewBox=\"0 -960 960 960\">\n",
              "    <path d=\"M120-120v-720h720v720H120Zm60-500h600v-160H180v160Zm220 220h160v-160H400v160Zm0 220h160v-160H400v160ZM180-400h160v-160H180v160Zm440 0h160v-160H620v160ZM180-180h160v-160H180v160Zm440 0h160v-160H620v160Z\"/>\n",
              "  </svg>\n",
              "    </button>\n",
              "\n",
              "  <style>\n",
              "    .colab-df-container {\n",
              "      display:flex;\n",
              "      gap: 12px;\n",
              "    }\n",
              "\n",
              "    .colab-df-convert {\n",
              "      background-color: #E8F0FE;\n",
              "      border: none;\n",
              "      border-radius: 50%;\n",
              "      cursor: pointer;\n",
              "      display: none;\n",
              "      fill: #1967D2;\n",
              "      height: 32px;\n",
              "      padding: 0 0 0 0;\n",
              "      width: 32px;\n",
              "    }\n",
              "\n",
              "    .colab-df-convert:hover {\n",
              "      background-color: #E2EBFA;\n",
              "      box-shadow: 0px 1px 2px rgba(60, 64, 67, 0.3), 0px 1px 3px 1px rgba(60, 64, 67, 0.15);\n",
              "      fill: #174EA6;\n",
              "    }\n",
              "\n",
              "    .colab-df-buttons div {\n",
              "      margin-bottom: 4px;\n",
              "    }\n",
              "\n",
              "    [theme=dark] .colab-df-convert {\n",
              "      background-color: #3B4455;\n",
              "      fill: #D2E3FC;\n",
              "    }\n",
              "\n",
              "    [theme=dark] .colab-df-convert:hover {\n",
              "      background-color: #434B5C;\n",
              "      box-shadow: 0px 1px 3px 1px rgba(0, 0, 0, 0.15);\n",
              "      filter: drop-shadow(0px 1px 2px rgba(0, 0, 0, 0.3));\n",
              "      fill: #FFFFFF;\n",
              "    }\n",
              "  </style>\n",
              "\n",
              "    <script>\n",
              "      const buttonEl =\n",
              "        document.querySelector('#df-13b6d370-b6f4-4a0a-a1a4-76b2c7ab737f button.colab-df-convert');\n",
              "      buttonEl.style.display =\n",
              "        google.colab.kernel.accessAllowed ? 'block' : 'none';\n",
              "\n",
              "      async function convertToInteractive(key) {\n",
              "        const element = document.querySelector('#df-13b6d370-b6f4-4a0a-a1a4-76b2c7ab737f');\n",
              "        const dataTable =\n",
              "          await google.colab.kernel.invokeFunction('convertToInteractive',\n",
              "                                                    [key], {});\n",
              "        if (!dataTable) return;\n",
              "\n",
              "        const docLinkHtml = 'Like what you see? Visit the ' +\n",
              "          '<a target=\"_blank\" href=https://colab.research.google.com/notebooks/data_table.ipynb>data table notebook</a>'\n",
              "          + ' to learn more about interactive tables.';\n",
              "        element.innerHTML = '';\n",
              "        dataTable['output_type'] = 'display_data';\n",
              "        await google.colab.output.renderOutput(dataTable, element);\n",
              "        const docLink = document.createElement('div');\n",
              "        docLink.innerHTML = docLinkHtml;\n",
              "        element.appendChild(docLink);\n",
              "      }\n",
              "    </script>\n",
              "  </div>\n",
              "\n",
              "\n",
              "    <div id=\"df-6c989326-e46f-4a31-8a23-1eba7a2255d5\">\n",
              "      <button class=\"colab-df-quickchart\" onclick=\"quickchart('df-6c989326-e46f-4a31-8a23-1eba7a2255d5')\"\n",
              "                title=\"Suggest charts\"\n",
              "                style=\"display:none;\">\n",
              "\n",
              "<svg xmlns=\"http://www.w3.org/2000/svg\" height=\"24px\"viewBox=\"0 0 24 24\"\n",
              "     width=\"24px\">\n",
              "    <g>\n",
              "        <path d=\"M19 3H5c-1.1 0-2 .9-2 2v14c0 1.1.9 2 2 2h14c1.1 0 2-.9 2-2V5c0-1.1-.9-2-2-2zM9 17H7v-7h2v7zm4 0h-2V7h2v10zm4 0h-2v-4h2v4z\"/>\n",
              "    </g>\n",
              "</svg>\n",
              "      </button>\n",
              "\n",
              "<style>\n",
              "  .colab-df-quickchart {\n",
              "      --bg-color: #E8F0FE;\n",
              "      --fill-color: #1967D2;\n",
              "      --hover-bg-color: #E2EBFA;\n",
              "      --hover-fill-color: #174EA6;\n",
              "      --disabled-fill-color: #AAA;\n",
              "      --disabled-bg-color: #DDD;\n",
              "  }\n",
              "\n",
              "  [theme=dark] .colab-df-quickchart {\n",
              "      --bg-color: #3B4455;\n",
              "      --fill-color: #D2E3FC;\n",
              "      --hover-bg-color: #434B5C;\n",
              "      --hover-fill-color: #FFFFFF;\n",
              "      --disabled-bg-color: #3B4455;\n",
              "      --disabled-fill-color: #666;\n",
              "  }\n",
              "\n",
              "  .colab-df-quickchart {\n",
              "    background-color: var(--bg-color);\n",
              "    border: none;\n",
              "    border-radius: 50%;\n",
              "    cursor: pointer;\n",
              "    display: none;\n",
              "    fill: var(--fill-color);\n",
              "    height: 32px;\n",
              "    padding: 0;\n",
              "    width: 32px;\n",
              "  }\n",
              "\n",
              "  .colab-df-quickchart:hover {\n",
              "    background-color: var(--hover-bg-color);\n",
              "    box-shadow: 0 1px 2px rgba(60, 64, 67, 0.3), 0 1px 3px 1px rgba(60, 64, 67, 0.15);\n",
              "    fill: var(--button-hover-fill-color);\n",
              "  }\n",
              "\n",
              "  .colab-df-quickchart-complete:disabled,\n",
              "  .colab-df-quickchart-complete:disabled:hover {\n",
              "    background-color: var(--disabled-bg-color);\n",
              "    fill: var(--disabled-fill-color);\n",
              "    box-shadow: none;\n",
              "  }\n",
              "\n",
              "  .colab-df-spinner {\n",
              "    border: 2px solid var(--fill-color);\n",
              "    border-color: transparent;\n",
              "    border-bottom-color: var(--fill-color);\n",
              "    animation:\n",
              "      spin 1s steps(1) infinite;\n",
              "  }\n",
              "\n",
              "  @keyframes spin {\n",
              "    0% {\n",
              "      border-color: transparent;\n",
              "      border-bottom-color: var(--fill-color);\n",
              "      border-left-color: var(--fill-color);\n",
              "    }\n",
              "    20% {\n",
              "      border-color: transparent;\n",
              "      border-left-color: var(--fill-color);\n",
              "      border-top-color: var(--fill-color);\n",
              "    }\n",
              "    30% {\n",
              "      border-color: transparent;\n",
              "      border-left-color: var(--fill-color);\n",
              "      border-top-color: var(--fill-color);\n",
              "      border-right-color: var(--fill-color);\n",
              "    }\n",
              "    40% {\n",
              "      border-color: transparent;\n",
              "      border-right-color: var(--fill-color);\n",
              "      border-top-color: var(--fill-color);\n",
              "    }\n",
              "    60% {\n",
              "      border-color: transparent;\n",
              "      border-right-color: var(--fill-color);\n",
              "    }\n",
              "    80% {\n",
              "      border-color: transparent;\n",
              "      border-right-color: var(--fill-color);\n",
              "      border-bottom-color: var(--fill-color);\n",
              "    }\n",
              "    90% {\n",
              "      border-color: transparent;\n",
              "      border-bottom-color: var(--fill-color);\n",
              "    }\n",
              "  }\n",
              "</style>\n",
              "\n",
              "      <script>\n",
              "        async function quickchart(key) {\n",
              "          const quickchartButtonEl =\n",
              "            document.querySelector('#' + key + ' button');\n",
              "          quickchartButtonEl.disabled = true;  // To prevent multiple clicks.\n",
              "          quickchartButtonEl.classList.add('colab-df-spinner');\n",
              "          try {\n",
              "            const charts = await google.colab.kernel.invokeFunction(\n",
              "                'suggestCharts', [key], {});\n",
              "          } catch (error) {\n",
              "            console.error('Error during call to suggestCharts:', error);\n",
              "          }\n",
              "          quickchartButtonEl.classList.remove('colab-df-spinner');\n",
              "          quickchartButtonEl.classList.add('colab-df-quickchart-complete');\n",
              "        }\n",
              "        (() => {\n",
              "          let quickchartButtonEl =\n",
              "            document.querySelector('#df-6c989326-e46f-4a31-8a23-1eba7a2255d5 button');\n",
              "          quickchartButtonEl.style.display =\n",
              "            google.colab.kernel.accessAllowed ? 'block' : 'none';\n",
              "        })();\n",
              "      </script>\n",
              "    </div>\n",
              "\n",
              "    </div>\n",
              "  </div>\n"
            ],
            "text/plain": [
              "                     BTCUSDT_return  ETHUSDT_return  XRPUSDT_return  \\\n",
              "dateTime                                                              \n",
              "2025-07-23 00:00:00       -0.017172       -0.026474        0.056481   \n",
              "2025-07-23 00:03:00       -0.062781        0.028353       -0.112899   \n",
              "2025-07-23 00:06:00       -0.028115       -0.044122       -0.155411   \n",
              "2025-07-23 00:09:00       -0.032629       -0.036918        0.019810   \n",
              "2025-07-23 00:12:00        0.052007        0.090456        0.138645   \n",
              "...                             ...             ...             ...   \n",
              "2025-07-23 03:45:00       -0.033285       -0.091556        0.091625   \n",
              "2025-07-23 03:48:00       -0.030767        0.054126        0.008582   \n",
              "2025-07-23 03:51:00        0.016948       -0.189340        0.005721   \n",
              "2025-07-23 03:54:00        0.003878        0.027905       -0.028602   \n",
              "2025-07-23 03:57:00        0.015006       -0.128755       -0.080110   \n",
              "\n",
              "                     SOLUSDT_return  DOGEUSDT_return  ADAUSDT_return  \\\n",
              "dateTime                                                               \n",
              "2025-07-23 00:00:00        0.068239        -0.003713       -0.111062   \n",
              "2025-07-23 00:03:00       -0.126644        -0.048270       -0.044474   \n",
              "2025-07-23 00:06:00       -0.160944        -0.148594       -0.033370   \n",
              "2025-07-23 00:09:00       -0.161204         0.055806       -0.133526   \n",
              "2025-07-23 00:12:00        0.161464         0.226816        0.222841   \n",
              "...                             ...              ...             ...   \n",
              "2025-07-23 03:45:00       -0.014898         0.068221        0.022712   \n",
              "2025-07-23 03:48:00        0.054634         0.121198        0.056767   \n",
              "2025-07-23 03:51:00        0.004964         0.034046       -0.034041   \n",
              "2025-07-23 03:54:00        0.029783        -0.037816        0.045403   \n",
              "2025-07-23 03:57:00       -0.049623        -0.109707       -0.124801   \n",
              "\n",
              "                     TRUMPUSDT_return  SHIBUSDT_return  BNBUSDT_return  \\\n",
              "dateTime                                                                 \n",
              "2025-07-23 00:00:00         -0.432199         0.000000        0.383560   \n",
              "2025-07-23 00:03:00          0.072346        -0.064935        0.118930   \n",
              "2025-07-23 00:06:00         -0.009037        -0.064977        0.180711   \n",
              "2025-07-23 00:09:00         -0.063263        -0.130039        0.409965   \n",
              "2025-07-23 00:12:00          0.226081         0.260417        0.084171   \n",
              "...                               ...              ...             ...   \n",
              "2025-07-23 03:45:00         -0.063822         0.066007        0.370445   \n",
              "2025-07-23 03:48:00          0.072986         0.065963       -0.061513   \n",
              "2025-07-23 03:51:00         -0.072933         0.000000       -0.035172   \n",
              "2025-07-23 03:54:00          0.036493         0.065920        0.280218   \n",
              "2025-07-23 03:57:00         -0.118559        -0.131752       -0.104005   \n",
              "\n",
              "                     USDCUSDT_return  ...  OPUSDT_return  TRXUSDT_return  \\\n",
              "dateTime                              ...                                  \n",
              "2025-07-23 00:00:00         0.010005  ...      -0.212819       -0.028492   \n",
              "2025-07-23 00:03:00        -0.010004  ...      -0.263455        0.009500   \n",
              "2025-07-23 00:06:00         0.000000  ...       0.138365        0.155152   \n",
              "2025-07-23 00:09:00         0.000000  ...       0.087929       -0.148588   \n",
              "2025-07-23 00:12:00        -0.010005  ...       0.263554       -0.025329   \n",
              "...                              ...  ...            ...             ...   \n",
              "2025-07-23 03:45:00         0.000000  ...       0.000000       -0.211563   \n",
              "2025-07-23 03:48:00         0.000000  ...       0.127616        0.034808   \n",
              "2025-07-23 03:51:00         0.010006  ...      -0.012745       -0.006327   \n",
              "2025-07-23 03:54:00        -0.010005  ...       0.165711        0.034798   \n",
              "2025-07-23 03:57:00         0.000000  ...      -0.063629        0.003162   \n",
              "\n",
              "                     ARBUSDT_return  APTUSDT_return  TONUSDT_return  \\\n",
              "dateTime                                                              \n",
              "2025-07-23 00:00:00        0.000000       -0.153925        0.129067   \n",
              "2025-07-23 00:03:00       -0.124896        0.201879        0.128901   \n",
              "2025-07-23 00:06:00        0.208420        0.012821       -0.233519   \n",
              "2025-07-23 00:09:00       -0.083195       -0.148338        0.006002   \n",
              "2025-07-23 00:12:00        0.187344        0.256768        0.003001   \n",
              "...                             ...             ...             ...   \n",
              "2025-07-23 03:45:00       -0.063573        0.000000        0.024410   \n",
              "2025-07-23 03:48:00        0.148431        0.072257       -0.042706   \n",
              "2025-07-23 03:51:00       -0.063519        0.000000       -0.042725   \n",
              "2025-07-23 03:54:00        0.042373        0.044434        0.042743   \n",
              "2025-07-23 03:57:00       -0.105887       -0.099932        0.030518   \n",
              "\n",
              "                     ATOMUSDT_return  BONKUSDT_return  AAVEUSDT_return  \\\n",
              "dateTime                                                                 \n",
              "2025-07-23 00:00:00        -0.137255        -0.162338         0.100337   \n",
              "2025-07-23 00:03:00         0.019635        -0.135501        -0.045268   \n",
              "2025-07-23 00:06:00         0.157048        -0.624152        -0.067933   \n",
              "2025-07-23 00:09:00        -0.117601        -0.163845        -0.126246   \n",
              "2025-07-23 00:12:00         0.372841         0.492341         0.187988   \n",
              "...                              ...              ...              ...   \n",
              "2025-07-23 03:45:00         0.039596        -0.162426        -0.117582   \n",
              "2025-07-23 03:48:00         0.079161         0.027115         0.071940   \n",
              "2025-07-23 03:51:00        -0.079098        -0.081323        -0.114368   \n",
              "2025-07-23 03:54:00         0.079161        -0.162778         0.055614   \n",
              "2025-07-23 03:57:00        -0.059324         0.353261        -0.058852   \n",
              "\n",
              "                     BCHUSDT_return  ONDOUSDT_return  \n",
              "dateTime                                              \n",
              "2025-07-23 00:00:00       -0.045703        -0.070597  \n",
              "2025-07-23 00:03:00       -0.110499        -0.485694  \n",
              "2025-07-23 00:06:00        0.133509        -0.106487  \n",
              "2025-07-23 00:09:00       -0.142854        -0.151017  \n",
              "2025-07-23 00:12:00        0.268951         0.213523  \n",
              "...                             ...              ...  \n",
              "2025-07-23 03:45:00       -0.078174        -0.009082  \n",
              "2025-07-23 03:48:00        0.499943         0.045413  \n",
              "2025-07-23 03:51:00       -0.068353        -0.045393  \n",
              "2025-07-23 03:54:00       -0.089299         0.136240  \n",
              "2025-07-23 03:57:00       -0.140725         0.054422  \n",
              "\n",
              "[80 rows x 30 columns]"
            ]
          },
          "execution_count": 105,
          "metadata": {},
          "output_type": "execute_result"
        }
      ],
      "source": [
        "df_test = data.iloc[100:-100].copy()\n",
        "df_test = df_test[df_test['day'].isin(list_days_test)]\n",
        "df_test = df_test[['dateTime']+[x+'_'+'close' for x in list_crypto]]\n",
        "df_test = df_test.set_index('dateTime')\n",
        "df_test = 100*df_test.pct_change().shift(-1)\n",
        "df_test = df_test.rename(columns={x:x.replace('close','return') for x in df_test.columns})\n",
        "# df_test = df_test.iloc[my_seq_len:-shifted_window].copy()\n",
        "df_test.iloc[0:0+my_seq_len]"
      ]
    },
    {
      "cell_type": "markdown",
      "metadata": {},
      "source": [
        "Getting Weight for each timestamp based on predictions (3 methods)"
      ]
    },
    {
      "cell_type": "code",
      "execution_count": 106,
      "metadata": {
        "id": "XsY01V4bmNx1"
      },
      "outputs": [],
      "source": [
        "import pandas as pd\n",
        "import numpy as np\n",
        "from tqdm.notebook import tqdm\n",
        "\n",
        "alpha = 0.6\n",
        "list_weight_m0 = []\n",
        "list_weight_m1 = []\n",
        "list_weight_m2 = []\n",
        "\n",
        "# data_test_new = data_test.set_index('dateTime')\n",
        "return_columns = [x for x in df_test.columns if ('return' in x and '_prev_return' not in x and len(x)>6)]\n",
        "for i in range(0, len(df_test)-2*my_seq_len, shifted_window):\n",
        "    end_time = df_test.index[i+my_seq_len-1]\n",
        "    start_time = end_time - pd.Timedelta(minutes=4*60)\n",
        "    past_returns_window = df_test.loc[start_time:end_time, return_columns]\n",
        "    past_corr = past_returns_window.corr().to_numpy()\n",
        "    past_mu  = past_returns_window.sum().to_numpy()\n",
        "    past_vol = past_returns_window.std().to_numpy()\n",
        "    past_vol[past_vol < 1e-8] = 1e-8\n",
        "\n",
        "    weighted_mu  = (1 - alpha) * past_mu  + alpha * predicted_return[i]\n",
        "    weighted_vol = (1 - alpha) * past_vol + alpha * predicted_vol[i]\n",
        "    weighted_corr = (1) * past_corr\n",
        "\n",
        "    stats = {\n",
        "        \"mean\": weighted_mu,\n",
        "        \"std\":  weighted_vol,\n",
        "        \"corr\": past_corr\n",
        "    }\n",
        "\n",
        "    predicted_w_m0 = optimize_mvo(stats, gamma=3.0)\n",
        "    predicted_w_m1 = optimize_method1(stats, gamma=3.0, theta=0.90)\n",
        "    predicted_w_m2 = optimize_method2(\n",
        "        stats,\n",
        "        gamma=3.0,\n",
        "        num_resamples=20,\n",
        "        subset_size=5\n",
        "    )\n",
        "\n",
        "    list_weight_m0.append({'dateTime':df_test.index[i+my_seq_len]} | {list_crypto[ji]:predicted_w_m0[ji] for ji in range(len(list_crypto))})\n",
        "    list_weight_m1.append({'dateTime':df_test.index[i+my_seq_len]} | {list_crypto[ji]:predicted_w_m1[ji] for ji in range(len(list_crypto))})\n",
        "    list_weight_m2.append({'dateTime':df_test.index[i+my_seq_len]} | {list_crypto[ji]:predicted_w_m2[ji] for ji in range(len(list_crypto))})\n",
        "\n",
        "    # break"
      ]
    },
    {
      "cell_type": "code",
      "execution_count": 107,
      "metadata": {
        "colab": {
          "base_uri": "https://localhost:8080/",
          "height": 1000
        },
        "id": "SDdjzAc_it8S",
        "outputId": "e6dfe43f-5f72-4368-d6f7-f53246950d8c"
      },
      "outputs": [
        {
          "data": {
            "text/html": [
              "<div>\n",
              "<style scoped>\n",
              "    .dataframe tbody tr th:only-of-type {\n",
              "        vertical-align: middle;\n",
              "    }\n",
              "\n",
              "    .dataframe tbody tr th {\n",
              "        vertical-align: top;\n",
              "    }\n",
              "\n",
              "    .dataframe thead th {\n",
              "        text-align: right;\n",
              "    }\n",
              "</style>\n",
              "<table border=\"1\" class=\"dataframe\">\n",
              "  <thead>\n",
              "    <tr style=\"text-align: right;\">\n",
              "      <th></th>\n",
              "      <th>0</th>\n",
              "    </tr>\n",
              "  </thead>\n",
              "  <tbody>\n",
              "    <tr>\n",
              "      <th>BTCUSDT</th>\n",
              "      <td>2.610504e-01</td>\n",
              "    </tr>\n",
              "    <tr>\n",
              "      <th>ETHUSDT</th>\n",
              "      <td>1.211645e+00</td>\n",
              "    </tr>\n",
              "    <tr>\n",
              "      <th>XRPUSDT</th>\n",
              "      <td>1.193206e+00</td>\n",
              "    </tr>\n",
              "    <tr>\n",
              "      <th>SOLUSDT</th>\n",
              "      <td>-5.136893e-01</td>\n",
              "    </tr>\n",
              "    <tr>\n",
              "      <th>DOGEUSDT</th>\n",
              "      <td>-2.348614e+00</td>\n",
              "    </tr>\n",
              "    <tr>\n",
              "      <th>ADAUSDT</th>\n",
              "      <td>3.118240e-01</td>\n",
              "    </tr>\n",
              "    <tr>\n",
              "      <th>TRUMPUSDT</th>\n",
              "      <td>-1.459402e+00</td>\n",
              "    </tr>\n",
              "    <tr>\n",
              "      <th>SHIBUSDT</th>\n",
              "      <td>-5.012811e-01</td>\n",
              "    </tr>\n",
              "    <tr>\n",
              "      <th>BNBUSDT</th>\n",
              "      <td>1.451874e+00</td>\n",
              "    </tr>\n",
              "    <tr>\n",
              "      <th>USDCUSDT</th>\n",
              "      <td>-2.667596e-07</td>\n",
              "    </tr>\n",
              "    <tr>\n",
              "      <th>PEPEUSDT</th>\n",
              "      <td>5.342026e-01</td>\n",
              "    </tr>\n",
              "    <tr>\n",
              "      <th>LINKUSDT</th>\n",
              "      <td>1.293945e+00</td>\n",
              "    </tr>\n",
              "    <tr>\n",
              "      <th>AVAXUSDT</th>\n",
              "      <td>-1.013556e+00</td>\n",
              "    </tr>\n",
              "    <tr>\n",
              "      <th>SUIUSDT</th>\n",
              "      <td>4.207432e-01</td>\n",
              "    </tr>\n",
              "    <tr>\n",
              "      <th>XLMUSDT</th>\n",
              "      <td>-1.406086e+00</td>\n",
              "    </tr>\n",
              "    <tr>\n",
              "      <th>LTCUSDT</th>\n",
              "      <td>-1.918674e+00</td>\n",
              "    </tr>\n",
              "    <tr>\n",
              "      <th>HBARUSDT</th>\n",
              "      <td>7.696879e-02</td>\n",
              "    </tr>\n",
              "    <tr>\n",
              "      <th>PENGUUSDT</th>\n",
              "      <td>3.608805e+00</td>\n",
              "    </tr>\n",
              "    <tr>\n",
              "      <th>DOTUSDT</th>\n",
              "      <td>-1.103433e+00</td>\n",
              "    </tr>\n",
              "    <tr>\n",
              "      <th>UNIUSDT</th>\n",
              "      <td>-1.974165e-01</td>\n",
              "    </tr>\n",
              "    <tr>\n",
              "      <th>OPUSDT</th>\n",
              "      <td>-2.076860e-01</td>\n",
              "    </tr>\n",
              "    <tr>\n",
              "      <th>TRXUSDT</th>\n",
              "      <td>1.540878e+00</td>\n",
              "    </tr>\n",
              "    <tr>\n",
              "      <th>ARBUSDT</th>\n",
              "      <td>-3.569997e-01</td>\n",
              "    </tr>\n",
              "    <tr>\n",
              "      <th>APTUSDT</th>\n",
              "      <td>-2.160405e-02</td>\n",
              "    </tr>\n",
              "    <tr>\n",
              "      <th>TONUSDT</th>\n",
              "      <td>9.911708e-01</td>\n",
              "    </tr>\n",
              "    <tr>\n",
              "      <th>ATOMUSDT</th>\n",
              "      <td>1.607119e+00</td>\n",
              "    </tr>\n",
              "    <tr>\n",
              "      <th>BONKUSDT</th>\n",
              "      <td>-4.477049e-01</td>\n",
              "    </tr>\n",
              "    <tr>\n",
              "      <th>AAVEUSDT</th>\n",
              "      <td>9.636625e-01</td>\n",
              "    </tr>\n",
              "    <tr>\n",
              "      <th>BCHUSDT</th>\n",
              "      <td>2.435678e+00</td>\n",
              "    </tr>\n",
              "    <tr>\n",
              "      <th>ONDOUSDT</th>\n",
              "      <td>3.330447e-01</td>\n",
              "    </tr>\n",
              "  </tbody>\n",
              "</table>\n",
              "</div><br><label><b>dtype:</b> float64</label>"
            ],
            "text/plain": [
              "BTCUSDT      2.610504e-01\n",
              "ETHUSDT      1.211645e+00\n",
              "XRPUSDT      1.193206e+00\n",
              "SOLUSDT     -5.136893e-01\n",
              "DOGEUSDT    -2.348614e+00\n",
              "ADAUSDT      3.118240e-01\n",
              "TRUMPUSDT   -1.459402e+00\n",
              "SHIBUSDT    -5.012811e-01\n",
              "BNBUSDT      1.451874e+00\n",
              "USDCUSDT    -2.667596e-07\n",
              "PEPEUSDT     5.342026e-01\n",
              "LINKUSDT     1.293945e+00\n",
              "AVAXUSDT    -1.013556e+00\n",
              "SUIUSDT      4.207432e-01\n",
              "XLMUSDT     -1.406086e+00\n",
              "LTCUSDT     -1.918674e+00\n",
              "HBARUSDT     7.696879e-02\n",
              "PENGUUSDT    3.608805e+00\n",
              "DOTUSDT     -1.103433e+00\n",
              "UNIUSDT     -1.974165e-01\n",
              "OPUSDT      -2.076860e-01\n",
              "TRXUSDT      1.540878e+00\n",
              "ARBUSDT     -3.569997e-01\n",
              "APTUSDT     -2.160405e-02\n",
              "TONUSDT      9.911708e-01\n",
              "ATOMUSDT     1.607119e+00\n",
              "BONKUSDT    -4.477049e-01\n",
              "AAVEUSDT     9.636625e-01\n",
              "BCHUSDT      2.435678e+00\n",
              "ONDOUSDT     3.330447e-01\n",
              "dtype: float64"
            ]
          },
          "execution_count": 107,
          "metadata": {},
          "output_type": "execute_result"
        }
      ],
      "source": [
        "df_weight0 = pd.DataFrame(list_weight_m0)\n",
        "df_weight0 = df_weight0.set_index('dateTime')\n",
        "df_weight1 = pd.DataFrame(list_weight_m1)\n",
        "df_weight1 = df_weight1.set_index('dateTime')\n",
        "df_weight2 = pd.DataFrame(list_weight_m2)\n",
        "df_weight2 = df_weight2.set_index('dateTime')\n",
        "df_weight0.sum(axis=0)"
      ]
    },
    {
      "cell_type": "code",
      "execution_count": 109,
      "metadata": {
        "id": "n_KHr12ihmfY"
      },
      "outputs": [],
      "source": [
        "df_portfolio0 = df_test.iloc[80:].merge(df_weight0, left_index=True, right_index=True, how='left')\n",
        "df_portfolio0 = df_portfolio0.fillna(method='ffill')\n",
        "list_portfolio = []\n",
        "for x in list_crypto:\n",
        "  df_portfolio0[x+'_value'] = df_portfolio0[x+'_return']*df_portfolio0[x]\n",
        "  list_portfolio.append(x+'_value')\n",
        "df_portfolio1 = df_test.iloc[80:].merge(df_weight1, left_index=True, right_index=True, how='left')\n",
        "df_portfolio1 = df_portfolio1.fillna(method='ffill')\n",
        "for x in list_crypto:\n",
        "  df_portfolio1[x+'_value'] = df_portfolio1[x+'_return']*df_portfolio1[x]\n",
        "df_portfolio2 = df_test.iloc[80:].merge(df_weight2, left_index=True, right_index=True, how='left')\n",
        "df_portfolio2 = df_portfolio2.fillna(method='ffill')\n",
        "for x in list_crypto:\n",
        "  df_portfolio2[x+'_value'] = df_portfolio2[x+'_return']*df_portfolio2[x]"
      ]
    },
    {
      "cell_type": "code",
      "execution_count": 110,
      "metadata": {
        "colab": {
          "base_uri": "https://localhost:8080/",
          "height": 439
        },
        "id": "xyY1Minx6-pZ",
        "outputId": "1cc60899-9363-4b79-98d0-56d771aa43ef"
      },
      "outputs": [
        {
          "data": {
            "image/png": "[encoded data removed]",
            "text/plain": [
              "<Figure size 1000x500 with 1 Axes>"
            ]
          },
          "metadata": {},
          "output_type": "display_data"
        }
      ],
      "source": [
        "df_portfolio0['portfolio'] = df_portfolio0[list_portfolio].sum(axis=1).cumsum()\n",
        "df_portfolio1['portfolio'] = df_portfolio1[list_portfolio].sum(axis=1).cumsum()\n",
        "df_portfolio2['portfolio'] = df_portfolio2[list_portfolio].sum(axis=1).cumsum()\n",
        "\n",
        "plt.figure(figsize=(10, 5))\n",
        "\n",
        "# Add labels here\n",
        "plt.plot(df_portfolio0.index, df_portfolio0['portfolio'], color='red', label='Method 0')\n",
        "plt.plot(df_portfolio1.index, df_portfolio1['portfolio'], label='Method 1')\n",
        "plt.plot(df_portfolio2.index, df_portfolio2['portfolio'], color='blue', label='Method 2')\n",
        "\n",
        "# Add legend\n",
        "plt.legend(loc='best')\n",
        "\n",
        "# Add grid\n",
        "plt.grid(True)\n",
        "\n",
        "# Rotate x-axis labels\n",
        "plt.xticks(rotation=45)\n",
        "\n",
        "# Labels and title\n",
        "plt.xlabel('Date')\n",
        "plt.ylabel('Cumulative Return')\n",
        "plt.title('Portfolio Cumulative Return')\n",
        "\n",
        "plt.tight_layout()\n",
        "plt.show()\n"
      ]
    },
    {
      "cell_type": "code",
      "execution_count": 111,
      "metadata": {
        "id": "5o2kOJE0ouJ1"
      },
      "outputs": [],
      "source": [
        "df_portfolio0.to_csv('joint0.csv')"
      ]
    },
    {
      "cell_type": "code",
      "execution_count": 112,
      "metadata": {
        "id": "vTI6Z5M6ow2k"
      },
      "outputs": [],
      "source": [
        "df_portfolio2.to_csv('joint2.csv')"
      ]
    },
    {
      "cell_type": "code",
      "execution_count": 113,
      "metadata": {
        "colab": {
          "base_uri": "https://localhost:8080/",
          "height": 439
        },
        "id": "SZvNwRyAlEXQ",
        "outputId": "138f5776-37b8-4cb8-f947-1ba0666a1501"
      },
      "outputs": [
        {
          "data": {
            "image/png": "[encoded data removed]",
            "text/plain": [
              "<Figure size 1000x500 with 1 Axes>"
            ]
          },
          "metadata": {},
          "output_type": "display_data"
        }
      ],
      "source": [
        "df_portfolio0['portfolio'] = df_portfolio0[list_portfolio].sum(axis=1).cumsum()\n",
        "df_portfolio2['portfolio'] = df_portfolio2[list_portfolio].sum(axis=1).cumsum()\n",
        "\n",
        "plt.figure(figsize=(10, 5))  # Optional: adjust figure size\n",
        "\n",
        "plt.plot(list(df_portfolio0.index), df_portfolio0['portfolio'].to_list(), color='red')  # You can remove `marker` if not needed\n",
        "\n",
        "# Add grid\n",
        "plt.grid(True)\n",
        "\n",
        "# Rotate x-axis labels\n",
        "plt.xticks(rotation=45)\n",
        "\n",
        "# Optional: Add labels and title\n",
        "plt.xlabel('X-axis')\n",
        "plt.ylabel('Y-axis')\n",
        "plt.title('portfolio cum return')\n",
        "\n",
        "plt.tight_layout()  # Adjust layout to prevent clipping of labels\n",
        "\n",
        "plt.show()\n"
      ]
    },
    {
      "cell_type": "code",
      "execution_count": 114,
      "metadata": {
        "colab": {
          "base_uri": "https://localhost:8080/",
          "height": 439
        },
        "id": "KBjxny03pqT3",
        "outputId": "eb11f407-3798-4789-d829-dbe8d695a1f6"
      },
      "outputs": [
        {
          "data": {
            "image/png": "[encoded data removed]",
            "text/plain": [
              "<Figure size 1000x500 with 1 Axes>"
            ]
          },
          "metadata": {},
          "output_type": "display_data"
        }
      ],
      "source": [
        "df_portfolio0['portfolio'] = df_portfolio0[list_portfolio].sum(axis=1).cumsum()\n",
        "df_portfolio2['portfolio'] = df_portfolio2[list_portfolio].sum(axis=1).cumsum()\n",
        "\n",
        "plt.figure(figsize=(10, 5))  # Optional: adjust figure size\n",
        "\n",
        "plt.plot(list(df_portfolio1.index), df_portfolio1['portfolio'].to_list(), color='red')  # You can remove `marker` if not needed\n",
        "\n",
        "# Add grid\n",
        "plt.grid(True)\n",
        "\n",
        "# Rotate x-axis labels\n",
        "plt.xticks(rotation=45)\n",
        "\n",
        "# Optional: Add labels and title\n",
        "plt.xlabel('X-axis')\n",
        "plt.ylabel('Y-axis')\n",
        "plt.title('portfolio cum return')\n",
        "\n",
        "plt.tight_layout()  # Adjust layout to prevent clipping of labels\n",
        "\n",
        "plt.show()\n"
      ]
    },
    {
      "cell_type": "code",
      "execution_count": null,
      "metadata": {
        "colab": {
          "base_uri": "https://localhost:8080/",
          "height": 507
        },
        "id": "oPbQwKt4oAM8",
        "outputId": "434a8f3f-0c8c-4700-a8cf-e7da24bc53a8"
      },
      "outputs": [
        {
          "data": {
            "image/png": "[encoded data removed]",
            "text/plain": [
              "<Figure size 1000x500 with 1 Axes>"
            ]
          },
          "metadata": {},
          "output_type": "display_data"
        }
      ],
      "source": [
        "df_portfolio0['portfolio'] = df_portfolio0[list_portfolio].sum(axis=1).cumsum()\n",
        "df_portfolio2['portfolio'] = df_portfolio2[list_portfolio].sum(axis=1).cumsum()\n",
        "\n",
        "plt.figure(figsize=(10, 5))  # Optional: adjust figure size\n",
        "\n",
        "plt.plot(list(df_portfolio2.index), df_portfolio2['portfolio'].to_list(), color='blue')  # You can remove `marker` if not needed\n",
        "\n",
        "# Add grid\n",
        "plt.grid(True)\n",
        "\n",
        "# Rotate x-axis labels\n",
        "plt.xticks(rotation=45)\n",
        "\n",
        "# Optional: Add labels and title\n",
        "plt.xlabel('X-axis')\n",
        "plt.ylabel('Y-axis')\n",
        "plt.title('portfolio cum return')\n",
        "\n",
        "plt.tight_layout()  # Adjust layout to prevent clipping of labels\n",
        "\n",
        "plt.show()\n"
      ]
    }
  ],
  "metadata": {
    "accelerator": "GPU",
    "colab": {
      "gpuType": "L4",
      "provenance": []
    },
    "kernelspec": {
      "display_name": "Python 3",
      "name": "python3"
    },
    "language_info": {
      "name": "python"
    }
  },
  "nbformat": 4,
  "nbformat_minor": 0
}
