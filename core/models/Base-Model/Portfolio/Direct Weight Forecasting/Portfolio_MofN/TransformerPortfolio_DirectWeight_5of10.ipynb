{
  "cells": [
    {
      "cell_type": "code",
      "execution_count": 1,
      "metadata": {
        "colab": {
          "base_uri": "https://localhost:8080/"
        },
        "id": "M4JJZsmd8vbp",
        "outputId": "e6b4d5f3-9f8a-4358-871c-8e9bac2528cd"
      },
      "outputs": [
        {
          "name": "stdout",
          "output_type": "stream",
          "text": [
            "Drive already mounted at /content/drive; to attempt to forcibly remount, call drive.mount(\"/content/drive\", force_remount=True).\n"
          ]
        }
      ],
      "source": [
        "# Connect to Google Drive\n",
        "\n",
        "from google.colab import drive\n",
        "drive.mount('/content/drive')"
      ]
    },
    {
      "cell_type": "code",
      "execution_count": 2,
      "metadata": {
        "colab": {
          "base_uri": "https://localhost:8080/"
        },
        "id": "RoJfG_zvPvm4",
        "outputId": "4fd8b564-d6e3-4e70-9fd4-96aa688929bc"
      },
      "outputs": [
        {
          "name": "stdout",
          "output_type": "stream",
          "text": [
            "\n",
            "UNRAR 6.11 beta 1 freeware      Copyright (c) 1993-2022 Alexander Roshal\n",
            "\n",
            "\n",
            "Extracting from /content/drive/MyDrive/Crypro_21.rar\n",
            "\n",
            "\n",
            "Would you like to replace the existing file content/data_TSTUSDT.pkl\n",
            "16471098 bytes, modified on 2025-06-16 16:29\n",
            "with a new one\n",
            "16471098 bytes, modified on 2025-06-16 16:29\n",
            "\n",
            "[Y]es, [N]o, [A]ll, n[E]ver, [R]ename, [Q]uit \n",
            "User break\n",
            "\n",
            "User break\n"
          ]
        }
      ],
      "source": [
        "!unrar x \"/content/drive/MyDrive/Crypro_21.rar\" \"content/\""
      ]
    },
    {
      "cell_type": "markdown",
      "metadata": {
        "id": "TtD3YCrnC6me"
      },
      "source": [
        "Loading Embeded news based on Finbert"
      ]
    },
    {
      "cell_type": "code",
      "execution_count": 3,
      "metadata": {
        "id": "0hnx5gF4QxYs"
      },
      "outputs": [],
      "source": [
        "import pandas as pd\n",
        "import warnings\n",
        "warnings.filterwarnings('ignore')\n",
        "data_news_path = '../../../dataset/Crypto_1min/'\n",
        "df_news = pd.read_pickle('/content/drive/MyDrive/news_20crypto_embed_finbert.pickle')"
      ]
    },
    {
      "cell_type": "markdown",
      "metadata": {
        "id": "rutbK1ceC-38"
      },
      "source": [
        "Embedding No News sentence for using in timestamp with no news"
      ]
    },
    {
      "cell_type": "code",
      "execution_count": 4,
      "metadata": {
        "colab": {
          "base_uri": "https://localhost:8080/"
        },
        "id": "tvGCYGIUEF3I",
        "outputId": "ae04ae95-1dd1-4db1-8d6f-bae3cddf4293"
      },
      "outputs": [
        {
          "name": "stdout",
          "output_type": "stream",
          "text": [
            "Embedding shape: (768,)\n"
          ]
        }
      ],
      "source": [
        "from transformers import AutoTokenizer, AutoModel\n",
        "import torch\n",
        "\n",
        "# Load FinBERT model and tokenizer\n",
        "model_name = \"yiyanghkust/finbert-tone\"\n",
        "tokenizer = AutoTokenizer.from_pretrained(model_name)\n",
        "model = AutoModel.from_pretrained(model_name)\n",
        "\n",
        "# Your input news text\n",
        "text = \"No news.\"\n",
        "\n",
        "# Tokenize and encode the text\n",
        "inputs = tokenizer(text, return_tensors='pt', truncation=True, max_length=512)\n",
        "\n",
        "# Get the model output\n",
        "with torch.no_grad():\n",
        "    outputs = model(**inputs)\n",
        "\n",
        "# Use the [CLS] token embedding as sentence embedding\n",
        "cls_embedding = outputs.last_hidden_state[:, 0, :]  # Shape: [1, 768]\n",
        "\n",
        "# Convert to numpy array if needed\n",
        "embedding_vector = cls_embedding.squeeze().numpy()\n",
        "\n",
        "print(\"Embedding shape:\", embedding_vector.shape)\n",
        "# print(\"Embedding vector:\", embedding_vector)\n",
        "no_news_vector = list(embedding_vector)"
      ]
    },
    {
      "cell_type": "markdown",
      "metadata": {
        "id": "VOuH6VDZDUqa"
      },
      "source": [
        "Loading OHLCV of multi stocks"
      ]
    },
    {
      "cell_type": "code",
      "execution_count": 5,
      "metadata": {
        "id": "1SdJSHGWZM4G"
      },
      "outputs": [],
      "source": [
        "import os\n",
        "data_crypto_path = '/content/content/'\n",
        "list_crypto = [x[5:-4] for x in os.listdir(data_crypto_path) if 'data_' in x and 'FORMUSDT' not in x]\n",
        "# list_crypto = list_crypto[4:10]"
      ]
    },
    {
      "cell_type": "code",
      "execution_count": 6,
      "metadata": {
        "colab": {
          "base_uri": "https://localhost:8080/"
        },
        "id": "vUCTbnXmeky4",
        "outputId": "c173dc13-d6cc-43c1-bc43-0d5c591a59c1"
      },
      "outputs": [
        {
          "data": {
            "text/plain": [
              "20"
            ]
          },
          "execution_count": 6,
          "metadata": {},
          "output_type": "execute_result"
        }
      ],
      "source": [
        "len(list_crypto)"
      ]
    },
    {
      "cell_type": "code",
      "execution_count": 7,
      "metadata": {
        "id": "GOw-0uvMOWn8"
      },
      "outputs": [],
      "source": [
        "list_crypto = ['BTCUSDT', 'ETHUSDT', 'XRPUSDT', 'TRXUSDT', 'SEIUSDT',\n",
        " 'HBARUSDT', 'XLMUSDT', 'TIAUSDT', 'ARKUSDT', 'JSTUSDT']"
      ]
    },
    {
      "cell_type": "code",
      "execution_count": 8,
      "metadata": {
        "colab": {
          "base_uri": "https://localhost:8080/"
        },
        "id": "xjVhl2HuvTxA",
        "outputId": "0cd2f0d7-6cc1-448b-de77-ebc6323242ed"
      },
      "outputs": [
        {
          "name": "stdout",
          "output_type": "stream",
          "text": [
            "BTCUSDT 131041\n",
            "ETHUSDT 131041\n",
            "XRPUSDT 131041\n",
            "TRXUSDT 131041\n",
            "SEIUSDT 131041\n",
            "HBARUSDT 131041\n",
            "XLMUSDT 131041\n",
            "TIAUSDT 131041\n",
            "ARKUSDT 131041\n",
            "JSTUSDT 131041\n"
          ]
        }
      ],
      "source": [
        "list_data = []\n",
        "shifted_window = 30\n",
        "selected_f_asset = ['open', 'high', 'low', 'close', 'volume',\n",
        "    'quoteAssetVolume', 'numberOfTrades', 'takerBuyBaseVol',\n",
        "       'takerBuyQuoteVol']\n",
        "selected_f_asset = ['close', 'volume', 'numberOfTrades', 'prev_return', 'prev_volatility', 'return', 'volatility']\n",
        "selected_f_all = []\n",
        "list_target = []\n",
        "\n",
        "for symb in list_crypto:\n",
        "  df = pd.read_pickle(data_crypto_path+'data_{}.pkl'.format(symb))\n",
        "  print(symb, len(df))\n",
        "  df['return'] = 100*((df['close'].shift(-1)/df['close'])-1)\n",
        "  df['prev_return'] = 100*((df['close']/df['close'].shift(shifted_window))-1)\n",
        "  df['volatility'] = 100*df['close'].rolling(30).std().shift(-30)\n",
        "  df['prev_volatility'] = 100*df['close'].rolling(30).std()\n",
        "  df = df[selected_f_asset].rename(columns={x:symb+'_'+x for x in selected_f_asset})\n",
        "  selected_f_all.extend(list(df.columns))\n",
        "\n",
        "  df[symb+'_return'] = df[symb+'_'+'return']\n",
        "  df[symb+'_volatility'] = df[symb+'_'+'volatility']\n",
        "  list_target.append(symb+'_return')\n",
        "  list_target.append(symb+'_volatility')\n",
        "  list_data.append(df.copy())"
      ]
    },
    {
      "cell_type": "code",
      "execution_count": 9,
      "metadata": {
        "colab": {
          "base_uri": "https://localhost:8080/"
        },
        "id": "GLNlIK2ob6wf",
        "outputId": "11180737-f3c0-462b-fd1e-84d2be720b74"
      },
      "outputs": [
        {
          "data": {
            "text/plain": [
              "70"
            ]
          },
          "execution_count": 9,
          "metadata": {},
          "output_type": "execute_result"
        }
      ],
      "source": [
        "len(selected_f_all)"
      ]
    },
    {
      "cell_type": "code",
      "execution_count": 10,
      "metadata": {
        "colab": {
          "base_uri": "https://localhost:8080/",
          "height": 791
        },
        "id": "JOqUDUbXWGYb",
        "outputId": "9756e154-7484-4957-e782-c025274c4a4d"
      },
      "outputs": [
        {
          "data": {
            "application/vnd.google.colaboratory.intrinsic+json": {
              "type": "dataframe",
              "variable_name": "data"
            },
            "text/html": [
              "\n",
              "  <div id=\"df-4b2363eb-5232-41c7-bf3a-1710c3e5cf28\" class=\"colab-df-container\">\n",
              "    <div>\n",
              "<style scoped>\n",
              "    .dataframe tbody tr th:only-of-type {\n",
              "        vertical-align: middle;\n",
              "    }\n",
              "\n",
              "    .dataframe tbody tr th {\n",
              "        vertical-align: top;\n",
              "    }\n",
              "\n",
              "    .dataframe thead th {\n",
              "        text-align: right;\n",
              "    }\n",
              "</style>\n",
              "<table border=\"1\" class=\"dataframe\">\n",
              "  <thead>\n",
              "    <tr style=\"text-align: right;\">\n",
              "      <th></th>\n",
              "      <th>BTCUSDT_close</th>\n",
              "      <th>BTCUSDT_volume</th>\n",
              "      <th>BTCUSDT_numberOfTrades</th>\n",
              "      <th>BTCUSDT_prev_return</th>\n",
              "      <th>BTCUSDT_prev_volatility</th>\n",
              "      <th>BTCUSDT_return</th>\n",
              "      <th>BTCUSDT_volatility</th>\n",
              "      <th>ETHUSDT_close</th>\n",
              "      <th>ETHUSDT_volume</th>\n",
              "      <th>ETHUSDT_numberOfTrades</th>\n",
              "      <th>...</th>\n",
              "      <th>JSTUSDT_close</th>\n",
              "      <th>JSTUSDT_volume</th>\n",
              "      <th>JSTUSDT_numberOfTrades</th>\n",
              "      <th>JSTUSDT_prev_return</th>\n",
              "      <th>JSTUSDT_prev_volatility</th>\n",
              "      <th>JSTUSDT_return</th>\n",
              "      <th>JSTUSDT_volatility</th>\n",
              "      <th>dateTime</th>\n",
              "      <th>time</th>\n",
              "      <th>return</th>\n",
              "    </tr>\n",
              "  </thead>\n",
              "  <tbody>\n",
              "    <tr>\n",
              "      <th>0</th>\n",
              "      <td>91785.18</td>\n",
              "      <td>44.25582000</td>\n",
              "      <td>9784</td>\n",
              "      <td>NaN</td>\n",
              "      <td>NaN</td>\n",
              "      <td>0.057275</td>\n",
              "      <td>30532.801818</td>\n",
              "      <td>2522.98</td>\n",
              "      <td>1236.00450000</td>\n",
              "      <td>7010</td>\n",
              "      <td>...</td>\n",
              "      <td>0.03331</td>\n",
              "      <td>18269.00000000</td>\n",
              "      <td>13</td>\n",
              "      <td>NaN</td>\n",
              "      <td>NaN</td>\n",
              "      <td>0.030021</td>\n",
              "      <td>0.008186</td>\n",
              "      <td>2025-02-25 00:00:00</td>\n",
              "      <td>2025-02-25 00:00:00</td>\n",
              "      <td>NaN</td>\n",
              "    </tr>\n",
              "    <tr>\n",
              "      <th>1</th>\n",
              "      <td>91837.75</td>\n",
              "      <td>29.64367000</td>\n",
              "      <td>7048</td>\n",
              "      <td>NaN</td>\n",
              "      <td>NaN</td>\n",
              "      <td>0.134171</td>\n",
              "      <td>30363.719702</td>\n",
              "      <td>2525.15</td>\n",
              "      <td>609.72690000</td>\n",
              "      <td>4877</td>\n",
              "      <td>...</td>\n",
              "      <td>0.03332</td>\n",
              "      <td>2854.40000000</td>\n",
              "      <td>4</td>\n",
              "      <td>NaN</td>\n",
              "      <td>NaN</td>\n",
              "      <td>0.000000</td>\n",
              "      <td>0.007935</td>\n",
              "      <td>2025-02-25 00:01:00</td>\n",
              "      <td>2025-02-25 00:01:00</td>\n",
              "      <td>0.000573</td>\n",
              "    </tr>\n",
              "    <tr>\n",
              "      <th>2</th>\n",
              "      <td>91960.97</td>\n",
              "      <td>70.22032000</td>\n",
              "      <td>6386</td>\n",
              "      <td>NaN</td>\n",
              "      <td>NaN</td>\n",
              "      <td>-0.106784</td>\n",
              "      <td>29798.433752</td>\n",
              "      <td>2529.97</td>\n",
              "      <td>672.80150000</td>\n",
              "      <td>3844</td>\n",
              "      <td>...</td>\n",
              "      <td>0.03332</td>\n",
              "      <td>89531.30000000</td>\n",
              "      <td>8</td>\n",
              "      <td>NaN</td>\n",
              "      <td>NaN</td>\n",
              "      <td>0.030012</td>\n",
              "      <td>0.007655</td>\n",
              "      <td>2025-02-25 00:02:00</td>\n",
              "      <td>2025-02-25 00:02:00</td>\n",
              "      <td>0.001342</td>\n",
              "    </tr>\n",
              "    <tr>\n",
              "      <th>3</th>\n",
              "      <td>91862.77</td>\n",
              "      <td>50.83532000</td>\n",
              "      <td>4539</td>\n",
              "      <td>NaN</td>\n",
              "      <td>NaN</td>\n",
              "      <td>-0.209748</td>\n",
              "      <td>29594.091863</td>\n",
              "      <td>2525.85</td>\n",
              "      <td>595.41120000</td>\n",
              "      <td>3903</td>\n",
              "      <td>...</td>\n",
              "      <td>0.03333</td>\n",
              "      <td>328.80000000</td>\n",
              "      <td>1</td>\n",
              "      <td>NaN</td>\n",
              "      <td>NaN</td>\n",
              "      <td>-0.120012</td>\n",
              "      <td>0.007285</td>\n",
              "      <td>2025-02-25 00:03:00</td>\n",
              "      <td>2025-02-25 00:03:00</td>\n",
              "      <td>-0.001068</td>\n",
              "    </tr>\n",
              "    <tr>\n",
              "      <th>4</th>\n",
              "      <td>91670.09</td>\n",
              "      <td>62.93148000</td>\n",
              "      <td>11779</td>\n",
              "      <td>NaN</td>\n",
              "      <td>NaN</td>\n",
              "      <td>0.141704</td>\n",
              "      <td>29585.077527</td>\n",
              "      <td>2516.18</td>\n",
              "      <td>1280.56490000</td>\n",
              "      <td>9605</td>\n",
              "      <td>...</td>\n",
              "      <td>0.03329</td>\n",
              "      <td>18030.80000000</td>\n",
              "      <td>13</td>\n",
              "      <td>NaN</td>\n",
              "      <td>NaN</td>\n",
              "      <td>0.030039</td>\n",
              "      <td>0.007097</td>\n",
              "      <td>2025-02-25 00:04:00</td>\n",
              "      <td>2025-02-25 00:04:00</td>\n",
              "      <td>-0.002097</td>\n",
              "    </tr>\n",
              "    <tr>\n",
              "      <th>...</th>\n",
              "      <td>...</td>\n",
              "      <td>...</td>\n",
              "      <td>...</td>\n",
              "      <td>...</td>\n",
              "      <td>...</td>\n",
              "      <td>...</td>\n",
              "      <td>...</td>\n",
              "      <td>...</td>\n",
              "      <td>...</td>\n",
              "      <td>...</td>\n",
              "      <td>...</td>\n",
              "      <td>...</td>\n",
              "      <td>...</td>\n",
              "      <td>...</td>\n",
              "      <td>...</td>\n",
              "      <td>...</td>\n",
              "      <td>...</td>\n",
              "      <td>...</td>\n",
              "      <td>...</td>\n",
              "      <td>...</td>\n",
              "      <td>...</td>\n",
              "    </tr>\n",
              "    <tr>\n",
              "      <th>131036</th>\n",
              "      <td>109394.14</td>\n",
              "      <td>1.80238000</td>\n",
              "      <td>514</td>\n",
              "      <td>0.142651</td>\n",
              "      <td>7155.315753</td>\n",
              "      <td>0.013666</td>\n",
              "      <td>NaN</td>\n",
              "      <td>2562.98</td>\n",
              "      <td>50.44800000</td>\n",
              "      <td>421</td>\n",
              "      <td>...</td>\n",
              "      <td>0.03559</td>\n",
              "      <td>1595.40000000</td>\n",
              "      <td>2</td>\n",
              "      <td>0.140687</td>\n",
              "      <td>0.002047</td>\n",
              "      <td>0.000000</td>\n",
              "      <td>NaN</td>\n",
              "      <td>2025-05-26 23:56:00</td>\n",
              "      <td>2025-05-26 23:56:00</td>\n",
              "      <td>-0.000065</td>\n",
              "    </tr>\n",
              "    <tr>\n",
              "      <th>131037</th>\n",
              "      <td>109409.09</td>\n",
              "      <td>5.64688000</td>\n",
              "      <td>698</td>\n",
              "      <td>0.180025</td>\n",
              "      <td>6913.379611</td>\n",
              "      <td>0.007742</td>\n",
              "      <td>NaN</td>\n",
              "      <td>2563.49</td>\n",
              "      <td>77.09600000</td>\n",
              "      <td>508</td>\n",
              "      <td>...</td>\n",
              "      <td>0.03559</td>\n",
              "      <td>836.40000000</td>\n",
              "      <td>2</td>\n",
              "      <td>0.168871</td>\n",
              "      <td>0.001946</td>\n",
              "      <td>-0.028098</td>\n",
              "      <td>NaN</td>\n",
              "      <td>2025-05-26 23:57:00</td>\n",
              "      <td>2025-05-26 23:57:00</td>\n",
              "      <td>0.000137</td>\n",
              "    </tr>\n",
              "    <tr>\n",
              "      <th>131038</th>\n",
              "      <td>109417.56</td>\n",
              "      <td>0.52540000</td>\n",
              "      <td>224</td>\n",
              "      <td>0.187661</td>\n",
              "      <td>6626.350282</td>\n",
              "      <td>0.015747</td>\n",
              "      <td>NaN</td>\n",
              "      <td>2563.20</td>\n",
              "      <td>60.38830000</td>\n",
              "      <td>171</td>\n",
              "      <td>...</td>\n",
              "      <td>0.03558</td>\n",
              "      <td>1531.20000000</td>\n",
              "      <td>1</td>\n",
              "      <td>0.112549</td>\n",
              "      <td>0.001864</td>\n",
              "      <td>0.028106</td>\n",
              "      <td>NaN</td>\n",
              "      <td>2025-05-26 23:58:00</td>\n",
              "      <td>2025-05-26 23:58:00</td>\n",
              "      <td>0.000077</td>\n",
              "    </tr>\n",
              "    <tr>\n",
              "      <th>131039</th>\n",
              "      <td>109434.79</td>\n",
              "      <td>3.88664000</td>\n",
              "      <td>1349</td>\n",
              "      <td>0.197704</td>\n",
              "      <td>6365.351309</td>\n",
              "      <td>-0.038626</td>\n",
              "      <td>NaN</td>\n",
              "      <td>2563.70</td>\n",
              "      <td>99.02600000</td>\n",
              "      <td>711</td>\n",
              "      <td>...</td>\n",
              "      <td>0.03559</td>\n",
              "      <td>7002.90000000</td>\n",
              "      <td>5</td>\n",
              "      <td>0.168871</td>\n",
              "      <td>0.001714</td>\n",
              "      <td>-0.028098</td>\n",
              "      <td>NaN</td>\n",
              "      <td>2025-05-26 23:59:00</td>\n",
              "      <td>2025-05-26 23:59:00</td>\n",
              "      <td>0.000157</td>\n",
              "    </tr>\n",
              "    <tr>\n",
              "      <th>131040</th>\n",
              "      <td>109392.52</td>\n",
              "      <td>2.73521000</td>\n",
              "      <td>1338</td>\n",
              "      <td>0.157278</td>\n",
              "      <td>5887.458809</td>\n",
              "      <td>NaN</td>\n",
              "      <td>NaN</td>\n",
              "      <td>2562.30</td>\n",
              "      <td>363.41840000</td>\n",
              "      <td>1449</td>\n",
              "      <td>...</td>\n",
              "      <td>0.03558</td>\n",
              "      <td>14501.50000000</td>\n",
              "      <td>9</td>\n",
              "      <td>0.112549</td>\n",
              "      <td>0.001592</td>\n",
              "      <td>NaN</td>\n",
              "      <td>NaN</td>\n",
              "      <td>2025-05-27 00:00:00</td>\n",
              "      <td>2025-05-27 00:00:00</td>\n",
              "      <td>-0.000386</td>\n",
              "    </tr>\n",
              "  </tbody>\n",
              "</table>\n",
              "<p>131041 rows × 73 columns</p>\n",
              "</div>\n",
              "    <div class=\"colab-df-buttons\">\n",
              "\n",
              "  <div class=\"colab-df-container\">\n",
              "    <button class=\"colab-df-convert\" onclick=\"convertToInteractive('df-4b2363eb-5232-41c7-bf3a-1710c3e5cf28')\"\n",
              "            title=\"Convert this dataframe to an interactive table.\"\n",
              "            style=\"display:none;\">\n",
              "\n",
              "  <svg xmlns=\"http://www.w3.org/2000/svg\" height=\"24px\" viewBox=\"0 -960 960 960\">\n",
              "    <path d=\"M120-120v-720h720v720H120Zm60-500h600v-160H180v160Zm220 220h160v-160H400v160Zm0 220h160v-160H400v160ZM180-400h160v-160H180v160Zm440 0h160v-160H620v160ZM180-180h160v-160H180v160Zm440 0h160v-160H620v160Z\"/>\n",
              "  </svg>\n",
              "    </button>\n",
              "\n",
              "  <style>\n",
              "    .colab-df-container {\n",
              "      display:flex;\n",
              "      gap: 12px;\n",
              "    }\n",
              "\n",
              "    .colab-df-convert {\n",
              "      background-color: #E8F0FE;\n",
              "      border: none;\n",
              "      border-radius: 50%;\n",
              "      cursor: pointer;\n",
              "      display: none;\n",
              "      fill: #1967D2;\n",
              "      height: 32px;\n",
              "      padding: 0 0 0 0;\n",
              "      width: 32px;\n",
              "    }\n",
              "\n",
              "    .colab-df-convert:hover {\n",
              "      background-color: #E2EBFA;\n",
              "      box-shadow: 0px 1px 2px rgba(60, 64, 67, 0.3), 0px 1px 3px 1px rgba(60, 64, 67, 0.15);\n",
              "      fill: #174EA6;\n",
              "    }\n",
              "\n",
              "    .colab-df-buttons div {\n",
              "      margin-bottom: 4px;\n",
              "    }\n",
              "\n",
              "    [theme=dark] .colab-df-convert {\n",
              "      background-color: #3B4455;\n",
              "      fill: #D2E3FC;\n",
              "    }\n",
              "\n",
              "    [theme=dark] .colab-df-convert:hover {\n",
              "      background-color: #434B5C;\n",
              "      box-shadow: 0px 1px 3px 1px rgba(0, 0, 0, 0.15);\n",
              "      filter: drop-shadow(0px 1px 2px rgba(0, 0, 0, 0.3));\n",
              "      fill: #FFFFFF;\n",
              "    }\n",
              "  </style>\n",
              "\n",
              "    <script>\n",
              "      const buttonEl =\n",
              "        document.querySelector('#df-4b2363eb-5232-41c7-bf3a-1710c3e5cf28 button.colab-df-convert');\n",
              "      buttonEl.style.display =\n",
              "        google.colab.kernel.accessAllowed ? 'block' : 'none';\n",
              "\n",
              "      async function convertToInteractive(key) {\n",
              "        const element = document.querySelector('#df-4b2363eb-5232-41c7-bf3a-1710c3e5cf28');\n",
              "        const dataTable =\n",
              "          await google.colab.kernel.invokeFunction('convertToInteractive',\n",
              "                                                    [key], {});\n",
              "        if (!dataTable) return;\n",
              "\n",
              "        const docLinkHtml = 'Like what you see? Visit the ' +\n",
              "          '<a target=\"_blank\" href=https://colab.research.google.com/notebooks/data_table.ipynb>data table notebook</a>'\n",
              "          + ' to learn more about interactive tables.';\n",
              "        element.innerHTML = '';\n",
              "        dataTable['output_type'] = 'display_data';\n",
              "        await google.colab.output.renderOutput(dataTable, element);\n",
              "        const docLink = document.createElement('div');\n",
              "        docLink.innerHTML = docLinkHtml;\n",
              "        element.appendChild(docLink);\n",
              "      }\n",
              "    </script>\n",
              "  </div>\n",
              "\n",
              "\n",
              "    <div id=\"df-6e74fcfe-e945-40d2-879d-5b686cdf1a35\">\n",
              "      <button class=\"colab-df-quickchart\" onclick=\"quickchart('df-6e74fcfe-e945-40d2-879d-5b686cdf1a35')\"\n",
              "                title=\"Suggest charts\"\n",
              "                style=\"display:none;\">\n",
              "\n",
              "<svg xmlns=\"http://www.w3.org/2000/svg\" height=\"24px\"viewBox=\"0 0 24 24\"\n",
              "     width=\"24px\">\n",
              "    <g>\n",
              "        <path d=\"M19 3H5c-1.1 0-2 .9-2 2v14c0 1.1.9 2 2 2h14c1.1 0 2-.9 2-2V5c0-1.1-.9-2-2-2zM9 17H7v-7h2v7zm4 0h-2V7h2v10zm4 0h-2v-4h2v4z\"/>\n",
              "    </g>\n",
              "</svg>\n",
              "      </button>\n",
              "\n",
              "<style>\n",
              "  .colab-df-quickchart {\n",
              "      --bg-color: #E8F0FE;\n",
              "      --fill-color: #1967D2;\n",
              "      --hover-bg-color: #E2EBFA;\n",
              "      --hover-fill-color: #174EA6;\n",
              "      --disabled-fill-color: #AAA;\n",
              "      --disabled-bg-color: #DDD;\n",
              "  }\n",
              "\n",
              "  [theme=dark] .colab-df-quickchart {\n",
              "      --bg-color: #3B4455;\n",
              "      --fill-color: #D2E3FC;\n",
              "      --hover-bg-color: #434B5C;\n",
              "      --hover-fill-color: #FFFFFF;\n",
              "      --disabled-bg-color: #3B4455;\n",
              "      --disabled-fill-color: #666;\n",
              "  }\n",
              "\n",
              "  .colab-df-quickchart {\n",
              "    background-color: var(--bg-color);\n",
              "    border: none;\n",
              "    border-radius: 50%;\n",
              "    cursor: pointer;\n",
              "    display: none;\n",
              "    fill: var(--fill-color);\n",
              "    height: 32px;\n",
              "    padding: 0;\n",
              "    width: 32px;\n",
              "  }\n",
              "\n",
              "  .colab-df-quickchart:hover {\n",
              "    background-color: var(--hover-bg-color);\n",
              "    box-shadow: 0 1px 2px rgba(60, 64, 67, 0.3), 0 1px 3px 1px rgba(60, 64, 67, 0.15);\n",
              "    fill: var(--button-hover-fill-color);\n",
              "  }\n",
              "\n",
              "  .colab-df-quickchart-complete:disabled,\n",
              "  .colab-df-quickchart-complete:disabled:hover {\n",
              "    background-color: var(--disabled-bg-color);\n",
              "    fill: var(--disabled-fill-color);\n",
              "    box-shadow: none;\n",
              "  }\n",
              "\n",
              "  .colab-df-spinner {\n",
              "    border: 2px solid var(--fill-color);\n",
              "    border-color: transparent;\n",
              "    border-bottom-color: var(--fill-color);\n",
              "    animation:\n",
              "      spin 1s steps(1) infinite;\n",
              "  }\n",
              "\n",
              "  @keyframes spin {\n",
              "    0% {\n",
              "      border-color: transparent;\n",
              "      border-bottom-color: var(--fill-color);\n",
              "      border-left-color: var(--fill-color);\n",
              "    }\n",
              "    20% {\n",
              "      border-color: transparent;\n",
              "      border-left-color: var(--fill-color);\n",
              "      border-top-color: var(--fill-color);\n",
              "    }\n",
              "    30% {\n",
              "      border-color: transparent;\n",
              "      border-left-color: var(--fill-color);\n",
              "      border-top-color: var(--fill-color);\n",
              "      border-right-color: var(--fill-color);\n",
              "    }\n",
              "    40% {\n",
              "      border-color: transparent;\n",
              "      border-right-color: var(--fill-color);\n",
              "      border-top-color: var(--fill-color);\n",
              "    }\n",
              "    60% {\n",
              "      border-color: transparent;\n",
              "      border-right-color: var(--fill-color);\n",
              "    }\n",
              "    80% {\n",
              "      border-color: transparent;\n",
              "      border-right-color: var(--fill-color);\n",
              "      border-bottom-color: var(--fill-color);\n",
              "    }\n",
              "    90% {\n",
              "      border-color: transparent;\n",
              "      border-bottom-color: var(--fill-color);\n",
              "    }\n",
              "  }\n",
              "</style>\n",
              "\n",
              "      <script>\n",
              "        async function quickchart(key) {\n",
              "          const quickchartButtonEl =\n",
              "            document.querySelector('#' + key + ' button');\n",
              "          quickchartButtonEl.disabled = true;  // To prevent multiple clicks.\n",
              "          quickchartButtonEl.classList.add('colab-df-spinner');\n",
              "          try {\n",
              "            const charts = await google.colab.kernel.invokeFunction(\n",
              "                'suggestCharts', [key], {});\n",
              "          } catch (error) {\n",
              "            console.error('Error during call to suggestCharts:', error);\n",
              "          }\n",
              "          quickchartButtonEl.classList.remove('colab-df-spinner');\n",
              "          quickchartButtonEl.classList.add('colab-df-quickchart-complete');\n",
              "        }\n",
              "        (() => {\n",
              "          let quickchartButtonEl =\n",
              "            document.querySelector('#df-6e74fcfe-e945-40d2-879d-5b686cdf1a35 button');\n",
              "          quickchartButtonEl.style.display =\n",
              "            google.colab.kernel.accessAllowed ? 'block' : 'none';\n",
              "        })();\n",
              "      </script>\n",
              "    </div>\n",
              "\n",
              "  <div id=\"id_66cf382b-b6e4-4890-839c-d681a38149be\">\n",
              "    <style>\n",
              "      .colab-df-generate {\n",
              "        background-color: #E8F0FE;\n",
              "        border: none;\n",
              "        border-radius: 50%;\n",
              "        cursor: pointer;\n",
              "        display: none;\n",
              "        fill: #1967D2;\n",
              "        height: 32px;\n",
              "        padding: 0 0 0 0;\n",
              "        width: 32px;\n",
              "      }\n",
              "\n",
              "      .colab-df-generate:hover {\n",
              "        background-color: #E2EBFA;\n",
              "        box-shadow: 0px 1px 2px rgba(60, 64, 67, 0.3), 0px 1px 3px 1px rgba(60, 64, 67, 0.15);\n",
              "        fill: #174EA6;\n",
              "      }\n",
              "\n",
              "      [theme=dark] .colab-df-generate {\n",
              "        background-color: #3B4455;\n",
              "        fill: #D2E3FC;\n",
              "      }\n",
              "\n",
              "      [theme=dark] .colab-df-generate:hover {\n",
              "        background-color: #434B5C;\n",
              "        box-shadow: 0px 1px 3px 1px rgba(0, 0, 0, 0.15);\n",
              "        filter: drop-shadow(0px 1px 2px rgba(0, 0, 0, 0.3));\n",
              "        fill: #FFFFFF;\n",
              "      }\n",
              "    </style>\n",
              "    <button class=\"colab-df-generate\" onclick=\"generateWithVariable('data')\"\n",
              "            title=\"Generate code using this dataframe.\"\n",
              "            style=\"display:none;\">\n",
              "\n",
              "  <svg xmlns=\"http://www.w3.org/2000/svg\" height=\"24px\"viewBox=\"0 0 24 24\"\n",
              "       width=\"24px\">\n",
              "    <path d=\"M7,19H8.4L18.45,9,17,7.55,7,17.6ZM5,21V16.75L18.45,3.32a2,2,0,0,1,2.83,0l1.4,1.43a1.91,1.91,0,0,1,.58,1.4,1.91,1.91,0,0,1-.58,1.4L9.25,21ZM18.45,9,17,7.55Zm-12,3A5.31,5.31,0,0,0,4.9,8.1,5.31,5.31,0,0,0,1,6.5,5.31,5.31,0,0,0,4.9,4.9,5.31,5.31,0,0,0,6.5,1,5.31,5.31,0,0,0,8.1,4.9,5.31,5.31,0,0,0,12,6.5,5.46,5.46,0,0,0,6.5,12Z\"/>\n",
              "  </svg>\n",
              "    </button>\n",
              "    <script>\n",
              "      (() => {\n",
              "      const buttonEl =\n",
              "        document.querySelector('#id_66cf382b-b6e4-4890-839c-d681a38149be button.colab-df-generate');\n",
              "      buttonEl.style.display =\n",
              "        google.colab.kernel.accessAllowed ? 'block' : 'none';\n",
              "\n",
              "      buttonEl.onclick = () => {\n",
              "        google.colab.notebook.generateWithVariable('data');\n",
              "      }\n",
              "      })();\n",
              "    </script>\n",
              "  </div>\n",
              "\n",
              "    </div>\n",
              "  </div>\n"
            ],
            "text/plain": [
              "        BTCUSDT_close BTCUSDT_volume  BTCUSDT_numberOfTrades  \\\n",
              "0            91785.18    44.25582000                    9784   \n",
              "1            91837.75    29.64367000                    7048   \n",
              "2            91960.97    70.22032000                    6386   \n",
              "3            91862.77    50.83532000                    4539   \n",
              "4            91670.09    62.93148000                   11779   \n",
              "...               ...            ...                     ...   \n",
              "131036      109394.14     1.80238000                     514   \n",
              "131037      109409.09     5.64688000                     698   \n",
              "131038      109417.56     0.52540000                     224   \n",
              "131039      109434.79     3.88664000                    1349   \n",
              "131040      109392.52     2.73521000                    1338   \n",
              "\n",
              "        BTCUSDT_prev_return  BTCUSDT_prev_volatility  BTCUSDT_return  \\\n",
              "0                       NaN                      NaN        0.057275   \n",
              "1                       NaN                      NaN        0.134171   \n",
              "2                       NaN                      NaN       -0.106784   \n",
              "3                       NaN                      NaN       -0.209748   \n",
              "4                       NaN                      NaN        0.141704   \n",
              "...                     ...                      ...             ...   \n",
              "131036             0.142651              7155.315753        0.013666   \n",
              "131037             0.180025              6913.379611        0.007742   \n",
              "131038             0.187661              6626.350282        0.015747   \n",
              "131039             0.197704              6365.351309       -0.038626   \n",
              "131040             0.157278              5887.458809             NaN   \n",
              "\n",
              "        BTCUSDT_volatility  ETHUSDT_close ETHUSDT_volume  \\\n",
              "0             30532.801818        2522.98  1236.00450000   \n",
              "1             30363.719702        2525.15   609.72690000   \n",
              "2             29798.433752        2529.97   672.80150000   \n",
              "3             29594.091863        2525.85   595.41120000   \n",
              "4             29585.077527        2516.18  1280.56490000   \n",
              "...                    ...            ...            ...   \n",
              "131036                 NaN        2562.98    50.44800000   \n",
              "131037                 NaN        2563.49    77.09600000   \n",
              "131038                 NaN        2563.20    60.38830000   \n",
              "131039                 NaN        2563.70    99.02600000   \n",
              "131040                 NaN        2562.30   363.41840000   \n",
              "\n",
              "        ETHUSDT_numberOfTrades  ...  JSTUSDT_close  JSTUSDT_volume  \\\n",
              "0                         7010  ...        0.03331  18269.00000000   \n",
              "1                         4877  ...        0.03332   2854.40000000   \n",
              "2                         3844  ...        0.03332  89531.30000000   \n",
              "3                         3903  ...        0.03333    328.80000000   \n",
              "4                         9605  ...        0.03329  18030.80000000   \n",
              "...                        ...  ...            ...             ...   \n",
              "131036                     421  ...        0.03559   1595.40000000   \n",
              "131037                     508  ...        0.03559    836.40000000   \n",
              "131038                     171  ...        0.03558   1531.20000000   \n",
              "131039                     711  ...        0.03559   7002.90000000   \n",
              "131040                    1449  ...        0.03558  14501.50000000   \n",
              "\n",
              "        JSTUSDT_numberOfTrades  JSTUSDT_prev_return  JSTUSDT_prev_volatility  \\\n",
              "0                           13                  NaN                      NaN   \n",
              "1                            4                  NaN                      NaN   \n",
              "2                            8                  NaN                      NaN   \n",
              "3                            1                  NaN                      NaN   \n",
              "4                           13                  NaN                      NaN   \n",
              "...                        ...                  ...                      ...   \n",
              "131036                       2             0.140687                 0.002047   \n",
              "131037                       2             0.168871                 0.001946   \n",
              "131038                       1             0.112549                 0.001864   \n",
              "131039                       5             0.168871                 0.001714   \n",
              "131040                       9             0.112549                 0.001592   \n",
              "\n",
              "       JSTUSDT_return  JSTUSDT_volatility            dateTime  \\\n",
              "0            0.030021            0.008186 2025-02-25 00:00:00   \n",
              "1            0.000000            0.007935 2025-02-25 00:01:00   \n",
              "2            0.030012            0.007655 2025-02-25 00:02:00   \n",
              "3           -0.120012            0.007285 2025-02-25 00:03:00   \n",
              "4            0.030039            0.007097 2025-02-25 00:04:00   \n",
              "...               ...                 ...                 ...   \n",
              "131036       0.000000                 NaN 2025-05-26 23:56:00   \n",
              "131037      -0.028098                 NaN 2025-05-26 23:57:00   \n",
              "131038       0.028106                 NaN 2025-05-26 23:58:00   \n",
              "131039      -0.028098                 NaN 2025-05-26 23:59:00   \n",
              "131040            NaN                 NaN 2025-05-27 00:00:00   \n",
              "\n",
              "                       time    return  \n",
              "0       2025-02-25 00:00:00       NaN  \n",
              "1       2025-02-25 00:01:00  0.000573  \n",
              "2       2025-02-25 00:02:00  0.001342  \n",
              "3       2025-02-25 00:03:00 -0.001068  \n",
              "4       2025-02-25 00:04:00 -0.002097  \n",
              "...                     ...       ...  \n",
              "131036  2025-05-26 23:56:00 -0.000065  \n",
              "131037  2025-05-26 23:57:00  0.000137  \n",
              "131038  2025-05-26 23:58:00  0.000077  \n",
              "131039  2025-05-26 23:59:00  0.000157  \n",
              "131040  2025-05-27 00:00:00 -0.000386  \n",
              "\n",
              "[131041 rows x 73 columns]"
            ]
          },
          "execution_count": 10,
          "metadata": {},
          "output_type": "execute_result"
        }
      ],
      "source": [
        "data = pd.concat(list_data,axis=1)\n",
        "df = pd.read_pickle(data_crypto_path+'data_{}.pkl'.format('BTCUSDT'))\n",
        "df['return'] = df['close'].pct_change()\n",
        "data['dateTime'] = df['dateTime']\n",
        "data['time'] = data['dateTime'].astype(str).copy()\n",
        "data['return'] = df['close'].pct_change()\n",
        "data"
      ]
    },
    {
      "cell_type": "markdown",
      "metadata": {
        "id": "ulfB6WjhDelm"
      },
      "source": [
        "Preparing embedding of news (Handling multi news and no news)"
      ]
    },
    {
      "cell_type": "code",
      "execution_count": 11,
      "metadata": {
        "colab": {
          "base_uri": "https://localhost:8080/"
        },
        "id": "CuQaN9TBQVEy",
        "outputId": "bab975cf-06e1-40ab-eebb-b3935ebeef8a"
      },
      "outputs": [
        {
          "data": {
            "text/plain": [
              "0.18681939240390413"
            ]
          },
          "execution_count": 11,
          "metadata": {},
          "output_type": "execute_result"
        }
      ],
      "source": [
        "data['day'] = data['dateTime'].apply(lambda x:str(x)[:10])\n",
        "data[data['day']>='2025-05-10'].shape[0]/data.shape[0]"
      ]
    },
    {
      "cell_type": "code",
      "execution_count": 12,
      "metadata": {
        "id": "ZrcDQ89lGBgG"
      },
      "outputs": [],
      "source": [
        "import numpy as np\n",
        "df_news['embedding'] = df_news['embedding'].apply(lambda x: np.array(x))\n",
        "\n",
        "df_grouped = df_news[['time', 'embedding', 'count']].groupby('time')['embedding'].apply(\n",
        "    lambda x: np.mean(np.stack(x.values), axis=0)\n",
        ").reset_index()\n",
        "data_all = data.merge(df_grouped, on='time', how='left')\n",
        "data_all['embedding'] = data_all['embedding'].apply(\n",
        "    lambda x: no_news_vector if x is np.nan or x is None else x\n",
        ")"
      ]
    },
    {
      "cell_type": "code",
      "execution_count": 13,
      "metadata": {
        "colab": {
          "base_uri": "https://localhost:8080/"
        },
        "id": "7C3hYw_6e3jr",
        "outputId": "4565d6c4-25bf-4fc3-f9ed-cd8a181cc841"
      },
      "outputs": [
        {
          "data": {
            "text/plain": [
              "['BTC', 'ETH', 'XRP', 'TRX', 'SEI', 'HBAR', 'XLM', 'TIA', 'ARK', 'JST']"
            ]
          },
          "execution_count": 13,
          "metadata": {},
          "output_type": "execute_result"
        }
      ],
      "source": [
        "list_crypto_first = [x[:-4] for x in list_crypto]\n",
        "list_crypto_first"
      ]
    },
    {
      "cell_type": "code",
      "execution_count": 14,
      "metadata": {
        "id": "w4FR3DMt-8PD"
      },
      "outputs": [],
      "source": [
        "data_all = data_all[data_all['time']>=df_news['time'].min()][data_all['time']<=df_news['time'].max()]"
      ]
    },
    {
      "cell_type": "markdown",
      "metadata": {
        "id": "_lPXu_E1Dwq3"
      },
      "source": [
        "Showing Data"
      ]
    },
    {
      "cell_type": "code",
      "execution_count": 15,
      "metadata": {
        "colab": {
          "base_uri": "https://localhost:8080/",
          "height": 443
        },
        "id": "KnoYdNDeA4KT",
        "outputId": "72d3fca1-c0e9-4bd6-ef1d-3644985b31c0"
      },
      "outputs": [
        {
          "data": {
            "application/vnd.google.colaboratory.intrinsic+json": {
              "type": "dataframe"
            },
            "text/html": [
              "\n",
              "  <div id=\"df-306c8469-afe2-4857-90d2-ef8b276400e5\" class=\"colab-df-container\">\n",
              "    <div>\n",
              "<style scoped>\n",
              "    .dataframe tbody tr th:only-of-type {\n",
              "        vertical-align: middle;\n",
              "    }\n",
              "\n",
              "    .dataframe tbody tr th {\n",
              "        vertical-align: top;\n",
              "    }\n",
              "\n",
              "    .dataframe thead th {\n",
              "        text-align: right;\n",
              "    }\n",
              "</style>\n",
              "<table border=\"1\" class=\"dataframe\">\n",
              "  <thead>\n",
              "    <tr style=\"text-align: right;\">\n",
              "      <th></th>\n",
              "      <th>BTCUSDT_close</th>\n",
              "      <th>BTCUSDT_volume</th>\n",
              "      <th>BTCUSDT_numberOfTrades</th>\n",
              "      <th>BTCUSDT_prev_return</th>\n",
              "      <th>BTCUSDT_prev_volatility</th>\n",
              "      <th>BTCUSDT_return</th>\n",
              "      <th>BTCUSDT_volatility</th>\n",
              "      <th>ETHUSDT_close</th>\n",
              "      <th>ETHUSDT_volume</th>\n",
              "      <th>ETHUSDT_numberOfTrades</th>\n",
              "      <th>...</th>\n",
              "      <th>ARKUSDT_prev_volatility</th>\n",
              "      <th>ARKUSDT_return</th>\n",
              "      <th>ARKUSDT_volatility</th>\n",
              "      <th>JSTUSDT_close</th>\n",
              "      <th>JSTUSDT_volume</th>\n",
              "      <th>JSTUSDT_numberOfTrades</th>\n",
              "      <th>JSTUSDT_prev_return</th>\n",
              "      <th>JSTUSDT_prev_volatility</th>\n",
              "      <th>JSTUSDT_return</th>\n",
              "      <th>JSTUSDT_volatility</th>\n",
              "    </tr>\n",
              "  </thead>\n",
              "  <tbody>\n",
              "    <tr>\n",
              "      <th>0</th>\n",
              "      <td>91785.18</td>\n",
              "      <td>44.25582000</td>\n",
              "      <td>9784</td>\n",
              "      <td>NaN</td>\n",
              "      <td>NaN</td>\n",
              "      <td>0.057275</td>\n",
              "      <td>30532.801818</td>\n",
              "      <td>2522.98</td>\n",
              "      <td>1236.00450000</td>\n",
              "      <td>7010</td>\n",
              "      <td>...</td>\n",
              "      <td>NaN</td>\n",
              "      <td>0.164628</td>\n",
              "      <td>0.395882</td>\n",
              "      <td>0.03331</td>\n",
              "      <td>18269.00000000</td>\n",
              "      <td>13</td>\n",
              "      <td>NaN</td>\n",
              "      <td>NaN</td>\n",
              "      <td>0.030021</td>\n",
              "      <td>0.008186</td>\n",
              "    </tr>\n",
              "    <tr>\n",
              "      <th>1</th>\n",
              "      <td>91837.75</td>\n",
              "      <td>29.64367000</td>\n",
              "      <td>7048</td>\n",
              "      <td>NaN</td>\n",
              "      <td>NaN</td>\n",
              "      <td>0.134171</td>\n",
              "      <td>30363.719702</td>\n",
              "      <td>2525.15</td>\n",
              "      <td>609.72690000</td>\n",
              "      <td>4877</td>\n",
              "      <td>...</td>\n",
              "      <td>NaN</td>\n",
              "      <td>0.117398</td>\n",
              "      <td>0.394875</td>\n",
              "      <td>0.03332</td>\n",
              "      <td>2854.40000000</td>\n",
              "      <td>4</td>\n",
              "      <td>NaN</td>\n",
              "      <td>NaN</td>\n",
              "      <td>0.000000</td>\n",
              "      <td>0.007935</td>\n",
              "    </tr>\n",
              "    <tr>\n",
              "      <th>2</th>\n",
              "      <td>91960.97</td>\n",
              "      <td>70.22032000</td>\n",
              "      <td>6386</td>\n",
              "      <td>NaN</td>\n",
              "      <td>NaN</td>\n",
              "      <td>-0.106784</td>\n",
              "      <td>29798.433752</td>\n",
              "      <td>2529.97</td>\n",
              "      <td>672.80150000</td>\n",
              "      <td>3844</td>\n",
              "      <td>...</td>\n",
              "      <td>NaN</td>\n",
              "      <td>-0.070356</td>\n",
              "      <td>0.391564</td>\n",
              "      <td>0.03332</td>\n",
              "      <td>89531.30000000</td>\n",
              "      <td>8</td>\n",
              "      <td>NaN</td>\n",
              "      <td>NaN</td>\n",
              "      <td>0.030012</td>\n",
              "      <td>0.007655</td>\n",
              "    </tr>\n",
              "    <tr>\n",
              "      <th>3</th>\n",
              "      <td>91862.77</td>\n",
              "      <td>50.83532000</td>\n",
              "      <td>4539</td>\n",
              "      <td>NaN</td>\n",
              "      <td>NaN</td>\n",
              "      <td>-0.209748</td>\n",
              "      <td>29594.091863</td>\n",
              "      <td>2525.85</td>\n",
              "      <td>595.41120000</td>\n",
              "      <td>3903</td>\n",
              "      <td>...</td>\n",
              "      <td>NaN</td>\n",
              "      <td>-0.328561</td>\n",
              "      <td>0.388680</td>\n",
              "      <td>0.03333</td>\n",
              "      <td>328.80000000</td>\n",
              "      <td>1</td>\n",
              "      <td>NaN</td>\n",
              "      <td>NaN</td>\n",
              "      <td>-0.120012</td>\n",
              "      <td>0.007285</td>\n",
              "    </tr>\n",
              "    <tr>\n",
              "      <th>4</th>\n",
              "      <td>91670.09</td>\n",
              "      <td>62.93148000</td>\n",
              "      <td>11779</td>\n",
              "      <td>NaN</td>\n",
              "      <td>NaN</td>\n",
              "      <td>0.141704</td>\n",
              "      <td>29585.077527</td>\n",
              "      <td>2516.18</td>\n",
              "      <td>1280.56490000</td>\n",
              "      <td>9605</td>\n",
              "      <td>...</td>\n",
              "      <td>NaN</td>\n",
              "      <td>-0.070638</td>\n",
              "      <td>0.388194</td>\n",
              "      <td>0.03329</td>\n",
              "      <td>18030.80000000</td>\n",
              "      <td>13</td>\n",
              "      <td>NaN</td>\n",
              "      <td>NaN</td>\n",
              "      <td>0.030039</td>\n",
              "      <td>0.007097</td>\n",
              "    </tr>\n",
              "    <tr>\n",
              "      <th>...</th>\n",
              "      <td>...</td>\n",
              "      <td>...</td>\n",
              "      <td>...</td>\n",
              "      <td>...</td>\n",
              "      <td>...</td>\n",
              "      <td>...</td>\n",
              "      <td>...</td>\n",
              "      <td>...</td>\n",
              "      <td>...</td>\n",
              "      <td>...</td>\n",
              "      <td>...</td>\n",
              "      <td>...</td>\n",
              "      <td>...</td>\n",
              "      <td>...</td>\n",
              "      <td>...</td>\n",
              "      <td>...</td>\n",
              "      <td>...</td>\n",
              "      <td>...</td>\n",
              "      <td>...</td>\n",
              "      <td>...</td>\n",
              "      <td>...</td>\n",
              "    </tr>\n",
              "    <tr>\n",
              "      <th>129596</th>\n",
              "      <td>109030.02</td>\n",
              "      <td>21.06713000</td>\n",
              "      <td>3921</td>\n",
              "      <td>0.258126</td>\n",
              "      <td>11548.993178</td>\n",
              "      <td>-0.005164</td>\n",
              "      <td>3644.397554</td>\n",
              "      <td>2552.77</td>\n",
              "      <td>225.37620000</td>\n",
              "      <td>1890</td>\n",
              "      <td>...</td>\n",
              "      <td>0.046639</td>\n",
              "      <td>0.000000</td>\n",
              "      <td>0.142062</td>\n",
              "      <td>0.03616</td>\n",
              "      <td>738.40000000</td>\n",
              "      <td>2</td>\n",
              "      <td>0.388673</td>\n",
              "      <td>0.006327</td>\n",
              "      <td>0.000000</td>\n",
              "      <td>0.003212</td>\n",
              "    </tr>\n",
              "    <tr>\n",
              "      <th>129597</th>\n",
              "      <td>109024.39</td>\n",
              "      <td>5.10152000</td>\n",
              "      <td>1789</td>\n",
              "      <td>0.273262</td>\n",
              "      <td>12009.730552</td>\n",
              "      <td>-0.026086</td>\n",
              "      <td>5426.627618</td>\n",
              "      <td>2551.81</td>\n",
              "      <td>1078.91390000</td>\n",
              "      <td>2178</td>\n",
              "      <td>...</td>\n",
              "      <td>0.045151</td>\n",
              "      <td>0.000000</td>\n",
              "      <td>0.148774</td>\n",
              "      <td>0.03616</td>\n",
              "      <td>1093.20000000</td>\n",
              "      <td>3</td>\n",
              "      <td>0.416551</td>\n",
              "      <td>0.006199</td>\n",
              "      <td>0.027655</td>\n",
              "      <td>0.003812</td>\n",
              "    </tr>\n",
              "    <tr>\n",
              "      <th>129598</th>\n",
              "      <td>108995.95</td>\n",
              "      <td>7.48873000</td>\n",
              "      <td>769</td>\n",
              "      <td>0.367793</td>\n",
              "      <td>11563.053932</td>\n",
              "      <td>0.007560</td>\n",
              "      <td>6267.356571</td>\n",
              "      <td>2550.74</td>\n",
              "      <td>90.29550000</td>\n",
              "      <td>1032</td>\n",
              "      <td>...</td>\n",
              "      <td>0.040678</td>\n",
              "      <td>0.122519</td>\n",
              "      <td>0.150848</td>\n",
              "      <td>0.03617</td>\n",
              "      <td>1733.20000000</td>\n",
              "      <td>2</td>\n",
              "      <td>0.472222</td>\n",
              "      <td>0.005998</td>\n",
              "      <td>0.027647</td>\n",
              "      <td>0.004163</td>\n",
              "    </tr>\n",
              "    <tr>\n",
              "      <th>129599</th>\n",
              "      <td>109004.19</td>\n",
              "      <td>6.56241000</td>\n",
              "      <td>1298</td>\n",
              "      <td>0.332862</td>\n",
              "      <td>11303.698905</td>\n",
              "      <td>-0.043980</td>\n",
              "      <td>6550.656289</td>\n",
              "      <td>2551.22</td>\n",
              "      <td>90.74810000</td>\n",
              "      <td>584</td>\n",
              "      <td>...</td>\n",
              "      <td>0.039335</td>\n",
              "      <td>-0.220264</td>\n",
              "      <td>0.148169</td>\n",
              "      <td>0.03618</td>\n",
              "      <td>33108.70000000</td>\n",
              "      <td>15</td>\n",
              "      <td>0.500000</td>\n",
              "      <td>0.005770</td>\n",
              "      <td>-0.055279</td>\n",
              "      <td>0.004326</td>\n",
              "    </tr>\n",
              "    <tr>\n",
              "      <th>129600</th>\n",
              "      <td>108956.25</td>\n",
              "      <td>12.92937000</td>\n",
              "      <td>2879</td>\n",
              "      <td>0.255552</td>\n",
              "      <td>10955.847402</td>\n",
              "      <td>0.013694</td>\n",
              "      <td>6816.196983</td>\n",
              "      <td>2550.59</td>\n",
              "      <td>403.34900000</td>\n",
              "      <td>2425</td>\n",
              "      <td>...</td>\n",
              "      <td>0.034755</td>\n",
              "      <td>0.147167</td>\n",
              "      <td>0.148852</td>\n",
              "      <td>0.03616</td>\n",
              "      <td>3410.80000000</td>\n",
              "      <td>3</td>\n",
              "      <td>0.416551</td>\n",
              "      <td>0.005474</td>\n",
              "      <td>-0.027655</td>\n",
              "      <td>0.004457</td>\n",
              "    </tr>\n",
              "  </tbody>\n",
              "</table>\n",
              "<p>129601 rows × 70 columns</p>\n",
              "</div>\n",
              "    <div class=\"colab-df-buttons\">\n",
              "\n",
              "  <div class=\"colab-df-container\">\n",
              "    <button class=\"colab-df-convert\" onclick=\"convertToInteractive('df-306c8469-afe2-4857-90d2-ef8b276400e5')\"\n",
              "            title=\"Convert this dataframe to an interactive table.\"\n",
              "            style=\"display:none;\">\n",
              "\n",
              "  <svg xmlns=\"http://www.w3.org/2000/svg\" height=\"24px\" viewBox=\"0 -960 960 960\">\n",
              "    <path d=\"M120-120v-720h720v720H120Zm60-500h600v-160H180v160Zm220 220h160v-160H400v160Zm0 220h160v-160H400v160ZM180-400h160v-160H180v160Zm440 0h160v-160H620v160ZM180-180h160v-160H180v160Zm440 0h160v-160H620v160Z\"/>\n",
              "  </svg>\n",
              "    </button>\n",
              "\n",
              "  <style>\n",
              "    .colab-df-container {\n",
              "      display:flex;\n",
              "      gap: 12px;\n",
              "    }\n",
              "\n",
              "    .colab-df-convert {\n",
              "      background-color: #E8F0FE;\n",
              "      border: none;\n",
              "      border-radius: 50%;\n",
              "      cursor: pointer;\n",
              "      display: none;\n",
              "      fill: #1967D2;\n",
              "      height: 32px;\n",
              "      padding: 0 0 0 0;\n",
              "      width: 32px;\n",
              "    }\n",
              "\n",
              "    .colab-df-convert:hover {\n",
              "      background-color: #E2EBFA;\n",
              "      box-shadow: 0px 1px 2px rgba(60, 64, 67, 0.3), 0px 1px 3px 1px rgba(60, 64, 67, 0.15);\n",
              "      fill: #174EA6;\n",
              "    }\n",
              "\n",
              "    .colab-df-buttons div {\n",
              "      margin-bottom: 4px;\n",
              "    }\n",
              "\n",
              "    [theme=dark] .colab-df-convert {\n",
              "      background-color: #3B4455;\n",
              "      fill: #D2E3FC;\n",
              "    }\n",
              "\n",
              "    [theme=dark] .colab-df-convert:hover {\n",
              "      background-color: #434B5C;\n",
              "      box-shadow: 0px 1px 3px 1px rgba(0, 0, 0, 0.15);\n",
              "      filter: drop-shadow(0px 1px 2px rgba(0, 0, 0, 0.3));\n",
              "      fill: #FFFFFF;\n",
              "    }\n",
              "  </style>\n",
              "\n",
              "    <script>\n",
              "      const buttonEl =\n",
              "        document.querySelector('#df-306c8469-afe2-4857-90d2-ef8b276400e5 button.colab-df-convert');\n",
              "      buttonEl.style.display =\n",
              "        google.colab.kernel.accessAllowed ? 'block' : 'none';\n",
              "\n",
              "      async function convertToInteractive(key) {\n",
              "        const element = document.querySelector('#df-306c8469-afe2-4857-90d2-ef8b276400e5');\n",
              "        const dataTable =\n",
              "          await google.colab.kernel.invokeFunction('convertToInteractive',\n",
              "                                                    [key], {});\n",
              "        if (!dataTable) return;\n",
              "\n",
              "        const docLinkHtml = 'Like what you see? Visit the ' +\n",
              "          '<a target=\"_blank\" href=https://colab.research.google.com/notebooks/data_table.ipynb>data table notebook</a>'\n",
              "          + ' to learn more about interactive tables.';\n",
              "        element.innerHTML = '';\n",
              "        dataTable['output_type'] = 'display_data';\n",
              "        await google.colab.output.renderOutput(dataTable, element);\n",
              "        const docLink = document.createElement('div');\n",
              "        docLink.innerHTML = docLinkHtml;\n",
              "        element.appendChild(docLink);\n",
              "      }\n",
              "    </script>\n",
              "  </div>\n",
              "\n",
              "\n",
              "    <div id=\"df-f0edc2a7-1ad5-4b29-8425-ed08056f89b6\">\n",
              "      <button class=\"colab-df-quickchart\" onclick=\"quickchart('df-f0edc2a7-1ad5-4b29-8425-ed08056f89b6')\"\n",
              "                title=\"Suggest charts\"\n",
              "                style=\"display:none;\">\n",
              "\n",
              "<svg xmlns=\"http://www.w3.org/2000/svg\" height=\"24px\"viewBox=\"0 0 24 24\"\n",
              "     width=\"24px\">\n",
              "    <g>\n",
              "        <path d=\"M19 3H5c-1.1 0-2 .9-2 2v14c0 1.1.9 2 2 2h14c1.1 0 2-.9 2-2V5c0-1.1-.9-2-2-2zM9 17H7v-7h2v7zm4 0h-2V7h2v10zm4 0h-2v-4h2v4z\"/>\n",
              "    </g>\n",
              "</svg>\n",
              "      </button>\n",
              "\n",
              "<style>\n",
              "  .colab-df-quickchart {\n",
              "      --bg-color: #E8F0FE;\n",
              "      --fill-color: #1967D2;\n",
              "      --hover-bg-color: #E2EBFA;\n",
              "      --hover-fill-color: #174EA6;\n",
              "      --disabled-fill-color: #AAA;\n",
              "      --disabled-bg-color: #DDD;\n",
              "  }\n",
              "\n",
              "  [theme=dark] .colab-df-quickchart {\n",
              "      --bg-color: #3B4455;\n",
              "      --fill-color: #D2E3FC;\n",
              "      --hover-bg-color: #434B5C;\n",
              "      --hover-fill-color: #FFFFFF;\n",
              "      --disabled-bg-color: #3B4455;\n",
              "      --disabled-fill-color: #666;\n",
              "  }\n",
              "\n",
              "  .colab-df-quickchart {\n",
              "    background-color: var(--bg-color);\n",
              "    border: none;\n",
              "    border-radius: 50%;\n",
              "    cursor: pointer;\n",
              "    display: none;\n",
              "    fill: var(--fill-color);\n",
              "    height: 32px;\n",
              "    padding: 0;\n",
              "    width: 32px;\n",
              "  }\n",
              "\n",
              "  .colab-df-quickchart:hover {\n",
              "    background-color: var(--hover-bg-color);\n",
              "    box-shadow: 0 1px 2px rgba(60, 64, 67, 0.3), 0 1px 3px 1px rgba(60, 64, 67, 0.15);\n",
              "    fill: var(--button-hover-fill-color);\n",
              "  }\n",
              "\n",
              "  .colab-df-quickchart-complete:disabled,\n",
              "  .colab-df-quickchart-complete:disabled:hover {\n",
              "    background-color: var(--disabled-bg-color);\n",
              "    fill: var(--disabled-fill-color);\n",
              "    box-shadow: none;\n",
              "  }\n",
              "\n",
              "  .colab-df-spinner {\n",
              "    border: 2px solid var(--fill-color);\n",
              "    border-color: transparent;\n",
              "    border-bottom-color: var(--fill-color);\n",
              "    animation:\n",
              "      spin 1s steps(1) infinite;\n",
              "  }\n",
              "\n",
              "  @keyframes spin {\n",
              "    0% {\n",
              "      border-color: transparent;\n",
              "      border-bottom-color: var(--fill-color);\n",
              "      border-left-color: var(--fill-color);\n",
              "    }\n",
              "    20% {\n",
              "      border-color: transparent;\n",
              "      border-left-color: var(--fill-color);\n",
              "      border-top-color: var(--fill-color);\n",
              "    }\n",
              "    30% {\n",
              "      border-color: transparent;\n",
              "      border-left-color: var(--fill-color);\n",
              "      border-top-color: var(--fill-color);\n",
              "      border-right-color: var(--fill-color);\n",
              "    }\n",
              "    40% {\n",
              "      border-color: transparent;\n",
              "      border-right-color: var(--fill-color);\n",
              "      border-top-color: var(--fill-color);\n",
              "    }\n",
              "    60% {\n",
              "      border-color: transparent;\n",
              "      border-right-color: var(--fill-color);\n",
              "    }\n",
              "    80% {\n",
              "      border-color: transparent;\n",
              "      border-right-color: var(--fill-color);\n",
              "      border-bottom-color: var(--fill-color);\n",
              "    }\n",
              "    90% {\n",
              "      border-color: transparent;\n",
              "      border-bottom-color: var(--fill-color);\n",
              "    }\n",
              "  }\n",
              "</style>\n",
              "\n",
              "      <script>\n",
              "        async function quickchart(key) {\n",
              "          const quickchartButtonEl =\n",
              "            document.querySelector('#' + key + ' button');\n",
              "          quickchartButtonEl.disabled = true;  // To prevent multiple clicks.\n",
              "          quickchartButtonEl.classList.add('colab-df-spinner');\n",
              "          try {\n",
              "            const charts = await google.colab.kernel.invokeFunction(\n",
              "                'suggestCharts', [key], {});\n",
              "          } catch (error) {\n",
              "            console.error('Error during call to suggestCharts:', error);\n",
              "          }\n",
              "          quickchartButtonEl.classList.remove('colab-df-spinner');\n",
              "          quickchartButtonEl.classList.add('colab-df-quickchart-complete');\n",
              "        }\n",
              "        (() => {\n",
              "          let quickchartButtonEl =\n",
              "            document.querySelector('#df-f0edc2a7-1ad5-4b29-8425-ed08056f89b6 button');\n",
              "          quickchartButtonEl.style.display =\n",
              "            google.colab.kernel.accessAllowed ? 'block' : 'none';\n",
              "        })();\n",
              "      </script>\n",
              "    </div>\n",
              "\n",
              "    </div>\n",
              "  </div>\n"
            ],
            "text/plain": [
              "        BTCUSDT_close BTCUSDT_volume  BTCUSDT_numberOfTrades  \\\n",
              "0            91785.18    44.25582000                    9784   \n",
              "1            91837.75    29.64367000                    7048   \n",
              "2            91960.97    70.22032000                    6386   \n",
              "3            91862.77    50.83532000                    4539   \n",
              "4            91670.09    62.93148000                   11779   \n",
              "...               ...            ...                     ...   \n",
              "129596      109030.02    21.06713000                    3921   \n",
              "129597      109024.39     5.10152000                    1789   \n",
              "129598      108995.95     7.48873000                     769   \n",
              "129599      109004.19     6.56241000                    1298   \n",
              "129600      108956.25    12.92937000                    2879   \n",
              "\n",
              "        BTCUSDT_prev_return  BTCUSDT_prev_volatility  BTCUSDT_return  \\\n",
              "0                       NaN                      NaN        0.057275   \n",
              "1                       NaN                      NaN        0.134171   \n",
              "2                       NaN                      NaN       -0.106784   \n",
              "3                       NaN                      NaN       -0.209748   \n",
              "4                       NaN                      NaN        0.141704   \n",
              "...                     ...                      ...             ...   \n",
              "129596             0.258126             11548.993178       -0.005164   \n",
              "129597             0.273262             12009.730552       -0.026086   \n",
              "129598             0.367793             11563.053932        0.007560   \n",
              "129599             0.332862             11303.698905       -0.043980   \n",
              "129600             0.255552             10955.847402        0.013694   \n",
              "\n",
              "        BTCUSDT_volatility  ETHUSDT_close ETHUSDT_volume  \\\n",
              "0             30532.801818        2522.98  1236.00450000   \n",
              "1             30363.719702        2525.15   609.72690000   \n",
              "2             29798.433752        2529.97   672.80150000   \n",
              "3             29594.091863        2525.85   595.41120000   \n",
              "4             29585.077527        2516.18  1280.56490000   \n",
              "...                    ...            ...            ...   \n",
              "129596         3644.397554        2552.77   225.37620000   \n",
              "129597         5426.627618        2551.81  1078.91390000   \n",
              "129598         6267.356571        2550.74    90.29550000   \n",
              "129599         6550.656289        2551.22    90.74810000   \n",
              "129600         6816.196983        2550.59   403.34900000   \n",
              "\n",
              "        ETHUSDT_numberOfTrades  ...  ARKUSDT_prev_volatility  ARKUSDT_return  \\\n",
              "0                         7010  ...                      NaN        0.164628   \n",
              "1                         4877  ...                      NaN        0.117398   \n",
              "2                         3844  ...                      NaN       -0.070356   \n",
              "3                         3903  ...                      NaN       -0.328561   \n",
              "4                         9605  ...                      NaN       -0.070638   \n",
              "...                        ...  ...                      ...             ...   \n",
              "129596                    1890  ...                 0.046639        0.000000   \n",
              "129597                    2178  ...                 0.045151        0.000000   \n",
              "129598                    1032  ...                 0.040678        0.122519   \n",
              "129599                     584  ...                 0.039335       -0.220264   \n",
              "129600                    2425  ...                 0.034755        0.147167   \n",
              "\n",
              "        ARKUSDT_volatility  JSTUSDT_close  JSTUSDT_volume  \\\n",
              "0                 0.395882        0.03331  18269.00000000   \n",
              "1                 0.394875        0.03332   2854.40000000   \n",
              "2                 0.391564        0.03332  89531.30000000   \n",
              "3                 0.388680        0.03333    328.80000000   \n",
              "4                 0.388194        0.03329  18030.80000000   \n",
              "...                    ...            ...             ...   \n",
              "129596            0.142062        0.03616    738.40000000   \n",
              "129597            0.148774        0.03616   1093.20000000   \n",
              "129598            0.150848        0.03617   1733.20000000   \n",
              "129599            0.148169        0.03618  33108.70000000   \n",
              "129600            0.148852        0.03616   3410.80000000   \n",
              "\n",
              "       JSTUSDT_numberOfTrades  JSTUSDT_prev_return  JSTUSDT_prev_volatility  \\\n",
              "0                          13                  NaN                      NaN   \n",
              "1                           4                  NaN                      NaN   \n",
              "2                           8                  NaN                      NaN   \n",
              "3                           1                  NaN                      NaN   \n",
              "4                          13                  NaN                      NaN   \n",
              "...                       ...                  ...                      ...   \n",
              "129596                      2             0.388673                 0.006327   \n",
              "129597                      3             0.416551                 0.006199   \n",
              "129598                      2             0.472222                 0.005998   \n",
              "129599                     15             0.500000                 0.005770   \n",
              "129600                      3             0.416551                 0.005474   \n",
              "\n",
              "        JSTUSDT_return  JSTUSDT_volatility  \n",
              "0             0.030021            0.008186  \n",
              "1             0.000000            0.007935  \n",
              "2             0.030012            0.007655  \n",
              "3            -0.120012            0.007285  \n",
              "4             0.030039            0.007097  \n",
              "...                ...                 ...  \n",
              "129596        0.000000            0.003212  \n",
              "129597        0.027655            0.003812  \n",
              "129598        0.027647            0.004163  \n",
              "129599       -0.055279            0.004326  \n",
              "129600       -0.027655            0.004457  \n",
              "\n",
              "[129601 rows x 70 columns]"
            ]
          },
          "execution_count": 15,
          "metadata": {},
          "output_type": "execute_result"
        }
      ],
      "source": [
        "data_all[selected_f_all]"
      ]
    },
    {
      "cell_type": "markdown",
      "metadata": {
        "id": "tbm4EfCfetGY"
      },
      "source": [
        "Normalizing Data Z-Score"
      ]
    },
    {
      "cell_type": "code",
      "execution_count": 16,
      "metadata": {
        "id": "oYBQteQlgw_C"
      },
      "outputs": [],
      "source": [
        "##Normalization\n",
        "\n",
        "for x in selected_f_all:\n",
        "  data_all[x] = data_all[x].fillna(0)\n",
        "  data_all[x] = data_all[x].astype(float)\n",
        "  data_all[x] = (data_all[x]-data_all[x].mean())/(data_all[x].std())"
      ]
    },
    {
      "cell_type": "markdown",
      "metadata": {
        "id": "0sdOT5kTessQ"
      },
      "source": [
        "Create time index for TimseNet"
      ]
    },
    {
      "cell_type": "code",
      "execution_count": 17,
      "metadata": {
        "id": "PWQs34gQ7njD"
      },
      "outputs": [],
      "source": [
        "import warnings\n",
        "warnings.filterwarnings('ignore')\n",
        "from torch.utils.data import Dataset, DataLoader\n",
        "\n",
        "df_stamp = data_all[['time']].rename(columns={'time':'dateTime'})\n",
        "df_stamp['dateTime'] = pd.to_datetime(df_stamp['dateTime'])\n",
        "df_stamp['month'] = df_stamp.dateTime.apply(lambda row: row.month, 1)\n",
        "df_stamp['day'] = df_stamp.dateTime.apply(lambda row: row.day, 1)\n",
        "df_stamp['weekday'] = df_stamp.dateTime.apply(lambda row: row.weekday(), 1)\n",
        "df_stamp['hour'] = df_stamp.dateTime.apply(lambda row: row.hour, 1)\n",
        "df_stamp['minute'] = df_stamp.dateTime.apply(lambda row: row.minute, 1)\n",
        "data_stamp = df_stamp.drop(['dateTime'], axis=1)"
      ]
    },
    {
      "cell_type": "markdown",
      "metadata": {
        "id": "gskia2Lre1nx"
      },
      "source": [
        "Dataset Class and Creating DataLoader"
      ]
    },
    {
      "cell_type": "code",
      "execution_count": 18,
      "metadata": {
        "colab": {
          "base_uri": "https://localhost:8080/"
        },
        "id": "roHtsxJxkdcw",
        "outputId": "747af947-bbe4-4ad3-a3b8-911a36c2fcd7"
      },
      "outputs": [
        {
          "data": {
            "text/plain": [
              "['BTCUSDT_close',\n",
              " 'BTCUSDT_volume',\n",
              " 'BTCUSDT_numberOfTrades',\n",
              " 'BTCUSDT_prev_return',\n",
              " 'BTCUSDT_prev_volatility',\n",
              " 'ETHUSDT_close',\n",
              " 'ETHUSDT_volume',\n",
              " 'ETHUSDT_numberOfTrades',\n",
              " 'ETHUSDT_prev_return',\n",
              " 'ETHUSDT_prev_volatility',\n",
              " 'XRPUSDT_close',\n",
              " 'XRPUSDT_volume',\n",
              " 'XRPUSDT_numberOfTrades',\n",
              " 'XRPUSDT_prev_return',\n",
              " 'XRPUSDT_prev_volatility',\n",
              " 'TRXUSDT_close',\n",
              " 'TRXUSDT_volume',\n",
              " 'TRXUSDT_numberOfTrades',\n",
              " 'TRXUSDT_prev_return',\n",
              " 'TRXUSDT_prev_volatility',\n",
              " 'SEIUSDT_close',\n",
              " 'SEIUSDT_volume',\n",
              " 'SEIUSDT_numberOfTrades',\n",
              " 'SEIUSDT_prev_return',\n",
              " 'SEIUSDT_prev_volatility',\n",
              " 'HBARUSDT_close',\n",
              " 'HBARUSDT_volume',\n",
              " 'HBARUSDT_numberOfTrades',\n",
              " 'HBARUSDT_prev_return',\n",
              " 'HBARUSDT_prev_volatility',\n",
              " 'XLMUSDT_close',\n",
              " 'XLMUSDT_volume',\n",
              " 'XLMUSDT_numberOfTrades',\n",
              " 'XLMUSDT_prev_return',\n",
              " 'XLMUSDT_prev_volatility',\n",
              " 'TIAUSDT_close',\n",
              " 'TIAUSDT_volume',\n",
              " 'TIAUSDT_numberOfTrades',\n",
              " 'TIAUSDT_prev_return',\n",
              " 'TIAUSDT_prev_volatility',\n",
              " 'ARKUSDT_close',\n",
              " 'ARKUSDT_volume',\n",
              " 'ARKUSDT_numberOfTrades',\n",
              " 'ARKUSDT_prev_return',\n",
              " 'ARKUSDT_prev_volatility',\n",
              " 'JSTUSDT_close',\n",
              " 'JSTUSDT_volume',\n",
              " 'JSTUSDT_numberOfTrades',\n",
              " 'JSTUSDT_prev_return',\n",
              " 'JSTUSDT_prev_volatility']"
            ]
          },
          "execution_count": 18,
          "metadata": {},
          "output_type": "execute_result"
        }
      ],
      "source": [
        "selected_f_all = [x for x in selected_f_all if (('return' not in x) or ('prev_return' in x))]\n",
        "selected_f_all = [x for x in selected_f_all if (('volatility' not in x) or ('prev_volatility' in x))]\n",
        "selected_f_all"
      ]
    },
    {
      "cell_type": "code",
      "execution_count": 19,
      "metadata": {
        "id": "A2S4esaPonwd"
      },
      "outputs": [],
      "source": [
        "data_all['time_int'] = data_all['dateTime'].apply(lambda x:str(x).replace('-','').replace(' ','').replace(':','')).astype(int)"
      ]
    },
    {
      "cell_type": "code",
      "execution_count": 20,
      "metadata": {
        "id": "Pfe2ODdGKlBd"
      },
      "outputs": [],
      "source": [
        "import torch\n",
        "from torch.utils.data import Dataset\n",
        "import numpy as np\n",
        "from torch.utils.data import Dataset, DataLoader\n",
        "\n",
        "class NewsTimeSeriesDataset(Dataset):\n",
        "    def __init__(self, df, data_stamp, selected_f_all, stock_list, seq_len=30):\n",
        "        self.df = df.reset_index(drop=True)\n",
        "        self.data_stamp = data_stamp.reset_index(drop=True)\n",
        "        self.features = selected_f_all\n",
        "        self.seq_len = seq_len\n",
        "        self.stock_list = [x+'_return' for x in stock_list]\n",
        "\n",
        "    def __len__(self):\n",
        "        return len(self.df) - self.seq_len-shifted_window\n",
        "\n",
        "    def __getitem__(self, idx):\n",
        "        ts_window = self.df.loc[idx:idx + self.seq_len - 1, self.features].values.astype('float32')\n",
        "        # x_mask = self.data_stamp.loc[idx:idx + self.seq_len - 1].values.astype('float32')\n",
        "        news_window = self.df.loc[idx:idx + self.seq_len - 1, 'embedding'].values\n",
        "        news_window = np.stack(news_window).astype('float32')\n",
        "        target      = self.df.loc[idx + self.seq_len:idx + self.seq_len+shifted_window-1, self.stock_list].values.astype('float32')  # shape: [19]\n",
        "        time        = self.df.loc[idx:idx + self.seq_len - 1, 'time_int'].values[-1]\n",
        "        return {\n",
        "            'timeseries': torch.tensor(ts_window),     # [30, 114]\n",
        "            'news': torch.tensor(news_window),         # [30, 768]\n",
        "            'target': torch.tensor(target),\n",
        "            'time':torch.tensor(time)\n",
        "            # 'time_mask':torch.tensor(x_mask)# [19]\n",
        "        }\n",
        "\n",
        "\n",
        "split = int(0.8 * len(data_all))\n",
        "\n",
        "data_train = data_all[data_all['day']<'2025-05-10'].copy()\n",
        "data_test = data_all[data_all['day']>='2025-05-10'].copy()\n",
        "train_dataset = NewsTimeSeriesDataset(data_train, data_stamp.iloc[:split], selected_f_all, list_crypto, seq_len=30)\n",
        "val_dataset = NewsTimeSeriesDataset(data_test, data_stamp.iloc[split:], selected_f_all, list_crypto, seq_len=30)\n",
        "\n",
        "train_loader = DataLoader(train_dataset, batch_size=32, shuffle=True)\n",
        "val_loader = DataLoader(val_dataset, batch_size=32)\n"
      ]
    },
    {
      "cell_type": "markdown",
      "metadata": {},
      "source": [
        "Loss Function for M of N"
      ]
    },
    {
      "cell_type": "code",
      "execution_count": 21,
      "metadata": {
        "id": "8TYjqaHTsshM"
      },
      "outputs": [],
      "source": [
        "def func_loss(output, target, top_k=5):\n",
        "    \"\"\"\n",
        "    output: [B, N] - raw weights predicted for each stock\n",
        "    target: [B, T, N] - actual return sequences for each stock over T time steps\n",
        "    \"\"\"\n",
        "\n",
        "    # Step 1: Select top-k absolute weights\n",
        "    abs_output = torch.abs(output)\n",
        "    topk_vals, topk_indices = torch.topk(abs_output, top_k, dim=1)\n",
        "\n",
        "    # Gather top-k weights and corresponding returns\n",
        "    batch_size = output.shape[0]\n",
        "    weights_topk = torch.gather(output, 1, topk_indices)  # [B, top_k]\n",
        "\n",
        "    # Normalize selected weights (long/short portfolio)\n",
        "    weights_topk = torch.tanh(weights_topk)  # optional activation\n",
        "    weights_topk = weights_topk / (torch.sum(torch.abs(weights_topk), dim=1, keepdim=True) + 1e-8)  # [B, top_k]\n",
        "\n",
        "    # Gather corresponding returns: [B, T, top_k]\n",
        "    target_topk = torch.gather(target, 2, topk_indices.unsqueeze(1).expand(-1, target.shape[1], -1))\n",
        "\n",
        "    # Step 2: Compute portfolio return sequence\n",
        "    weights_exp = weights_topk.unsqueeze(1)  # [B, 1, top_k]\n",
        "    portfolio_returns = torch.sum(weights_exp * target_topk, dim=2)  # [B, T]\n",
        "\n",
        "    # Step 3: Sharpe ratio\n",
        "    mean_r = torch.mean(portfolio_returns, dim=1)\n",
        "    std_r = torch.std(portfolio_returns, dim=1) + 1e-6\n",
        "    sharpe = mean_r / std_r\n",
        "    loss_sharpe = -torch.mean(sharpe)\n",
        "\n",
        "    # Step 4: Optional regularization (to avoid very sparse attention)\n",
        "    loss_diversify = torch.mean(weights_topk ** 2)\n",
        "\n",
        "    # Step 5: Total loss\n",
        "    λ_div = 0.01\n",
        "    loss = loss_sharpe + λ_div * loss_diversify\n",
        "\n",
        "    return loss\n"
      ]
    },
    {
      "cell_type": "markdown",
      "metadata": {
        "id": "CoqSg9XZD11W"
      },
      "source": [
        "Model Architecture"
      ]
    },
    {
      "cell_type": "code",
      "execution_count": 22,
      "metadata": {
        "id": "avriBN1s5zrP"
      },
      "outputs": [],
      "source": [
        "import math\n",
        "import torch.nn as nn\n",
        "import torch\n",
        "\n",
        "class PositionalEncoding(nn.Module):\n",
        "    def __init__(self, d_model, max_len=500):\n",
        "        super().__init__()\n",
        "        pe = torch.zeros(max_len, d_model)  # [max_len, d_model]\n",
        "        position = torch.arange(0, max_len, dtype=torch.float32).unsqueeze(1)  # [max_len, 1]\n",
        "        div_term = torch.exp(torch.arange(0, d_model, 2).float() * (-math.log(10000.0) / d_model))  # [d_model/2]\n",
        "\n",
        "        pe[:, 0::2] = torch.sin(position * div_term)  # even dims\n",
        "        pe[:, 1::2] = torch.cos(position * div_term)  # odd dims\n",
        "        pe = pe.unsqueeze(0)  # [1, max_len, d_model]\n",
        "        self.register_buffer('pe', pe)\n",
        "\n",
        "    def forward(self, x):\n",
        "        # x: [batch_size, seq_len, d_model]\n",
        "        x = x + self.pe[:, :x.size(1), :]\n",
        "        return x\n",
        "\n",
        "class TransformerReturnPredictor(nn.Module):\n",
        "    def __init__(self, feature_dim, d_model=64, nhead=4, num_layers=2, max_len=500):\n",
        "        super().__init__()\n",
        "        self.input_proj = nn.Linear(feature_dim, d_model)\n",
        "        self.pos_encoder = PositionalEncoding(d_model, max_len=max_len)\n",
        "\n",
        "        encoder_layer = nn.TransformerEncoderLayer(d_model=d_model, nhead=nhead, batch_first=True)\n",
        "        self.transformer = nn.TransformerEncoder(encoder_layer, num_layers=num_layers)\n",
        "        self.output_layer = nn.Linear(d_model, 1)\n",
        "\n",
        "    def forward(self, x):\n",
        "        # x: [batch_size, seq_len, feature_dim]\n",
        "        x = self.input_proj(x)             # [batch_size, seq_len, d_model]\n",
        "        x = self.pos_encoder(x)            # Add positional encoding\n",
        "        x = self.transformer(x)            # [batch_size, seq_len, d_model]\n",
        "        x = x[:, -1, :]                    # Use representation of last time step\n",
        "        return self.output_layer(x).squeeze(-1)\n"
      ]
    },
    {
      "cell_type": "code",
      "execution_count": 23,
      "metadata": {
        "id": "suadoQon5Wu8"
      },
      "outputs": [],
      "source": [
        "import torch\n",
        "import torch.nn as nn\n",
        "import torch.nn.functional as F\n",
        "import torch.fft\n",
        "from transformers import AutoTokenizer, AutoModel\n",
        "finbert_model_name = \"yiyanghkust/finbert-tone\"\n",
        "import torch.nn as nn\n",
        "\n",
        "class MarketNewsFusionModel(nn.Module):\n",
        "    def __init__(self, ts_input_dim, news_embed_dim, hidden_dim=64, num_stocks=19,\n",
        "                 max_len=30, d_model=64, nhead=4, num_layers=2):\n",
        "        super().__init__()\n",
        "        self.num_stocks = num_stocks\n",
        "\n",
        "        self.d_model = d_model\n",
        "        self.input_proj = nn.Linear(ts_input_dim, self.d_model)\n",
        "        self.pos_encoder = PositionalEncoding(self.d_model, max_len=max_len)\n",
        "        encoder_layer = nn.TransformerEncoderLayer(d_model=self.d_model, nhead=nhead, batch_first=True)\n",
        "        self.transformer = nn.TransformerEncoder(encoder_layer, num_layers=num_layers)\n",
        "        self.ts_out = nn.Linear(128, hidden_dim)\n",
        "\n",
        "        # 2. News LSTM\n",
        "        self.news_proj = nn.Linear(news_embed_dim, 64)\n",
        "        self.news_lstm = nn.LSTM(input_size=64, hidden_size=hidden_dim, batch_first=True)\n",
        "\n",
        "        # 3. Stock-specific regression heads (1 per stock)\n",
        "        self.stock_heads = nn.Sequential(\n",
        "                nn.Linear(self.d_model+hidden_dim, 64),\n",
        "                nn.ReLU(),\n",
        "                nn.Linear(64, num_stocks)\n",
        "            )\n",
        "\n",
        "    def forward(self, ts_input, x_mark_enc, news_input):  # [B, 30, F], [B, 30, E]\n",
        "\n",
        "                # Transformer on OHLCV\n",
        "        x = self.input_proj(ts_input)           # [B, T, d_model]\n",
        "        x = self.pos_encoder(x)\n",
        "        x = self.transformer(x)                  # [B, T, d_model]\n",
        "        ts_emb = x[:, -1, :].squeeze(1)                   # [B, d_model]\n",
        "\n",
        "\n",
        "        news_proj = self.news_proj(news_input)         # [B, 30, 64]\n",
        "        _, (hn, _) = self.news_lstm(news_proj)        # hn: [1, B, 64]\n",
        "        news_emb = hn[-1]                              # [B, 64]\n",
        "\n",
        "        fused = torch.cat([ts_emb, news_emb], dim=1)   # [B, 128]\n",
        "\n",
        "        outputs = self.stock_heads(fused).squeeze(-1)\n",
        "        return outputs             # [B, 19]\n",
        "\n",
        "\n",
        "seq_len = 30\n",
        "\n",
        "# model = TimesNet.Model(args).float()\n",
        "# model = Model_TimesNet(configs).float()"
      ]
    },
    {
      "cell_type": "code",
      "execution_count": 24,
      "metadata": {
        "id": "EqIKS4Cz_eaG"
      },
      "outputs": [],
      "source": [
        "data_all = data_all.fillna(0)"
      ]
    },
    {
      "cell_type": "markdown",
      "metadata": {
        "id": "izF1C6gMEdON"
      },
      "source": [
        "Loading Model and dataloader"
      ]
    },
    {
      "cell_type": "code",
      "execution_count": 25,
      "metadata": {
        "id": "dcq4GZM8gcgn"
      },
      "outputs": [],
      "source": [
        "from torch.utils.data import DataLoader\n",
        "\n",
        "# Example setup\n",
        "# selected_f_all = list of feature columns (e.g., 6 × 19 = 114)\n",
        "# stock_list = ['AAPL', 'GOOG', ..., 'TSLA'] → 19 stock target columns\n",
        "# df = your dataframe with those columns and 'embedding' column\n",
        "\n",
        "\n",
        "split = int(0.8 * len(data_all))\n",
        "\n",
        "# train_dataset = NewsTimeSeriesDataset(data_all.iloc[:split], data_stamp.iloc[:split], selected_f_all, list_crypto, seq_len=30)\n",
        "# val_dataset = NewsTimeSeriesDataset(data_all.iloc[split:], data_stamp.iloc[split:], selected_f_all, list_crypto, seq_len=30)\n",
        "\n",
        "# train_loader = DataLoader(train_dataset, batch_size=32, shuffle=True)\n",
        "# val_loader = DataLoader(val_dataset, batch_size=32)\n",
        "data_train = data_all[data_all['day']<'2025-05-10'].copy()\n",
        "data_test = data_all[data_all['day']>='2025-05-10'].copy()\n",
        "train_dataset = NewsTimeSeriesDataset(data_train, data_stamp.iloc[:split], selected_f_all, list_crypto, seq_len=30)\n",
        "val_dataset = NewsTimeSeriesDataset(data_test, data_stamp.iloc[split:], selected_f_all, list_crypto, seq_len=30)\n",
        "\n",
        "train_loader = DataLoader(train_dataset, batch_size=32, shuffle=True)\n",
        "val_loader = DataLoader(val_dataset, batch_size=32)\n",
        "\n",
        "\n",
        "model = MarketNewsFusionModel(ts_input_dim=len(selected_f_all),\n",
        " news_embed_dim=len(data_all['embedding'].iloc[0]),\n",
        " hidden_dim=64,\n",
        " num_stocks=len(list_crypto),\n",
        " max_len=30,\n",
        " d_model=64, nhead=4, num_layers=2).cuda()\n",
        "\n",
        "optimizer = torch.optim.Adam(model.parameters(), lr=1e-4)\n",
        "loss_fn = nn.MSELoss()\n",
        "\n"
      ]
    },
    {
      "cell_type": "markdown",
      "metadata": {
        "id": "a9ZdJH7BEiAc"
      },
      "source": [
        "Testing model pipeline"
      ]
    },
    {
      "cell_type": "code",
      "execution_count": 26,
      "metadata": {
        "id": "sk_4Oo6zhmTf"
      },
      "outputs": [],
      "source": [
        "# One training step\n",
        "for batch in val_loader:\n",
        "    ts_input = batch['timeseries'].cuda()\n",
        "    news_input = batch['news'].cuda()\n",
        "    target = batch['target'].cuda()\n",
        "    # time_mask = batch['time_mask'].cuda()\n",
        "    time_mask = 1\n",
        "    output = model(ts_input, time_mask, news_input)  # [B, 19]\n",
        "    loss = func_loss(output, target)\n",
        "    break"
      ]
    },
    {
      "cell_type": "markdown",
      "metadata": {
        "id": "DVdn_Cq9Ek9W"
      },
      "source": [
        "Validation function and Potfolio Creator"
      ]
    },
    {
      "cell_type": "code",
      "execution_count": 167,
      "metadata": {
        "id": "Sx6_X43CvAm9"
      },
      "outputs": [],
      "source": [
        "import matplotlib.pyplot as plt\n",
        "\n",
        "def func_validation(output, target, top_k=5):# Step 1: Normalize weights\n",
        "  \"\"\"\n",
        "  output: [B, N] - raw weights predicted for each stock\n",
        "  target: [B, T, N] - actual return sequences for each stock over T time steps\n",
        "  \"\"\"\n",
        "\n",
        "  # Step 1: Select top-k absolute weights\n",
        "  abs_output = torch.abs(output)\n",
        "  topk_vals, topk_indices = torch.topk(abs_output, top_k, dim=1)\n",
        "\n",
        "  # Gather top-k weights and corresponding returns\n",
        "  batch_size = output.shape[0]\n",
        "  weights_topk = torch.gather(output, 1, topk_indices)  # [B, top_k]\n",
        "\n",
        "  # Normalize selected weights (long/short portfolio)\n",
        "  weights_topk = torch.tanh(weights_topk)  # optional activation\n",
        "  weights_topk = weights_topk / (torch.sum(torch.abs(weights_topk), dim=1, keepdim=True) + 1e-8)  # [B, top_k]\n",
        "\n",
        "  # Gather corresponding returns: [B, T, top_k]\n",
        "  target_topk = torch.gather(target, 2, topk_indices.unsqueeze(1).expand(-1, target.shape[1], -1))\n",
        "\n",
        "  # Step 2: Compute portfolio return sequence\n",
        "  weights_exp = weights_topk.unsqueeze(1)  # [B, 1, top_k]\n",
        "  portfolio_returns = torch.sum(weights_exp * target_topk, dim=2)  # [B, T]\n",
        "\n",
        "  # Step 3: Sharpe ratio\n",
        "  mean_r = torch.mean(portfolio_returns, dim=1)\n",
        "  std_r = torch.std(portfolio_returns, dim=1) + 1e-6\n",
        "  sharpe = mean_r / std_r\n",
        "  return mean_r, sharpe\n",
        "\n",
        "\n",
        "def func_generate_portfolio(all_preds, all_topk_vals):\n",
        "\n",
        "  only_top_k = True\n",
        "  # len(self.df) - self.seq_len-shifted_window\n",
        "  predicted_array = np.vstack(all_preds)\n",
        "  lowest_value = np.vstack(all_topk_vals)\n",
        "  df_weight_pred = data_test[30:-shifted_window][['dateTime']+[x+'_return' for x in list_crypto]].copy()\n",
        "  df_weight_pred ['lowest_value'] = lowest_value[:,-1]\n",
        "  df_return = data_test[30:-shifted_window][['dateTime']+[x+'_return' for x in list_crypto]].copy()\n",
        "  list_weight = []\n",
        "  for i in range(len(list_crypto)):\n",
        "    df_weight_pred[list_crypto[i]+'_weight'] = predicted_array[:,i]\n",
        "    list_weight.append(list_crypto[i]+'_weight')\n",
        "\n",
        "  if(only_top_k):\n",
        "    for x in list_weight:\n",
        "      df_weight_pred.loc[abs(df_weight_pred[x])<df_weight_pred['lowest_value'], x] = 0\n",
        "\n",
        "  sum_weight = abs(df_weight_pred[list_weight]).sum(axis=1).copy()\n",
        "  for x in list_weight:\n",
        "    df_weight_pred[x] = df_weight_pred[x]/sum_weight\n",
        "\n",
        "  df_weight_pred.to_pickle('/content/drive/MyDrive/Portfolio/10of20stock_df_weight_pred_epoch{}.pickle'.format(str(epoch)))\n",
        "\n",
        "  df_weight_30 = df_weight_pred[['dateTime']+list(df_weight_pred.columns[-len(list_weight):])].iloc[::30].reset_index().drop('index',axis=1)\n",
        "  df_portfolio = df_return.merge(df_weight_30, on='dateTime', how='left')\n",
        "  df_portfolio = df_portfolio.fillna(method='ffill')\n",
        "  list_portfolio = []\n",
        "  for x in list_crypto:\n",
        "    df_portfolio[x+'_value'] = df_portfolio[x+'_weight']*df_portfolio[x+'_return']\n",
        "    list_portfolio.append(x+'_value')\n",
        "  df_portfolio['portfolio'] = df_portfolio[list_portfolio].cumsum().sum(axis=1)\n",
        "  df_portfolio.to_pickle('/content/drive/MyDrive/Portfolio/10of20stock_df_portfolio_epoch{}.pickle'.format(str(epoch)))\n",
        "\n",
        "  # Example: Plot df['y'] vs df['x']\n",
        "  plt.figure(figsize=(10, 5))  # Optional: adjust figure size\n",
        "\n",
        "  plt.plot(df_portfolio['dateTime'], df_portfolio['portfolio'])  # You can remove `marker` if not needed\n",
        "\n",
        "  # Add grid\n",
        "  plt.grid(True)\n",
        "\n",
        "  # Rotate x-axis labels\n",
        "  plt.xticks(rotation=45)\n",
        "\n",
        "  # Optional: Add labels and title\n",
        "  plt.xlabel('X-axis')\n",
        "  plt.ylabel('Y-axis')\n",
        "  plt.title('portfolio cum return')\n",
        "\n",
        "  plt.tight_layout()  # Adjust layout to prevent clipping of labels\n",
        "  plt.savefig('/content/drive/MyDrive/Portfolio/10of20stock_df_portfolio_epoch{}.png'.format(str(epoch)), dpi=300)  # or .jpg, .svg, .pdf\n",
        "\n",
        "  plt.show()\n"
      ]
    },
    {
      "cell_type": "markdown",
      "metadata": {},
      "source": [
        "Training model"
      ]
    },
    {
      "cell_type": "code",
      "execution_count": 173,
      "metadata": {
        "id": "iYBzmKXExo2C"
      },
      "outputs": [],
      "source": [
        "# One training step\n",
        "for batch in val_loader:\n",
        "    ts_input = batch['timeseries'].cuda()\n",
        "    news_input = batch['news'].cuda()\n",
        "    target = batch['target'].cuda()\n",
        "    # time_mask = batch['time_mask'].cuda()\n",
        "    time_mask = 1\n",
        "    output = model(ts_input, time_mask, news_input)  # [B, 19]\n",
        "    loss = func_loss(output, target, top_k=10)\n",
        "    mean_r, sharp = func_validation(output, target, top_k=10)\n",
        "    break\n"
      ]
    },
    {
      "cell_type": "code",
      "execution_count": null,
      "metadata": {
        "colab": {
          "base_uri": "https://localhost:8080/",
          "height": 1000
        },
        "id": "HYSvx1aYglIR",
        "outputId": "9b6eb9a5-5f4c-4351-fba8-0e6da8be3d27"
      },
      "outputs": [
        {
          "name": "stdout",
          "output_type": "stream",
          "text": [
            "\n",
            "🔁 Epoch 1/50\n"
          ]
        },
        {
          "name": "stderr",
          "output_type": "stream",
          "text": [
            "Training:   0%|          | 1/3329 [00:00<36:56,  1.50it/s]"
          ]
        },
        {
          "name": "stdout",
          "output_type": "stream",
          "text": [
            "  Step 0/3329 - Batch Loss: 0.0124 - Avg Loss: 0.0124\n"
          ]
        },
        {
          "name": "stderr",
          "output_type": "stream",
          "text": [
            "Training:   3%|▎         | 101/3329 [00:50<26:26,  2.03it/s]"
          ]
        },
        {
          "name": "stdout",
          "output_type": "stream",
          "text": [
            "  Step 100/3329 - Batch Loss: 0.0386 - Avg Loss: -0.0071\n"
          ]
        },
        {
          "name": "stderr",
          "output_type": "stream",
          "text": [
            "Training:   6%|▌         | 201/3329 [01:39<26:00,  2.00it/s]"
          ]
        },
        {
          "name": "stdout",
          "output_type": "stream",
          "text": [
            "  Step 200/3329 - Batch Loss: 0.0048 - Avg Loss: -0.0101\n"
          ]
        },
        {
          "name": "stderr",
          "output_type": "stream",
          "text": [
            "Training:   9%|▉         | 301/3329 [02:30<25:58,  1.94it/s]"
          ]
        },
        {
          "name": "stdout",
          "output_type": "stream",
          "text": [
            "  Step 300/3329 - Batch Loss: -0.0230 - Avg Loss: -0.0136\n"
          ]
        },
        {
          "name": "stderr",
          "output_type": "stream",
          "text": [
            "Training:  12%|█▏        | 401/3329 [03:21<24:09,  2.02it/s]"
          ]
        },
        {
          "name": "stdout",
          "output_type": "stream",
          "text": [
            "  Step 400/3329 - Batch Loss: -0.0408 - Avg Loss: -0.0139\n"
          ]
        },
        {
          "name": "stderr",
          "output_type": "stream",
          "text": [
            "Training:  15%|█▌        | 501/3329 [04:12<24:13,  1.95it/s]"
          ]
        },
        {
          "name": "stdout",
          "output_type": "stream",
          "text": [
            "  Step 500/3329 - Batch Loss: -0.0602 - Avg Loss: -0.0159\n"
          ]
        },
        {
          "name": "stderr",
          "output_type": "stream",
          "text": [
            "Training:  18%|█▊        | 601/3329 [05:04<23:49,  1.91it/s]"
          ]
        },
        {
          "name": "stdout",
          "output_type": "stream",
          "text": [
            "  Step 600/3329 - Batch Loss: -0.0388 - Avg Loss: -0.0166\n"
          ]
        },
        {
          "name": "stderr",
          "output_type": "stream",
          "text": [
            "Training:  21%|██        | 701/3329 [05:54<21:37,  2.03it/s]"
          ]
        },
        {
          "name": "stdout",
          "output_type": "stream",
          "text": [
            "  Step 700/3329 - Batch Loss: 0.0380 - Avg Loss: -0.0169\n"
          ]
        },
        {
          "name": "stderr",
          "output_type": "stream",
          "text": [
            "Training:  24%|██▍       | 801/3329 [06:42<20:40,  2.04it/s]"
          ]
        },
        {
          "name": "stdout",
          "output_type": "stream",
          "text": [
            "  Step 800/3329 - Batch Loss: -0.0252 - Avg Loss: -0.0184\n"
          ]
        },
        {
          "name": "stderr",
          "output_type": "stream",
          "text": [
            "Training:  27%|██▋       | 901/3329 [07:32<20:20,  1.99it/s]"
          ]
        },
        {
          "name": "stdout",
          "output_type": "stream",
          "text": [
            "  Step 900/3329 - Batch Loss: -0.0377 - Avg Loss: -0.0195\n"
          ]
        },
        {
          "name": "stderr",
          "output_type": "stream",
          "text": [
            "Training:  30%|███       | 1001/3329 [08:22<19:25,  2.00it/s]"
          ]
        },
        {
          "name": "stdout",
          "output_type": "stream",
          "text": [
            "  Step 1000/3329 - Batch Loss: -0.0019 - Avg Loss: -0.0211\n"
          ]
        },
        {
          "name": "stderr",
          "output_type": "stream",
          "text": [
            "Training:  33%|███▎      | 1101/3329 [09:11<18:48,  1.97it/s]"
          ]
        },
        {
          "name": "stdout",
          "output_type": "stream",
          "text": [
            "  Step 1100/3329 - Batch Loss: -0.0677 - Avg Loss: -0.0223\n"
          ]
        },
        {
          "name": "stderr",
          "output_type": "stream",
          "text": [
            "Training:  36%|███▌      | 1201/3329 [10:00<17:49,  1.99it/s]"
          ]
        },
        {
          "name": "stdout",
          "output_type": "stream",
          "text": [
            "  Step 1200/3329 - Batch Loss: -0.0586 - Avg Loss: -0.0233\n"
          ]
        },
        {
          "name": "stderr",
          "output_type": "stream",
          "text": [
            "Training:  39%|███▉      | 1301/3329 [10:50<17:10,  1.97it/s]"
          ]
        },
        {
          "name": "stdout",
          "output_type": "stream",
          "text": [
            "  Step 1300/3329 - Batch Loss: -0.0753 - Avg Loss: -0.0242\n"
          ]
        },
        {
          "name": "stderr",
          "output_type": "stream",
          "text": [
            "Training:  42%|████▏     | 1401/3329 [11:42<16:41,  1.92it/s]"
          ]
        },
        {
          "name": "stdout",
          "output_type": "stream",
          "text": [
            "  Step 1400/3329 - Batch Loss: -0.0470 - Avg Loss: -0.0252\n"
          ]
        },
        {
          "name": "stderr",
          "output_type": "stream",
          "text": [
            "Training:  45%|████▌     | 1501/3329 [12:33<15:42,  1.94it/s]"
          ]
        },
        {
          "name": "stdout",
          "output_type": "stream",
          "text": [
            "  Step 1500/3329 - Batch Loss: -0.0495 - Avg Loss: -0.0264\n"
          ]
        },
        {
          "name": "stderr",
          "output_type": "stream",
          "text": [
            "Training:  48%|████▊     | 1601/3329 [13:25<14:31,  1.98it/s]"
          ]
        },
        {
          "name": "stdout",
          "output_type": "stream",
          "text": [
            "  Step 1600/3329 - Batch Loss: -0.0526 - Avg Loss: -0.0278\n"
          ]
        },
        {
          "name": "stderr",
          "output_type": "stream",
          "text": [
            "Training:  51%|█████     | 1701/3329 [14:16<13:41,  1.98it/s]"
          ]
        },
        {
          "name": "stdout",
          "output_type": "stream",
          "text": [
            "  Step 1700/3329 - Batch Loss: -0.0900 - Avg Loss: -0.0286\n"
          ]
        },
        {
          "name": "stderr",
          "output_type": "stream",
          "text": [
            "Training:  54%|█████▍    | 1801/3329 [15:07<13:04,  1.95it/s]"
          ]
        },
        {
          "name": "stdout",
          "output_type": "stream",
          "text": [
            "  Step 1800/3329 - Batch Loss: -0.0628 - Avg Loss: -0.0298\n"
          ]
        },
        {
          "name": "stderr",
          "output_type": "stream",
          "text": [
            "Training:  57%|█████▋    | 1901/3329 [15:58<12:11,  1.95it/s]"
          ]
        },
        {
          "name": "stdout",
          "output_type": "stream",
          "text": [
            "  Step 1900/3329 - Batch Loss: -0.0943 - Avg Loss: -0.0308\n"
          ]
        },
        {
          "name": "stderr",
          "output_type": "stream",
          "text": [
            "Training:  60%|██████    | 2001/3329 [16:49<11:22,  1.95it/s]"
          ]
        },
        {
          "name": "stdout",
          "output_type": "stream",
          "text": [
            "  Step 2000/3329 - Batch Loss: -0.0782 - Avg Loss: -0.0321\n"
          ]
        },
        {
          "name": "stderr",
          "output_type": "stream",
          "text": [
            "Training:  63%|██████▎   | 2101/3329 [17:40<10:34,  1.94it/s]"
          ]
        },
        {
          "name": "stdout",
          "output_type": "stream",
          "text": [
            "  Step 2100/3329 - Batch Loss: -0.0696 - Avg Loss: -0.0333\n"
          ]
        },
        {
          "name": "stderr",
          "output_type": "stream",
          "text": [
            "Training:  66%|██████▌   | 2201/3329 [18:32<09:26,  1.99it/s]"
          ]
        },
        {
          "name": "stdout",
          "output_type": "stream",
          "text": [
            "  Step 2200/3329 - Batch Loss: -0.0352 - Avg Loss: -0.0344\n"
          ]
        },
        {
          "name": "stderr",
          "output_type": "stream",
          "text": [
            "Training:  69%|██████▉   | 2301/3329 [19:24<08:50,  1.94it/s]"
          ]
        },
        {
          "name": "stdout",
          "output_type": "stream",
          "text": [
            "  Step 2300/3329 - Batch Loss: -0.0337 - Avg Loss: -0.0355\n"
          ]
        },
        {
          "name": "stderr",
          "output_type": "stream",
          "text": [
            "Training:  72%|███████▏  | 2401/3329 [20:15<07:51,  1.97it/s]"
          ]
        },
        {
          "name": "stdout",
          "output_type": "stream",
          "text": [
            "  Step 2400/3329 - Batch Loss: -0.0643 - Avg Loss: -0.0366\n"
          ]
        },
        {
          "name": "stderr",
          "output_type": "stream",
          "text": [
            "Training:  75%|███████▌  | 2501/3329 [21:06<07:13,  1.91it/s]"
          ]
        },
        {
          "name": "stdout",
          "output_type": "stream",
          "text": [
            "  Step 2500/3329 - Batch Loss: -0.0704 - Avg Loss: -0.0376\n"
          ]
        },
        {
          "name": "stderr",
          "output_type": "stream",
          "text": [
            "Training:  78%|███████▊  | 2601/3329 [21:56<06:07,  1.98it/s]"
          ]
        },
        {
          "name": "stdout",
          "output_type": "stream",
          "text": [
            "  Step 2600/3329 - Batch Loss: -0.0665 - Avg Loss: -0.0385\n"
          ]
        },
        {
          "name": "stderr",
          "output_type": "stream",
          "text": [
            "Training:  81%|████████  | 2701/3329 [22:47<05:14,  1.99it/s]"
          ]
        },
        {
          "name": "stdout",
          "output_type": "stream",
          "text": [
            "  Step 2700/3329 - Batch Loss: -0.0496 - Avg Loss: -0.0393\n"
          ]
        },
        {
          "name": "stderr",
          "output_type": "stream",
          "text": [
            "Training:  84%|████████▍ | 2801/3329 [23:37<04:22,  2.02it/s]"
          ]
        },
        {
          "name": "stdout",
          "output_type": "stream",
          "text": [
            "  Step 2800/3329 - Batch Loss: -0.0757 - Avg Loss: -0.0402\n"
          ]
        },
        {
          "name": "stderr",
          "output_type": "stream",
          "text": [
            "Training:  87%|████████▋ | 2901/3329 [24:27<03:37,  1.97it/s]"
          ]
        },
        {
          "name": "stdout",
          "output_type": "stream",
          "text": [
            "  Step 2900/3329 - Batch Loss: -0.0227 - Avg Loss: -0.0412\n"
          ]
        },
        {
          "name": "stderr",
          "output_type": "stream",
          "text": [
            "Training:  90%|█████████ | 3001/3329 [25:18<02:48,  1.95it/s]"
          ]
        },
        {
          "name": "stdout",
          "output_type": "stream",
          "text": [
            "  Step 3000/3329 - Batch Loss: -0.0402 - Avg Loss: -0.0419\n"
          ]
        },
        {
          "name": "stderr",
          "output_type": "stream",
          "text": [
            "Training:  93%|█████████▎| 3101/3329 [26:10<01:58,  1.93it/s]"
          ]
        },
        {
          "name": "stdout",
          "output_type": "stream",
          "text": [
            "  Step 3100/3329 - Batch Loss: 0.0026 - Avg Loss: -0.0429\n"
          ]
        },
        {
          "name": "stderr",
          "output_type": "stream",
          "text": [
            "Training:  96%|█████████▌| 3201/3329 [27:01<01:03,  2.02it/s]"
          ]
        },
        {
          "name": "stdout",
          "output_type": "stream",
          "text": [
            "  Step 3200/3329 - Batch Loss: -0.0437 - Avg Loss: -0.0437\n"
          ]
        },
        {
          "name": "stderr",
          "output_type": "stream",
          "text": [
            "Training:  99%|█████████▉| 3301/3329 [27:51<00:13,  2.05it/s]"
          ]
        },
        {
          "name": "stdout",
          "output_type": "stream",
          "text": [
            "  Step 3300/3329 - Batch Loss: -0.0894 - Avg Loss: -0.0445\n"
          ]
        },
        {
          "name": "stderr",
          "output_type": "stream",
          "text": [
            "Training: 100%|██████████| 3329/3329 [28:04<00:00,  1.98it/s]\n",
            "Validating: 100%|██████████| 719/719 [01:22<00:00,  8.70it/s]\n"
          ]
        },
        {
          "name": "stdout",
          "output_type": "stream",
          "text": [
            "📊 Epoch 1 Summary:\n",
            "  Train Loss: -0.0448\n",
            "  Val Loss: -0.0187\n",
            "Mean Return  103.50435 0.068568476 0.44369623 -1.0341446\n",
            "Sharpe  0.01853679 0.16984043 0.79766583 -0.6991981\n",
            "Winrate 0.5470171010835038\n"
          ]
        },
        {
          "data": {
            "image/png": "[encoded data removed]",
            "text/plain": [
              "<Figure size 1000x500 with 1 Axes>"
            ]
          },
          "metadata": {},
          "output_type": "display_data"
        },
        {
          "name": "stdout",
          "output_type": "stream",
          "text": [
            "✅ Best model saved.\n",
            "\n",
            "🔁 Epoch 2/50\n"
          ]
        },
        {
          "name": "stderr",
          "output_type": "stream",
          "text": [
            "Training:   0%|          | 1/3329 [00:00<29:49,  1.86it/s]"
          ]
        },
        {
          "name": "stdout",
          "output_type": "stream",
          "text": [
            "  Step 0/3329 - Batch Loss: -0.0837 - Avg Loss: -0.0837\n"
          ]
        },
        {
          "name": "stderr",
          "output_type": "stream",
          "text": [
            "Training:   3%|▎         | 101/3329 [00:52<28:13,  1.91it/s]"
          ]
        },
        {
          "name": "stdout",
          "output_type": "stream",
          "text": [
            "  Step 100/3329 - Batch Loss: -0.0783 - Avg Loss: -0.0739\n"
          ]
        },
        {
          "name": "stderr",
          "output_type": "stream",
          "text": [
            "Training:   6%|▌         | 201/3329 [01:44<26:48,  1.95it/s]"
          ]
        },
        {
          "name": "stdout",
          "output_type": "stream",
          "text": [
            "  Step 200/3329 - Batch Loss: -0.1279 - Avg Loss: -0.0767\n"
          ]
        },
        {
          "name": "stderr",
          "output_type": "stream",
          "text": [
            "Training:   9%|▉         | 301/3329 [02:35<26:40,  1.89it/s]"
          ]
        },
        {
          "name": "stdout",
          "output_type": "stream",
          "text": [
            "  Step 300/3329 - Batch Loss: -0.0729 - Avg Loss: -0.0779\n"
          ]
        },
        {
          "name": "stderr",
          "output_type": "stream",
          "text": [
            "Training:  12%|█▏        | 401/3329 [03:27<25:24,  1.92it/s]"
          ]
        },
        {
          "name": "stdout",
          "output_type": "stream",
          "text": [
            "  Step 400/3329 - Batch Loss: -0.1375 - Avg Loss: -0.0785\n"
          ]
        },
        {
          "name": "stderr",
          "output_type": "stream",
          "text": [
            "Training:  15%|█▌        | 501/3329 [04:19<24:20,  1.94it/s]"
          ]
        },
        {
          "name": "stdout",
          "output_type": "stream",
          "text": [
            "  Step 500/3329 - Batch Loss: -0.0549 - Avg Loss: -0.0784\n"
          ]
        },
        {
          "name": "stderr",
          "output_type": "stream",
          "text": [
            "Training:  18%|█▊        | 601/3329 [05:09<22:19,  2.04it/s]"
          ]
        },
        {
          "name": "stdout",
          "output_type": "stream",
          "text": [
            "  Step 600/3329 - Batch Loss: -0.1036 - Avg Loss: -0.0791\n"
          ]
        },
        {
          "name": "stderr",
          "output_type": "stream",
          "text": [
            "Training:  21%|██        | 701/3329 [05:59<21:38,  2.02it/s]"
          ]
        },
        {
          "name": "stdout",
          "output_type": "stream",
          "text": [
            "  Step 700/3329 - Batch Loss: -0.0736 - Avg Loss: -0.0793\n"
          ]
        },
        {
          "name": "stderr",
          "output_type": "stream",
          "text": [
            "Training:  24%|██▍       | 801/3329 [06:48<20:50,  2.02it/s]"
          ]
        },
        {
          "name": "stdout",
          "output_type": "stream",
          "text": [
            "  Step 800/3329 - Batch Loss: -0.1334 - Avg Loss: -0.0802\n"
          ]
        },
        {
          "name": "stderr",
          "output_type": "stream",
          "text": [
            "Training:  27%|██▋       | 901/3329 [07:38<19:55,  2.03it/s]"
          ]
        },
        {
          "name": "stdout",
          "output_type": "stream",
          "text": [
            "  Step 900/3329 - Batch Loss: -0.1124 - Avg Loss: -0.0800\n"
          ]
        },
        {
          "name": "stderr",
          "output_type": "stream",
          "text": [
            "Training:  30%|███       | 1001/3329 [08:26<18:42,  2.07it/s]"
          ]
        },
        {
          "name": "stdout",
          "output_type": "stream",
          "text": [
            "  Step 1000/3329 - Batch Loss: -0.0717 - Avg Loss: -0.0804\n"
          ]
        },
        {
          "name": "stderr",
          "output_type": "stream",
          "text": [
            "Training:  33%|███▎      | 1101/3329 [09:15<17:50,  2.08it/s]"
          ]
        },
        {
          "name": "stdout",
          "output_type": "stream",
          "text": [
            "  Step 1100/3329 - Batch Loss: -0.1050 - Avg Loss: -0.0808\n"
          ]
        },
        {
          "name": "stderr",
          "output_type": "stream",
          "text": [
            "Training:  36%|███▌      | 1201/3329 [10:04<17:09,  2.07it/s]"
          ]
        },
        {
          "name": "stdout",
          "output_type": "stream",
          "text": [
            "  Step 1200/3329 - Batch Loss: -0.0935 - Avg Loss: -0.0814\n"
          ]
        },
        {
          "name": "stderr",
          "output_type": "stream",
          "text": [
            "Training:  39%|███▉      | 1301/3329 [10:53<16:24,  2.06it/s]"
          ]
        },
        {
          "name": "stdout",
          "output_type": "stream",
          "text": [
            "  Step 1300/3329 - Batch Loss: -0.1182 - Avg Loss: -0.0818\n"
          ]
        },
        {
          "name": "stderr",
          "output_type": "stream",
          "text": [
            "Training:  42%|████▏     | 1401/3329 [11:42<15:35,  2.06it/s]"
          ]
        },
        {
          "name": "stdout",
          "output_type": "stream",
          "text": [
            "  Step 1400/3329 - Batch Loss: -0.0915 - Avg Loss: -0.0821\n"
          ]
        },
        {
          "name": "stderr",
          "output_type": "stream",
          "text": [
            "Training:  45%|████▌     | 1501/3329 [12:30<14:49,  2.05it/s]"
          ]
        },
        {
          "name": "stdout",
          "output_type": "stream",
          "text": [
            "  Step 1500/3329 - Batch Loss: -0.1216 - Avg Loss: -0.0823\n"
          ]
        },
        {
          "name": "stderr",
          "output_type": "stream",
          "text": [
            "Training:  48%|████▊     | 1601/3329 [13:19<13:45,  2.09it/s]"
          ]
        },
        {
          "name": "stdout",
          "output_type": "stream",
          "text": [
            "  Step 1600/3329 - Batch Loss: -0.0803 - Avg Loss: -0.0827\n"
          ]
        },
        {
          "name": "stderr",
          "output_type": "stream",
          "text": [
            "Training:  51%|█████     | 1701/3329 [14:07<13:07,  2.07it/s]"
          ]
        },
        {
          "name": "stdout",
          "output_type": "stream",
          "text": [
            "  Step 1700/3329 - Batch Loss: -0.1259 - Avg Loss: -0.0830\n"
          ]
        },
        {
          "name": "stderr",
          "output_type": "stream",
          "text": [
            "Training:  54%|█████▍    | 1801/3329 [14:56<12:19,  2.07it/s]"
          ]
        },
        {
          "name": "stdout",
          "output_type": "stream",
          "text": [
            "  Step 1800/3329 - Batch Loss: -0.1148 - Avg Loss: -0.0833\n"
          ]
        },
        {
          "name": "stderr",
          "output_type": "stream",
          "text": [
            "Training:  57%|█████▋    | 1901/3329 [15:46<11:45,  2.02it/s]"
          ]
        },
        {
          "name": "stdout",
          "output_type": "stream",
          "text": [
            "  Step 1900/3329 - Batch Loss: -0.0512 - Avg Loss: -0.0837\n"
          ]
        },
        {
          "name": "stderr",
          "output_type": "stream",
          "text": [
            "Training:  60%|██████    | 2001/3329 [16:36<11:23,  1.94it/s]"
          ]
        },
        {
          "name": "stdout",
          "output_type": "stream",
          "text": [
            "  Step 2000/3329 - Batch Loss: -0.0741 - Avg Loss: -0.0842\n"
          ]
        },
        {
          "name": "stderr",
          "output_type": "stream",
          "text": [
            "Training:  63%|██████▎   | 2101/3329 [17:26<10:21,  1.97it/s]"
          ]
        },
        {
          "name": "stdout",
          "output_type": "stream",
          "text": [
            "  Step 2100/3329 - Batch Loss: -0.1330 - Avg Loss: -0.0849\n"
          ]
        },
        {
          "name": "stderr",
          "output_type": "stream",
          "text": [
            "Training:  66%|██████▌   | 2201/3329 [18:16<09:22,  2.01it/s]"
          ]
        },
        {
          "name": "stdout",
          "output_type": "stream",
          "text": [
            "  Step 2200/3329 - Batch Loss: -0.0041 - Avg Loss: -0.0854\n"
          ]
        },
        {
          "name": "stderr",
          "output_type": "stream",
          "text": [
            "Training:  69%|██████▉   | 2301/3329 [19:06<08:27,  2.03it/s]"
          ]
        },
        {
          "name": "stdout",
          "output_type": "stream",
          "text": [
            "  Step 2300/3329 - Batch Loss: -0.0884 - Avg Loss: -0.0863\n"
          ]
        },
        {
          "name": "stderr",
          "output_type": "stream",
          "text": [
            "Training:  72%|███████▏  | 2401/3329 [19:56<07:34,  2.04it/s]"
          ]
        },
        {
          "name": "stdout",
          "output_type": "stream",
          "text": [
            "  Step 2400/3329 - Batch Loss: -0.1097 - Avg Loss: -0.0867\n"
          ]
        },
        {
          "name": "stderr",
          "output_type": "stream",
          "text": [
            "Training:  75%|███████▌  | 2501/3329 [20:46<06:48,  2.03it/s]"
          ]
        },
        {
          "name": "stdout",
          "output_type": "stream",
          "text": [
            "  Step 2500/3329 - Batch Loss: -0.0535 - Avg Loss: -0.0873\n"
          ]
        },
        {
          "name": "stderr",
          "output_type": "stream",
          "text": [
            "Training:  78%|███████▊  | 2601/3329 [21:36<05:58,  2.03it/s]"
          ]
        },
        {
          "name": "stdout",
          "output_type": "stream",
          "text": [
            "  Step 2600/3329 - Batch Loss: -0.1057 - Avg Loss: -0.0878\n"
          ]
        },
        {
          "name": "stderr",
          "output_type": "stream",
          "text": [
            "Training:  81%|████████  | 2701/3329 [22:26<05:14,  1.99it/s]"
          ]
        },
        {
          "name": "stdout",
          "output_type": "stream",
          "text": [
            "  Step 2700/3329 - Batch Loss: -0.0954 - Avg Loss: -0.0882\n"
          ]
        },
        {
          "name": "stderr",
          "output_type": "stream",
          "text": [
            "Training:  84%|████████▍ | 2801/3329 [23:16<04:22,  2.01it/s]"
          ]
        },
        {
          "name": "stdout",
          "output_type": "stream",
          "text": [
            "  Step 2800/3329 - Batch Loss: -0.1007 - Avg Loss: -0.0888\n"
          ]
        },
        {
          "name": "stderr",
          "output_type": "stream",
          "text": [
            "Training:  87%|████████▋ | 2901/3329 [24:06<03:30,  2.04it/s]"
          ]
        },
        {
          "name": "stdout",
          "output_type": "stream",
          "text": [
            "  Step 2900/3329 - Batch Loss: -0.1183 - Avg Loss: -0.0894\n"
          ]
        },
        {
          "name": "stderr",
          "output_type": "stream",
          "text": [
            "Training:  90%|█████████ | 3001/3329 [24:56<02:46,  1.97it/s]"
          ]
        },
        {
          "name": "stdout",
          "output_type": "stream",
          "text": [
            "  Step 3000/3329 - Batch Loss: -0.0435 - Avg Loss: -0.0899\n"
          ]
        },
        {
          "name": "stderr",
          "output_type": "stream",
          "text": [
            "Training:  93%|█████████▎| 3101/3329 [25:46<01:55,  1.97it/s]"
          ]
        },
        {
          "name": "stdout",
          "output_type": "stream",
          "text": [
            "  Step 3100/3329 - Batch Loss: -0.0946 - Avg Loss: -0.0905\n"
          ]
        },
        {
          "name": "stderr",
          "output_type": "stream",
          "text": [
            "Training:  96%|█████████▌| 3201/3329 [26:36<01:04,  1.98it/s]"
          ]
        },
        {
          "name": "stdout",
          "output_type": "stream",
          "text": [
            "  Step 3200/3329 - Batch Loss: -0.1035 - Avg Loss: -0.0909\n"
          ]
        },
        {
          "name": "stderr",
          "output_type": "stream",
          "text": [
            "Training:  99%|█████████▉| 3301/3329 [27:25<00:13,  2.05it/s]"
          ]
        },
        {
          "name": "stdout",
          "output_type": "stream",
          "text": [
            "  Step 3300/3329 - Batch Loss: -0.0993 - Avg Loss: -0.0915\n"
          ]
        },
        {
          "name": "stderr",
          "output_type": "stream",
          "text": [
            "Training: 100%|██████████| 3329/3329 [27:39<00:00,  2.01it/s]\n",
            "Validating: 100%|██████████| 719/719 [01:17<00:00,  9.23it/s]\n"
          ]
        },
        {
          "name": "stdout",
          "output_type": "stream",
          "text": [
            "📊 Epoch 2 Summary:\n",
            "  Train Loss: -0.0917\n",
            "  Val Loss: -0.0101\n",
            "Mean Return  54.414566 0.052407425 0.3634577 -0.71199465\n",
            "Sharpe  0.009888462 0.17500016 0.87395483 -0.6961813\n",
            "Winrate 0.5211696618946086\n"
          ]
        },
        {
          "data": {
            "image/png": "[encoded data removed]",
            "text/plain": [
              "<Figure size 1000x500 with 1 Axes>"
            ]
          },
          "metadata": {},
          "output_type": "display_data"
        },
        {
          "name": "stdout",
          "output_type": "stream",
          "text": [
            "⏳ Early stopping patience: 1/5\n",
            "\n",
            "🔁 Epoch 3/50\n"
          ]
        },
        {
          "name": "stderr",
          "output_type": "stream",
          "text": [
            "Training:   0%|          | 1/3329 [00:00<27:42,  2.00it/s]"
          ]
        },
        {
          "name": "stdout",
          "output_type": "stream",
          "text": [
            "  Step 0/3329 - Batch Loss: -0.1176 - Avg Loss: -0.1176\n"
          ]
        },
        {
          "name": "stderr",
          "output_type": "stream",
          "text": [
            "Training:   2%|▏         | 74/3329 [00:36<27:09,  2.00it/s]"
          ]
        }
      ],
      "source": [
        "from sklearn.metrics import r2_score\n",
        "from tqdm import tqdm\n",
        "import torch\n",
        "import numpy as np\n",
        "import os\n",
        "\n",
        "def compute_r2_per_stock(y_true, y_pred):\n",
        "    r2s = []\n",
        "    for i in range(y_true.shape[1]):\n",
        "        r2s.append(r2_score(y_true[:, i], y_pred[:, i]))\n",
        "    return r2s\n",
        "\n",
        "num_epochs=50\n",
        "patience=5\n",
        "save_path='/content/drive/MyDrive/Portfolio/best_model_10of20_v2.pth'\n",
        "device='cuda'\n",
        "top_k_stock = 10\n",
        "\n",
        "best_val_loss = float('inf')\n",
        "patience_counter = 0\n",
        "model.to(device)\n",
        "\n",
        "for epoch in range(1, num_epochs + 1):\n",
        "    model.train()\n",
        "    total_train_loss = 0\n",
        "\n",
        "    print(f\"\\n🔁 Epoch {epoch}/{num_epochs}\")\n",
        "    for step, batch in enumerate(tqdm(train_loader, desc=\"Training\")):\n",
        "        ts_input = batch['timeseries'].to(device)\n",
        "        news_input = batch['news'].to(device)\n",
        "        target = batch['target'].to(device)\n",
        "        time_mask = 1 #batch['time_mask'].to(device)\n",
        "\n",
        "        output = model(ts_input, time_mask, news_input)\n",
        "        loss = func_loss(output, target, top_k=top_k_stock)\n",
        "\n",
        "        optimizer.zero_grad()\n",
        "        loss.backward()\n",
        "        optimizer.step()\n",
        "        total_train_loss += loss.item()\n",
        "\n",
        "        # Step-wise print every 100 steps\n",
        "        if step % 100 == 0:\n",
        "            avg_loss = total_train_loss / (step + 1)\n",
        "            print(f\"  Step {step}/{len(train_loader)} - Batch Loss: {loss.item():.4f} - Avg Loss: {avg_loss:.4f}\")\n",
        "\n",
        "\n",
        "    # Validation phase\n",
        "    # Validation phase\n",
        "    model.eval()\n",
        "    total_val_loss = 0\n",
        "    all_preds, all_targets = [], []\n",
        "    all_return, all_sharp = [], []\n",
        "    all_topk_vals, all_topk_indices = [], []\n",
        "    all_time = []\n",
        "    with torch.no_grad():\n",
        "        for batch in tqdm(val_loader, desc=\"Validating\"):\n",
        "            ts_input = batch['timeseries'].to(device)\n",
        "            news_input = batch['news'].to(device)\n",
        "            target = batch['target'].to(device)\n",
        "            time_index = batch['time'].to(device)\n",
        "            time_mask = 1 #batch['time_mask'].to(device)\n",
        "\n",
        "            output = model(ts_input, time_mask, news_input)\n",
        "            loss = func_loss(output, target, top_k=top_k_stock)\n",
        "            mean_r, sharp = func_validation(output, target, top_k=top_k_stock)\n",
        "            total_val_loss += loss.item()\n",
        "            output = torch.tanh(output)\n",
        "            abs_output = torch.abs(output)\n",
        "            topk_vals, topk_indices = torch.topk(abs_output, top_k_stock, dim=1)\n",
        "            all_topk_vals.append(topk_vals.cpu().numpy())\n",
        "            all_topk_indices.append(topk_indices.cpu().numpy())\n",
        "            all_preds.append(output.cpu().numpy())\n",
        "            all_targets.append(target.cpu().numpy())\n",
        "            all_return.extend(mean_r.cpu().numpy())\n",
        "            all_sharp.extend(sharp.cpu().numpy())\n",
        "            all_time.append(time_index.cpu().numpy())\n",
        "\n",
        "    avg_train_loss = total_train_loss / len(train_loader)\n",
        "    avg_val_loss = total_val_loss / len(val_loader)\n",
        "\n",
        "    # y_pred = np.concatenate(all_preds, axis=0)\n",
        "    # y_true = np.concatenate(all_targets, axis=0)\n",
        "    # r2_scores = compute_r2_per_stock(y_true, y_pred)\n",
        "\n",
        "    print(f\"📊 Epoch {epoch} Summary:\")\n",
        "    print(f\"  Train Loss: {avg_train_loss:.4f}\")\n",
        "    print(f\"  Val Loss: {avg_val_loss:.4f}\")\n",
        "    print(\"Mean Return \", np.sum(all_return), np.std(all_return), np.max(all_return), np.min(all_return))\n",
        "    print(\"Sharpe \", np.mean(all_sharp), np.std(all_sharp), np.max(all_sharp), np.min(all_sharp))\n",
        "    print('Winrate', sum([1 for x in all_return if x>0])/len(all_return))\n",
        "    # print(\"  R² per stock:\", [\"{} , {:.3f}\".format(list_crypto_first[r], r2_scores[r]) for r in range(len(r2_scores))])\n",
        "\n",
        "    func_generate_portfolio(all_preds, all_topk_vals)\n",
        "    # if epoch % 5 == 0:\n",
        "    #     np.save(f\"y_pred_epoch_{epoch}.npy\", y_pred)\n",
        "    #     np.save(f\"y_true_epoch_{epoch}.npy\", y_true)\n",
        "\n",
        "    if avg_val_loss < best_val_loss:\n",
        "        best_val_loss = avg_val_loss\n",
        "        patience_counter = 0\n",
        "        torch.save(model.state_dict(), save_path)\n",
        "        print(\"✅ Best model saved.\")\n",
        "    else:\n",
        "        patience_counter += 1\n",
        "        print(f\"⏳ Early stopping patience: {patience_counter}/{patience}\")\n",
        "\n",
        "    if patience_counter >= patience:\n",
        "        print(\"⛔ Early stopping triggered.\")\n",
        "        break"
      ]
    }
  ],
  "metadata": {
    "accelerator": "GPU",
    "colab": {
      "gpuType": "L4",
      "provenance": []
    },
    "kernelspec": {
      "display_name": "Python 3",
      "name": "python3"
    },
    "language_info": {
      "name": "python"
    }
  },
  "nbformat": 4,
  "nbformat_minor": 0
}
