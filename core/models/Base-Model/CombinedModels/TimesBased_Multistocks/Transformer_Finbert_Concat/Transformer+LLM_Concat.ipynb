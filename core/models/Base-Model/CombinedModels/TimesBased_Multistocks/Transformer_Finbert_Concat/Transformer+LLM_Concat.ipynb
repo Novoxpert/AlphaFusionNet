{
  "cells": [
    {
      "cell_type": "code",
      "execution_count": 1,
      "metadata": {
        "colab": {
          "base_uri": "https://localhost:8080/"
        },
        "id": "M4JJZsmd8vbp",
        "outputId": "0c01c006-709c-4987-bda6-159f3454a48b"
      },
      "outputs": [
        {
          "output_type": "stream",
          "name": "stdout",
          "text": [
            "Mounted at /content/drive\n"
          ]
        }
      ],
      "source": [
        "# Connect to Google Drive\n",
        "\n",
        "from google.colab import drive\n",
        "drive.mount('/content/drive')"
      ]
    },
    {
      "cell_type": "code",
      "source": [
        "!unrar x \"/content/drive/MyDrive/20Crypto.rar\" \"content/\""
      ],
      "metadata": {
        "colab": {
          "base_uri": "https://localhost:8080/"
        },
        "id": "RoJfG_zvPvm4",
        "outputId": "5e65cb40-3725-4838-aa66-3018fb79b453"
      },
      "execution_count": 2,
      "outputs": [
        {
          "output_type": "stream",
          "name": "stdout",
          "text": [
            "\n",
            "UNRAR 6.11 beta 1 freeware      Copyright (c) 1993-2022 Alexander Roshal\n",
            "\n",
            "\n",
            "Extracting from /content/drive/MyDrive/20Crypto.rar\n",
            "\n",
            "Creating    content                                                   OK\n",
            "Extracting  content/data_XRPUSDT.pkl                                     \b\b\b\b  6%\b\b\b\b\b  OK \n",
            "Extracting  content/data_ARKUSDT.pkl                                     \b\b\b\b  9%\b\b\b\b\b  OK \n",
            "Extracting  content/data_BTCUSDT.pkl                                     \b\b\b\b 17%\b\b\b\b 18%\b\b\b\b\b  OK \n",
            "Extracting  content/data_DUSDT.pkl                                       \b\b\b\b 22%\b\b\b\b\b  OK \n",
            "Extracting  content/data_FORMUSDT.pkl                                    \b\b\b\b 26%\b\b\b\b\b  OK \n",
            "Extracting  content/data_GMTUSDT.pkl                                     \b\b\b\b 31%\b\b\b\b\b  OK \n",
            "Extracting  content/data_HBARUSDT.pkl                                    \b\b\b\b 38%\b\b\b\b\b  OK \n",
            "Extracting  content/data_HOTUSDT.pkl                                     \b\b\b\b 42%\b\b\b\b\b  OK \n",
            "Extracting  content/data_JSTUSDT.pkl                                     \b\b\b\b 45%\b\b\b\b\b  OK \n",
            "Extracting  content/data_MEUSDT.pkl                                      \b\b\b\b 50%\b\b\b\b\b  OK \n",
            "Extracting  content/data_OGUSDT.pkl                                      \b\b\b\b 54%\b\b\b\b\b  OK \n",
            "Extracting  content/data_SEIUSDT.pkl                                     \b\b\b\b 59%\b\b\b\b\b  OK \n",
            "Extracting  content/data_SUSDT.pkl                                       \b\b\b\b 65%\b\b\b\b\b  OK \n",
            "Extracting  content/data_TIAUSDT.pkl                                     \b\b\b\b 71%\b\b\b\b\b  OK \n",
            "Extracting  content/data_TRXUSDT.pkl                                     \b\b\b\b 76%\b\b\b\b\b  OK \n",
            "Extracting  content/data_TSTUSDT.pkl                                     \b\b\b\b 81%\b\b\b\b\b  OK \n",
            "Extracting  content/data_TUSDT.pkl                                       \b\b\b\b 85%\b\b\b\b\b  OK \n",
            "Extracting  content/data_USDCUSDT.pkl                                    \b\b\b\b 90%\b\b\b\b\b  OK \n",
            "Extracting  content/data_WUSDT.pkl                                       \b\b\b\b 95%\b\b\b\b\b  OK \n",
            "Extracting  content/data_XLMUSDT.pkl                                     \b\b\b\b100%\b\b\b\b\b  OK \n",
            "All OK\n"
          ]
        }
      ]
    },
    {
      "cell_type": "markdown",
      "source": [
        "Loading Embeded news based on Finbert"
      ],
      "metadata": {
        "id": "TtD3YCrnC6me"
      }
    },
    {
      "cell_type": "code",
      "source": [
        "import pandas as pd\n",
        "import warnings\n",
        "warnings.filterwarnings('ignore')\n",
        "df_news = pd.read_pickle('/content/drive/MyDrive/news_20crypto_embed_finbert.pickle')"
      ],
      "metadata": {
        "id": "0hnx5gF4QxYs"
      },
      "execution_count": 3,
      "outputs": []
    },
    {
      "cell_type": "markdown",
      "source": [
        "Embedding No News sentence for using in timestamp with no news"
      ],
      "metadata": {
        "id": "rutbK1ceC-38"
      }
    },
    {
      "cell_type": "code",
      "source": [
        "from transformers import AutoTokenizer, AutoModel\n",
        "import torch\n",
        "\n",
        "# Load FinBERT model and tokenizer\n",
        "model_name = \"yiyanghkust/finbert-tone\"\n",
        "tokenizer = AutoTokenizer.from_pretrained(model_name)\n",
        "model = AutoModel.from_pretrained(model_name)\n",
        "\n",
        "# Your input news text\n",
        "text = \"No news.\"\n",
        "\n",
        "# Tokenize and encode the text\n",
        "inputs = tokenizer(text, return_tensors='pt', truncation=True, max_length=512)\n",
        "\n",
        "# Get the model output\n",
        "with torch.no_grad():\n",
        "    outputs = model(**inputs)\n",
        "\n",
        "# Use the [CLS] token embedding as sentence embedding\n",
        "cls_embedding = outputs.last_hidden_state[:, 0, :]  # Shape: [1, 768]\n",
        "\n",
        "# Convert to numpy array if needed\n",
        "embedding_vector = cls_embedding.squeeze().numpy()\n",
        "\n",
        "print(\"Embedding shape:\", embedding_vector.shape)\n",
        "# print(\"Embedding vector:\", embedding_vector)\n",
        "no_news_vector = list(embedding_vector)"
      ],
      "metadata": {
        "colab": {
          "base_uri": "https://localhost:8080/",
          "height": 130,
          "referenced_widgets": [
            "a7186a4cbdf243a1b853e60c8eb8de4b",
            "11f60100fa64407c8a28e4a2d94dd732",
            "f7c0b38688fc404587bed6ef873d3d9a",
            "1bf4b879fdf14535978fcf12798ff4c8",
            "87eaa1988478478a92b08a77f67970eb",
            "2133677820eb4199904e4c4016b9d055",
            "35c1958e7121481584e04d3c9fa44396",
            "44fac3ac19dc4d0b8ab8a2f583393f46",
            "b9b970a6524c4fd8a978b314ffe040e9",
            "d2a76eb5d070471fa48874d2f8c0d409",
            "25f960dc421a48e6a0c3ad859482add9",
            "869380dab3894e33be73a19da55dd5c7",
            "e4f5ad8466834755a8d69a76c0dc57d5",
            "a885e76251ac4dc297b7b9209e97bf13",
            "c608cbb563cb486f87c73ca38df8ebbd",
            "31be998d8e1744a9a29b18687472495e",
            "3f5a1eefce884f8b88a04b70cab00cd8",
            "8441e8b9cfff4b6db4f6b9455c4ea539",
            "5bfac90a6e3747d497d47dbbc69723c9",
            "bd2f981f1a984e83a633a84409f6236e",
            "5926eadd3cde4d1984cb118834d09680",
            "ec6ad27503764f8ab138361f5641d96b",
            "3257a844902343f5a67ad4fbacba1b68",
            "fc80bd4b8f034fb5a44163f7ac1e2bd7",
            "507e1e27f57c451d9e8180b19e58e4e6",
            "fa499346b17a4b5da9fc5ae893b5c93d",
            "fed7b60891ef422c91d423e346285d1c",
            "e35f343e62b249f2ab62add4dc92a82e",
            "25bcf534214e4307bdc3171dcb684e36",
            "6d7d7492589f4adb9b76a91db66e9c50",
            "eb9d7e8d556b4733b4a1afe2dfcd10ee",
            "33df6e5d0592483bba4227604aea43ee",
            "01c9d37c4f7147eb8444d13ffab3de9a"
          ]
        },
        "id": "tvGCYGIUEF3I",
        "outputId": "9bdbe6a7-5492-4f49-a1c0-f6fae6356ff8"
      },
      "execution_count": 4,
      "outputs": [
        {
          "output_type": "display_data",
          "data": {
            "text/plain": [
              "config.json:   0%|          | 0.00/533 [00:00<?, ?B/s]"
            ],
            "application/vnd.jupyter.widget-view+json": {
              "version_major": 2,
              "version_minor": 0,
              "model_id": "a7186a4cbdf243a1b853e60c8eb8de4b"
            }
          },
          "metadata": {}
        },
        {
          "output_type": "display_data",
          "data": {
            "text/plain": [
              "vocab.txt: 0.00B [00:00, ?B/s]"
            ],
            "application/vnd.jupyter.widget-view+json": {
              "version_major": 2,
              "version_minor": 0,
              "model_id": "869380dab3894e33be73a19da55dd5c7"
            }
          },
          "metadata": {}
        },
        {
          "output_type": "display_data",
          "data": {
            "text/plain": [
              "pytorch_model.bin:   0%|          | 0.00/439M [00:00<?, ?B/s]"
            ],
            "application/vnd.jupyter.widget-view+json": {
              "version_major": 2,
              "version_minor": 0,
              "model_id": "3257a844902343f5a67ad4fbacba1b68"
            }
          },
          "metadata": {}
        },
        {
          "output_type": "stream",
          "name": "stdout",
          "text": [
            "Embedding shape: (768,)\n"
          ]
        }
      ]
    },
    {
      "cell_type": "markdown",
      "source": [
        "Loading OHLCV of multi stocks"
      ],
      "metadata": {
        "id": "VOuH6VDZDUqa"
      }
    },
    {
      "cell_type": "code",
      "source": [
        "import os\n",
        "\n",
        "list_crypto = [x[5:-4] for x in os.listdir('/content/content/') if 'data_' in x and 'FORMUSDT' not in x]\n",
        "# list_crypto = list_crypto[4:10]"
      ],
      "metadata": {
        "id": "1SdJSHGWZM4G"
      },
      "execution_count": 5,
      "outputs": []
    },
    {
      "cell_type": "code",
      "source": [
        "list_data = []\n",
        "selected_f_asset = ['open', 'high', 'low', 'close', 'volume',\n",
        "    'quoteAssetVolume', 'numberOfTrades', 'takerBuyBaseVol',\n",
        "       'takerBuyQuoteVol']\n",
        "selected_f_asset = ['close', 'volume', 'numberOfTrades', 'return']\n",
        "selected_f_all = []\n",
        "list_target = []\n",
        "\n",
        "for symb in list_crypto:\n",
        "  df = pd.read_pickle('/content/content/data_{}.pkl'.format(symb))\n",
        "  print(symb, len(df))\n",
        "  df['return'] = 100*df['close'].pct_change()\n",
        "  df = df[selected_f_asset].rename(columns={x:symb+'_'+x for x in selected_f_asset})\n",
        "  selected_f_all.extend(list(df.columns))\n",
        "  df[symb+'_target'] = df[symb+'_'+'return'].rolling(30).std().shift(-30)\n",
        "  list_target.append(symb+'_target')\n",
        "  list_data.append(df.copy())"
      ],
      "metadata": {
        "colab": {
          "base_uri": "https://localhost:8080/",
          "height": 379,
          "referenced_widgets": [
            "529efa30ba8d43a4be5191649831523c",
            "7f5b732cb071431d87220742b9c77928",
            "45fa6896fe224057807e5aad3f16c182",
            "a90921de78364470a17c2e076e296cfd",
            "299d42b78cb84cbd821ffba722177e85",
            "43815f510a844718a17b70ae933dea4a",
            "63efc5a398d949febeee96d21d5d499a",
            "2bb314b6fbeb4deeaad96042a79cc15b",
            "39b9f76589aa4fb592346341a5222a7d",
            "105df3cda641416b9a6d8d0933e3a720",
            "46b81c85b2cc46ee83ddbe8e45b3598a"
          ]
        },
        "id": "xjVhl2HuvTxA",
        "outputId": "ff6e2139-da89-4a1b-f6da-2a07aa306f69"
      },
      "execution_count": 6,
      "outputs": [
        {
          "output_type": "display_data",
          "data": {
            "text/plain": [
              "model.safetensors:   0%|          | 0.00/439M [00:00<?, ?B/s]"
            ],
            "application/vnd.jupyter.widget-view+json": {
              "version_major": 2,
              "version_minor": 0,
              "model_id": "529efa30ba8d43a4be5191649831523c"
            }
          },
          "metadata": {}
        },
        {
          "output_type": "stream",
          "name": "stdout",
          "text": [
            "BTCUSDT 131041\n",
            "XLMUSDT 131041\n",
            "XRPUSDT 131041\n",
            "TSTUSDT 131041\n",
            "WUSDT 131041\n",
            "ARKUSDT 131041\n",
            "MEUSDT 131041\n",
            "TUSDT 131041\n",
            "OGUSDT 131041\n",
            "TIAUSDT 131041\n",
            "TRXUSDT 131041\n",
            "SUSDT 131041\n",
            "GMTUSDT 131041\n",
            "JSTUSDT 131041\n",
            "SEIUSDT 131041\n",
            "HBARUSDT 131041\n",
            "DUSDT 131041\n",
            "USDCUSDT 131041\n",
            "HOTUSDT 131041\n"
          ]
        }
      ]
    },
    {
      "cell_type": "code",
      "source": [
        "len(selected_f_all)"
      ],
      "metadata": {
        "colab": {
          "base_uri": "https://localhost:8080/"
        },
        "id": "GLNlIK2ob6wf",
        "outputId": "cbd62068-8714-4f60-ab9f-70b3b4c62dc7"
      },
      "execution_count": 7,
      "outputs": [
        {
          "output_type": "execute_result",
          "data": {
            "text/plain": [
              "76"
            ]
          },
          "metadata": {},
          "execution_count": 7
        }
      ]
    },
    {
      "cell_type": "code",
      "source": [
        "data = pd.concat(list_data,axis=1)\n",
        "df = pd.read_pickle('/content/content/data_{}.pkl'.format('BTCUSDT'))\n",
        "df['return'] = df['close'].pct_change()\n",
        "data['dateTime'] = df['dateTime']\n",
        "data['time'] = data['dateTime'].astype(str).copy()\n",
        "data['return'] = df['close'].pct_change()\n",
        "data"
      ],
      "metadata": {
        "colab": {
          "base_uri": "https://localhost:8080/",
          "height": 791
        },
        "id": "JOqUDUbXWGYb",
        "outputId": "6af41b9d-d218-4731-cf4f-aa1735a8555d"
      },
      "execution_count": 8,
      "outputs": [
        {
          "output_type": "execute_result",
          "data": {
            "text/plain": [
              "        BTCUSDT_close BTCUSDT_volume  BTCUSDT_numberOfTrades  BTCUSDT_return  \\\n",
              "0            91785.18    44.25582000                    9784             NaN   \n",
              "1            91837.75    29.64367000                    7048        0.057275   \n",
              "2            91960.97    70.22032000                    6386        0.134171   \n",
              "3            91862.77    50.83532000                    4539       -0.106784   \n",
              "4            91670.09    62.93148000                   11779       -0.209748   \n",
              "...               ...            ...                     ...             ...   \n",
              "131036      109394.14     1.80238000                     514       -0.006490   \n",
              "131037      109409.09     5.64688000                     698        0.013666   \n",
              "131038      109417.56     0.52540000                     224        0.007742   \n",
              "131039      109434.79     3.88664000                    1349        0.015747   \n",
              "131040      109392.52     2.73521000                    1338       -0.038626   \n",
              "\n",
              "        BTCUSDT_target  XLMUSDT_close   XLMUSDT_volume  \\\n",
              "0             0.177998         0.2989  112334.00000000   \n",
              "1             0.186473         0.2990  209664.00000000   \n",
              "2             0.184519         0.3005   80701.00000000   \n",
              "3             0.184458         0.3000  174073.00000000   \n",
              "4             0.182009         0.2988  101822.00000000   \n",
              "...                ...            ...              ...   \n",
              "131036             NaN         0.2857    1341.00000000   \n",
              "131037             NaN         0.2857   11422.00000000   \n",
              "131038             NaN         0.2858     402.00000000   \n",
              "131039             NaN         0.2858    4370.00000000   \n",
              "131040             NaN         0.2857   78329.00000000   \n",
              "\n",
              "        XLMUSDT_numberOfTrades  XLMUSDT_return  XLMUSDT_target  ...  \\\n",
              "0                          392             NaN        0.422107  ...   \n",
              "1                          398        0.033456        0.439614  ...   \n",
              "2                          311        0.501672        0.431379  ...   \n",
              "3                          666       -0.166389        0.434661  ...   \n",
              "4                          546       -0.400000        0.428329  ...   \n",
              "...                        ...             ...             ...  ...   \n",
              "131036                       5        0.000000             NaN  ...   \n",
              "131037                      21        0.000000             NaN  ...   \n",
              "131038                       3        0.035002             NaN  ...   \n",
              "131039                      33        0.000000             NaN  ...   \n",
              "131040                     138       -0.034990             NaN  ...   \n",
              "\n",
              "        USDCUSDT_return USDCUSDT_target  HOTUSDT_close    HOTUSDT_volume  \\\n",
              "0                   NaN        0.006948       0.001424  3866530.00000000   \n",
              "1              0.000000        0.007184       0.001425  1135592.00000000   \n",
              "2              0.000000        0.007427       0.001425    96487.00000000   \n",
              "3              0.000000        0.007427       0.001431  1772593.00000000   \n",
              "4             -0.009999        0.007184       0.001420   484068.00000000   \n",
              "...                 ...             ...            ...               ...   \n",
              "131036         0.000000             NaN       0.001111     7873.00000000   \n",
              "131037        -0.010004             NaN       0.001113  1793903.00000000   \n",
              "131038         0.010005             NaN       0.001113  1397911.00000000   \n",
              "131039        -0.010004             NaN       0.001115  1792102.00000000   \n",
              "131040         0.010005             NaN       0.001113  3228545.00000000   \n",
              "\n",
              "        HOTUSDT_numberOfTrades  HOTUSDT_return HOTUSDT_target  \\\n",
              "0                           22             NaN       0.468796   \n",
              "1                           21        0.070225       0.474921   \n",
              "2                            4        0.000000       0.475486   \n",
              "3                           14        0.421053       0.470420   \n",
              "4                            9       -0.768693       0.451829   \n",
              "...                        ...             ...            ...   \n",
              "131036                       1       -0.089928            NaN   \n",
              "131037                      64        0.180018            NaN   \n",
              "131038                       9        0.000000            NaN   \n",
              "131039                      10        0.179695            NaN   \n",
              "131040                      16       -0.179372            NaN   \n",
              "\n",
              "                  dateTime                 time    return  \n",
              "0      2025-02-25 00:00:00  2025-02-25 00:00:00       NaN  \n",
              "1      2025-02-25 00:01:00  2025-02-25 00:01:00  0.000573  \n",
              "2      2025-02-25 00:02:00  2025-02-25 00:02:00  0.001342  \n",
              "3      2025-02-25 00:03:00  2025-02-25 00:03:00 -0.001068  \n",
              "4      2025-02-25 00:04:00  2025-02-25 00:04:00 -0.002097  \n",
              "...                    ...                  ...       ...  \n",
              "131036 2025-05-26 23:56:00  2025-05-26 23:56:00 -0.000065  \n",
              "131037 2025-05-26 23:57:00  2025-05-26 23:57:00  0.000137  \n",
              "131038 2025-05-26 23:58:00  2025-05-26 23:58:00  0.000077  \n",
              "131039 2025-05-26 23:59:00  2025-05-26 23:59:00  0.000157  \n",
              "131040 2025-05-27 00:00:00  2025-05-27 00:00:00 -0.000386  \n",
              "\n",
              "[131041 rows x 98 columns]"
            ],
            "text/html": [
              "\n",
              "  <div id=\"df-bed13e46-e6cd-4655-ae78-66e8b1a601c8\" class=\"colab-df-container\">\n",
              "    <div>\n",
              "<style scoped>\n",
              "    .dataframe tbody tr th:only-of-type {\n",
              "        vertical-align: middle;\n",
              "    }\n",
              "\n",
              "    .dataframe tbody tr th {\n",
              "        vertical-align: top;\n",
              "    }\n",
              "\n",
              "    .dataframe thead th {\n",
              "        text-align: right;\n",
              "    }\n",
              "</style>\n",
              "<table border=\"1\" class=\"dataframe\">\n",
              "  <thead>\n",
              "    <tr style=\"text-align: right;\">\n",
              "      <th></th>\n",
              "      <th>BTCUSDT_close</th>\n",
              "      <th>BTCUSDT_volume</th>\n",
              "      <th>BTCUSDT_numberOfTrades</th>\n",
              "      <th>BTCUSDT_return</th>\n",
              "      <th>BTCUSDT_target</th>\n",
              "      <th>XLMUSDT_close</th>\n",
              "      <th>XLMUSDT_volume</th>\n",
              "      <th>XLMUSDT_numberOfTrades</th>\n",
              "      <th>XLMUSDT_return</th>\n",
              "      <th>XLMUSDT_target</th>\n",
              "      <th>...</th>\n",
              "      <th>USDCUSDT_return</th>\n",
              "      <th>USDCUSDT_target</th>\n",
              "      <th>HOTUSDT_close</th>\n",
              "      <th>HOTUSDT_volume</th>\n",
              "      <th>HOTUSDT_numberOfTrades</th>\n",
              "      <th>HOTUSDT_return</th>\n",
              "      <th>HOTUSDT_target</th>\n",
              "      <th>dateTime</th>\n",
              "      <th>time</th>\n",
              "      <th>return</th>\n",
              "    </tr>\n",
              "  </thead>\n",
              "  <tbody>\n",
              "    <tr>\n",
              "      <th>0</th>\n",
              "      <td>91785.18</td>\n",
              "      <td>44.25582000</td>\n",
              "      <td>9784</td>\n",
              "      <td>NaN</td>\n",
              "      <td>0.177998</td>\n",
              "      <td>0.2989</td>\n",
              "      <td>112334.00000000</td>\n",
              "      <td>392</td>\n",
              "      <td>NaN</td>\n",
              "      <td>0.422107</td>\n",
              "      <td>...</td>\n",
              "      <td>NaN</td>\n",
              "      <td>0.006948</td>\n",
              "      <td>0.001424</td>\n",
              "      <td>3866530.00000000</td>\n",
              "      <td>22</td>\n",
              "      <td>NaN</td>\n",
              "      <td>0.468796</td>\n",
              "      <td>2025-02-25 00:00:00</td>\n",
              "      <td>2025-02-25 00:00:00</td>\n",
              "      <td>NaN</td>\n",
              "    </tr>\n",
              "    <tr>\n",
              "      <th>1</th>\n",
              "      <td>91837.75</td>\n",
              "      <td>29.64367000</td>\n",
              "      <td>7048</td>\n",
              "      <td>0.057275</td>\n",
              "      <td>0.186473</td>\n",
              "      <td>0.2990</td>\n",
              "      <td>209664.00000000</td>\n",
              "      <td>398</td>\n",
              "      <td>0.033456</td>\n",
              "      <td>0.439614</td>\n",
              "      <td>...</td>\n",
              "      <td>0.000000</td>\n",
              "      <td>0.007184</td>\n",
              "      <td>0.001425</td>\n",
              "      <td>1135592.00000000</td>\n",
              "      <td>21</td>\n",
              "      <td>0.070225</td>\n",
              "      <td>0.474921</td>\n",
              "      <td>2025-02-25 00:01:00</td>\n",
              "      <td>2025-02-25 00:01:00</td>\n",
              "      <td>0.000573</td>\n",
              "    </tr>\n",
              "    <tr>\n",
              "      <th>2</th>\n",
              "      <td>91960.97</td>\n",
              "      <td>70.22032000</td>\n",
              "      <td>6386</td>\n",
              "      <td>0.134171</td>\n",
              "      <td>0.184519</td>\n",
              "      <td>0.3005</td>\n",
              "      <td>80701.00000000</td>\n",
              "      <td>311</td>\n",
              "      <td>0.501672</td>\n",
              "      <td>0.431379</td>\n",
              "      <td>...</td>\n",
              "      <td>0.000000</td>\n",
              "      <td>0.007427</td>\n",
              "      <td>0.001425</td>\n",
              "      <td>96487.00000000</td>\n",
              "      <td>4</td>\n",
              "      <td>0.000000</td>\n",
              "      <td>0.475486</td>\n",
              "      <td>2025-02-25 00:02:00</td>\n",
              "      <td>2025-02-25 00:02:00</td>\n",
              "      <td>0.001342</td>\n",
              "    </tr>\n",
              "    <tr>\n",
              "      <th>3</th>\n",
              "      <td>91862.77</td>\n",
              "      <td>50.83532000</td>\n",
              "      <td>4539</td>\n",
              "      <td>-0.106784</td>\n",
              "      <td>0.184458</td>\n",
              "      <td>0.3000</td>\n",
              "      <td>174073.00000000</td>\n",
              "      <td>666</td>\n",
              "      <td>-0.166389</td>\n",
              "      <td>0.434661</td>\n",
              "      <td>...</td>\n",
              "      <td>0.000000</td>\n",
              "      <td>0.007427</td>\n",
              "      <td>0.001431</td>\n",
              "      <td>1772593.00000000</td>\n",
              "      <td>14</td>\n",
              "      <td>0.421053</td>\n",
              "      <td>0.470420</td>\n",
              "      <td>2025-02-25 00:03:00</td>\n",
              "      <td>2025-02-25 00:03:00</td>\n",
              "      <td>-0.001068</td>\n",
              "    </tr>\n",
              "    <tr>\n",
              "      <th>4</th>\n",
              "      <td>91670.09</td>\n",
              "      <td>62.93148000</td>\n",
              "      <td>11779</td>\n",
              "      <td>-0.209748</td>\n",
              "      <td>0.182009</td>\n",
              "      <td>0.2988</td>\n",
              "      <td>101822.00000000</td>\n",
              "      <td>546</td>\n",
              "      <td>-0.400000</td>\n",
              "      <td>0.428329</td>\n",
              "      <td>...</td>\n",
              "      <td>-0.009999</td>\n",
              "      <td>0.007184</td>\n",
              "      <td>0.001420</td>\n",
              "      <td>484068.00000000</td>\n",
              "      <td>9</td>\n",
              "      <td>-0.768693</td>\n",
              "      <td>0.451829</td>\n",
              "      <td>2025-02-25 00:04:00</td>\n",
              "      <td>2025-02-25 00:04:00</td>\n",
              "      <td>-0.002097</td>\n",
              "    </tr>\n",
              "    <tr>\n",
              "      <th>...</th>\n",
              "      <td>...</td>\n",
              "      <td>...</td>\n",
              "      <td>...</td>\n",
              "      <td>...</td>\n",
              "      <td>...</td>\n",
              "      <td>...</td>\n",
              "      <td>...</td>\n",
              "      <td>...</td>\n",
              "      <td>...</td>\n",
              "      <td>...</td>\n",
              "      <td>...</td>\n",
              "      <td>...</td>\n",
              "      <td>...</td>\n",
              "      <td>...</td>\n",
              "      <td>...</td>\n",
              "      <td>...</td>\n",
              "      <td>...</td>\n",
              "      <td>...</td>\n",
              "      <td>...</td>\n",
              "      <td>...</td>\n",
              "      <td>...</td>\n",
              "    </tr>\n",
              "    <tr>\n",
              "      <th>131036</th>\n",
              "      <td>109394.14</td>\n",
              "      <td>1.80238000</td>\n",
              "      <td>514</td>\n",
              "      <td>-0.006490</td>\n",
              "      <td>NaN</td>\n",
              "      <td>0.2857</td>\n",
              "      <td>1341.00000000</td>\n",
              "      <td>5</td>\n",
              "      <td>0.000000</td>\n",
              "      <td>NaN</td>\n",
              "      <td>...</td>\n",
              "      <td>0.000000</td>\n",
              "      <td>NaN</td>\n",
              "      <td>0.001111</td>\n",
              "      <td>7873.00000000</td>\n",
              "      <td>1</td>\n",
              "      <td>-0.089928</td>\n",
              "      <td>NaN</td>\n",
              "      <td>2025-05-26 23:56:00</td>\n",
              "      <td>2025-05-26 23:56:00</td>\n",
              "      <td>-0.000065</td>\n",
              "    </tr>\n",
              "    <tr>\n",
              "      <th>131037</th>\n",
              "      <td>109409.09</td>\n",
              "      <td>5.64688000</td>\n",
              "      <td>698</td>\n",
              "      <td>0.013666</td>\n",
              "      <td>NaN</td>\n",
              "      <td>0.2857</td>\n",
              "      <td>11422.00000000</td>\n",
              "      <td>21</td>\n",
              "      <td>0.000000</td>\n",
              "      <td>NaN</td>\n",
              "      <td>...</td>\n",
              "      <td>-0.010004</td>\n",
              "      <td>NaN</td>\n",
              "      <td>0.001113</td>\n",
              "      <td>1793903.00000000</td>\n",
              "      <td>64</td>\n",
              "      <td>0.180018</td>\n",
              "      <td>NaN</td>\n",
              "      <td>2025-05-26 23:57:00</td>\n",
              "      <td>2025-05-26 23:57:00</td>\n",
              "      <td>0.000137</td>\n",
              "    </tr>\n",
              "    <tr>\n",
              "      <th>131038</th>\n",
              "      <td>109417.56</td>\n",
              "      <td>0.52540000</td>\n",
              "      <td>224</td>\n",
              "      <td>0.007742</td>\n",
              "      <td>NaN</td>\n",
              "      <td>0.2858</td>\n",
              "      <td>402.00000000</td>\n",
              "      <td>3</td>\n",
              "      <td>0.035002</td>\n",
              "      <td>NaN</td>\n",
              "      <td>...</td>\n",
              "      <td>0.010005</td>\n",
              "      <td>NaN</td>\n",
              "      <td>0.001113</td>\n",
              "      <td>1397911.00000000</td>\n",
              "      <td>9</td>\n",
              "      <td>0.000000</td>\n",
              "      <td>NaN</td>\n",
              "      <td>2025-05-26 23:58:00</td>\n",
              "      <td>2025-05-26 23:58:00</td>\n",
              "      <td>0.000077</td>\n",
              "    </tr>\n",
              "    <tr>\n",
              "      <th>131039</th>\n",
              "      <td>109434.79</td>\n",
              "      <td>3.88664000</td>\n",
              "      <td>1349</td>\n",
              "      <td>0.015747</td>\n",
              "      <td>NaN</td>\n",
              "      <td>0.2858</td>\n",
              "      <td>4370.00000000</td>\n",
              "      <td>33</td>\n",
              "      <td>0.000000</td>\n",
              "      <td>NaN</td>\n",
              "      <td>...</td>\n",
              "      <td>-0.010004</td>\n",
              "      <td>NaN</td>\n",
              "      <td>0.001115</td>\n",
              "      <td>1792102.00000000</td>\n",
              "      <td>10</td>\n",
              "      <td>0.179695</td>\n",
              "      <td>NaN</td>\n",
              "      <td>2025-05-26 23:59:00</td>\n",
              "      <td>2025-05-26 23:59:00</td>\n",
              "      <td>0.000157</td>\n",
              "    </tr>\n",
              "    <tr>\n",
              "      <th>131040</th>\n",
              "      <td>109392.52</td>\n",
              "      <td>2.73521000</td>\n",
              "      <td>1338</td>\n",
              "      <td>-0.038626</td>\n",
              "      <td>NaN</td>\n",
              "      <td>0.2857</td>\n",
              "      <td>78329.00000000</td>\n",
              "      <td>138</td>\n",
              "      <td>-0.034990</td>\n",
              "      <td>NaN</td>\n",
              "      <td>...</td>\n",
              "      <td>0.010005</td>\n",
              "      <td>NaN</td>\n",
              "      <td>0.001113</td>\n",
              "      <td>3228545.00000000</td>\n",
              "      <td>16</td>\n",
              "      <td>-0.179372</td>\n",
              "      <td>NaN</td>\n",
              "      <td>2025-05-27 00:00:00</td>\n",
              "      <td>2025-05-27 00:00:00</td>\n",
              "      <td>-0.000386</td>\n",
              "    </tr>\n",
              "  </tbody>\n",
              "</table>\n",
              "<p>131041 rows × 98 columns</p>\n",
              "</div>\n",
              "    <div class=\"colab-df-buttons\">\n",
              "\n",
              "  <div class=\"colab-df-container\">\n",
              "    <button class=\"colab-df-convert\" onclick=\"convertToInteractive('df-bed13e46-e6cd-4655-ae78-66e8b1a601c8')\"\n",
              "            title=\"Convert this dataframe to an interactive table.\"\n",
              "            style=\"display:none;\">\n",
              "\n",
              "  <svg xmlns=\"http://www.w3.org/2000/svg\" height=\"24px\" viewBox=\"0 -960 960 960\">\n",
              "    <path d=\"M120-120v-720h720v720H120Zm60-500h600v-160H180v160Zm220 220h160v-160H400v160Zm0 220h160v-160H400v160ZM180-400h160v-160H180v160Zm440 0h160v-160H620v160ZM180-180h160v-160H180v160Zm440 0h160v-160H620v160Z\"/>\n",
              "  </svg>\n",
              "    </button>\n",
              "\n",
              "  <style>\n",
              "    .colab-df-container {\n",
              "      display:flex;\n",
              "      gap: 12px;\n",
              "    }\n",
              "\n",
              "    .colab-df-convert {\n",
              "      background-color: #E8F0FE;\n",
              "      border: none;\n",
              "      border-radius: 50%;\n",
              "      cursor: pointer;\n",
              "      display: none;\n",
              "      fill: #1967D2;\n",
              "      height: 32px;\n",
              "      padding: 0 0 0 0;\n",
              "      width: 32px;\n",
              "    }\n",
              "\n",
              "    .colab-df-convert:hover {\n",
              "      background-color: #E2EBFA;\n",
              "      box-shadow: 0px 1px 2px rgba(60, 64, 67, 0.3), 0px 1px 3px 1px rgba(60, 64, 67, 0.15);\n",
              "      fill: #174EA6;\n",
              "    }\n",
              "\n",
              "    .colab-df-buttons div {\n",
              "      margin-bottom: 4px;\n",
              "    }\n",
              "\n",
              "    [theme=dark] .colab-df-convert {\n",
              "      background-color: #3B4455;\n",
              "      fill: #D2E3FC;\n",
              "    }\n",
              "\n",
              "    [theme=dark] .colab-df-convert:hover {\n",
              "      background-color: #434B5C;\n",
              "      box-shadow: 0px 1px 3px 1px rgba(0, 0, 0, 0.15);\n",
              "      filter: drop-shadow(0px 1px 2px rgba(0, 0, 0, 0.3));\n",
              "      fill: #FFFFFF;\n",
              "    }\n",
              "  </style>\n",
              "\n",
              "    <script>\n",
              "      const buttonEl =\n",
              "        document.querySelector('#df-bed13e46-e6cd-4655-ae78-66e8b1a601c8 button.colab-df-convert');\n",
              "      buttonEl.style.display =\n",
              "        google.colab.kernel.accessAllowed ? 'block' : 'none';\n",
              "\n",
              "      async function convertToInteractive(key) {\n",
              "        const element = document.querySelector('#df-bed13e46-e6cd-4655-ae78-66e8b1a601c8');\n",
              "        const dataTable =\n",
              "          await google.colab.kernel.invokeFunction('convertToInteractive',\n",
              "                                                    [key], {});\n",
              "        if (!dataTable) return;\n",
              "\n",
              "        const docLinkHtml = 'Like what you see? Visit the ' +\n",
              "          '<a target=\"_blank\" href=https://colab.research.google.com/notebooks/data_table.ipynb>data table notebook</a>'\n",
              "          + ' to learn more about interactive tables.';\n",
              "        element.innerHTML = '';\n",
              "        dataTable['output_type'] = 'display_data';\n",
              "        await google.colab.output.renderOutput(dataTable, element);\n",
              "        const docLink = document.createElement('div');\n",
              "        docLink.innerHTML = docLinkHtml;\n",
              "        element.appendChild(docLink);\n",
              "      }\n",
              "    </script>\n",
              "  </div>\n",
              "\n",
              "\n",
              "    <div id=\"df-1b9061a8-8ad6-4eb9-b9d0-26f04c074d18\">\n",
              "      <button class=\"colab-df-quickchart\" onclick=\"quickchart('df-1b9061a8-8ad6-4eb9-b9d0-26f04c074d18')\"\n",
              "                title=\"Suggest charts\"\n",
              "                style=\"display:none;\">\n",
              "\n",
              "<svg xmlns=\"http://www.w3.org/2000/svg\" height=\"24px\"viewBox=\"0 0 24 24\"\n",
              "     width=\"24px\">\n",
              "    <g>\n",
              "        <path d=\"M19 3H5c-1.1 0-2 .9-2 2v14c0 1.1.9 2 2 2h14c1.1 0 2-.9 2-2V5c0-1.1-.9-2-2-2zM9 17H7v-7h2v7zm4 0h-2V7h2v10zm4 0h-2v-4h2v4z\"/>\n",
              "    </g>\n",
              "</svg>\n",
              "      </button>\n",
              "\n",
              "<style>\n",
              "  .colab-df-quickchart {\n",
              "      --bg-color: #E8F0FE;\n",
              "      --fill-color: #1967D2;\n",
              "      --hover-bg-color: #E2EBFA;\n",
              "      --hover-fill-color: #174EA6;\n",
              "      --disabled-fill-color: #AAA;\n",
              "      --disabled-bg-color: #DDD;\n",
              "  }\n",
              "\n",
              "  [theme=dark] .colab-df-quickchart {\n",
              "      --bg-color: #3B4455;\n",
              "      --fill-color: #D2E3FC;\n",
              "      --hover-bg-color: #434B5C;\n",
              "      --hover-fill-color: #FFFFFF;\n",
              "      --disabled-bg-color: #3B4455;\n",
              "      --disabled-fill-color: #666;\n",
              "  }\n",
              "\n",
              "  .colab-df-quickchart {\n",
              "    background-color: var(--bg-color);\n",
              "    border: none;\n",
              "    border-radius: 50%;\n",
              "    cursor: pointer;\n",
              "    display: none;\n",
              "    fill: var(--fill-color);\n",
              "    height: 32px;\n",
              "    padding: 0;\n",
              "    width: 32px;\n",
              "  }\n",
              "\n",
              "  .colab-df-quickchart:hover {\n",
              "    background-color: var(--hover-bg-color);\n",
              "    box-shadow: 0 1px 2px rgba(60, 64, 67, 0.3), 0 1px 3px 1px rgba(60, 64, 67, 0.15);\n",
              "    fill: var(--button-hover-fill-color);\n",
              "  }\n",
              "\n",
              "  .colab-df-quickchart-complete:disabled,\n",
              "  .colab-df-quickchart-complete:disabled:hover {\n",
              "    background-color: var(--disabled-bg-color);\n",
              "    fill: var(--disabled-fill-color);\n",
              "    box-shadow: none;\n",
              "  }\n",
              "\n",
              "  .colab-df-spinner {\n",
              "    border: 2px solid var(--fill-color);\n",
              "    border-color: transparent;\n",
              "    border-bottom-color: var(--fill-color);\n",
              "    animation:\n",
              "      spin 1s steps(1) infinite;\n",
              "  }\n",
              "\n",
              "  @keyframes spin {\n",
              "    0% {\n",
              "      border-color: transparent;\n",
              "      border-bottom-color: var(--fill-color);\n",
              "      border-left-color: var(--fill-color);\n",
              "    }\n",
              "    20% {\n",
              "      border-color: transparent;\n",
              "      border-left-color: var(--fill-color);\n",
              "      border-top-color: var(--fill-color);\n",
              "    }\n",
              "    30% {\n",
              "      border-color: transparent;\n",
              "      border-left-color: var(--fill-color);\n",
              "      border-top-color: var(--fill-color);\n",
              "      border-right-color: var(--fill-color);\n",
              "    }\n",
              "    40% {\n",
              "      border-color: transparent;\n",
              "      border-right-color: var(--fill-color);\n",
              "      border-top-color: var(--fill-color);\n",
              "    }\n",
              "    60% {\n",
              "      border-color: transparent;\n",
              "      border-right-color: var(--fill-color);\n",
              "    }\n",
              "    80% {\n",
              "      border-color: transparent;\n",
              "      border-right-color: var(--fill-color);\n",
              "      border-bottom-color: var(--fill-color);\n",
              "    }\n",
              "    90% {\n",
              "      border-color: transparent;\n",
              "      border-bottom-color: var(--fill-color);\n",
              "    }\n",
              "  }\n",
              "</style>\n",
              "\n",
              "      <script>\n",
              "        async function quickchart(key) {\n",
              "          const quickchartButtonEl =\n",
              "            document.querySelector('#' + key + ' button');\n",
              "          quickchartButtonEl.disabled = true;  // To prevent multiple clicks.\n",
              "          quickchartButtonEl.classList.add('colab-df-spinner');\n",
              "          try {\n",
              "            const charts = await google.colab.kernel.invokeFunction(\n",
              "                'suggestCharts', [key], {});\n",
              "          } catch (error) {\n",
              "            console.error('Error during call to suggestCharts:', error);\n",
              "          }\n",
              "          quickchartButtonEl.classList.remove('colab-df-spinner');\n",
              "          quickchartButtonEl.classList.add('colab-df-quickchart-complete');\n",
              "        }\n",
              "        (() => {\n",
              "          let quickchartButtonEl =\n",
              "            document.querySelector('#df-1b9061a8-8ad6-4eb9-b9d0-26f04c074d18 button');\n",
              "          quickchartButtonEl.style.display =\n",
              "            google.colab.kernel.accessAllowed ? 'block' : 'none';\n",
              "        })();\n",
              "      </script>\n",
              "    </div>\n",
              "\n",
              "  <div id=\"id_2b616f66-7d87-4d8f-a1ac-b442623b2501\">\n",
              "    <style>\n",
              "      .colab-df-generate {\n",
              "        background-color: #E8F0FE;\n",
              "        border: none;\n",
              "        border-radius: 50%;\n",
              "        cursor: pointer;\n",
              "        display: none;\n",
              "        fill: #1967D2;\n",
              "        height: 32px;\n",
              "        padding: 0 0 0 0;\n",
              "        width: 32px;\n",
              "      }\n",
              "\n",
              "      .colab-df-generate:hover {\n",
              "        background-color: #E2EBFA;\n",
              "        box-shadow: 0px 1px 2px rgba(60, 64, 67, 0.3), 0px 1px 3px 1px rgba(60, 64, 67, 0.15);\n",
              "        fill: #174EA6;\n",
              "      }\n",
              "\n",
              "      [theme=dark] .colab-df-generate {\n",
              "        background-color: #3B4455;\n",
              "        fill: #D2E3FC;\n",
              "      }\n",
              "\n",
              "      [theme=dark] .colab-df-generate:hover {\n",
              "        background-color: #434B5C;\n",
              "        box-shadow: 0px 1px 3px 1px rgba(0, 0, 0, 0.15);\n",
              "        filter: drop-shadow(0px 1px 2px rgba(0, 0, 0, 0.3));\n",
              "        fill: #FFFFFF;\n",
              "      }\n",
              "    </style>\n",
              "    <button class=\"colab-df-generate\" onclick=\"generateWithVariable('data')\"\n",
              "            title=\"Generate code using this dataframe.\"\n",
              "            style=\"display:none;\">\n",
              "\n",
              "  <svg xmlns=\"http://www.w3.org/2000/svg\" height=\"24px\"viewBox=\"0 0 24 24\"\n",
              "       width=\"24px\">\n",
              "    <path d=\"M7,19H8.4L18.45,9,17,7.55,7,17.6ZM5,21V16.75L18.45,3.32a2,2,0,0,1,2.83,0l1.4,1.43a1.91,1.91,0,0,1,.58,1.4,1.91,1.91,0,0,1-.58,1.4L9.25,21ZM18.45,9,17,7.55Zm-12,3A5.31,5.31,0,0,0,4.9,8.1,5.31,5.31,0,0,0,1,6.5,5.31,5.31,0,0,0,4.9,4.9,5.31,5.31,0,0,0,6.5,1,5.31,5.31,0,0,0,8.1,4.9,5.31,5.31,0,0,0,12,6.5,5.46,5.46,0,0,0,6.5,12Z\"/>\n",
              "  </svg>\n",
              "    </button>\n",
              "    <script>\n",
              "      (() => {\n",
              "      const buttonEl =\n",
              "        document.querySelector('#id_2b616f66-7d87-4d8f-a1ac-b442623b2501 button.colab-df-generate');\n",
              "      buttonEl.style.display =\n",
              "        google.colab.kernel.accessAllowed ? 'block' : 'none';\n",
              "\n",
              "      buttonEl.onclick = () => {\n",
              "        google.colab.notebook.generateWithVariable('data');\n",
              "      }\n",
              "      })();\n",
              "    </script>\n",
              "  </div>\n",
              "\n",
              "    </div>\n",
              "  </div>\n"
            ],
            "application/vnd.google.colaboratory.intrinsic+json": {
              "type": "dataframe",
              "variable_name": "data"
            }
          },
          "metadata": {},
          "execution_count": 8
        }
      ]
    },
    {
      "cell_type": "markdown",
      "source": [
        "Preparing embedding of news (Handling multi news and no news)"
      ],
      "metadata": {
        "id": "ulfB6WjhDelm"
      }
    },
    {
      "cell_type": "code",
      "source": [
        "import numpy as np\n",
        "df_news['embedding'] = df_news['embedding'].apply(lambda x: np.array(x))\n",
        "\n",
        "df_grouped = df_news[['time', 'embedding', 'count']].groupby('time')['embedding'].apply(\n",
        "    lambda x: np.mean(np.stack(x.values), axis=0)\n",
        ").reset_index()\n",
        "data_all = data.merge(df_grouped, on='time', how='left')\n",
        "data_all['embedding'] = data_all['embedding'].apply(\n",
        "    lambda x: no_news_vector if x is np.nan or x is None else x\n",
        ")"
      ],
      "metadata": {
        "id": "ZrcDQ89lGBgG"
      },
      "execution_count": 9,
      "outputs": []
    },
    {
      "cell_type": "code",
      "source": [
        "list_crypto_first = [x[:-4] for x in list_crypto]\n",
        "list_crypto_first"
      ],
      "metadata": {
        "colab": {
          "base_uri": "https://localhost:8080/",
          "height": 347
        },
        "id": "7C3hYw_6e3jr",
        "outputId": "81854c28-6db6-42a0-dc2d-548231e7397a"
      },
      "execution_count": 10,
      "outputs": [
        {
          "output_type": "execute_result",
          "data": {
            "text/plain": [
              "['BTC',\n",
              " 'XLM',\n",
              " 'XRP',\n",
              " 'TST',\n",
              " 'W',\n",
              " 'ARK',\n",
              " 'ME',\n",
              " 'T',\n",
              " 'OG',\n",
              " 'TIA',\n",
              " 'TRX',\n",
              " 'S',\n",
              " 'GMT',\n",
              " 'JST',\n",
              " 'SEI',\n",
              " 'HBAR',\n",
              " 'D',\n",
              " 'USDC',\n",
              " 'HOT']"
            ]
          },
          "metadata": {},
          "execution_count": 10
        }
      ]
    },
    {
      "cell_type": "code",
      "source": [
        "data_all = data_all[data_all['time']>=df_news['time'].min()][data_all['time']<=df_news['time'].max()]"
      ],
      "metadata": {
        "id": "w4FR3DMt-8PD"
      },
      "execution_count": 11,
      "outputs": []
    },
    {
      "cell_type": "markdown",
      "source": [
        "Showing Data"
      ],
      "metadata": {
        "id": "_lPXu_E1Dwq3"
      }
    },
    {
      "cell_type": "code",
      "source": [
        "data_all[selected_f_all]"
      ],
      "metadata": {
        "colab": {
          "base_uri": "https://localhost:8080/",
          "height": 443
        },
        "id": "KnoYdNDeA4KT",
        "outputId": "5d96bc1f-bcb6-44a5-b1e8-6469c250ff8c"
      },
      "execution_count": 12,
      "outputs": [
        {
          "output_type": "execute_result",
          "data": {
            "text/plain": [
              "        BTCUSDT_close BTCUSDT_volume  BTCUSDT_numberOfTrades  BTCUSDT_return  \\\n",
              "0            91785.18    44.25582000                    9784             NaN   \n",
              "1            91837.75    29.64367000                    7048        0.057275   \n",
              "2            91960.97    70.22032000                    6386        0.134171   \n",
              "3            91862.77    50.83532000                    4539       -0.106784   \n",
              "4            91670.09    62.93148000                   11779       -0.209748   \n",
              "...               ...            ...                     ...             ...   \n",
              "129596      109030.02    21.06713000                    3921        0.130437   \n",
              "129597      109024.39     5.10152000                    1789       -0.005164   \n",
              "129598      108995.95     7.48873000                     769       -0.026086   \n",
              "129599      109004.19     6.56241000                    1298        0.007560   \n",
              "129600      108956.25    12.92937000                    2879       -0.043980   \n",
              "\n",
              "        XLMUSDT_close   XLMUSDT_volume  XLMUSDT_numberOfTrades  \\\n",
              "0              0.2989  112334.00000000                     392   \n",
              "1              0.2990  209664.00000000                     398   \n",
              "2              0.3005   80701.00000000                     311   \n",
              "3              0.3000  174073.00000000                     666   \n",
              "4              0.2988  101822.00000000                     546   \n",
              "...               ...              ...                     ...   \n",
              "129596         0.2878   12764.00000000                      41   \n",
              "129597         0.2877   26887.00000000                      36   \n",
              "129598         0.2878   21890.00000000                      44   \n",
              "129599         0.2878   22099.00000000                      25   \n",
              "129600         0.2876   21526.00000000                      97   \n",
              "\n",
              "        XLMUSDT_return  XRPUSDT_close   XRPUSDT_volume  ...  \\\n",
              "0                  NaN         2.2986  809446.00000000  ...   \n",
              "1             0.033456         2.3041  517300.00000000  ...   \n",
              "2             0.501672         2.3147  229433.00000000  ...   \n",
              "3            -0.166389         2.3108  288404.00000000  ...   \n",
              "4            -0.400000         2.2979  668514.00000000  ...   \n",
              "...                ...            ...              ...  ...   \n",
              "129596        0.104348         2.3434   99206.80000000  ...   \n",
              "129597       -0.034746         2.3432   87402.20000000  ...   \n",
              "129598        0.034758         2.3417   34994.50000000  ...   \n",
              "129599        0.000000         2.3417   31291.00000000  ...   \n",
              "129600       -0.069493         2.3415   98392.30000000  ...   \n",
              "\n",
              "        DUSDT_numberOfTrades  DUSDT_return  USDCUSDT_close   USDCUSDT_volume  \\\n",
              "0                         65           NaN          1.0001   874701.00000000   \n",
              "1                          9     -0.130225          1.0001  1386578.00000000   \n",
              "2                         32      0.443343          1.0001  1136218.00000000   \n",
              "3                         61     -0.038946          1.0001   740184.00000000   \n",
              "4                          6     -0.259740          1.0000  2203330.00000000   \n",
              "...                      ...           ...             ...               ...   \n",
              "129596                     1     -0.072202          0.9995  1145036.00000000   \n",
              "129597                     1      0.120424          0.9995   623068.00000000   \n",
              "129598                     4     -0.216502          0.9995   144815.00000000   \n",
              "129599                     0      0.000000          0.9995    17396.00000000   \n",
              "129600                    10      0.024108          0.9994   477597.00000000   \n",
              "\n",
              "        USDCUSDT_numberOfTrades  USDCUSDT_return  HOTUSDT_close  \\\n",
              "0                           924              NaN       0.001424   \n",
              "1                          1009         0.000000       0.001425   \n",
              "2                           716         0.000000       0.001425   \n",
              "3                           645         0.000000       0.001431   \n",
              "4                           592        -0.009999       0.001420   \n",
              "...                         ...              ...            ...   \n",
              "129596                      215         0.000000       0.001126   \n",
              "129597                      119         0.000000       0.001126   \n",
              "129598                      146         0.000000       0.001126   \n",
              "129599                       90         0.000000       0.001126   \n",
              "129600                      203        -0.010005       0.001125   \n",
              "\n",
              "          HOTUSDT_volume  HOTUSDT_numberOfTrades  HOTUSDT_return  \n",
              "0       3866530.00000000                      22             NaN  \n",
              "1       1135592.00000000                      21        0.070225  \n",
              "2         96487.00000000                       4        0.000000  \n",
              "3       1772593.00000000                      14        0.421053  \n",
              "4        484068.00000000                       9       -0.768693  \n",
              "...                  ...                     ...             ...  \n",
              "129596        0.00000000                       0        0.000000  \n",
              "129597        0.00000000                       0        0.000000  \n",
              "129598        0.00000000                       0        0.000000  \n",
              "129599   123675.00000000                       1        0.000000  \n",
              "129600   411203.00000000                       4       -0.088810  \n",
              "\n",
              "[129601 rows x 76 columns]"
            ],
            "text/html": [
              "\n",
              "  <div id=\"df-68d57acc-3f52-47d4-a851-8931db10033b\" class=\"colab-df-container\">\n",
              "    <div>\n",
              "<style scoped>\n",
              "    .dataframe tbody tr th:only-of-type {\n",
              "        vertical-align: middle;\n",
              "    }\n",
              "\n",
              "    .dataframe tbody tr th {\n",
              "        vertical-align: top;\n",
              "    }\n",
              "\n",
              "    .dataframe thead th {\n",
              "        text-align: right;\n",
              "    }\n",
              "</style>\n",
              "<table border=\"1\" class=\"dataframe\">\n",
              "  <thead>\n",
              "    <tr style=\"text-align: right;\">\n",
              "      <th></th>\n",
              "      <th>BTCUSDT_close</th>\n",
              "      <th>BTCUSDT_volume</th>\n",
              "      <th>BTCUSDT_numberOfTrades</th>\n",
              "      <th>BTCUSDT_return</th>\n",
              "      <th>XLMUSDT_close</th>\n",
              "      <th>XLMUSDT_volume</th>\n",
              "      <th>XLMUSDT_numberOfTrades</th>\n",
              "      <th>XLMUSDT_return</th>\n",
              "      <th>XRPUSDT_close</th>\n",
              "      <th>XRPUSDT_volume</th>\n",
              "      <th>...</th>\n",
              "      <th>DUSDT_numberOfTrades</th>\n",
              "      <th>DUSDT_return</th>\n",
              "      <th>USDCUSDT_close</th>\n",
              "      <th>USDCUSDT_volume</th>\n",
              "      <th>USDCUSDT_numberOfTrades</th>\n",
              "      <th>USDCUSDT_return</th>\n",
              "      <th>HOTUSDT_close</th>\n",
              "      <th>HOTUSDT_volume</th>\n",
              "      <th>HOTUSDT_numberOfTrades</th>\n",
              "      <th>HOTUSDT_return</th>\n",
              "    </tr>\n",
              "  </thead>\n",
              "  <tbody>\n",
              "    <tr>\n",
              "      <th>0</th>\n",
              "      <td>91785.18</td>\n",
              "      <td>44.25582000</td>\n",
              "      <td>9784</td>\n",
              "      <td>NaN</td>\n",
              "      <td>0.2989</td>\n",
              "      <td>112334.00000000</td>\n",
              "      <td>392</td>\n",
              "      <td>NaN</td>\n",
              "      <td>2.2986</td>\n",
              "      <td>809446.00000000</td>\n",
              "      <td>...</td>\n",
              "      <td>65</td>\n",
              "      <td>NaN</td>\n",
              "      <td>1.0001</td>\n",
              "      <td>874701.00000000</td>\n",
              "      <td>924</td>\n",
              "      <td>NaN</td>\n",
              "      <td>0.001424</td>\n",
              "      <td>3866530.00000000</td>\n",
              "      <td>22</td>\n",
              "      <td>NaN</td>\n",
              "    </tr>\n",
              "    <tr>\n",
              "      <th>1</th>\n",
              "      <td>91837.75</td>\n",
              "      <td>29.64367000</td>\n",
              "      <td>7048</td>\n",
              "      <td>0.057275</td>\n",
              "      <td>0.2990</td>\n",
              "      <td>209664.00000000</td>\n",
              "      <td>398</td>\n",
              "      <td>0.033456</td>\n",
              "      <td>2.3041</td>\n",
              "      <td>517300.00000000</td>\n",
              "      <td>...</td>\n",
              "      <td>9</td>\n",
              "      <td>-0.130225</td>\n",
              "      <td>1.0001</td>\n",
              "      <td>1386578.00000000</td>\n",
              "      <td>1009</td>\n",
              "      <td>0.000000</td>\n",
              "      <td>0.001425</td>\n",
              "      <td>1135592.00000000</td>\n",
              "      <td>21</td>\n",
              "      <td>0.070225</td>\n",
              "    </tr>\n",
              "    <tr>\n",
              "      <th>2</th>\n",
              "      <td>91960.97</td>\n",
              "      <td>70.22032000</td>\n",
              "      <td>6386</td>\n",
              "      <td>0.134171</td>\n",
              "      <td>0.3005</td>\n",
              "      <td>80701.00000000</td>\n",
              "      <td>311</td>\n",
              "      <td>0.501672</td>\n",
              "      <td>2.3147</td>\n",
              "      <td>229433.00000000</td>\n",
              "      <td>...</td>\n",
              "      <td>32</td>\n",
              "      <td>0.443343</td>\n",
              "      <td>1.0001</td>\n",
              "      <td>1136218.00000000</td>\n",
              "      <td>716</td>\n",
              "      <td>0.000000</td>\n",
              "      <td>0.001425</td>\n",
              "      <td>96487.00000000</td>\n",
              "      <td>4</td>\n",
              "      <td>0.000000</td>\n",
              "    </tr>\n",
              "    <tr>\n",
              "      <th>3</th>\n",
              "      <td>91862.77</td>\n",
              "      <td>50.83532000</td>\n",
              "      <td>4539</td>\n",
              "      <td>-0.106784</td>\n",
              "      <td>0.3000</td>\n",
              "      <td>174073.00000000</td>\n",
              "      <td>666</td>\n",
              "      <td>-0.166389</td>\n",
              "      <td>2.3108</td>\n",
              "      <td>288404.00000000</td>\n",
              "      <td>...</td>\n",
              "      <td>61</td>\n",
              "      <td>-0.038946</td>\n",
              "      <td>1.0001</td>\n",
              "      <td>740184.00000000</td>\n",
              "      <td>645</td>\n",
              "      <td>0.000000</td>\n",
              "      <td>0.001431</td>\n",
              "      <td>1772593.00000000</td>\n",
              "      <td>14</td>\n",
              "      <td>0.421053</td>\n",
              "    </tr>\n",
              "    <tr>\n",
              "      <th>4</th>\n",
              "      <td>91670.09</td>\n",
              "      <td>62.93148000</td>\n",
              "      <td>11779</td>\n",
              "      <td>-0.209748</td>\n",
              "      <td>0.2988</td>\n",
              "      <td>101822.00000000</td>\n",
              "      <td>546</td>\n",
              "      <td>-0.400000</td>\n",
              "      <td>2.2979</td>\n",
              "      <td>668514.00000000</td>\n",
              "      <td>...</td>\n",
              "      <td>6</td>\n",
              "      <td>-0.259740</td>\n",
              "      <td>1.0000</td>\n",
              "      <td>2203330.00000000</td>\n",
              "      <td>592</td>\n",
              "      <td>-0.009999</td>\n",
              "      <td>0.001420</td>\n",
              "      <td>484068.00000000</td>\n",
              "      <td>9</td>\n",
              "      <td>-0.768693</td>\n",
              "    </tr>\n",
              "    <tr>\n",
              "      <th>...</th>\n",
              "      <td>...</td>\n",
              "      <td>...</td>\n",
              "      <td>...</td>\n",
              "      <td>...</td>\n",
              "      <td>...</td>\n",
              "      <td>...</td>\n",
              "      <td>...</td>\n",
              "      <td>...</td>\n",
              "      <td>...</td>\n",
              "      <td>...</td>\n",
              "      <td>...</td>\n",
              "      <td>...</td>\n",
              "      <td>...</td>\n",
              "      <td>...</td>\n",
              "      <td>...</td>\n",
              "      <td>...</td>\n",
              "      <td>...</td>\n",
              "      <td>...</td>\n",
              "      <td>...</td>\n",
              "      <td>...</td>\n",
              "      <td>...</td>\n",
              "    </tr>\n",
              "    <tr>\n",
              "      <th>129596</th>\n",
              "      <td>109030.02</td>\n",
              "      <td>21.06713000</td>\n",
              "      <td>3921</td>\n",
              "      <td>0.130437</td>\n",
              "      <td>0.2878</td>\n",
              "      <td>12764.00000000</td>\n",
              "      <td>41</td>\n",
              "      <td>0.104348</td>\n",
              "      <td>2.3434</td>\n",
              "      <td>99206.80000000</td>\n",
              "      <td>...</td>\n",
              "      <td>1</td>\n",
              "      <td>-0.072202</td>\n",
              "      <td>0.9995</td>\n",
              "      <td>1145036.00000000</td>\n",
              "      <td>215</td>\n",
              "      <td>0.000000</td>\n",
              "      <td>0.001126</td>\n",
              "      <td>0.00000000</td>\n",
              "      <td>0</td>\n",
              "      <td>0.000000</td>\n",
              "    </tr>\n",
              "    <tr>\n",
              "      <th>129597</th>\n",
              "      <td>109024.39</td>\n",
              "      <td>5.10152000</td>\n",
              "      <td>1789</td>\n",
              "      <td>-0.005164</td>\n",
              "      <td>0.2877</td>\n",
              "      <td>26887.00000000</td>\n",
              "      <td>36</td>\n",
              "      <td>-0.034746</td>\n",
              "      <td>2.3432</td>\n",
              "      <td>87402.20000000</td>\n",
              "      <td>...</td>\n",
              "      <td>1</td>\n",
              "      <td>0.120424</td>\n",
              "      <td>0.9995</td>\n",
              "      <td>623068.00000000</td>\n",
              "      <td>119</td>\n",
              "      <td>0.000000</td>\n",
              "      <td>0.001126</td>\n",
              "      <td>0.00000000</td>\n",
              "      <td>0</td>\n",
              "      <td>0.000000</td>\n",
              "    </tr>\n",
              "    <tr>\n",
              "      <th>129598</th>\n",
              "      <td>108995.95</td>\n",
              "      <td>7.48873000</td>\n",
              "      <td>769</td>\n",
              "      <td>-0.026086</td>\n",
              "      <td>0.2878</td>\n",
              "      <td>21890.00000000</td>\n",
              "      <td>44</td>\n",
              "      <td>0.034758</td>\n",
              "      <td>2.3417</td>\n",
              "      <td>34994.50000000</td>\n",
              "      <td>...</td>\n",
              "      <td>4</td>\n",
              "      <td>-0.216502</td>\n",
              "      <td>0.9995</td>\n",
              "      <td>144815.00000000</td>\n",
              "      <td>146</td>\n",
              "      <td>0.000000</td>\n",
              "      <td>0.001126</td>\n",
              "      <td>0.00000000</td>\n",
              "      <td>0</td>\n",
              "      <td>0.000000</td>\n",
              "    </tr>\n",
              "    <tr>\n",
              "      <th>129599</th>\n",
              "      <td>109004.19</td>\n",
              "      <td>6.56241000</td>\n",
              "      <td>1298</td>\n",
              "      <td>0.007560</td>\n",
              "      <td>0.2878</td>\n",
              "      <td>22099.00000000</td>\n",
              "      <td>25</td>\n",
              "      <td>0.000000</td>\n",
              "      <td>2.3417</td>\n",
              "      <td>31291.00000000</td>\n",
              "      <td>...</td>\n",
              "      <td>0</td>\n",
              "      <td>0.000000</td>\n",
              "      <td>0.9995</td>\n",
              "      <td>17396.00000000</td>\n",
              "      <td>90</td>\n",
              "      <td>0.000000</td>\n",
              "      <td>0.001126</td>\n",
              "      <td>123675.00000000</td>\n",
              "      <td>1</td>\n",
              "      <td>0.000000</td>\n",
              "    </tr>\n",
              "    <tr>\n",
              "      <th>129600</th>\n",
              "      <td>108956.25</td>\n",
              "      <td>12.92937000</td>\n",
              "      <td>2879</td>\n",
              "      <td>-0.043980</td>\n",
              "      <td>0.2876</td>\n",
              "      <td>21526.00000000</td>\n",
              "      <td>97</td>\n",
              "      <td>-0.069493</td>\n",
              "      <td>2.3415</td>\n",
              "      <td>98392.30000000</td>\n",
              "      <td>...</td>\n",
              "      <td>10</td>\n",
              "      <td>0.024108</td>\n",
              "      <td>0.9994</td>\n",
              "      <td>477597.00000000</td>\n",
              "      <td>203</td>\n",
              "      <td>-0.010005</td>\n",
              "      <td>0.001125</td>\n",
              "      <td>411203.00000000</td>\n",
              "      <td>4</td>\n",
              "      <td>-0.088810</td>\n",
              "    </tr>\n",
              "  </tbody>\n",
              "</table>\n",
              "<p>129601 rows × 76 columns</p>\n",
              "</div>\n",
              "    <div class=\"colab-df-buttons\">\n",
              "\n",
              "  <div class=\"colab-df-container\">\n",
              "    <button class=\"colab-df-convert\" onclick=\"convertToInteractive('df-68d57acc-3f52-47d4-a851-8931db10033b')\"\n",
              "            title=\"Convert this dataframe to an interactive table.\"\n",
              "            style=\"display:none;\">\n",
              "\n",
              "  <svg xmlns=\"http://www.w3.org/2000/svg\" height=\"24px\" viewBox=\"0 -960 960 960\">\n",
              "    <path d=\"M120-120v-720h720v720H120Zm60-500h600v-160H180v160Zm220 220h160v-160H400v160Zm0 220h160v-160H400v160ZM180-400h160v-160H180v160Zm440 0h160v-160H620v160ZM180-180h160v-160H180v160Zm440 0h160v-160H620v160Z\"/>\n",
              "  </svg>\n",
              "    </button>\n",
              "\n",
              "  <style>\n",
              "    .colab-df-container {\n",
              "      display:flex;\n",
              "      gap: 12px;\n",
              "    }\n",
              "\n",
              "    .colab-df-convert {\n",
              "      background-color: #E8F0FE;\n",
              "      border: none;\n",
              "      border-radius: 50%;\n",
              "      cursor: pointer;\n",
              "      display: none;\n",
              "      fill: #1967D2;\n",
              "      height: 32px;\n",
              "      padding: 0 0 0 0;\n",
              "      width: 32px;\n",
              "    }\n",
              "\n",
              "    .colab-df-convert:hover {\n",
              "      background-color: #E2EBFA;\n",
              "      box-shadow: 0px 1px 2px rgba(60, 64, 67, 0.3), 0px 1px 3px 1px rgba(60, 64, 67, 0.15);\n",
              "      fill: #174EA6;\n",
              "    }\n",
              "\n",
              "    .colab-df-buttons div {\n",
              "      margin-bottom: 4px;\n",
              "    }\n",
              "\n",
              "    [theme=dark] .colab-df-convert {\n",
              "      background-color: #3B4455;\n",
              "      fill: #D2E3FC;\n",
              "    }\n",
              "\n",
              "    [theme=dark] .colab-df-convert:hover {\n",
              "      background-color: #434B5C;\n",
              "      box-shadow: 0px 1px 3px 1px rgba(0, 0, 0, 0.15);\n",
              "      filter: drop-shadow(0px 1px 2px rgba(0, 0, 0, 0.3));\n",
              "      fill: #FFFFFF;\n",
              "    }\n",
              "  </style>\n",
              "\n",
              "    <script>\n",
              "      const buttonEl =\n",
              "        document.querySelector('#df-68d57acc-3f52-47d4-a851-8931db10033b button.colab-df-convert');\n",
              "      buttonEl.style.display =\n",
              "        google.colab.kernel.accessAllowed ? 'block' : 'none';\n",
              "\n",
              "      async function convertToInteractive(key) {\n",
              "        const element = document.querySelector('#df-68d57acc-3f52-47d4-a851-8931db10033b');\n",
              "        const dataTable =\n",
              "          await google.colab.kernel.invokeFunction('convertToInteractive',\n",
              "                                                    [key], {});\n",
              "        if (!dataTable) return;\n",
              "\n",
              "        const docLinkHtml = 'Like what you see? Visit the ' +\n",
              "          '<a target=\"_blank\" href=https://colab.research.google.com/notebooks/data_table.ipynb>data table notebook</a>'\n",
              "          + ' to learn more about interactive tables.';\n",
              "        element.innerHTML = '';\n",
              "        dataTable['output_type'] = 'display_data';\n",
              "        await google.colab.output.renderOutput(dataTable, element);\n",
              "        const docLink = document.createElement('div');\n",
              "        docLink.innerHTML = docLinkHtml;\n",
              "        element.appendChild(docLink);\n",
              "      }\n",
              "    </script>\n",
              "  </div>\n",
              "\n",
              "\n",
              "    <div id=\"df-9ad6d22d-daac-4603-aed5-ffb4475ae494\">\n",
              "      <button class=\"colab-df-quickchart\" onclick=\"quickchart('df-9ad6d22d-daac-4603-aed5-ffb4475ae494')\"\n",
              "                title=\"Suggest charts\"\n",
              "                style=\"display:none;\">\n",
              "\n",
              "<svg xmlns=\"http://www.w3.org/2000/svg\" height=\"24px\"viewBox=\"0 0 24 24\"\n",
              "     width=\"24px\">\n",
              "    <g>\n",
              "        <path d=\"M19 3H5c-1.1 0-2 .9-2 2v14c0 1.1.9 2 2 2h14c1.1 0 2-.9 2-2V5c0-1.1-.9-2-2-2zM9 17H7v-7h2v7zm4 0h-2V7h2v10zm4 0h-2v-4h2v4z\"/>\n",
              "    </g>\n",
              "</svg>\n",
              "      </button>\n",
              "\n",
              "<style>\n",
              "  .colab-df-quickchart {\n",
              "      --bg-color: #E8F0FE;\n",
              "      --fill-color: #1967D2;\n",
              "      --hover-bg-color: #E2EBFA;\n",
              "      --hover-fill-color: #174EA6;\n",
              "      --disabled-fill-color: #AAA;\n",
              "      --disabled-bg-color: #DDD;\n",
              "  }\n",
              "\n",
              "  [theme=dark] .colab-df-quickchart {\n",
              "      --bg-color: #3B4455;\n",
              "      --fill-color: #D2E3FC;\n",
              "      --hover-bg-color: #434B5C;\n",
              "      --hover-fill-color: #FFFFFF;\n",
              "      --disabled-bg-color: #3B4455;\n",
              "      --disabled-fill-color: #666;\n",
              "  }\n",
              "\n",
              "  .colab-df-quickchart {\n",
              "    background-color: var(--bg-color);\n",
              "    border: none;\n",
              "    border-radius: 50%;\n",
              "    cursor: pointer;\n",
              "    display: none;\n",
              "    fill: var(--fill-color);\n",
              "    height: 32px;\n",
              "    padding: 0;\n",
              "    width: 32px;\n",
              "  }\n",
              "\n",
              "  .colab-df-quickchart:hover {\n",
              "    background-color: var(--hover-bg-color);\n",
              "    box-shadow: 0 1px 2px rgba(60, 64, 67, 0.3), 0 1px 3px 1px rgba(60, 64, 67, 0.15);\n",
              "    fill: var(--button-hover-fill-color);\n",
              "  }\n",
              "\n",
              "  .colab-df-quickchart-complete:disabled,\n",
              "  .colab-df-quickchart-complete:disabled:hover {\n",
              "    background-color: var(--disabled-bg-color);\n",
              "    fill: var(--disabled-fill-color);\n",
              "    box-shadow: none;\n",
              "  }\n",
              "\n",
              "  .colab-df-spinner {\n",
              "    border: 2px solid var(--fill-color);\n",
              "    border-color: transparent;\n",
              "    border-bottom-color: var(--fill-color);\n",
              "    animation:\n",
              "      spin 1s steps(1) infinite;\n",
              "  }\n",
              "\n",
              "  @keyframes spin {\n",
              "    0% {\n",
              "      border-color: transparent;\n",
              "      border-bottom-color: var(--fill-color);\n",
              "      border-left-color: var(--fill-color);\n",
              "    }\n",
              "    20% {\n",
              "      border-color: transparent;\n",
              "      border-left-color: var(--fill-color);\n",
              "      border-top-color: var(--fill-color);\n",
              "    }\n",
              "    30% {\n",
              "      border-color: transparent;\n",
              "      border-left-color: var(--fill-color);\n",
              "      border-top-color: var(--fill-color);\n",
              "      border-right-color: var(--fill-color);\n",
              "    }\n",
              "    40% {\n",
              "      border-color: transparent;\n",
              "      border-right-color: var(--fill-color);\n",
              "      border-top-color: var(--fill-color);\n",
              "    }\n",
              "    60% {\n",
              "      border-color: transparent;\n",
              "      border-right-color: var(--fill-color);\n",
              "    }\n",
              "    80% {\n",
              "      border-color: transparent;\n",
              "      border-right-color: var(--fill-color);\n",
              "      border-bottom-color: var(--fill-color);\n",
              "    }\n",
              "    90% {\n",
              "      border-color: transparent;\n",
              "      border-bottom-color: var(--fill-color);\n",
              "    }\n",
              "  }\n",
              "</style>\n",
              "\n",
              "      <script>\n",
              "        async function quickchart(key) {\n",
              "          const quickchartButtonEl =\n",
              "            document.querySelector('#' + key + ' button');\n",
              "          quickchartButtonEl.disabled = true;  // To prevent multiple clicks.\n",
              "          quickchartButtonEl.classList.add('colab-df-spinner');\n",
              "          try {\n",
              "            const charts = await google.colab.kernel.invokeFunction(\n",
              "                'suggestCharts', [key], {});\n",
              "          } catch (error) {\n",
              "            console.error('Error during call to suggestCharts:', error);\n",
              "          }\n",
              "          quickchartButtonEl.classList.remove('colab-df-spinner');\n",
              "          quickchartButtonEl.classList.add('colab-df-quickchart-complete');\n",
              "        }\n",
              "        (() => {\n",
              "          let quickchartButtonEl =\n",
              "            document.querySelector('#df-9ad6d22d-daac-4603-aed5-ffb4475ae494 button');\n",
              "          quickchartButtonEl.style.display =\n",
              "            google.colab.kernel.accessAllowed ? 'block' : 'none';\n",
              "        })();\n",
              "      </script>\n",
              "    </div>\n",
              "\n",
              "    </div>\n",
              "  </div>\n"
            ],
            "application/vnd.google.colaboratory.intrinsic+json": {
              "type": "dataframe"
            }
          },
          "metadata": {},
          "execution_count": 12
        }
      ]
    },
    {
      "cell_type": "markdown",
      "source": [
        "Normalizing Data Z-Score"
      ],
      "metadata": {
        "id": "tbm4EfCfetGY"
      }
    },
    {
      "cell_type": "code",
      "source": [
        "##Normalization\n",
        "\n",
        "for x in selected_f_all:\n",
        "  data_all[x] = data_all[x].fillna(0)\n",
        "  data_all[x] = data_all[x].astype(float)\n",
        "  data_all[x] = (data_all[x]-data_all[x].mean())/(data_all[x].std())"
      ],
      "metadata": {
        "id": "oYBQteQlgw_C"
      },
      "execution_count": 13,
      "outputs": []
    },
    {
      "cell_type": "markdown",
      "source": [
        "Create time index for TimseNet"
      ],
      "metadata": {
        "id": "0sdOT5kTessQ"
      }
    },
    {
      "cell_type": "code",
      "source": [
        "import warnings\n",
        "warnings.filterwarnings('ignore')\n",
        "from torch.utils.data import Dataset, DataLoader\n",
        "\n",
        "df_stamp = data_all[['time']].rename(columns={'time':'dateTime'})\n",
        "df_stamp['dateTime'] = pd.to_datetime(df_stamp['dateTime'])\n",
        "df_stamp['month'] = df_stamp.dateTime.apply(lambda row: row.month, 1)\n",
        "df_stamp['day'] = df_stamp.dateTime.apply(lambda row: row.day, 1)\n",
        "df_stamp['weekday'] = df_stamp.dateTime.apply(lambda row: row.weekday(), 1)\n",
        "df_stamp['hour'] = df_stamp.dateTime.apply(lambda row: row.hour, 1)\n",
        "df_stamp['minute'] = df_stamp.dateTime.apply(lambda row: row.minute, 1)\n",
        "data_stamp = df_stamp.drop(['dateTime'], axis=1)"
      ],
      "metadata": {
        "id": "PWQs34gQ7njD"
      },
      "execution_count": 14,
      "outputs": []
    },
    {
      "cell_type": "markdown",
      "source": [
        "Dataset Class and Creating DataLoader"
      ],
      "metadata": {
        "id": "gskia2Lre1nx"
      }
    },
    {
      "cell_type": "code",
      "source": [
        "import torch\n",
        "from torch.utils.data import Dataset\n",
        "import numpy as np\n",
        "from torch.utils.data import Dataset, DataLoader\n",
        "\n",
        "class NewsTimeSeriesDataset(Dataset):\n",
        "    def __init__(self, df, data_stamp, selected_f_all, stock_list, seq_len=30):\n",
        "        self.df = df.reset_index(drop=True)\n",
        "        self.data_stamp = data_stamp.reset_index(drop=True)\n",
        "        self.features = selected_f_all\n",
        "        self.seq_len = seq_len\n",
        "        self.stock_list = [x+'_target' for x in stock_list]\n",
        "\n",
        "    def __len__(self):\n",
        "        return len(self.df) - self.seq_len\n",
        "\n",
        "    def __getitem__(self, idx):\n",
        "        ts_window = self.df.loc[idx:idx + self.seq_len - 1, self.features].values.astype('float32')\n",
        "        x_mask = self.data_stamp.loc[idx:idx + self.seq_len - 1].values.astype('float32')\n",
        "        news_window = self.df.loc[idx:idx + self.seq_len - 1, 'embedding'].values\n",
        "        news_window = np.stack(news_window).astype('float32')\n",
        "        target = self.df.loc[idx + self.seq_len, self.stock_list].values.astype('float32')  # shape: [19]\n",
        "        return {\n",
        "            'timeseries': torch.tensor(ts_window),     # [30, 114]\n",
        "            'news': torch.tensor(news_window),         # [30, 768]\n",
        "            'target': torch.tensor(target),\n",
        "            'time_mask':torch.tensor(x_mask)# [19]\n",
        "        }\n",
        "\n",
        "\n",
        "split = int(0.8 * len(data_all))\n",
        "\n",
        "train_dataset = NewsTimeSeriesDataset(data_all.iloc[:split], data_stamp.iloc[:split], selected_f_all, list_crypto, seq_len=30)\n",
        "val_dataset = NewsTimeSeriesDataset(data_all.iloc[split:], data_stamp.iloc[split:], selected_f_all, list_crypto, seq_len=30)\n",
        "\n",
        "train_loader = DataLoader(train_dataset, batch_size=32, shuffle=True)\n",
        "val_loader = DataLoader(val_dataset, batch_size=32)\n"
      ],
      "metadata": {
        "id": "Pfe2ODdGKlBd"
      },
      "execution_count": 15,
      "outputs": []
    },
    {
      "cell_type": "markdown",
      "source": [
        "Model Architecture"
      ],
      "metadata": {
        "id": "CoqSg9XZD11W"
      }
    },
    {
      "cell_type": "code",
      "source": [
        "import math\n",
        "import torch.nn as nn\n",
        "import torch\n",
        "\n",
        "class PositionalEncoding(nn.Module):\n",
        "    def __init__(self, d_model, max_len=500):\n",
        "        super().__init__()\n",
        "        pe = torch.zeros(max_len, d_model)  # [max_len, d_model]\n",
        "        position = torch.arange(0, max_len, dtype=torch.float32).unsqueeze(1)  # [max_len, 1]\n",
        "        div_term = torch.exp(torch.arange(0, d_model, 2).float() * (-math.log(10000.0) / d_model))  # [d_model/2]\n",
        "\n",
        "        pe[:, 0::2] = torch.sin(position * div_term)  # even dims\n",
        "        pe[:, 1::2] = torch.cos(position * div_term)  # odd dims\n",
        "        pe = pe.unsqueeze(0)  # [1, max_len, d_model]\n",
        "        self.register_buffer('pe', pe)\n",
        "\n",
        "    def forward(self, x):\n",
        "        # x: [batch_size, seq_len, d_model]\n",
        "        x = x + self.pe[:, :x.size(1), :]\n",
        "        return x\n",
        "\n",
        "class TransformerReturnPredictor(nn.Module):\n",
        "    def __init__(self, feature_dim, d_model=64, nhead=4, num_layers=2, max_len=500):\n",
        "        super().__init__()\n",
        "        self.input_proj = nn.Linear(feature_dim, d_model)\n",
        "        self.pos_encoder = PositionalEncoding(d_model, max_len=max_len)\n",
        "\n",
        "        encoder_layer = nn.TransformerEncoderLayer(d_model=d_model, nhead=nhead, batch_first=True)\n",
        "        self.transformer = nn.TransformerEncoder(encoder_layer, num_layers=num_layers)\n",
        "        self.output_layer = nn.Linear(d_model, 1)\n",
        "\n",
        "    def forward(self, x):\n",
        "        # x: [batch_size, seq_len, feature_dim]\n",
        "        x = self.input_proj(x)             # [batch_size, seq_len, d_model]\n",
        "        x = self.pos_encoder(x)            # Add positional encoding\n",
        "        x = self.transformer(x)            # [batch_size, seq_len, d_model]\n",
        "        x = x[:, -1, :]                    # Use representation of last time step\n",
        "        return self.output_layer(x).squeeze(-1)\n"
      ],
      "metadata": {
        "id": "avriBN1s5zrP"
      },
      "execution_count": 16,
      "outputs": []
    },
    {
      "cell_type": "code",
      "source": [
        "import torch\n",
        "import torch.nn as nn\n",
        "import torch.nn.functional as F\n",
        "import torch.fft\n",
        "from transformers import AutoTokenizer, AutoModel\n",
        "finbert_model_name = \"yiyanghkust/finbert-tone\"\n",
        "import torch.nn as nn\n",
        "\n",
        "class MarketNewsFusionModel(nn.Module):\n",
        "    def __init__(self, ts_input_dim, news_embed_dim, hidden_dim=64, num_stocks=19,\n",
        "                 max_len=30, d_model=64, nhead=4, num_layers=2):\n",
        "        super().__init__()\n",
        "        self.num_stocks = num_stocks\n",
        "\n",
        "        self.d_model = d_model\n",
        "        self.input_proj = nn.Linear(ts_input_dim, self.d_model)\n",
        "        self.pos_encoder = PositionalEncoding(self.d_model, max_len=max_len)\n",
        "        encoder_layer = nn.TransformerEncoderLayer(d_model=self.d_model, nhead=nhead, batch_first=True)\n",
        "        self.transformer = nn.TransformerEncoder(encoder_layer, num_layers=num_layers)\n",
        "        self.ts_out = nn.Linear(128, hidden_dim)\n",
        "\n",
        "        # 2. News LSTM\n",
        "        self.news_proj = nn.Linear(news_embed_dim, 64)\n",
        "        self.news_lstm = nn.LSTM(input_size=64, hidden_size=hidden_dim, batch_first=True)\n",
        "\n",
        "        # 3. Stock-specific regression heads (1 per stock)\n",
        "        self.stock_heads = nn.Sequential(\n",
        "                nn.Linear(self.d_model+hidden_dim, 64),\n",
        "                nn.ReLU(),\n",
        "                nn.Linear(64, num_stocks)\n",
        "            )\n",
        "\n",
        "    def forward(self, ts_input, x_mark_enc, news_input):  # [B, 30, F], [B, 30, E]\n",
        "\n",
        "                # Transformer on OHLCV\n",
        "        x = self.input_proj(ts_input)           # [B, T, d_model]\n",
        "        x = self.pos_encoder(x)\n",
        "        x = self.transformer(x)                  # [B, T, d_model]\n",
        "        ts_emb = x[:, -1, :].squeeze(1)                   # [B, d_model]\n",
        "\n",
        "\n",
        "        news_proj = self.news_proj(news_input)         # [B, 30, 64]\n",
        "        _, (hn, _) = self.news_lstm(news_proj)        # hn: [1, B, 64]\n",
        "        news_emb = hn[-1]                              # [B, 64]\n",
        "\n",
        "        fused = torch.cat([ts_emb, news_emb], dim=1)   # [B, 128]\n",
        "\n",
        "        outputs = self.stock_heads(fused).squeeze(-1)\n",
        "        return outputs             # [B, 19]\n",
        "\n",
        "\n",
        "seq_len = 30\n",
        "\n",
        "# model = TimesNet.Model(args).float()\n",
        "# model = Model_TimesNet(configs).float()"
      ],
      "metadata": {
        "id": "suadoQon5Wu8"
      },
      "execution_count": 17,
      "outputs": []
    },
    {
      "cell_type": "code",
      "source": [
        "data_all = data_all.fillna(0)"
      ],
      "metadata": {
        "id": "EqIKS4Cz_eaG"
      },
      "execution_count": 18,
      "outputs": []
    },
    {
      "cell_type": "markdown",
      "source": [
        "Loading Model and dataloader"
      ],
      "metadata": {
        "id": "izF1C6gMEdON"
      }
    },
    {
      "cell_type": "code",
      "source": [
        "from torch.utils.data import DataLoader\n",
        "\n",
        "# Example setup\n",
        "# selected_f_all = list of feature columns (e.g., 6 × 19 = 114)\n",
        "# stock_list = ['AAPL', 'GOOG', ..., 'TSLA'] → 19 stock target columns\n",
        "# df = your dataframe with those columns and 'embedding' column\n",
        "\n",
        "\n",
        "split = int(0.8 * len(data_all))\n",
        "\n",
        "train_dataset = NewsTimeSeriesDataset(data_all.iloc[:split], data_stamp.iloc[:split], selected_f_all, list_crypto, seq_len=30)\n",
        "val_dataset = NewsTimeSeriesDataset(data_all.iloc[split:], data_stamp.iloc[split:], selected_f_all, list_crypto, seq_len=30)\n",
        "\n",
        "train_loader = DataLoader(train_dataset, batch_size=32, shuffle=True)\n",
        "val_loader = DataLoader(val_dataset, batch_size=32)\n",
        "\n",
        "\n",
        "\n",
        "model = MarketNewsFusionModel(ts_input_dim=len(selected_f_all),\n",
        " news_embed_dim=len(data_all['embedding'].iloc[0]),\n",
        " hidden_dim=64,\n",
        " num_stocks=len(list_crypto),\n",
        " max_len=30,\n",
        " d_model=64, nhead=4, num_layers=2).cuda()\n",
        "\n",
        "optimizer = torch.optim.Adam(model.parameters(), lr=1e-4)\n",
        "loss_fn = nn.MSELoss()\n",
        "\n"
      ],
      "metadata": {
        "id": "dcq4GZM8gcgn"
      },
      "execution_count": 19,
      "outputs": []
    },
    {
      "cell_type": "markdown",
      "source": [
        "Testing model pipeline"
      ],
      "metadata": {
        "id": "a9ZdJH7BEiAc"
      }
    },
    {
      "cell_type": "code",
      "source": [
        "# One training step\n",
        "for batch in train_loader:\n",
        "    ts_input = batch['timeseries'].cuda()\n",
        "    news_input = batch['news'].cuda()\n",
        "    target = batch['target'].cuda()\n",
        "    time_mask = batch['time_mask'].cuda()\n",
        "\n",
        "    output = model(ts_input, time_mask, news_input)  # [B, 19]\n",
        "    loss = loss_fn(output, target)\n",
        "    break"
      ],
      "metadata": {
        "id": "sk_4Oo6zhmTf"
      },
      "execution_count": 20,
      "outputs": []
    },
    {
      "cell_type": "markdown",
      "source": [
        "Training model"
      ],
      "metadata": {
        "id": "DVdn_Cq9Ek9W"
      }
    },
    {
      "cell_type": "code",
      "source": [
        "from sklearn.metrics import r2_score\n",
        "from tqdm import tqdm\n",
        "import torch\n",
        "import numpy as np\n",
        "import os\n",
        "\n",
        "def compute_r2_per_stock(y_true, y_pred):\n",
        "    r2s = []\n",
        "    for i in range(y_true.shape[1]):\n",
        "        r2s.append(r2_score(y_true[:, i], y_pred[:, i]))\n",
        "    return r2s\n",
        "\n",
        "num_epochs=50\n",
        "patience=5\n",
        "save_path='best_model.pth'\n",
        "device='cuda'\n",
        "\n",
        "best_val_loss = float('inf')\n",
        "patience_counter = 0\n",
        "model.to(device)\n",
        "\n",
        "for epoch in range(1, num_epochs + 1):\n",
        "    model.train()\n",
        "    total_train_loss = 0\n",
        "\n",
        "    print(f\"\\n🔁 Epoch {epoch}/{num_epochs}\")\n",
        "    for step, batch in enumerate(tqdm(train_loader, desc=\"Training\")):\n",
        "        ts_input = batch['timeseries'].to(device)\n",
        "        news_input = batch['news'].to(device)\n",
        "        target = batch['target'].to(device)\n",
        "        time_mask = batch['time_mask'].to(device)\n",
        "\n",
        "        output = model(ts_input, time_mask, news_input)\n",
        "        loss = loss_fn(output, target)\n",
        "\n",
        "        optimizer.zero_grad()\n",
        "        loss.backward()\n",
        "        optimizer.step()\n",
        "        total_train_loss += loss.item()\n",
        "\n",
        "        # Step-wise print every 100 steps\n",
        "        if step % 100 == 0:\n",
        "            avg_loss = total_train_loss / (step + 1)\n",
        "            print(f\"  Step {step}/{len(train_loader)} - Batch Loss: {loss.item():.4f} - Avg Loss: {avg_loss:.4f}\")\n",
        "\n",
        "    # Validation phase\n",
        "    model.eval()\n",
        "    total_val_loss = 0\n",
        "    all_preds, all_targets = [], []\n",
        "\n",
        "    with torch.no_grad():\n",
        "        for batch in tqdm(val_loader, desc=\"Validating\"):\n",
        "            ts_input = batch['timeseries'].to(device)\n",
        "            news_input = batch['news'].to(device)\n",
        "            target = batch['target'].to(device)\n",
        "            time_mask = batch['time_mask'].to(device)\n",
        "\n",
        "            output = model(ts_input, time_mask, news_input)\n",
        "            loss = loss_fn(output, target)\n",
        "\n",
        "            total_val_loss += loss.item()\n",
        "            all_preds.append(output.cpu().numpy())\n",
        "            all_targets.append(target.cpu().numpy())\n",
        "\n",
        "    avg_train_loss = total_train_loss / len(train_loader)\n",
        "    avg_val_loss = total_val_loss / len(val_loader)\n",
        "\n",
        "    y_pred = np.concatenate(all_preds, axis=0)\n",
        "    y_true = np.concatenate(all_targets, axis=0)\n",
        "    r2_scores = compute_r2_per_stock(y_true, y_pred)\n",
        "\n",
        "    print(f\"📊 Epoch {epoch} Summary:\")\n",
        "    print(f\"  Train Loss: {avg_train_loss:.4f}\")\n",
        "    print(f\"  Val Loss: {avg_val_loss:.4f}\")\n",
        "    print(\"  R² per stock:\", [\"{} , {:.3f}\".format(list_crypto_first[r], r2_scores[r]) for r in range(len(r2_scores))])\n",
        "\n",
        "    if epoch % 5 == 0:\n",
        "        np.save(f\"y_pred_epoch_{epoch}.npy\", y_pred)\n",
        "        np.save(f\"y_true_epoch_{epoch}.npy\", y_true)\n",
        "\n",
        "    if avg_val_loss < best_val_loss:\n",
        "        best_val_loss = avg_val_loss\n",
        "        patience_counter = 0\n",
        "        torch.save(model.state_dict(), save_path)\n",
        "        print(\"✅ Best model saved.\")\n",
        "    else:\n",
        "        patience_counter += 1\n",
        "        print(f\"⏳ Early stopping patience: {patience_counter}/{patience}\")\n",
        "\n",
        "    if patience_counter >= patience:\n",
        "        print(\"⛔ Early stopping triggered.\")\n",
        "        break\n"
      ],
      "metadata": {
        "colab": {
          "base_uri": "https://localhost:8080/"
        },
        "id": "HYSvx1aYglIR",
        "outputId": "a31c000e-49b7-4357-ecd0-e322f10f1dac"
      },
      "execution_count": null,
      "outputs": [
        {
          "metadata": {
            "tags": null
          },
          "name": "stdout",
          "output_type": "stream",
          "text": [
            "\n",
            "🔁 Epoch 1/50\n"
          ]
        },
        {
          "metadata": {
            "tags": null
          },
          "name": "stderr",
          "output_type": "stream",
          "text": [
            "Training:   0%|          | 1/3240 [00:01<1:00:35,  1.12s/it]"
          ]
        },
        {
          "metadata": {
            "tags": null
          },
          "name": "stdout",
          "output_type": "stream",
          "text": [
            "  Step 0/3240 - Batch Loss: 0.0701 - Avg Loss: 0.0701\n"
          ]
        },
        {
          "metadata": {
            "tags": null
          },
          "name": "stderr",
          "output_type": "stream",
          "text": [
            "Training:   3%|▎         | 101/3240 [01:02<33:36,  1.56it/s]"
          ]
        },
        {
          "metadata": {
            "tags": null
          },
          "name": "stdout",
          "output_type": "stream",
          "text": [
            "  Step 100/3240 - Batch Loss: 0.0074 - Avg Loss: 0.0110\n"
          ]
        },
        {
          "metadata": {
            "tags": null
          },
          "name": "stderr",
          "output_type": "stream",
          "text": [
            "Training:   6%|▌         | 201/3240 [02:03<29:42,  1.70it/s]"
          ]
        },
        {
          "metadata": {
            "tags": null
          },
          "name": "stdout",
          "output_type": "stream",
          "text": [
            "  Step 200/3240 - Batch Loss: 0.0056 - Avg Loss: 0.0090\n"
          ]
        },
        {
          "metadata": {
            "tags": null
          },
          "name": "stderr",
          "output_type": "stream",
          "text": [
            "Training:   9%|▉         | 301/3240 [03:02<28:56,  1.69it/s]"
          ]
        },
        {
          "metadata": {
            "tags": null
          },
          "name": "stdout",
          "output_type": "stream",
          "text": [
            "  Step 300/3240 - Batch Loss: 0.0048 - Avg Loss: 0.0080\n"
          ]
        },
        {
          "metadata": {
            "tags": null
          },
          "name": "stderr",
          "output_type": "stream",
          "text": [
            "Training:  12%|█▏        | 401/3240 [04:03<27:39,  1.71it/s]"
          ]
        },
        {
          "metadata": {
            "tags": null
          },
          "name": "stdout",
          "output_type": "stream",
          "text": [
            "  Step 400/3240 - Batch Loss: 0.0025 - Avg Loss: 0.0074\n"
          ]
        },
        {
          "metadata": {
            "tags": null
          },
          "name": "stderr",
          "output_type": "stream",
          "text": [
            "Training:  15%|█▌        | 501/3240 [05:00<26:22,  1.73it/s]"
          ]
        },
        {
          "metadata": {
            "tags": null
          },
          "name": "stdout",
          "output_type": "stream",
          "text": [
            "  Step 500/3240 - Batch Loss: 0.0037 - Avg Loss: 0.0071\n"
          ]
        },
        {
          "metadata": {
            "tags": null
          },
          "name": "stderr",
          "output_type": "stream",
          "text": [
            "Training:  19%|█▊        | 601/3240 [06:00<28:00,  1.57it/s]"
          ]
        },
        {
          "metadata": {
            "tags": null
          },
          "name": "stdout",
          "output_type": "stream",
          "text": [
            "  Step 600/3240 - Batch Loss: 0.0059 - Avg Loss: 0.0068\n"
          ]
        },
        {
          "metadata": {
            "tags": null
          },
          "name": "stderr",
          "output_type": "stream",
          "text": [
            "Training:  22%|██▏       | 701/3240 [06:58<23:58,  1.76it/s]"
          ]
        },
        {
          "metadata": {
            "tags": null
          },
          "name": "stdout",
          "output_type": "stream",
          "text": [
            "  Step 700/3240 - Batch Loss: 0.0029 - Avg Loss: 0.0065\n"
          ]
        },
        {
          "metadata": {
            "tags": null
          },
          "name": "stderr",
          "output_type": "stream",
          "text": [
            "Training:  25%|██▍       | 801/3240 [07:58<23:06,  1.76it/s]"
          ]
        },
        {
          "metadata": {
            "tags": null
          },
          "name": "stdout",
          "output_type": "stream",
          "text": [
            "  Step 800/3240 - Batch Loss: 0.0038 - Avg Loss: 0.0063\n"
          ]
        },
        {
          "metadata": {
            "tags": null
          },
          "name": "stderr",
          "output_type": "stream",
          "text": [
            "Training:  28%|██▊       | 901/3240 [08:56<23:57,  1.63it/s]"
          ]
        },
        {
          "metadata": {
            "tags": null
          },
          "name": "stdout",
          "output_type": "stream",
          "text": [
            "  Step 900/3240 - Batch Loss: 0.0027 - Avg Loss: 0.0061\n"
          ]
        },
        {
          "metadata": {
            "tags": null
          },
          "name": "stderr",
          "output_type": "stream",
          "text": [
            "Training:  31%|███       | 1001/3240 [09:56<22:45,  1.64it/s]"
          ]
        },
        {
          "metadata": {
            "tags": null
          },
          "name": "stdout",
          "output_type": "stream",
          "text": [
            "  Step 1000/3240 - Batch Loss: 0.0052 - Avg Loss: 0.0060\n"
          ]
        },
        {
          "metadata": {
            "tags": null
          },
          "name": "stderr",
          "output_type": "stream",
          "text": [
            "Training:  34%|███▍      | 1101/3240 [10:56<21:02,  1.69it/s]"
          ]
        },
        {
          "metadata": {
            "tags": null
          },
          "name": "stdout",
          "output_type": "stream",
          "text": [
            "  Step 1100/3240 - Batch Loss: 0.0025 - Avg Loss: 0.0058\n"
          ]
        },
        {
          "metadata": {
            "tags": null
          },
          "name": "stderr",
          "output_type": "stream",
          "text": [
            "Training:  37%|███▋      | 1201/3240 [11:56<19:51,  1.71it/s]"
          ]
        },
        {
          "metadata": {
            "tags": null
          },
          "name": "stdout",
          "output_type": "stream",
          "text": [
            "  Step 1200/3240 - Batch Loss: 0.0084 - Avg Loss: 0.0057\n"
          ]
        },
        {
          "metadata": {
            "tags": null
          },
          "name": "stderr",
          "output_type": "stream",
          "text": [
            "Training:  40%|████      | 1301/3240 [12:55<19:20,  1.67it/s]"
          ]
        },
        {
          "metadata": {
            "tags": null
          },
          "name": "stdout",
          "output_type": "stream",
          "text": [
            "  Step 1300/3240 - Batch Loss: 0.0044 - Avg Loss: 0.0056\n"
          ]
        },
        {
          "metadata": {
            "tags": null
          },
          "name": "stderr",
          "output_type": "stream",
          "text": [
            "Training:  43%|████▎     | 1401/3240 [13:53<17:29,  1.75it/s]"
          ]
        },
        {
          "metadata": {
            "tags": null
          },
          "name": "stdout",
          "output_type": "stream",
          "text": [
            "  Step 1400/3240 - Batch Loss: 0.0034 - Avg Loss: 0.0055\n"
          ]
        },
        {
          "metadata": {
            "tags": null
          },
          "name": "stderr",
          "output_type": "stream",
          "text": [
            "Training:  46%|████▋     | 1501/3240 [14:50<16:25,  1.76it/s]"
          ]
        },
        {
          "metadata": {
            "tags": null
          },
          "name": "stdout",
          "output_type": "stream",
          "text": [
            "  Step 1500/3240 - Batch Loss: 0.0020 - Avg Loss: 0.0054\n"
          ]
        },
        {
          "metadata": {
            "tags": null
          },
          "name": "stderr",
          "output_type": "stream",
          "text": [
            "Training:  49%|████▉     | 1601/3240 [15:47<15:26,  1.77it/s]"
          ]
        },
        {
          "metadata": {
            "tags": null
          },
          "name": "stdout",
          "output_type": "stream",
          "text": [
            "  Step 1600/3240 - Batch Loss: 0.0035 - Avg Loss: 0.0054\n"
          ]
        },
        {
          "metadata": {
            "tags": null
          },
          "name": "stderr",
          "output_type": "stream",
          "text": [
            "Training:  52%|█████▎    | 1701/3240 [16:44<14:41,  1.75it/s]"
          ]
        },
        {
          "metadata": {
            "tags": null
          },
          "name": "stdout",
          "output_type": "stream",
          "text": [
            "  Step 1700/3240 - Batch Loss: 0.0072 - Avg Loss: 0.0053\n"
          ]
        },
        {
          "metadata": {
            "tags": null
          },
          "name": "stderr",
          "output_type": "stream",
          "text": [
            "Training:  56%|█████▌    | 1801/3240 [17:41<13:55,  1.72it/s]"
          ]
        },
        {
          "metadata": {
            "tags": null
          },
          "name": "stdout",
          "output_type": "stream",
          "text": [
            "  Step 1800/3240 - Batch Loss: 0.0030 - Avg Loss: 0.0053\n"
          ]
        },
        {
          "metadata": {
            "tags": null
          },
          "name": "stderr",
          "output_type": "stream",
          "text": [
            "Training:  59%|█████▊    | 1901/3240 [18:38<12:38,  1.77it/s]"
          ]
        },
        {
          "metadata": {
            "tags": null
          },
          "name": "stdout",
          "output_type": "stream",
          "text": [
            "  Step 1900/3240 - Batch Loss: 0.0028 - Avg Loss: 0.0052\n"
          ]
        },
        {
          "metadata": {
            "tags": null
          },
          "name": "stderr",
          "output_type": "stream",
          "text": [
            "Training:  62%|██████▏   | 2001/3240 [19:35<11:38,  1.77it/s]"
          ]
        },
        {
          "metadata": {
            "tags": null
          },
          "name": "stdout",
          "output_type": "stream",
          "text": [
            "  Step 2000/3240 - Batch Loss: 0.0028 - Avg Loss: 0.0051\n"
          ]
        },
        {
          "metadata": {
            "tags": null
          },
          "name": "stderr",
          "output_type": "stream",
          "text": [
            "Training:  65%|██████▍   | 2101/3240 [20:32<10:51,  1.75it/s]"
          ]
        },
        {
          "metadata": {
            "tags": null
          },
          "name": "stdout",
          "output_type": "stream",
          "text": [
            "  Step 2100/3240 - Batch Loss: 0.0027 - Avg Loss: 0.0051\n"
          ]
        },
        {
          "metadata": {
            "tags": null
          },
          "name": "stderr",
          "output_type": "stream",
          "text": [
            "Training:  68%|██████▊   | 2201/3240 [21:30<09:54,  1.75it/s]"
          ]
        },
        {
          "metadata": {
            "tags": null
          },
          "name": "stdout",
          "output_type": "stream",
          "text": [
            "  Step 2200/3240 - Batch Loss: 0.0083 - Avg Loss: 0.0050\n"
          ]
        },
        {
          "metadata": {
            "tags": null
          },
          "name": "stderr",
          "output_type": "stream",
          "text": [
            "Training:  71%|███████   | 2301/3240 [22:27<09:00,  1.74it/s]"
          ]
        },
        {
          "metadata": {
            "tags": null
          },
          "name": "stdout",
          "output_type": "stream",
          "text": [
            "  Step 2300/3240 - Batch Loss: 0.0025 - Avg Loss: 0.0050\n"
          ]
        },
        {
          "metadata": {
            "tags": null
          },
          "name": "stderr",
          "output_type": "stream",
          "text": [
            "Training:  74%|███████▍  | 2401/3240 [23:25<08:08,  1.72it/s]"
          ]
        },
        {
          "metadata": {
            "tags": null
          },
          "name": "stdout",
          "output_type": "stream",
          "text": [
            "  Step 2400/3240 - Batch Loss: 0.0020 - Avg Loss: 0.0050\n"
          ]
        },
        {
          "metadata": {
            "tags": null
          },
          "name": "stderr",
          "output_type": "stream",
          "text": [
            "Training:  77%|███████▋  | 2501/3240 [24:22<07:06,  1.73it/s]"
          ]
        },
        {
          "metadata": {
            "tags": null
          },
          "name": "stdout",
          "output_type": "stream",
          "text": [
            "  Step 2500/3240 - Batch Loss: 0.0022 - Avg Loss: 0.0049\n"
          ]
        },
        {
          "metadata": {
            "tags": null
          },
          "name": "stderr",
          "output_type": "stream",
          "text": [
            "Training:  80%|████████  | 2601/3240 [25:19<06:03,  1.76it/s]"
          ]
        },
        {
          "metadata": {
            "tags": null
          },
          "name": "stdout",
          "output_type": "stream",
          "text": [
            "  Step 2600/3240 - Batch Loss: 0.0053 - Avg Loss: 0.0049\n"
          ]
        },
        {
          "metadata": {
            "tags": null
          },
          "name": "stderr",
          "output_type": "stream",
          "text": [
            "Training:  83%|████████▎ | 2701/3240 [26:16<05:08,  1.75it/s]"
          ]
        },
        {
          "metadata": {
            "tags": null
          },
          "name": "stdout",
          "output_type": "stream",
          "text": [
            "  Step 2700/3240 - Batch Loss: 0.0029 - Avg Loss: 0.0048\n"
          ]
        },
        {
          "metadata": {
            "tags": null
          },
          "name": "stderr",
          "output_type": "stream",
          "text": [
            "Training:  86%|████████▋ | 2801/3240 [27:14<04:11,  1.74it/s]"
          ]
        },
        {
          "metadata": {
            "tags": null
          },
          "name": "stdout",
          "output_type": "stream",
          "text": [
            "  Step 2800/3240 - Batch Loss: 0.0030 - Avg Loss: 0.0048\n"
          ]
        },
        {
          "metadata": {
            "tags": null
          },
          "name": "stderr",
          "output_type": "stream",
          "text": [
            "Training:  90%|████████▉ | 2901/3240 [28:11<03:16,  1.72it/s]"
          ]
        },
        {
          "metadata": {
            "tags": null
          },
          "name": "stdout",
          "output_type": "stream",
          "text": [
            "  Step 2900/3240 - Batch Loss: 0.0026 - Avg Loss: 0.0047\n"
          ]
        },
        {
          "metadata": {
            "tags": null
          },
          "name": "stderr",
          "output_type": "stream",
          "text": [
            "Training:  93%|█████████▎| 3001/3240 [29:08<02:15,  1.77it/s]"
          ]
        },
        {
          "metadata": {
            "tags": null
          },
          "name": "stdout",
          "output_type": "stream",
          "text": [
            "  Step 3000/3240 - Batch Loss: 0.0041 - Avg Loss: 0.0047\n"
          ]
        },
        {
          "metadata": {
            "tags": null
          },
          "name": "stderr",
          "output_type": "stream",
          "text": [
            "Training:  96%|█████████▌| 3101/3240 [30:05<01:18,  1.77it/s]"
          ]
        },
        {
          "metadata": {
            "tags": null
          },
          "name": "stdout",
          "output_type": "stream",
          "text": [
            "  Step 3100/3240 - Batch Loss: 0.0029 - Avg Loss: 0.0046\n"
          ]
        },
        {
          "metadata": {
            "tags": null
          },
          "name": "stderr",
          "output_type": "stream",
          "text": [
            "Training:  99%|█████████▉| 3201/3240 [31:02<00:22,  1.73it/s]"
          ]
        },
        {
          "metadata": {
            "tags": null
          },
          "name": "stdout",
          "output_type": "stream",
          "text": [
            "  Step 3200/3240 - Batch Loss: 0.0040 - Avg Loss: 0.0046\n"
          ]
        },
        {
          "metadata": {
            "tags": null
          },
          "name": "stderr",
          "output_type": "stream",
          "text": [
            "Training: 100%|██████████| 3240/3240 [31:24<00:00,  1.72it/s]\n",
            "Validating: 100%|██████████| 810/810 [01:41<00:00,  7.98it/s]\n"
          ]
        },
        {
          "metadata": {
            "tags": null
          },
          "name": "stdout",
          "output_type": "stream",
          "text": [
            "📊 Epoch 1 Summary:\n",
            "  Train Loss: 0.0046\n",
            "  Val Loss: 0.0057\n",
            "  R² per stock: ['BTC , 0.064', 'XLM , 0.412', 'XRP , 0.293', 'TST , 0.022', 'W , 0.217', 'ARK , -0.006', 'ME , 0.134', 'T , -0.685', 'OG , 0.028', 'TIA , 0.074', 'TRX , 0.153', 'S , 0.284', 'GMT , 0.163', 'JST , -0.106', 'SEI , 0.272', 'HBAR , 0.317', 'D , 0.020', 'USDC , -68.097', 'HOT , -0.058']\n",
            "✅ Best model saved.\n",
            "\n",
            "🔁 Epoch 2/50\n"
          ]
        },
        {
          "metadata": {
            "tags": null
          },
          "name": "stderr",
          "output_type": "stream",
          "text": [
            "Training:   0%|          | 1/3240 [00:00<31:03,  1.74it/s]"
          ]
        },
        {
          "metadata": {
            "tags": null
          },
          "name": "stdout",
          "output_type": "stream",
          "text": [
            "  Step 0/3240 - Batch Loss: 0.0023 - Avg Loss: 0.0023\n"
          ]
        },
        {
          "metadata": {
            "tags": null
          },
          "name": "stderr",
          "output_type": "stream",
          "text": [
            "Training:   3%|▎         | 101/3240 [00:58<29:50,  1.75it/s]"
          ]
        },
        {
          "metadata": {
            "tags": null
          },
          "name": "stdout",
          "output_type": "stream",
          "text": [
            "  Step 100/3240 - Batch Loss: 0.0024 - Avg Loss: 0.0036\n"
          ]
        },
        {
          "metadata": {
            "tags": null
          },
          "name": "stderr",
          "output_type": "stream",
          "text": [
            "Training:   6%|▌         | 201/3240 [01:55<29:38,  1.71it/s]"
          ]
        },
        {
          "metadata": {
            "tags": null
          },
          "name": "stdout",
          "output_type": "stream",
          "text": [
            "  Step 200/3240 - Batch Loss: 0.0036 - Avg Loss: 0.0038\n"
          ]
        },
        {
          "metadata": {
            "tags": null
          },
          "name": "stderr",
          "output_type": "stream",
          "text": [
            "Training:   9%|▉         | 301/3240 [02:52<27:27,  1.78it/s]"
          ]
        },
        {
          "metadata": {
            "tags": null
          },
          "name": "stdout",
          "output_type": "stream",
          "text": [
            "  Step 300/3240 - Batch Loss: 0.0021 - Avg Loss: 0.0038\n"
          ]
        },
        {
          "metadata": {
            "tags": null
          },
          "name": "stderr",
          "output_type": "stream",
          "text": [
            "Training:  12%|█▏        | 401/3240 [03:52<27:28,  1.72it/s]"
          ]
        },
        {
          "metadata": {
            "tags": null
          },
          "name": "stdout",
          "output_type": "stream",
          "text": [
            "  Step 400/3240 - Batch Loss: 0.0024 - Avg Loss: 0.0037\n"
          ]
        },
        {
          "metadata": {
            "tags": null
          },
          "name": "stderr",
          "output_type": "stream",
          "text": [
            "Training:  15%|█▌        | 501/3240 [04:50<26:02,  1.75it/s]"
          ]
        },
        {
          "metadata": {
            "tags": null
          },
          "name": "stdout",
          "output_type": "stream",
          "text": [
            "  Step 500/3240 - Batch Loss: 0.0034 - Avg Loss: 0.0038\n"
          ]
        },
        {
          "metadata": {
            "tags": null
          },
          "name": "stderr",
          "output_type": "stream",
          "text": [
            "Training:  19%|█▊        | 601/3240 [05:47<24:54,  1.77it/s]"
          ]
        },
        {
          "metadata": {
            "tags": null
          },
          "name": "stdout",
          "output_type": "stream",
          "text": [
            "  Step 600/3240 - Batch Loss: 0.0036 - Avg Loss: 0.0038\n"
          ]
        },
        {
          "metadata": {
            "tags": null
          },
          "name": "stderr",
          "output_type": "stream",
          "text": [
            "Training:  22%|██▏       | 701/3240 [06:44<24:11,  1.75it/s]"
          ]
        },
        {
          "metadata": {
            "tags": null
          },
          "name": "stdout",
          "output_type": "stream",
          "text": [
            "  Step 700/3240 - Batch Loss: 0.0021 - Avg Loss: 0.0038\n"
          ]
        },
        {
          "metadata": {
            "tags": null
          },
          "name": "stderr",
          "output_type": "stream",
          "text": [
            "Training:  25%|██▍       | 801/3240 [07:41<23:24,  1.74it/s]"
          ]
        },
        {
          "metadata": {
            "tags": null
          },
          "name": "stdout",
          "output_type": "stream",
          "text": [
            "  Step 800/3240 - Batch Loss: 0.0124 - Avg Loss: 0.0038\n"
          ]
        },
        {
          "metadata": {
            "tags": null
          },
          "name": "stderr",
          "output_type": "stream",
          "text": [
            "Training:  28%|██▊       | 901/3240 [08:38<22:03,  1.77it/s]"
          ]
        },
        {
          "metadata": {
            "tags": null
          },
          "name": "stdout",
          "output_type": "stream",
          "text": [
            "  Step 900/3240 - Batch Loss: 0.0021 - Avg Loss: 0.0038\n"
          ]
        },
        {
          "metadata": {
            "tags": null
          },
          "name": "stderr",
          "output_type": "stream",
          "text": [
            "Training:  31%|███       | 1001/3240 [09:35<21:12,  1.76it/s]"
          ]
        },
        {
          "metadata": {
            "tags": null
          },
          "name": "stdout",
          "output_type": "stream",
          "text": [
            "  Step 1000/3240 - Batch Loss: 0.0076 - Avg Loss: 0.0038\n"
          ]
        },
        {
          "metadata": {
            "tags": null
          },
          "name": "stderr",
          "output_type": "stream",
          "text": [
            "Training:  34%|███▍      | 1101/3240 [10:33<20:31,  1.74it/s]"
          ]
        },
        {
          "metadata": {
            "tags": null
          },
          "name": "stdout",
          "output_type": "stream",
          "text": [
            "  Step 1100/3240 - Batch Loss: 0.0040 - Avg Loss: 0.0038\n"
          ]
        },
        {
          "metadata": {
            "tags": null
          },
          "name": "stderr",
          "output_type": "stream",
          "text": [
            "Training:  37%|███▋      | 1201/3240 [11:30<19:07,  1.78it/s]"
          ]
        },
        {
          "metadata": {
            "tags": null
          },
          "name": "stdout",
          "output_type": "stream",
          "text": [
            "  Step 1200/3240 - Batch Loss: 0.0014 - Avg Loss: 0.0038\n"
          ]
        },
        {
          "metadata": {
            "tags": null
          },
          "name": "stderr",
          "output_type": "stream",
          "text": [
            "Training:  40%|████      | 1301/3240 [12:27<18:36,  1.74it/s]"
          ]
        },
        {
          "metadata": {
            "tags": null
          },
          "name": "stdout",
          "output_type": "stream",
          "text": [
            "  Step 1300/3240 - Batch Loss: 0.0027 - Avg Loss: 0.0037\n"
          ]
        },
        {
          "metadata": {
            "tags": null
          },
          "name": "stderr",
          "output_type": "stream",
          "text": [
            "Training:  43%|████▎     | 1401/3240 [13:25<17:35,  1.74it/s]"
          ]
        },
        {
          "metadata": {
            "tags": null
          },
          "name": "stdout",
          "output_type": "stream",
          "text": [
            "  Step 1400/3240 - Batch Loss: 0.0052 - Avg Loss: 0.0037\n"
          ]
        },
        {
          "metadata": {
            "tags": null
          },
          "name": "stderr",
          "output_type": "stream",
          "text": [
            "Training:  46%|████▋     | 1501/3240 [14:22<16:35,  1.75it/s]"
          ]
        },
        {
          "metadata": {
            "tags": null
          },
          "name": "stdout",
          "output_type": "stream",
          "text": [
            "  Step 1500/3240 - Batch Loss: 0.0016 - Avg Loss: 0.0037\n"
          ]
        },
        {
          "metadata": {
            "tags": null
          },
          "name": "stderr",
          "output_type": "stream",
          "text": [
            "Training:  49%|████▉     | 1601/3240 [15:19<15:26,  1.77it/s]"
          ]
        },
        {
          "metadata": {
            "tags": null
          },
          "name": "stdout",
          "output_type": "stream",
          "text": [
            "  Step 1600/3240 - Batch Loss: 0.0039 - Avg Loss: 0.0037\n"
          ]
        },
        {
          "metadata": {
            "tags": null
          },
          "name": "stderr",
          "output_type": "stream",
          "text": [
            "Training:  52%|█████▎    | 1701/3240 [16:16<14:32,  1.76it/s]"
          ]
        },
        {
          "metadata": {
            "tags": null
          },
          "name": "stdout",
          "output_type": "stream",
          "text": [
            "  Step 1700/3240 - Batch Loss: 0.0029 - Avg Loss: 0.0037\n"
          ]
        },
        {
          "metadata": {
            "tags": null
          },
          "name": "stderr",
          "output_type": "stream",
          "text": [
            "Training:  56%|█████▌    | 1801/3240 [17:14<14:08,  1.70it/s]"
          ]
        },
        {
          "metadata": {
            "tags": null
          },
          "name": "stdout",
          "output_type": "stream",
          "text": [
            "  Step 1800/3240 - Batch Loss: 0.0026 - Avg Loss: 0.0037\n"
          ]
        },
        {
          "metadata": {
            "tags": null
          },
          "name": "stderr",
          "output_type": "stream",
          "text": [
            "Training:  59%|█████▊    | 1901/3240 [18:11<12:36,  1.77it/s]"
          ]
        },
        {
          "metadata": {
            "tags": null
          },
          "name": "stdout",
          "output_type": "stream",
          "text": [
            "  Step 1900/3240 - Batch Loss: 0.0019 - Avg Loss: 0.0037\n"
          ]
        },
        {
          "metadata": {
            "tags": null
          },
          "name": "stderr",
          "output_type": "stream",
          "text": [
            "Training:  62%|██████▏   | 2001/3240 [19:08<11:39,  1.77it/s]"
          ]
        },
        {
          "metadata": {
            "tags": null
          },
          "name": "stdout",
          "output_type": "stream",
          "text": [
            "  Step 2000/3240 - Batch Loss: 0.0023 - Avg Loss: 0.0037\n"
          ]
        },
        {
          "metadata": {
            "tags": null
          },
          "name": "stderr",
          "output_type": "stream",
          "text": [
            "Training:  65%|██████▍   | 2101/3240 [20:05<10:49,  1.75it/s]"
          ]
        },
        {
          "metadata": {
            "tags": null
          },
          "name": "stdout",
          "output_type": "stream",
          "text": [
            "  Step 2100/3240 - Batch Loss: 0.0035 - Avg Loss: 0.0037\n"
          ]
        },
        {
          "metadata": {
            "tags": null
          },
          "name": "stderr",
          "output_type": "stream",
          "text": [
            "Training:  68%|██████▊   | 2201/3240 [21:03<09:57,  1.74it/s]"
          ]
        },
        {
          "metadata": {
            "tags": null
          },
          "name": "stdout",
          "output_type": "stream",
          "text": [
            "  Step 2200/3240 - Batch Loss: 0.0044 - Avg Loss: 0.0036\n"
          ]
        },
        {
          "metadata": {
            "tags": null
          },
          "name": "stderr",
          "output_type": "stream",
          "text": [
            "Training:  71%|███████   | 2301/3240 [22:00<09:03,  1.73it/s]"
          ]
        },
        {
          "metadata": {
            "tags": null
          },
          "name": "stdout",
          "output_type": "stream",
          "text": [
            "  Step 2300/3240 - Batch Loss: 0.0029 - Avg Loss: 0.0037\n"
          ]
        },
        {
          "metadata": {
            "tags": null
          },
          "name": "stderr",
          "output_type": "stream",
          "text": [
            "Training:  74%|███████▍  | 2401/3240 [22:57<07:57,  1.76it/s]"
          ]
        },
        {
          "metadata": {
            "tags": null
          },
          "name": "stdout",
          "output_type": "stream",
          "text": [
            "  Step 2400/3240 - Batch Loss: 0.0024 - Avg Loss: 0.0037\n"
          ]
        },
        {
          "metadata": {
            "tags": null
          },
          "name": "stderr",
          "output_type": "stream",
          "text": [
            "Training:  77%|███████▋  | 2501/3240 [23:55<07:05,  1.74it/s]"
          ]
        },
        {
          "metadata": {
            "tags": null
          },
          "name": "stdout",
          "output_type": "stream",
          "text": [
            "  Step 2500/3240 - Batch Loss: 0.0017 - Avg Loss: 0.0036\n"
          ]
        },
        {
          "metadata": {
            "tags": null
          },
          "name": "stderr",
          "output_type": "stream",
          "text": [
            "Training:  80%|████████  | 2601/3240 [24:52<06:05,  1.75it/s]"
          ]
        },
        {
          "metadata": {
            "tags": null
          },
          "name": "stdout",
          "output_type": "stream",
          "text": [
            "  Step 2600/3240 - Batch Loss: 0.0038 - Avg Loss: 0.0036\n"
          ]
        },
        {
          "metadata": {
            "tags": null
          },
          "name": "stderr",
          "output_type": "stream",
          "text": [
            "Training:  83%|████████▎ | 2701/3240 [25:50<05:12,  1.72it/s]"
          ]
        },
        {
          "metadata": {
            "tags": null
          },
          "name": "stdout",
          "output_type": "stream",
          "text": [
            "  Step 2700/3240 - Batch Loss: 0.0044 - Avg Loss: 0.0036\n"
          ]
        },
        {
          "output_type": "stream",
          "name": "stderr",
          "text": [
            "Training:  86%|████████▋ | 2801/3240 [26:48<04:16,  1.71it/s]"
          ]
        },
        {
          "output_type": "stream",
          "name": "stdout",
          "text": [
            "  Step 2800/3240 - Batch Loss: 0.0037 - Avg Loss: 0.0036\n"
          ]
        },
        {
          "output_type": "stream",
          "name": "stderr",
          "text": [
            "Training:  90%|████████▉ | 2901/3240 [27:46<03:13,  1.75it/s]"
          ]
        },
        {
          "output_type": "stream",
          "name": "stdout",
          "text": [
            "  Step 2900/3240 - Batch Loss: 0.0016 - Avg Loss: 0.0036\n"
          ]
        },
        {
          "output_type": "stream",
          "name": "stderr",
          "text": [
            "Training:  93%|█████████▎| 3001/3240 [28:43<02:15,  1.77it/s]"
          ]
        },
        {
          "output_type": "stream",
          "name": "stdout",
          "text": [
            "  Step 3000/3240 - Batch Loss: 0.0019 - Avg Loss: 0.0036\n"
          ]
        },
        {
          "output_type": "stream",
          "name": "stderr",
          "text": [
            "Training:  96%|█████████▌| 3101/3240 [29:40<01:19,  1.75it/s]"
          ]
        },
        {
          "output_type": "stream",
          "name": "stdout",
          "text": [
            "  Step 3100/3240 - Batch Loss: 0.0031 - Avg Loss: 0.0036\n"
          ]
        },
        {
          "output_type": "stream",
          "name": "stderr",
          "text": [
            "Training:  99%|█████████▉| 3201/3240 [30:38<00:22,  1.75it/s]"
          ]
        },
        {
          "output_type": "stream",
          "name": "stdout",
          "text": [
            "  Step 3200/3240 - Batch Loss: 0.0028 - Avg Loss: 0.0036\n"
          ]
        },
        {
          "output_type": "stream",
          "name": "stderr",
          "text": [
            "Training: 100%|██████████| 3240/3240 [31:00<00:00,  1.74it/s]\n",
            "Validating: 100%|██████████| 810/810 [01:38<00:00,  8.26it/s]\n"
          ]
        },
        {
          "output_type": "stream",
          "name": "stdout",
          "text": [
            "📊 Epoch 2 Summary:\n",
            "  Train Loss: 0.0036\n",
            "  Val Loss: 0.0059\n",
            "  R² per stock: ['BTC , 0.233', 'XLM , 0.338', 'XRP , 0.394', 'TST , 0.185', 'W , 0.078', 'ARK , -0.481', 'ME , 0.146', 'T , -0.623', 'OG , -0.079', 'TIA , 0.018', 'TRX , -0.079', 'S , 0.342', 'GMT , 0.158', 'JST , -0.834', 'SEI , 0.221', 'HBAR , 0.355', 'D , 0.166', 'USDC , -29.440', 'HOT , -0.029']\n",
            "⏳ Early stopping patience: 1/5\n",
            "\n",
            "🔁 Epoch 3/50\n"
          ]
        },
        {
          "output_type": "stream",
          "name": "stderr",
          "text": [
            "Training:   0%|          | 1/3240 [00:00<30:45,  1.76it/s]"
          ]
        },
        {
          "output_type": "stream",
          "name": "stdout",
          "text": [
            "  Step 0/3240 - Batch Loss: 0.0061 - Avg Loss: 0.0061\n"
          ]
        },
        {
          "output_type": "stream",
          "name": "stderr",
          "text": [
            "Training:   3%|▎         | 101/3240 [00:57<29:50,  1.75it/s]"
          ]
        },
        {
          "output_type": "stream",
          "name": "stdout",
          "text": [
            "  Step 100/3240 - Batch Loss: 0.0016 - Avg Loss: 0.0033\n"
          ]
        },
        {
          "output_type": "stream",
          "name": "stderr",
          "text": [
            "Training:   6%|▌         | 201/3240 [01:55<29:04,  1.74it/s]"
          ]
        },
        {
          "output_type": "stream",
          "name": "stdout",
          "text": [
            "  Step 200/3240 - Batch Loss: 0.0025 - Avg Loss: 0.0035\n"
          ]
        },
        {
          "output_type": "stream",
          "name": "stderr",
          "text": [
            "Training:   9%|▉         | 301/3240 [02:52<28:29,  1.72it/s]"
          ]
        },
        {
          "output_type": "stream",
          "name": "stdout",
          "text": [
            "  Step 300/3240 - Batch Loss: 0.0029 - Avg Loss: 0.0034\n"
          ]
        },
        {
          "output_type": "stream",
          "name": "stderr",
          "text": [
            "Training:  12%|█▏        | 401/3240 [03:49<26:40,  1.77it/s]"
          ]
        },
        {
          "output_type": "stream",
          "name": "stdout",
          "text": [
            "  Step 400/3240 - Batch Loss: 0.0017 - Avg Loss: 0.0034\n"
          ]
        },
        {
          "output_type": "stream",
          "name": "stderr",
          "text": [
            "Training:  15%|█▌        | 501/3240 [04:46<25:47,  1.77it/s]"
          ]
        },
        {
          "output_type": "stream",
          "name": "stdout",
          "text": [
            "  Step 500/3240 - Batch Loss: 0.0020 - Avg Loss: 0.0034\n"
          ]
        },
        {
          "output_type": "stream",
          "name": "stderr",
          "text": [
            "Training:  19%|█▊        | 601/3240 [05:43<25:13,  1.74it/s]"
          ]
        },
        {
          "output_type": "stream",
          "name": "stdout",
          "text": [
            "  Step 600/3240 - Batch Loss: 0.0017 - Avg Loss: 0.0035\n"
          ]
        },
        {
          "output_type": "stream",
          "name": "stderr",
          "text": [
            "Training:  22%|██▏       | 701/3240 [06:40<24:24,  1.73it/s]"
          ]
        },
        {
          "output_type": "stream",
          "name": "stdout",
          "text": [
            "  Step 700/3240 - Batch Loss: 0.0016 - Avg Loss: 0.0034\n"
          ]
        },
        {
          "output_type": "stream",
          "name": "stderr",
          "text": [
            "Training:  25%|██▍       | 801/3240 [07:38<23:48,  1.71it/s]"
          ]
        },
        {
          "output_type": "stream",
          "name": "stdout",
          "text": [
            "  Step 800/3240 - Batch Loss: 0.0110 - Avg Loss: 0.0034\n"
          ]
        },
        {
          "output_type": "stream",
          "name": "stderr",
          "text": [
            "Training:  28%|██▊       | 901/3240 [08:35<21:58,  1.77it/s]"
          ]
        },
        {
          "output_type": "stream",
          "name": "stdout",
          "text": [
            "  Step 900/3240 - Batch Loss: 0.0021 - Avg Loss: 0.0034\n"
          ]
        },
        {
          "output_type": "stream",
          "name": "stderr",
          "text": [
            "Training:  31%|███       | 1001/3240 [09:32<21:13,  1.76it/s]"
          ]
        },
        {
          "output_type": "stream",
          "name": "stdout",
          "text": [
            "  Step 1000/3240 - Batch Loss: 0.0050 - Avg Loss: 0.0034\n"
          ]
        },
        {
          "output_type": "stream",
          "name": "stderr",
          "text": [
            "Training:  34%|███▍      | 1101/3240 [10:29<20:49,  1.71it/s]"
          ]
        },
        {
          "output_type": "stream",
          "name": "stdout",
          "text": [
            "  Step 1100/3240 - Batch Loss: 0.0043 - Avg Loss: 0.0034\n"
          ]
        },
        {
          "output_type": "stream",
          "name": "stderr",
          "text": [
            "Training:  37%|███▋      | 1201/3240 [11:27<20:02,  1.70it/s]"
          ]
        },
        {
          "output_type": "stream",
          "name": "stdout",
          "text": [
            "  Step 1200/3240 - Batch Loss: 0.0034 - Avg Loss: 0.0034\n"
          ]
        },
        {
          "output_type": "stream",
          "name": "stderr",
          "text": [
            "Training:  40%|████      | 1301/3240 [12:24<18:16,  1.77it/s]"
          ]
        },
        {
          "output_type": "stream",
          "name": "stdout",
          "text": [
            "  Step 1300/3240 - Batch Loss: 0.0027 - Avg Loss: 0.0034\n"
          ]
        },
        {
          "output_type": "stream",
          "name": "stderr",
          "text": [
            "Training:  43%|████▎     | 1401/3240 [13:21<17:27,  1.76it/s]"
          ]
        },
        {
          "output_type": "stream",
          "name": "stdout",
          "text": [
            "  Step 1400/3240 - Batch Loss: 0.0029 - Avg Loss: 0.0034\n"
          ]
        },
        {
          "output_type": "stream",
          "name": "stderr",
          "text": [
            "Training:  44%|████▍     | 1428/3240 [13:36<17:04,  1.77it/s]"
          ]
        }
      ]
    },
    {
      "cell_type": "code",
      "source": [
        "print(\"R² per stock: \", [\"{:.3f}\".format(r2) for r2 in r2_scores])"
      ],
      "metadata": {
        "colab": {
          "base_uri": "https://localhost:8080/"
        },
        "id": "VfpfyegKuJIS",
        "outputId": "92327010-3467-49ad-e491-47cffc3a0460"
      },
      "execution_count": null,
      "outputs": [
        {
          "output_type": "stream",
          "name": "stdout",
          "text": [
            "R² per stock:  ['0.054', '-1.257', '0.308', '0.229', '0.011', '-0.009', '0.272', '0.196', '-4.720', '0.313', '-0.141', '0.072', '-7.790', '-0.279', '-0.023', '-0.274', '-0.394', '-0.097', '0.343']\n"
          ]
        }
      ]
    }
  ],
  "metadata": {
    "accelerator": "GPU",
    "colab": {
      "gpuType": "A100",
      "provenance": []
    },
    "kernelspec": {
      "display_name": "Python 3",
      "name": "python3"
    },
    "language_info": {
      "name": "python"
    },
    "widgets": {
      "application/vnd.jupyter.widget-state+json": {
        "a7186a4cbdf243a1b853e60c8eb8de4b": {
          "model_module": "@jupyter-widgets/controls",
          "model_name": "HBoxModel",
          "model_module_version": "1.5.0",
          "state": {
            "_dom_classes": [],
            "_model_module": "@jupyter-widgets/controls",
            "_model_module_version": "1.5.0",
            "_model_name": "HBoxModel",
            "_view_count": null,
            "_view_module": "@jupyter-widgets/controls",
            "_view_module_version": "1.5.0",
            "_view_name": "HBoxView",
            "box_style": "",
            "children": [
              "IPY_MODEL_11f60100fa64407c8a28e4a2d94dd732",
              "IPY_MODEL_f7c0b38688fc404587bed6ef873d3d9a",
              "IPY_MODEL_1bf4b879fdf14535978fcf12798ff4c8"
            ],
            "layout": "IPY_MODEL_87eaa1988478478a92b08a77f67970eb"
          }
        },
        "11f60100fa64407c8a28e4a2d94dd732": {
          "model_module": "@jupyter-widgets/controls",
          "model_name": "HTMLModel",
          "model_module_version": "1.5.0",
          "state": {
            "_dom_classes": [],
            "_model_module": "@jupyter-widgets/controls",
            "_model_module_version": "1.5.0",
            "_model_name": "HTMLModel",
            "_view_count": null,
            "_view_module": "@jupyter-widgets/controls",
            "_view_module_version": "1.5.0",
            "_view_name": "HTMLView",
            "description": "",
            "description_tooltip": null,
            "layout": "IPY_MODEL_2133677820eb4199904e4c4016b9d055",
            "placeholder": "​",
            "style": "IPY_MODEL_35c1958e7121481584e04d3c9fa44396",
            "value": "config.json: 100%"
          }
        },
        "f7c0b38688fc404587bed6ef873d3d9a": {
          "model_module": "@jupyter-widgets/controls",
          "model_name": "FloatProgressModel",
          "model_module_version": "1.5.0",
          "state": {
            "_dom_classes": [],
            "_model_module": "@jupyter-widgets/controls",
            "_model_module_version": "1.5.0",
            "_model_name": "FloatProgressModel",
            "_view_count": null,
            "_view_module": "@jupyter-widgets/controls",
            "_view_module_version": "1.5.0",
            "_view_name": "ProgressView",
            "bar_style": "success",
            "description": "",
            "description_tooltip": null,
            "layout": "IPY_MODEL_44fac3ac19dc4d0b8ab8a2f583393f46",
            "max": 533,
            "min": 0,
            "orientation": "horizontal",
            "style": "IPY_MODEL_b9b970a6524c4fd8a978b314ffe040e9",
            "value": 533
          }
        },
        "1bf4b879fdf14535978fcf12798ff4c8": {
          "model_module": "@jupyter-widgets/controls",
          "model_name": "HTMLModel",
          "model_module_version": "1.5.0",
          "state": {
            "_dom_classes": [],
            "_model_module": "@jupyter-widgets/controls",
            "_model_module_version": "1.5.0",
            "_model_name": "HTMLModel",
            "_view_count": null,
            "_view_module": "@jupyter-widgets/controls",
            "_view_module_version": "1.5.0",
            "_view_name": "HTMLView",
            "description": "",
            "description_tooltip": null,
            "layout": "IPY_MODEL_d2a76eb5d070471fa48874d2f8c0d409",
            "placeholder": "​",
            "style": "IPY_MODEL_25f960dc421a48e6a0c3ad859482add9",
            "value": " 533/533 [00:00&lt;00:00, 65.0kB/s]"
          }
        },
        "87eaa1988478478a92b08a77f67970eb": {
          "model_module": "@jupyter-widgets/base",
          "model_name": "LayoutModel",
          "model_module_version": "1.2.0",
          "state": {
            "_model_module": "@jupyter-widgets/base",
            "_model_module_version": "1.2.0",
            "_model_name": "LayoutModel",
            "_view_count": null,
            "_view_module": "@jupyter-widgets/base",
            "_view_module_version": "1.2.0",
            "_view_name": "LayoutView",
            "align_content": null,
            "align_items": null,
            "align_self": null,
            "border": null,
            "bottom": null,
            "display": null,
            "flex": null,
            "flex_flow": null,
            "grid_area": null,
            "grid_auto_columns": null,
            "grid_auto_flow": null,
            "grid_auto_rows": null,
            "grid_column": null,
            "grid_gap": null,
            "grid_row": null,
            "grid_template_areas": null,
            "grid_template_columns": null,
            "grid_template_rows": null,
            "height": null,
            "justify_content": null,
            "justify_items": null,
            "left": null,
            "margin": null,
            "max_height": null,
            "max_width": null,
            "min_height": null,
            "min_width": null,
            "object_fit": null,
            "object_position": null,
            "order": null,
            "overflow": null,
            "overflow_x": null,
            "overflow_y": null,
            "padding": null,
            "right": null,
            "top": null,
            "visibility": null,
            "width": null
          }
        },
        "2133677820eb4199904e4c4016b9d055": {
          "model_module": "@jupyter-widgets/base",
          "model_name": "LayoutModel",
          "model_module_version": "1.2.0",
          "state": {
            "_model_module": "@jupyter-widgets/base",
            "_model_module_version": "1.2.0",
            "_model_name": "LayoutModel",
            "_view_count": null,
            "_view_module": "@jupyter-widgets/base",
            "_view_module_version": "1.2.0",
            "_view_name": "LayoutView",
            "align_content": null,
            "align_items": null,
            "align_self": null,
            "border": null,
            "bottom": null,
            "display": null,
            "flex": null,
            "flex_flow": null,
            "grid_area": null,
            "grid_auto_columns": null,
            "grid_auto_flow": null,
            "grid_auto_rows": null,
            "grid_column": null,
            "grid_gap": null,
            "grid_row": null,
            "grid_template_areas": null,
            "grid_template_columns": null,
            "grid_template_rows": null,
            "height": null,
            "justify_content": null,
            "justify_items": null,
            "left": null,
            "margin": null,
            "max_height": null,
            "max_width": null,
            "min_height": null,
            "min_width": null,
            "object_fit": null,
            "object_position": null,
            "order": null,
            "overflow": null,
            "overflow_x": null,
            "overflow_y": null,
            "padding": null,
            "right": null,
            "top": null,
            "visibility": null,
            "width": null
          }
        },
        "35c1958e7121481584e04d3c9fa44396": {
          "model_module": "@jupyter-widgets/controls",
          "model_name": "DescriptionStyleModel",
          "model_module_version": "1.5.0",
          "state": {
            "_model_module": "@jupyter-widgets/controls",
            "_model_module_version": "1.5.0",
            "_model_name": "DescriptionStyleModel",
            "_view_count": null,
            "_view_module": "@jupyter-widgets/base",
            "_view_module_version": "1.2.0",
            "_view_name": "StyleView",
            "description_width": ""
          }
        },
        "44fac3ac19dc4d0b8ab8a2f583393f46": {
          "model_module": "@jupyter-widgets/base",
          "model_name": "LayoutModel",
          "model_module_version": "1.2.0",
          "state": {
            "_model_module": "@jupyter-widgets/base",
            "_model_module_version": "1.2.0",
            "_model_name": "LayoutModel",
            "_view_count": null,
            "_view_module": "@jupyter-widgets/base",
            "_view_module_version": "1.2.0",
            "_view_name": "LayoutView",
            "align_content": null,
            "align_items": null,
            "align_self": null,
            "border": null,
            "bottom": null,
            "display": null,
            "flex": null,
            "flex_flow": null,
            "grid_area": null,
            "grid_auto_columns": null,
            "grid_auto_flow": null,
            "grid_auto_rows": null,
            "grid_column": null,
            "grid_gap": null,
            "grid_row": null,
            "grid_template_areas": null,
            "grid_template_columns": null,
            "grid_template_rows": null,
            "height": null,
            "justify_content": null,
            "justify_items": null,
            "left": null,
            "margin": null,
            "max_height": null,
            "max_width": null,
            "min_height": null,
            "min_width": null,
            "object_fit": null,
            "object_position": null,
            "order": null,
            "overflow": null,
            "overflow_x": null,
            "overflow_y": null,
            "padding": null,
            "right": null,
            "top": null,
            "visibility": null,
            "width": null
          }
        },
        "b9b970a6524c4fd8a978b314ffe040e9": {
          "model_module": "@jupyter-widgets/controls",
          "model_name": "ProgressStyleModel",
          "model_module_version": "1.5.0",
          "state": {
            "_model_module": "@jupyter-widgets/controls",
            "_model_module_version": "1.5.0",
            "_model_name": "ProgressStyleModel",
            "_view_count": null,
            "_view_module": "@jupyter-widgets/base",
            "_view_module_version": "1.2.0",
            "_view_name": "StyleView",
            "bar_color": null,
            "description_width": ""
          }
        },
        "d2a76eb5d070471fa48874d2f8c0d409": {
          "model_module": "@jupyter-widgets/base",
          "model_name": "LayoutModel",
          "model_module_version": "1.2.0",
          "state": {
            "_model_module": "@jupyter-widgets/base",
            "_model_module_version": "1.2.0",
            "_model_name": "LayoutModel",
            "_view_count": null,
            "_view_module": "@jupyter-widgets/base",
            "_view_module_version": "1.2.0",
            "_view_name": "LayoutView",
            "align_content": null,
            "align_items": null,
            "align_self": null,
            "border": null,
            "bottom": null,
            "display": null,
            "flex": null,
            "flex_flow": null,
            "grid_area": null,
            "grid_auto_columns": null,
            "grid_auto_flow": null,
            "grid_auto_rows": null,
            "grid_column": null,
            "grid_gap": null,
            "grid_row": null,
            "grid_template_areas": null,
            "grid_template_columns": null,
            "grid_template_rows": null,
            "height": null,
            "justify_content": null,
            "justify_items": null,
            "left": null,
            "margin": null,
            "max_height": null,
            "max_width": null,
            "min_height": null,
            "min_width": null,
            "object_fit": null,
            "object_position": null,
            "order": null,
            "overflow": null,
            "overflow_x": null,
            "overflow_y": null,
            "padding": null,
            "right": null,
            "top": null,
            "visibility": null,
            "width": null
          }
        },
        "25f960dc421a48e6a0c3ad859482add9": {
          "model_module": "@jupyter-widgets/controls",
          "model_name": "DescriptionStyleModel",
          "model_module_version": "1.5.0",
          "state": {
            "_model_module": "@jupyter-widgets/controls",
            "_model_module_version": "1.5.0",
            "_model_name": "DescriptionStyleModel",
            "_view_count": null,
            "_view_module": "@jupyter-widgets/base",
            "_view_module_version": "1.2.0",
            "_view_name": "StyleView",
            "description_width": ""
          }
        },
        "869380dab3894e33be73a19da55dd5c7": {
          "model_module": "@jupyter-widgets/controls",
          "model_name": "HBoxModel",
          "model_module_version": "1.5.0",
          "state": {
            "_dom_classes": [],
            "_model_module": "@jupyter-widgets/controls",
            "_model_module_version": "1.5.0",
            "_model_name": "HBoxModel",
            "_view_count": null,
            "_view_module": "@jupyter-widgets/controls",
            "_view_module_version": "1.5.0",
            "_view_name": "HBoxView",
            "box_style": "",
            "children": [
              "IPY_MODEL_e4f5ad8466834755a8d69a76c0dc57d5",
              "IPY_MODEL_a885e76251ac4dc297b7b9209e97bf13",
              "IPY_MODEL_c608cbb563cb486f87c73ca38df8ebbd"
            ],
            "layout": "IPY_MODEL_31be998d8e1744a9a29b18687472495e"
          }
        },
        "e4f5ad8466834755a8d69a76c0dc57d5": {
          "model_module": "@jupyter-widgets/controls",
          "model_name": "HTMLModel",
          "model_module_version": "1.5.0",
          "state": {
            "_dom_classes": [],
            "_model_module": "@jupyter-widgets/controls",
            "_model_module_version": "1.5.0",
            "_model_name": "HTMLModel",
            "_view_count": null,
            "_view_module": "@jupyter-widgets/controls",
            "_view_module_version": "1.5.0",
            "_view_name": "HTMLView",
            "description": "",
            "description_tooltip": null,
            "layout": "IPY_MODEL_3f5a1eefce884f8b88a04b70cab00cd8",
            "placeholder": "​",
            "style": "IPY_MODEL_8441e8b9cfff4b6db4f6b9455c4ea539",
            "value": "vocab.txt: "
          }
        },
        "a885e76251ac4dc297b7b9209e97bf13": {
          "model_module": "@jupyter-widgets/controls",
          "model_name": "FloatProgressModel",
          "model_module_version": "1.5.0",
          "state": {
            "_dom_classes": [],
            "_model_module": "@jupyter-widgets/controls",
            "_model_module_version": "1.5.0",
            "_model_name": "FloatProgressModel",
            "_view_count": null,
            "_view_module": "@jupyter-widgets/controls",
            "_view_module_version": "1.5.0",
            "_view_name": "ProgressView",
            "bar_style": "success",
            "description": "",
            "description_tooltip": null,
            "layout": "IPY_MODEL_5bfac90a6e3747d497d47dbbc69723c9",
            "max": 1,
            "min": 0,
            "orientation": "horizontal",
            "style": "IPY_MODEL_bd2f981f1a984e83a633a84409f6236e",
            "value": 1
          }
        },
        "c608cbb563cb486f87c73ca38df8ebbd": {
          "model_module": "@jupyter-widgets/controls",
          "model_name": "HTMLModel",
          "model_module_version": "1.5.0",
          "state": {
            "_dom_classes": [],
            "_model_module": "@jupyter-widgets/controls",
            "_model_module_version": "1.5.0",
            "_model_name": "HTMLModel",
            "_view_count": null,
            "_view_module": "@jupyter-widgets/controls",
            "_view_module_version": "1.5.0",
            "_view_name": "HTMLView",
            "description": "",
            "description_tooltip": null,
            "layout": "IPY_MODEL_5926eadd3cde4d1984cb118834d09680",
            "placeholder": "​",
            "style": "IPY_MODEL_ec6ad27503764f8ab138361f5641d96b",
            "value": " 226k/? [00:00&lt;00:00, 6.82MB/s]"
          }
        },
        "31be998d8e1744a9a29b18687472495e": {
          "model_module": "@jupyter-widgets/base",
          "model_name": "LayoutModel",
          "model_module_version": "1.2.0",
          "state": {
            "_model_module": "@jupyter-widgets/base",
            "_model_module_version": "1.2.0",
            "_model_name": "LayoutModel",
            "_view_count": null,
            "_view_module": "@jupyter-widgets/base",
            "_view_module_version": "1.2.0",
            "_view_name": "LayoutView",
            "align_content": null,
            "align_items": null,
            "align_self": null,
            "border": null,
            "bottom": null,
            "display": null,
            "flex": null,
            "flex_flow": null,
            "grid_area": null,
            "grid_auto_columns": null,
            "grid_auto_flow": null,
            "grid_auto_rows": null,
            "grid_column": null,
            "grid_gap": null,
            "grid_row": null,
            "grid_template_areas": null,
            "grid_template_columns": null,
            "grid_template_rows": null,
            "height": null,
            "justify_content": null,
            "justify_items": null,
            "left": null,
            "margin": null,
            "max_height": null,
            "max_width": null,
            "min_height": null,
            "min_width": null,
            "object_fit": null,
            "object_position": null,
            "order": null,
            "overflow": null,
            "overflow_x": null,
            "overflow_y": null,
            "padding": null,
            "right": null,
            "top": null,
            "visibility": null,
            "width": null
          }
        },
        "3f5a1eefce884f8b88a04b70cab00cd8": {
          "model_module": "@jupyter-widgets/base",
          "model_name": "LayoutModel",
          "model_module_version": "1.2.0",
          "state": {
            "_model_module": "@jupyter-widgets/base",
            "_model_module_version": "1.2.0",
            "_model_name": "LayoutModel",
            "_view_count": null,
            "_view_module": "@jupyter-widgets/base",
            "_view_module_version": "1.2.0",
            "_view_name": "LayoutView",
            "align_content": null,
            "align_items": null,
            "align_self": null,
            "border": null,
            "bottom": null,
            "display": null,
            "flex": null,
            "flex_flow": null,
            "grid_area": null,
            "grid_auto_columns": null,
            "grid_auto_flow": null,
            "grid_auto_rows": null,
            "grid_column": null,
            "grid_gap": null,
            "grid_row": null,
            "grid_template_areas": null,
            "grid_template_columns": null,
            "grid_template_rows": null,
            "height": null,
            "justify_content": null,
            "justify_items": null,
            "left": null,
            "margin": null,
            "max_height": null,
            "max_width": null,
            "min_height": null,
            "min_width": null,
            "object_fit": null,
            "object_position": null,
            "order": null,
            "overflow": null,
            "overflow_x": null,
            "overflow_y": null,
            "padding": null,
            "right": null,
            "top": null,
            "visibility": null,
            "width": null
          }
        },
        "8441e8b9cfff4b6db4f6b9455c4ea539": {
          "model_module": "@jupyter-widgets/controls",
          "model_name": "DescriptionStyleModel",
          "model_module_version": "1.5.0",
          "state": {
            "_model_module": "@jupyter-widgets/controls",
            "_model_module_version": "1.5.0",
            "_model_name": "DescriptionStyleModel",
            "_view_count": null,
            "_view_module": "@jupyter-widgets/base",
            "_view_module_version": "1.2.0",
            "_view_name": "StyleView",
            "description_width": ""
          }
        },
        "5bfac90a6e3747d497d47dbbc69723c9": {
          "model_module": "@jupyter-widgets/base",
          "model_name": "LayoutModel",
          "model_module_version": "1.2.0",
          "state": {
            "_model_module": "@jupyter-widgets/base",
            "_model_module_version": "1.2.0",
            "_model_name": "LayoutModel",
            "_view_count": null,
            "_view_module": "@jupyter-widgets/base",
            "_view_module_version": "1.2.0",
            "_view_name": "LayoutView",
            "align_content": null,
            "align_items": null,
            "align_self": null,
            "border": null,
            "bottom": null,
            "display": null,
            "flex": null,
            "flex_flow": null,
            "grid_area": null,
            "grid_auto_columns": null,
            "grid_auto_flow": null,
            "grid_auto_rows": null,
            "grid_column": null,
            "grid_gap": null,
            "grid_row": null,
            "grid_template_areas": null,
            "grid_template_columns": null,
            "grid_template_rows": null,
            "height": null,
            "justify_content": null,
            "justify_items": null,
            "left": null,
            "margin": null,
            "max_height": null,
            "max_width": null,
            "min_height": null,
            "min_width": null,
            "object_fit": null,
            "object_position": null,
            "order": null,
            "overflow": null,
            "overflow_x": null,
            "overflow_y": null,
            "padding": null,
            "right": null,
            "top": null,
            "visibility": null,
            "width": "20px"
          }
        },
        "bd2f981f1a984e83a633a84409f6236e": {
          "model_module": "@jupyter-widgets/controls",
          "model_name": "ProgressStyleModel",
          "model_module_version": "1.5.0",
          "state": {
            "_model_module": "@jupyter-widgets/controls",
            "_model_module_version": "1.5.0",
            "_model_name": "ProgressStyleModel",
            "_view_count": null,
            "_view_module": "@jupyter-widgets/base",
            "_view_module_version": "1.2.0",
            "_view_name": "StyleView",
            "bar_color": null,
            "description_width": ""
          }
        },
        "5926eadd3cde4d1984cb118834d09680": {
          "model_module": "@jupyter-widgets/base",
          "model_name": "LayoutModel",
          "model_module_version": "1.2.0",
          "state": {
            "_model_module": "@jupyter-widgets/base",
            "_model_module_version": "1.2.0",
            "_model_name": "LayoutModel",
            "_view_count": null,
            "_view_module": "@jupyter-widgets/base",
            "_view_module_version": "1.2.0",
            "_view_name": "LayoutView",
            "align_content": null,
            "align_items": null,
            "align_self": null,
            "border": null,
            "bottom": null,
            "display": null,
            "flex": null,
            "flex_flow": null,
            "grid_area": null,
            "grid_auto_columns": null,
            "grid_auto_flow": null,
            "grid_auto_rows": null,
            "grid_column": null,
            "grid_gap": null,
            "grid_row": null,
            "grid_template_areas": null,
            "grid_template_columns": null,
            "grid_template_rows": null,
            "height": null,
            "justify_content": null,
            "justify_items": null,
            "left": null,
            "margin": null,
            "max_height": null,
            "max_width": null,
            "min_height": null,
            "min_width": null,
            "object_fit": null,
            "object_position": null,
            "order": null,
            "overflow": null,
            "overflow_x": null,
            "overflow_y": null,
            "padding": null,
            "right": null,
            "top": null,
            "visibility": null,
            "width": null
          }
        },
        "ec6ad27503764f8ab138361f5641d96b": {
          "model_module": "@jupyter-widgets/controls",
          "model_name": "DescriptionStyleModel",
          "model_module_version": "1.5.0",
          "state": {
            "_model_module": "@jupyter-widgets/controls",
            "_model_module_version": "1.5.0",
            "_model_name": "DescriptionStyleModel",
            "_view_count": null,
            "_view_module": "@jupyter-widgets/base",
            "_view_module_version": "1.2.0",
            "_view_name": "StyleView",
            "description_width": ""
          }
        },
        "3257a844902343f5a67ad4fbacba1b68": {
          "model_module": "@jupyter-widgets/controls",
          "model_name": "HBoxModel",
          "model_module_version": "1.5.0",
          "state": {
            "_dom_classes": [],
            "_model_module": "@jupyter-widgets/controls",
            "_model_module_version": "1.5.0",
            "_model_name": "HBoxModel",
            "_view_count": null,
            "_view_module": "@jupyter-widgets/controls",
            "_view_module_version": "1.5.0",
            "_view_name": "HBoxView",
            "box_style": "",
            "children": [
              "IPY_MODEL_fc80bd4b8f034fb5a44163f7ac1e2bd7",
              "IPY_MODEL_507e1e27f57c451d9e8180b19e58e4e6",
              "IPY_MODEL_fa499346b17a4b5da9fc5ae893b5c93d"
            ],
            "layout": "IPY_MODEL_fed7b60891ef422c91d423e346285d1c"
          }
        },
        "fc80bd4b8f034fb5a44163f7ac1e2bd7": {
          "model_module": "@jupyter-widgets/controls",
          "model_name": "HTMLModel",
          "model_module_version": "1.5.0",
          "state": {
            "_dom_classes": [],
            "_model_module": "@jupyter-widgets/controls",
            "_model_module_version": "1.5.0",
            "_model_name": "HTMLModel",
            "_view_count": null,
            "_view_module": "@jupyter-widgets/controls",
            "_view_module_version": "1.5.0",
            "_view_name": "HTMLView",
            "description": "",
            "description_tooltip": null,
            "layout": "IPY_MODEL_e35f343e62b249f2ab62add4dc92a82e",
            "placeholder": "​",
            "style": "IPY_MODEL_25bcf534214e4307bdc3171dcb684e36",
            "value": "pytorch_model.bin: 100%"
          }
        },
        "507e1e27f57c451d9e8180b19e58e4e6": {
          "model_module": "@jupyter-widgets/controls",
          "model_name": "FloatProgressModel",
          "model_module_version": "1.5.0",
          "state": {
            "_dom_classes": [],
            "_model_module": "@jupyter-widgets/controls",
            "_model_module_version": "1.5.0",
            "_model_name": "FloatProgressModel",
            "_view_count": null,
            "_view_module": "@jupyter-widgets/controls",
            "_view_module_version": "1.5.0",
            "_view_name": "ProgressView",
            "bar_style": "success",
            "description": "",
            "description_tooltip": null,
            "layout": "IPY_MODEL_6d7d7492589f4adb9b76a91db66e9c50",
            "max": 439101405,
            "min": 0,
            "orientation": "horizontal",
            "style": "IPY_MODEL_eb9d7e8d556b4733b4a1afe2dfcd10ee",
            "value": 439101405
          }
        },
        "fa499346b17a4b5da9fc5ae893b5c93d": {
          "model_module": "@jupyter-widgets/controls",
          "model_name": "HTMLModel",
          "model_module_version": "1.5.0",
          "state": {
            "_dom_classes": [],
            "_model_module": "@jupyter-widgets/controls",
            "_model_module_version": "1.5.0",
            "_model_name": "HTMLModel",
            "_view_count": null,
            "_view_module": "@jupyter-widgets/controls",
            "_view_module_version": "1.5.0",
            "_view_name": "HTMLView",
            "description": "",
            "description_tooltip": null,
            "layout": "IPY_MODEL_33df6e5d0592483bba4227604aea43ee",
            "placeholder": "​",
            "style": "IPY_MODEL_01c9d37c4f7147eb8444d13ffab3de9a",
            "value": " 439M/439M [00:02&lt;00:00, 261MB/s]"
          }
        },
        "fed7b60891ef422c91d423e346285d1c": {
          "model_module": "@jupyter-widgets/base",
          "model_name": "LayoutModel",
          "model_module_version": "1.2.0",
          "state": {
            "_model_module": "@jupyter-widgets/base",
            "_model_module_version": "1.2.0",
            "_model_name": "LayoutModel",
            "_view_count": null,
            "_view_module": "@jupyter-widgets/base",
            "_view_module_version": "1.2.0",
            "_view_name": "LayoutView",
            "align_content": null,
            "align_items": null,
            "align_self": null,
            "border": null,
            "bottom": null,
            "display": null,
            "flex": null,
            "flex_flow": null,
            "grid_area": null,
            "grid_auto_columns": null,
            "grid_auto_flow": null,
            "grid_auto_rows": null,
            "grid_column": null,
            "grid_gap": null,
            "grid_row": null,
            "grid_template_areas": null,
            "grid_template_columns": null,
            "grid_template_rows": null,
            "height": null,
            "justify_content": null,
            "justify_items": null,
            "left": null,
            "margin": null,
            "max_height": null,
            "max_width": null,
            "min_height": null,
            "min_width": null,
            "object_fit": null,
            "object_position": null,
            "order": null,
            "overflow": null,
            "overflow_x": null,
            "overflow_y": null,
            "padding": null,
            "right": null,
            "top": null,
            "visibility": null,
            "width": null
          }
        },
        "e35f343e62b249f2ab62add4dc92a82e": {
          "model_module": "@jupyter-widgets/base",
          "model_name": "LayoutModel",
          "model_module_version": "1.2.0",
          "state": {
            "_model_module": "@jupyter-widgets/base",
            "_model_module_version": "1.2.0",
            "_model_name": "LayoutModel",
            "_view_count": null,
            "_view_module": "@jupyter-widgets/base",
            "_view_module_version": "1.2.0",
            "_view_name": "LayoutView",
            "align_content": null,
            "align_items": null,
            "align_self": null,
            "border": null,
            "bottom": null,
            "display": null,
            "flex": null,
            "flex_flow": null,
            "grid_area": null,
            "grid_auto_columns": null,
            "grid_auto_flow": null,
            "grid_auto_rows": null,
            "grid_column": null,
            "grid_gap": null,
            "grid_row": null,
            "grid_template_areas": null,
            "grid_template_columns": null,
            "grid_template_rows": null,
            "height": null,
            "justify_content": null,
            "justify_items": null,
            "left": null,
            "margin": null,
            "max_height": null,
            "max_width": null,
            "min_height": null,
            "min_width": null,
            "object_fit": null,
            "object_position": null,
            "order": null,
            "overflow": null,
            "overflow_x": null,
            "overflow_y": null,
            "padding": null,
            "right": null,
            "top": null,
            "visibility": null,
            "width": null
          }
        },
        "25bcf534214e4307bdc3171dcb684e36": {
          "model_module": "@jupyter-widgets/controls",
          "model_name": "DescriptionStyleModel",
          "model_module_version": "1.5.0",
          "state": {
            "_model_module": "@jupyter-widgets/controls",
            "_model_module_version": "1.5.0",
            "_model_name": "DescriptionStyleModel",
            "_view_count": null,
            "_view_module": "@jupyter-widgets/base",
            "_view_module_version": "1.2.0",
            "_view_name": "StyleView",
            "description_width": ""
          }
        },
        "6d7d7492589f4adb9b76a91db66e9c50": {
          "model_module": "@jupyter-widgets/base",
          "model_name": "LayoutModel",
          "model_module_version": "1.2.0",
          "state": {
            "_model_module": "@jupyter-widgets/base",
            "_model_module_version": "1.2.0",
            "_model_name": "LayoutModel",
            "_view_count": null,
            "_view_module": "@jupyter-widgets/base",
            "_view_module_version": "1.2.0",
            "_view_name": "LayoutView",
            "align_content": null,
            "align_items": null,
            "align_self": null,
            "border": null,
            "bottom": null,
            "display": null,
            "flex": null,
            "flex_flow": null,
            "grid_area": null,
            "grid_auto_columns": null,
            "grid_auto_flow": null,
            "grid_auto_rows": null,
            "grid_column": null,
            "grid_gap": null,
            "grid_row": null,
            "grid_template_areas": null,
            "grid_template_columns": null,
            "grid_template_rows": null,
            "height": null,
            "justify_content": null,
            "justify_items": null,
            "left": null,
            "margin": null,
            "max_height": null,
            "max_width": null,
            "min_height": null,
            "min_width": null,
            "object_fit": null,
            "object_position": null,
            "order": null,
            "overflow": null,
            "overflow_x": null,
            "overflow_y": null,
            "padding": null,
            "right": null,
            "top": null,
            "visibility": null,
            "width": null
          }
        },
        "eb9d7e8d556b4733b4a1afe2dfcd10ee": {
          "model_module": "@jupyter-widgets/controls",
          "model_name": "ProgressStyleModel",
          "model_module_version": "1.5.0",
          "state": {
            "_model_module": "@jupyter-widgets/controls",
            "_model_module_version": "1.5.0",
            "_model_name": "ProgressStyleModel",
            "_view_count": null,
            "_view_module": "@jupyter-widgets/base",
            "_view_module_version": "1.2.0",
            "_view_name": "StyleView",
            "bar_color": null,
            "description_width": ""
          }
        },
        "33df6e5d0592483bba4227604aea43ee": {
          "model_module": "@jupyter-widgets/base",
          "model_name": "LayoutModel",
          "model_module_version": "1.2.0",
          "state": {
            "_model_module": "@jupyter-widgets/base",
            "_model_module_version": "1.2.0",
            "_model_name": "LayoutModel",
            "_view_count": null,
            "_view_module": "@jupyter-widgets/base",
            "_view_module_version": "1.2.0",
            "_view_name": "LayoutView",
            "align_content": null,
            "align_items": null,
            "align_self": null,
            "border": null,
            "bottom": null,
            "display": null,
            "flex": null,
            "flex_flow": null,
            "grid_area": null,
            "grid_auto_columns": null,
            "grid_auto_flow": null,
            "grid_auto_rows": null,
            "grid_column": null,
            "grid_gap": null,
            "grid_row": null,
            "grid_template_areas": null,
            "grid_template_columns": null,
            "grid_template_rows": null,
            "height": null,
            "justify_content": null,
            "justify_items": null,
            "left": null,
            "margin": null,
            "max_height": null,
            "max_width": null,
            "min_height": null,
            "min_width": null,
            "object_fit": null,
            "object_position": null,
            "order": null,
            "overflow": null,
            "overflow_x": null,
            "overflow_y": null,
            "padding": null,
            "right": null,
            "top": null,
            "visibility": null,
            "width": null
          }
        },
        "01c9d37c4f7147eb8444d13ffab3de9a": {
          "model_module": "@jupyter-widgets/controls",
          "model_name": "DescriptionStyleModel",
          "model_module_version": "1.5.0",
          "state": {
            "_model_module": "@jupyter-widgets/controls",
            "_model_module_version": "1.5.0",
            "_model_name": "DescriptionStyleModel",
            "_view_count": null,
            "_view_module": "@jupyter-widgets/base",
            "_view_module_version": "1.2.0",
            "_view_name": "StyleView",
            "description_width": ""
          }
        },
        "529efa30ba8d43a4be5191649831523c": {
          "model_module": "@jupyter-widgets/controls",
          "model_name": "HBoxModel",
          "model_module_version": "1.5.0",
          "state": {
            "_dom_classes": [],
            "_model_module": "@jupyter-widgets/controls",
            "_model_module_version": "1.5.0",
            "_model_name": "HBoxModel",
            "_view_count": null,
            "_view_module": "@jupyter-widgets/controls",
            "_view_module_version": "1.5.0",
            "_view_name": "HBoxView",
            "box_style": "",
            "children": [
              "IPY_MODEL_7f5b732cb071431d87220742b9c77928",
              "IPY_MODEL_45fa6896fe224057807e5aad3f16c182",
              "IPY_MODEL_a90921de78364470a17c2e076e296cfd"
            ],
            "layout": "IPY_MODEL_299d42b78cb84cbd821ffba722177e85"
          }
        },
        "7f5b732cb071431d87220742b9c77928": {
          "model_module": "@jupyter-widgets/controls",
          "model_name": "HTMLModel",
          "model_module_version": "1.5.0",
          "state": {
            "_dom_classes": [],
            "_model_module": "@jupyter-widgets/controls",
            "_model_module_version": "1.5.0",
            "_model_name": "HTMLModel",
            "_view_count": null,
            "_view_module": "@jupyter-widgets/controls",
            "_view_module_version": "1.5.0",
            "_view_name": "HTMLView",
            "description": "",
            "description_tooltip": null,
            "layout": "IPY_MODEL_43815f510a844718a17b70ae933dea4a",
            "placeholder": "​",
            "style": "IPY_MODEL_63efc5a398d949febeee96d21d5d499a",
            "value": "model.safetensors: 100%"
          }
        },
        "45fa6896fe224057807e5aad3f16c182": {
          "model_module": "@jupyter-widgets/controls",
          "model_name": "FloatProgressModel",
          "model_module_version": "1.5.0",
          "state": {
            "_dom_classes": [],
            "_model_module": "@jupyter-widgets/controls",
            "_model_module_version": "1.5.0",
            "_model_name": "FloatProgressModel",
            "_view_count": null,
            "_view_module": "@jupyter-widgets/controls",
            "_view_module_version": "1.5.0",
            "_view_name": "ProgressView",
            "bar_style": "success",
            "description": "",
            "description_tooltip": null,
            "layout": "IPY_MODEL_2bb314b6fbeb4deeaad96042a79cc15b",
            "max": 439044180,
            "min": 0,
            "orientation": "horizontal",
            "style": "IPY_MODEL_39b9f76589aa4fb592346341a5222a7d",
            "value": 439044180
          }
        },
        "a90921de78364470a17c2e076e296cfd": {
          "model_module": "@jupyter-widgets/controls",
          "model_name": "HTMLModel",
          "model_module_version": "1.5.0",
          "state": {
            "_dom_classes": [],
            "_model_module": "@jupyter-widgets/controls",
            "_model_module_version": "1.5.0",
            "_model_name": "HTMLModel",
            "_view_count": null,
            "_view_module": "@jupyter-widgets/controls",
            "_view_module_version": "1.5.0",
            "_view_name": "HTMLView",
            "description": "",
            "description_tooltip": null,
            "layout": "IPY_MODEL_105df3cda641416b9a6d8d0933e3a720",
            "placeholder": "​",
            "style": "IPY_MODEL_46b81c85b2cc46ee83ddbe8e45b3598a",
            "value": " 439M/439M [00:07&lt;00:00, 124MB/s]"
          }
        },
        "299d42b78cb84cbd821ffba722177e85": {
          "model_module": "@jupyter-widgets/base",
          "model_name": "LayoutModel",
          "model_module_version": "1.2.0",
          "state": {
            "_model_module": "@jupyter-widgets/base",
            "_model_module_version": "1.2.0",
            "_model_name": "LayoutModel",
            "_view_count": null,
            "_view_module": "@jupyter-widgets/base",
            "_view_module_version": "1.2.0",
            "_view_name": "LayoutView",
            "align_content": null,
            "align_items": null,
            "align_self": null,
            "border": null,
            "bottom": null,
            "display": null,
            "flex": null,
            "flex_flow": null,
            "grid_area": null,
            "grid_auto_columns": null,
            "grid_auto_flow": null,
            "grid_auto_rows": null,
            "grid_column": null,
            "grid_gap": null,
            "grid_row": null,
            "grid_template_areas": null,
            "grid_template_columns": null,
            "grid_template_rows": null,
            "height": null,
            "justify_content": null,
            "justify_items": null,
            "left": null,
            "margin": null,
            "max_height": null,
            "max_width": null,
            "min_height": null,
            "min_width": null,
            "object_fit": null,
            "object_position": null,
            "order": null,
            "overflow": null,
            "overflow_x": null,
            "overflow_y": null,
            "padding": null,
            "right": null,
            "top": null,
            "visibility": null,
            "width": null
          }
        },
        "43815f510a844718a17b70ae933dea4a": {
          "model_module": "@jupyter-widgets/base",
          "model_name": "LayoutModel",
          "model_module_version": "1.2.0",
          "state": {
            "_model_module": "@jupyter-widgets/base",
            "_model_module_version": "1.2.0",
            "_model_name": "LayoutModel",
            "_view_count": null,
            "_view_module": "@jupyter-widgets/base",
            "_view_module_version": "1.2.0",
            "_view_name": "LayoutView",
            "align_content": null,
            "align_items": null,
            "align_self": null,
            "border": null,
            "bottom": null,
            "display": null,
            "flex": null,
            "flex_flow": null,
            "grid_area": null,
            "grid_auto_columns": null,
            "grid_auto_flow": null,
            "grid_auto_rows": null,
            "grid_column": null,
            "grid_gap": null,
            "grid_row": null,
            "grid_template_areas": null,
            "grid_template_columns": null,
            "grid_template_rows": null,
            "height": null,
            "justify_content": null,
            "justify_items": null,
            "left": null,
            "margin": null,
            "max_height": null,
            "max_width": null,
            "min_height": null,
            "min_width": null,
            "object_fit": null,
            "object_position": null,
            "order": null,
            "overflow": null,
            "overflow_x": null,
            "overflow_y": null,
            "padding": null,
            "right": null,
            "top": null,
            "visibility": null,
            "width": null
          }
        },
        "63efc5a398d949febeee96d21d5d499a": {
          "model_module": "@jupyter-widgets/controls",
          "model_name": "DescriptionStyleModel",
          "model_module_version": "1.5.0",
          "state": {
            "_model_module": "@jupyter-widgets/controls",
            "_model_module_version": "1.5.0",
            "_model_name": "DescriptionStyleModel",
            "_view_count": null,
            "_view_module": "@jupyter-widgets/base",
            "_view_module_version": "1.2.0",
            "_view_name": "StyleView",
            "description_width": ""
          }
        },
        "2bb314b6fbeb4deeaad96042a79cc15b": {
          "model_module": "@jupyter-widgets/base",
          "model_name": "LayoutModel",
          "model_module_version": "1.2.0",
          "state": {
            "_model_module": "@jupyter-widgets/base",
            "_model_module_version": "1.2.0",
            "_model_name": "LayoutModel",
            "_view_count": null,
            "_view_module": "@jupyter-widgets/base",
            "_view_module_version": "1.2.0",
            "_view_name": "LayoutView",
            "align_content": null,
            "align_items": null,
            "align_self": null,
            "border": null,
            "bottom": null,
            "display": null,
            "flex": null,
            "flex_flow": null,
            "grid_area": null,
            "grid_auto_columns": null,
            "grid_auto_flow": null,
            "grid_auto_rows": null,
            "grid_column": null,
            "grid_gap": null,
            "grid_row": null,
            "grid_template_areas": null,
            "grid_template_columns": null,
            "grid_template_rows": null,
            "height": null,
            "justify_content": null,
            "justify_items": null,
            "left": null,
            "margin": null,
            "max_height": null,
            "max_width": null,
            "min_height": null,
            "min_width": null,
            "object_fit": null,
            "object_position": null,
            "order": null,
            "overflow": null,
            "overflow_x": null,
            "overflow_y": null,
            "padding": null,
            "right": null,
            "top": null,
            "visibility": null,
            "width": null
          }
        },
        "39b9f76589aa4fb592346341a5222a7d": {
          "model_module": "@jupyter-widgets/controls",
          "model_name": "ProgressStyleModel",
          "model_module_version": "1.5.0",
          "state": {
            "_model_module": "@jupyter-widgets/controls",
            "_model_module_version": "1.5.0",
            "_model_name": "ProgressStyleModel",
            "_view_count": null,
            "_view_module": "@jupyter-widgets/base",
            "_view_module_version": "1.2.0",
            "_view_name": "StyleView",
            "bar_color": null,
            "description_width": ""
          }
        },
        "105df3cda641416b9a6d8d0933e3a720": {
          "model_module": "@jupyter-widgets/base",
          "model_name": "LayoutModel",
          "model_module_version": "1.2.0",
          "state": {
            "_model_module": "@jupyter-widgets/base",
            "_model_module_version": "1.2.0",
            "_model_name": "LayoutModel",
            "_view_count": null,
            "_view_module": "@jupyter-widgets/base",
            "_view_module_version": "1.2.0",
            "_view_name": "LayoutView",
            "align_content": null,
            "align_items": null,
            "align_self": null,
            "border": null,
            "bottom": null,
            "display": null,
            "flex": null,
            "flex_flow": null,
            "grid_area": null,
            "grid_auto_columns": null,
            "grid_auto_flow": null,
            "grid_auto_rows": null,
            "grid_column": null,
            "grid_gap": null,
            "grid_row": null,
            "grid_template_areas": null,
            "grid_template_columns": null,
            "grid_template_rows": null,
            "height": null,
            "justify_content": null,
            "justify_items": null,
            "left": null,
            "margin": null,
            "max_height": null,
            "max_width": null,
            "min_height": null,
            "min_width": null,
            "object_fit": null,
            "object_position": null,
            "order": null,
            "overflow": null,
            "overflow_x": null,
            "overflow_y": null,
            "padding": null,
            "right": null,
            "top": null,
            "visibility": null,
            "width": null
          }
        },
        "46b81c85b2cc46ee83ddbe8e45b3598a": {
          "model_module": "@jupyter-widgets/controls",
          "model_name": "DescriptionStyleModel",
          "model_module_version": "1.5.0",
          "state": {
            "_model_module": "@jupyter-widgets/controls",
            "_model_module_version": "1.5.0",
            "_model_name": "DescriptionStyleModel",
            "_view_count": null,
            "_view_module": "@jupyter-widgets/base",
            "_view_module_version": "1.2.0",
            "_view_name": "StyleView",
            "description_width": ""
          }
        }
      }
    }
  },
  "nbformat": 4,
  "nbformat_minor": 0
}