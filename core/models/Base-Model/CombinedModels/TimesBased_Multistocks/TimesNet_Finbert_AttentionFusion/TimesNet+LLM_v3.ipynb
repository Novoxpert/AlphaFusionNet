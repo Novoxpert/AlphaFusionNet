{
  "cells": [
    {
      "cell_type": "code",
      "execution_count": 1,
      "metadata": {
        "colab": {
          "base_uri": "https://localhost:8080/"
        },
        "id": "M4JJZsmd8vbp",
        "outputId": "062457a9-c5a1-44f9-a493-34fd891de1a7"
      },
      "outputs": [
        {
          "output_type": "stream",
          "name": "stdout",
          "text": [
            "Mounted at /content/drive\n"
          ]
        }
      ],
      "source": [
        "# Connect to Google Drive\n",
        "\n",
        "from google.colab import drive\n",
        "drive.mount('/content/drive')"
      ]
    },
    {
      "cell_type": "code",
      "source": [
        "!unrar x \"/content/drive/MyDrive/20Crypto.rar\" \"content/\""
      ],
      "metadata": {
        "colab": {
          "base_uri": "https://localhost:8080/"
        },
        "id": "RoJfG_zvPvm4",
        "outputId": "25c30c32-892d-43f2-98e2-14354324706c"
      },
      "execution_count": 2,
      "outputs": [
        {
          "output_type": "stream",
          "name": "stdout",
          "text": [
            "\n",
            "UNRAR 6.11 beta 1 freeware      Copyright (c) 1993-2022 Alexander Roshal\n",
            "\n",
            "\n",
            "Extracting from /content/drive/MyDrive/20Crypto.rar\n",
            "\n",
            "Creating    content                                                   OK\n",
            "Extracting  content/data_XRPUSDT.pkl                                     \b\b\b\b  6%\b\b\b\b\b  OK \n",
            "Extracting  content/data_ARKUSDT.pkl                                     \b\b\b\b  9%\b\b\b\b\b  OK \n",
            "Extracting  content/data_BTCUSDT.pkl                                     \b\b\b\b 17%\b\b\b\b 18%\b\b\b\b\b  OK \n",
            "Extracting  content/data_DUSDT.pkl                                       \b\b\b\b 22%\b\b\b\b\b  OK \n",
            "Extracting  content/data_FORMUSDT.pkl                                    \b\b\b\b 26%\b\b\b\b\b  OK \n",
            "Extracting  content/data_GMTUSDT.pkl                                     \b\b\b\b 31%\b\b\b\b\b  OK \n",
            "Extracting  content/data_HBARUSDT.pkl                                    \b\b\b\b 38%\b\b\b\b\b  OK \n",
            "Extracting  content/data_HOTUSDT.pkl                                     \b\b\b\b 42%\b\b\b\b\b  OK \n",
            "Extracting  content/data_JSTUSDT.pkl                                     \b\b\b\b 45%\b\b\b\b\b  OK \n",
            "Extracting  content/data_MEUSDT.pkl                                      \b\b\b\b 50%\b\b\b\b\b  OK \n",
            "Extracting  content/data_OGUSDT.pkl                                      \b\b\b\b 54%\b\b\b\b\b  OK \n",
            "Extracting  content/data_SEIUSDT.pkl                                     \b\b\b\b 59%\b\b\b\b\b  OK \n",
            "Extracting  content/data_SUSDT.pkl                                       \b\b\b\b 65%\b\b\b\b\b  OK \n",
            "Extracting  content/data_TIAUSDT.pkl                                     \b\b\b\b 71%\b\b\b\b\b  OK \n",
            "Extracting  content/data_TRXUSDT.pkl                                     \b\b\b\b 76%\b\b\b\b\b  OK \n",
            "Extracting  content/data_TSTUSDT.pkl                                     \b\b\b\b 81%\b\b\b\b\b  OK \n",
            "Extracting  content/data_TUSDT.pkl                                       \b\b\b\b 85%\b\b\b\b\b  OK \n",
            "Extracting  content/data_USDCUSDT.pkl                                    \b\b\b\b 90%\b\b\b\b\b  OK \n",
            "Extracting  content/data_WUSDT.pkl                                       \b\b\b\b 95%\b\b\b\b\b  OK \n",
            "Extracting  content/data_XLMUSDT.pkl                                     \b\b\b\b100%\b\b\b\b\b  OK \n",
            "All OK\n"
          ]
        }
      ]
    },
    {
      "cell_type": "markdown",
      "source": [
        "Loading Embeded news based on Finbert"
      ],
      "metadata": {
        "id": "JGn8e5Kr5KwL"
      }
    },
    {
      "cell_type": "code",
      "source": [
        "import pandas as pd\n",
        "import warnings\n",
        "warnings.filterwarnings('ignore')\n",
        "df_news = pd.read_pickle('/content/drive/MyDrive/news_20crypto_embed_finbert.pickle')"
      ],
      "metadata": {
        "id": "0hnx5gF4QxYs"
      },
      "execution_count": 3,
      "outputs": []
    },
    {
      "cell_type": "markdown",
      "source": [
        "Embedding No News sentence for using in timestamp with no news"
      ],
      "metadata": {
        "id": "U1fGF75V5OlY"
      }
    },
    {
      "cell_type": "code",
      "source": [
        "from transformers import AutoTokenizer, AutoModel\n",
        "import torch\n",
        "\n",
        "# Load FinBERT model and tokenizer\n",
        "model_name = \"yiyanghkust/finbert-tone\"\n",
        "tokenizer = AutoTokenizer.from_pretrained(model_name)\n",
        "model = AutoModel.from_pretrained(model_name)\n",
        "\n",
        "# Your input news text\n",
        "text = \"No news.\"\n",
        "\n",
        "# Tokenize and encode the text\n",
        "inputs = tokenizer(text, return_tensors='pt', truncation=True, max_length=512)\n",
        "\n",
        "# Get the model output\n",
        "with torch.no_grad():\n",
        "    outputs = model(**inputs)\n",
        "\n",
        "# Use the [CLS] token embedding as sentence embedding\n",
        "cls_embedding = outputs.last_hidden_state[:, 0, :]  # Shape: [1, 768]\n",
        "\n",
        "# Convert to numpy array if needed\n",
        "embedding_vector = cls_embedding.squeeze().numpy()\n",
        "\n",
        "print(\"Embedding shape:\", embedding_vector.shape)\n",
        "# print(\"Embedding vector:\", embedding_vector)\n",
        "no_news_vector = list(embedding_vector)"
      ],
      "metadata": {
        "colab": {
          "base_uri": "https://localhost:8080/",
          "height": 130,
          "referenced_widgets": [
            "37dcf4839d27426f92235351bcff9e1f",
            "3d3dfc10dad14facb5024724f014b0c8",
            "fa961964843247989414c8f759f365e5",
            "bdfde0a5d3ec4d43a0a39e96cce954c5",
            "088f328a80b44fc08cd632dffb316dc4",
            "57d25ed1279341ecaaa5f394de79fb76",
            "7da57ae64d4846c784a2ce9533ad443c",
            "bcd20ff77bb246fdb5772dd84589a510",
            "b85454c200a34e5fa69fd48b20804724",
            "227fe10789fb491e87578dac45488fcd",
            "519335617e0c4904a5c8a4bdbd62557d",
            "24e6bc04d4564b87a69e0c3ba1e5ed01",
            "1aa32ff6df1547bca969c2d9680ab8d4",
            "98bde75e03484073a49311457bc29391",
            "151a91b64a264176813e52f43c322512",
            "87d2a70fd265486ab2da1909bc24b48c",
            "a28a783e551945ce864ab6566a5c926b",
            "6a45d351636e47d58153f4704ea864af",
            "b57f367d2d7246439562bc3ca33cc303",
            "438b79e428f147e6a6c57effc33518f4",
            "ae37a5308ddb4fbfa0314e440b961bc4",
            "de2bc4f1ddf7453bb0f0f38c7366836d",
            "15b17ce70c9240ea8919ddceeaab4b01",
            "a16bade7b2af4c159bf1dcacaf711e2a",
            "c355dd477ea942fdb72ed4b83ad5a13c",
            "338a8ea3202445ea869fcbb98cb83bdd",
            "90f580414fab4264ac82e200903fb175",
            "0f42a3667ceb41e28bebacacd23dfdf0",
            "64910ceeb0ea4008ab342caad767ad48",
            "f6a171efd4fa44139f86a5371d2c0804",
            "69035cc9659e4cbeb94f9dc0fcef1a47",
            "d7469ea04ba746cdac85806a4c83a062",
            "4e80c12b0ba94c429edc566fec7b0f4d"
          ]
        },
        "id": "tvGCYGIUEF3I",
        "outputId": "bb4faafd-3092-45ab-8b80-25a6fbc35fe7"
      },
      "execution_count": 4,
      "outputs": [
        {
          "output_type": "display_data",
          "data": {
            "text/plain": [
              "config.json:   0%|          | 0.00/533 [00:00<?, ?B/s]"
            ],
            "application/vnd.jupyter.widget-view+json": {
              "version_major": 2,
              "version_minor": 0,
              "model_id": "37dcf4839d27426f92235351bcff9e1f"
            }
          },
          "metadata": {}
        },
        {
          "output_type": "display_data",
          "data": {
            "text/plain": [
              "vocab.txt: 0.00B [00:00, ?B/s]"
            ],
            "application/vnd.jupyter.widget-view+json": {
              "version_major": 2,
              "version_minor": 0,
              "model_id": "24e6bc04d4564b87a69e0c3ba1e5ed01"
            }
          },
          "metadata": {}
        },
        {
          "output_type": "display_data",
          "data": {
            "text/plain": [
              "pytorch_model.bin:   0%|          | 0.00/439M [00:00<?, ?B/s]"
            ],
            "application/vnd.jupyter.widget-view+json": {
              "version_major": 2,
              "version_minor": 0,
              "model_id": "15b17ce70c9240ea8919ddceeaab4b01"
            }
          },
          "metadata": {}
        },
        {
          "output_type": "stream",
          "name": "stdout",
          "text": [
            "Embedding shape: (768,)\n"
          ]
        }
      ]
    },
    {
      "cell_type": "markdown",
      "source": [
        "Loading OHLCV of multi stocks"
      ],
      "metadata": {
        "id": "rbJNSQ5yE3DO"
      }
    },
    {
      "cell_type": "code",
      "source": [
        "import os\n",
        "\n",
        "list_crypto = [x[5:-4] for x in os.listdir('/content/content/') if 'data_' in x and 'FORMUSDT' not in x]\n",
        "# list_crypto = list_crypto[4:10]"
      ],
      "metadata": {
        "id": "1SdJSHGWZM4G"
      },
      "execution_count": 5,
      "outputs": []
    },
    {
      "cell_type": "code",
      "source": [
        "list_data = []\n",
        "selected_f_asset = ['open', 'high', 'low', 'close', 'volume',\n",
        "    'quoteAssetVolume', 'numberOfTrades', 'takerBuyBaseVol',\n",
        "       'takerBuyQuoteVol']\n",
        "selected_f_asset = ['close', 'volume', 'numberOfTrades', 'return']\n",
        "selected_f_all = []\n",
        "list_target = []\n",
        "\n",
        "for symb in list_crypto:\n",
        "  df = pd.read_pickle('/content/content/data_{}.pkl'.format(symb))\n",
        "  print(symb, len(df))\n",
        "  df['return'] = 100*df['close'].pct_change()\n",
        "  df = df[selected_f_asset].rename(columns={x:symb+'_'+x for x in selected_f_asset})\n",
        "  selected_f_all.extend(list(df.columns))\n",
        "  df[symb+'_target'] = df[symb+'_'+'return'].rolling(30).std().shift(-30)\n",
        "  list_target.append(symb+'_target')\n",
        "  list_data.append(df.copy())"
      ],
      "metadata": {
        "colab": {
          "base_uri": "https://localhost:8080/",
          "height": 379,
          "referenced_widgets": [
            "70b77727d20c4817a3ea2a225845b23e",
            "28854c9c8a044340a0f6edeb8699f483",
            "ec30f57aa6df45f69836412ebc0f0aad",
            "23f7e494a8294e3eb81f0273aa572f71",
            "0bcc3654d8b140758184bf2eb462a179",
            "6f1c8fd525b34a48ad6ba5ab0606b3c2",
            "e19fd16c1fa9435fbf71d0d218323b99",
            "2cdf07a51dd349bbbf197d8f485d1669",
            "a4133a0c10ec4e168488c5299fb29b50",
            "d2b52f96e27841338cb1c6559f9a8407",
            "fbf6d4f7ee914efcb97d2a6bac258d35"
          ]
        },
        "id": "xjVhl2HuvTxA",
        "outputId": "6d5d7337-8765-4b0f-c788-2379bb9c9c58"
      },
      "execution_count": 6,
      "outputs": [
        {
          "output_type": "display_data",
          "data": {
            "text/plain": [
              "model.safetensors:   0%|          | 0.00/439M [00:00<?, ?B/s]"
            ],
            "application/vnd.jupyter.widget-view+json": {
              "version_major": 2,
              "version_minor": 0,
              "model_id": "70b77727d20c4817a3ea2a225845b23e"
            }
          },
          "metadata": {}
        },
        {
          "output_type": "stream",
          "name": "stdout",
          "text": [
            "BTCUSDT 131041\n",
            "XLMUSDT 131041\n",
            "XRPUSDT 131041\n",
            "TSTUSDT 131041\n",
            "WUSDT 131041\n",
            "ARKUSDT 131041\n",
            "MEUSDT 131041\n",
            "TUSDT 131041\n",
            "OGUSDT 131041\n",
            "TIAUSDT 131041\n",
            "TRXUSDT 131041\n",
            "SUSDT 131041\n",
            "GMTUSDT 131041\n",
            "JSTUSDT 131041\n",
            "SEIUSDT 131041\n",
            "HBARUSDT 131041\n",
            "DUSDT 131041\n",
            "USDCUSDT 131041\n",
            "HOTUSDT 131041\n"
          ]
        }
      ]
    },
    {
      "cell_type": "code",
      "source": [
        "len(selected_f_all)"
      ],
      "metadata": {
        "colab": {
          "base_uri": "https://localhost:8080/"
        },
        "id": "GLNlIK2ob6wf",
        "outputId": "e607f5db-f342-44ea-ac47-fd4edfda7e5d"
      },
      "execution_count": 7,
      "outputs": [
        {
          "output_type": "execute_result",
          "data": {
            "text/plain": [
              "76"
            ]
          },
          "metadata": {},
          "execution_count": 7
        }
      ]
    },
    {
      "cell_type": "code",
      "source": [
        "data = pd.concat(list_data,axis=1)\n",
        "df = pd.read_pickle('/content/content/data_{}.pkl'.format('BTCUSDT'))\n",
        "df['return'] = df['close'].pct_change()\n",
        "data['dateTime'] = df['dateTime']\n",
        "data['time'] = data['dateTime'].astype(str).copy()\n",
        "data['return'] = df['close'].pct_change()\n",
        "data"
      ],
      "metadata": {
        "colab": {
          "base_uri": "https://localhost:8080/",
          "height": 791
        },
        "id": "JOqUDUbXWGYb",
        "outputId": "edfdc36f-932c-420a-afe4-356560a354ad"
      },
      "execution_count": 8,
      "outputs": [
        {
          "output_type": "execute_result",
          "data": {
            "text/plain": [
              "        BTCUSDT_close BTCUSDT_volume  BTCUSDT_numberOfTrades  BTCUSDT_return  \\\n",
              "0            91785.18    44.25582000                    9784             NaN   \n",
              "1            91837.75    29.64367000                    7048        0.057275   \n",
              "2            91960.97    70.22032000                    6386        0.134171   \n",
              "3            91862.77    50.83532000                    4539       -0.106784   \n",
              "4            91670.09    62.93148000                   11779       -0.209748   \n",
              "...               ...            ...                     ...             ...   \n",
              "131036      109394.14     1.80238000                     514       -0.006490   \n",
              "131037      109409.09     5.64688000                     698        0.013666   \n",
              "131038      109417.56     0.52540000                     224        0.007742   \n",
              "131039      109434.79     3.88664000                    1349        0.015747   \n",
              "131040      109392.52     2.73521000                    1338       -0.038626   \n",
              "\n",
              "        BTCUSDT_target  XLMUSDT_close   XLMUSDT_volume  \\\n",
              "0             0.177998         0.2989  112334.00000000   \n",
              "1             0.186473         0.2990  209664.00000000   \n",
              "2             0.184519         0.3005   80701.00000000   \n",
              "3             0.184458         0.3000  174073.00000000   \n",
              "4             0.182009         0.2988  101822.00000000   \n",
              "...                ...            ...              ...   \n",
              "131036             NaN         0.2857    1341.00000000   \n",
              "131037             NaN         0.2857   11422.00000000   \n",
              "131038             NaN         0.2858     402.00000000   \n",
              "131039             NaN         0.2858    4370.00000000   \n",
              "131040             NaN         0.2857   78329.00000000   \n",
              "\n",
              "        XLMUSDT_numberOfTrades  XLMUSDT_return  XLMUSDT_target  ...  \\\n",
              "0                          392             NaN        0.422107  ...   \n",
              "1                          398        0.033456        0.439614  ...   \n",
              "2                          311        0.501672        0.431379  ...   \n",
              "3                          666       -0.166389        0.434661  ...   \n",
              "4                          546       -0.400000        0.428329  ...   \n",
              "...                        ...             ...             ...  ...   \n",
              "131036                       5        0.000000             NaN  ...   \n",
              "131037                      21        0.000000             NaN  ...   \n",
              "131038                       3        0.035002             NaN  ...   \n",
              "131039                      33        0.000000             NaN  ...   \n",
              "131040                     138       -0.034990             NaN  ...   \n",
              "\n",
              "        USDCUSDT_return USDCUSDT_target  HOTUSDT_close    HOTUSDT_volume  \\\n",
              "0                   NaN        0.006948       0.001424  3866530.00000000   \n",
              "1              0.000000        0.007184       0.001425  1135592.00000000   \n",
              "2              0.000000        0.007427       0.001425    96487.00000000   \n",
              "3              0.000000        0.007427       0.001431  1772593.00000000   \n",
              "4             -0.009999        0.007184       0.001420   484068.00000000   \n",
              "...                 ...             ...            ...               ...   \n",
              "131036         0.000000             NaN       0.001111     7873.00000000   \n",
              "131037        -0.010004             NaN       0.001113  1793903.00000000   \n",
              "131038         0.010005             NaN       0.001113  1397911.00000000   \n",
              "131039        -0.010004             NaN       0.001115  1792102.00000000   \n",
              "131040         0.010005             NaN       0.001113  3228545.00000000   \n",
              "\n",
              "        HOTUSDT_numberOfTrades  HOTUSDT_return HOTUSDT_target  \\\n",
              "0                           22             NaN       0.468796   \n",
              "1                           21        0.070225       0.474921   \n",
              "2                            4        0.000000       0.475486   \n",
              "3                           14        0.421053       0.470420   \n",
              "4                            9       -0.768693       0.451829   \n",
              "...                        ...             ...            ...   \n",
              "131036                       1       -0.089928            NaN   \n",
              "131037                      64        0.180018            NaN   \n",
              "131038                       9        0.000000            NaN   \n",
              "131039                      10        0.179695            NaN   \n",
              "131040                      16       -0.179372            NaN   \n",
              "\n",
              "                  dateTime                 time    return  \n",
              "0      2025-02-25 00:00:00  2025-02-25 00:00:00       NaN  \n",
              "1      2025-02-25 00:01:00  2025-02-25 00:01:00  0.000573  \n",
              "2      2025-02-25 00:02:00  2025-02-25 00:02:00  0.001342  \n",
              "3      2025-02-25 00:03:00  2025-02-25 00:03:00 -0.001068  \n",
              "4      2025-02-25 00:04:00  2025-02-25 00:04:00 -0.002097  \n",
              "...                    ...                  ...       ...  \n",
              "131036 2025-05-26 23:56:00  2025-05-26 23:56:00 -0.000065  \n",
              "131037 2025-05-26 23:57:00  2025-05-26 23:57:00  0.000137  \n",
              "131038 2025-05-26 23:58:00  2025-05-26 23:58:00  0.000077  \n",
              "131039 2025-05-26 23:59:00  2025-05-26 23:59:00  0.000157  \n",
              "131040 2025-05-27 00:00:00  2025-05-27 00:00:00 -0.000386  \n",
              "\n",
              "[131041 rows x 98 columns]"
            ],
            "text/html": [
              "\n",
              "  <div id=\"df-ff7b7fe2-658d-4f51-b384-261926f00673\" class=\"colab-df-container\">\n",
              "    <div>\n",
              "<style scoped>\n",
              "    .dataframe tbody tr th:only-of-type {\n",
              "        vertical-align: middle;\n",
              "    }\n",
              "\n",
              "    .dataframe tbody tr th {\n",
              "        vertical-align: top;\n",
              "    }\n",
              "\n",
              "    .dataframe thead th {\n",
              "        text-align: right;\n",
              "    }\n",
              "</style>\n",
              "<table border=\"1\" class=\"dataframe\">\n",
              "  <thead>\n",
              "    <tr style=\"text-align: right;\">\n",
              "      <th></th>\n",
              "      <th>BTCUSDT_close</th>\n",
              "      <th>BTCUSDT_volume</th>\n",
              "      <th>BTCUSDT_numberOfTrades</th>\n",
              "      <th>BTCUSDT_return</th>\n",
              "      <th>BTCUSDT_target</th>\n",
              "      <th>XLMUSDT_close</th>\n",
              "      <th>XLMUSDT_volume</th>\n",
              "      <th>XLMUSDT_numberOfTrades</th>\n",
              "      <th>XLMUSDT_return</th>\n",
              "      <th>XLMUSDT_target</th>\n",
              "      <th>...</th>\n",
              "      <th>USDCUSDT_return</th>\n",
              "      <th>USDCUSDT_target</th>\n",
              "      <th>HOTUSDT_close</th>\n",
              "      <th>HOTUSDT_volume</th>\n",
              "      <th>HOTUSDT_numberOfTrades</th>\n",
              "      <th>HOTUSDT_return</th>\n",
              "      <th>HOTUSDT_target</th>\n",
              "      <th>dateTime</th>\n",
              "      <th>time</th>\n",
              "      <th>return</th>\n",
              "    </tr>\n",
              "  </thead>\n",
              "  <tbody>\n",
              "    <tr>\n",
              "      <th>0</th>\n",
              "      <td>91785.18</td>\n",
              "      <td>44.25582000</td>\n",
              "      <td>9784</td>\n",
              "      <td>NaN</td>\n",
              "      <td>0.177998</td>\n",
              "      <td>0.2989</td>\n",
              "      <td>112334.00000000</td>\n",
              "      <td>392</td>\n",
              "      <td>NaN</td>\n",
              "      <td>0.422107</td>\n",
              "      <td>...</td>\n",
              "      <td>NaN</td>\n",
              "      <td>0.006948</td>\n",
              "      <td>0.001424</td>\n",
              "      <td>3866530.00000000</td>\n",
              "      <td>22</td>\n",
              "      <td>NaN</td>\n",
              "      <td>0.468796</td>\n",
              "      <td>2025-02-25 00:00:00</td>\n",
              "      <td>2025-02-25 00:00:00</td>\n",
              "      <td>NaN</td>\n",
              "    </tr>\n",
              "    <tr>\n",
              "      <th>1</th>\n",
              "      <td>91837.75</td>\n",
              "      <td>29.64367000</td>\n",
              "      <td>7048</td>\n",
              "      <td>0.057275</td>\n",
              "      <td>0.186473</td>\n",
              "      <td>0.2990</td>\n",
              "      <td>209664.00000000</td>\n",
              "      <td>398</td>\n",
              "      <td>0.033456</td>\n",
              "      <td>0.439614</td>\n",
              "      <td>...</td>\n",
              "      <td>0.000000</td>\n",
              "      <td>0.007184</td>\n",
              "      <td>0.001425</td>\n",
              "      <td>1135592.00000000</td>\n",
              "      <td>21</td>\n",
              "      <td>0.070225</td>\n",
              "      <td>0.474921</td>\n",
              "      <td>2025-02-25 00:01:00</td>\n",
              "      <td>2025-02-25 00:01:00</td>\n",
              "      <td>0.000573</td>\n",
              "    </tr>\n",
              "    <tr>\n",
              "      <th>2</th>\n",
              "      <td>91960.97</td>\n",
              "      <td>70.22032000</td>\n",
              "      <td>6386</td>\n",
              "      <td>0.134171</td>\n",
              "      <td>0.184519</td>\n",
              "      <td>0.3005</td>\n",
              "      <td>80701.00000000</td>\n",
              "      <td>311</td>\n",
              "      <td>0.501672</td>\n",
              "      <td>0.431379</td>\n",
              "      <td>...</td>\n",
              "      <td>0.000000</td>\n",
              "      <td>0.007427</td>\n",
              "      <td>0.001425</td>\n",
              "      <td>96487.00000000</td>\n",
              "      <td>4</td>\n",
              "      <td>0.000000</td>\n",
              "      <td>0.475486</td>\n",
              "      <td>2025-02-25 00:02:00</td>\n",
              "      <td>2025-02-25 00:02:00</td>\n",
              "      <td>0.001342</td>\n",
              "    </tr>\n",
              "    <tr>\n",
              "      <th>3</th>\n",
              "      <td>91862.77</td>\n",
              "      <td>50.83532000</td>\n",
              "      <td>4539</td>\n",
              "      <td>-0.106784</td>\n",
              "      <td>0.184458</td>\n",
              "      <td>0.3000</td>\n",
              "      <td>174073.00000000</td>\n",
              "      <td>666</td>\n",
              "      <td>-0.166389</td>\n",
              "      <td>0.434661</td>\n",
              "      <td>...</td>\n",
              "      <td>0.000000</td>\n",
              "      <td>0.007427</td>\n",
              "      <td>0.001431</td>\n",
              "      <td>1772593.00000000</td>\n",
              "      <td>14</td>\n",
              "      <td>0.421053</td>\n",
              "      <td>0.470420</td>\n",
              "      <td>2025-02-25 00:03:00</td>\n",
              "      <td>2025-02-25 00:03:00</td>\n",
              "      <td>-0.001068</td>\n",
              "    </tr>\n",
              "    <tr>\n",
              "      <th>4</th>\n",
              "      <td>91670.09</td>\n",
              "      <td>62.93148000</td>\n",
              "      <td>11779</td>\n",
              "      <td>-0.209748</td>\n",
              "      <td>0.182009</td>\n",
              "      <td>0.2988</td>\n",
              "      <td>101822.00000000</td>\n",
              "      <td>546</td>\n",
              "      <td>-0.400000</td>\n",
              "      <td>0.428329</td>\n",
              "      <td>...</td>\n",
              "      <td>-0.009999</td>\n",
              "      <td>0.007184</td>\n",
              "      <td>0.001420</td>\n",
              "      <td>484068.00000000</td>\n",
              "      <td>9</td>\n",
              "      <td>-0.768693</td>\n",
              "      <td>0.451829</td>\n",
              "      <td>2025-02-25 00:04:00</td>\n",
              "      <td>2025-02-25 00:04:00</td>\n",
              "      <td>-0.002097</td>\n",
              "    </tr>\n",
              "    <tr>\n",
              "      <th>...</th>\n",
              "      <td>...</td>\n",
              "      <td>...</td>\n",
              "      <td>...</td>\n",
              "      <td>...</td>\n",
              "      <td>...</td>\n",
              "      <td>...</td>\n",
              "      <td>...</td>\n",
              "      <td>...</td>\n",
              "      <td>...</td>\n",
              "      <td>...</td>\n",
              "      <td>...</td>\n",
              "      <td>...</td>\n",
              "      <td>...</td>\n",
              "      <td>...</td>\n",
              "      <td>...</td>\n",
              "      <td>...</td>\n",
              "      <td>...</td>\n",
              "      <td>...</td>\n",
              "      <td>...</td>\n",
              "      <td>...</td>\n",
              "      <td>...</td>\n",
              "    </tr>\n",
              "    <tr>\n",
              "      <th>131036</th>\n",
              "      <td>109394.14</td>\n",
              "      <td>1.80238000</td>\n",
              "      <td>514</td>\n",
              "      <td>-0.006490</td>\n",
              "      <td>NaN</td>\n",
              "      <td>0.2857</td>\n",
              "      <td>1341.00000000</td>\n",
              "      <td>5</td>\n",
              "      <td>0.000000</td>\n",
              "      <td>NaN</td>\n",
              "      <td>...</td>\n",
              "      <td>0.000000</td>\n",
              "      <td>NaN</td>\n",
              "      <td>0.001111</td>\n",
              "      <td>7873.00000000</td>\n",
              "      <td>1</td>\n",
              "      <td>-0.089928</td>\n",
              "      <td>NaN</td>\n",
              "      <td>2025-05-26 23:56:00</td>\n",
              "      <td>2025-05-26 23:56:00</td>\n",
              "      <td>-0.000065</td>\n",
              "    </tr>\n",
              "    <tr>\n",
              "      <th>131037</th>\n",
              "      <td>109409.09</td>\n",
              "      <td>5.64688000</td>\n",
              "      <td>698</td>\n",
              "      <td>0.013666</td>\n",
              "      <td>NaN</td>\n",
              "      <td>0.2857</td>\n",
              "      <td>11422.00000000</td>\n",
              "      <td>21</td>\n",
              "      <td>0.000000</td>\n",
              "      <td>NaN</td>\n",
              "      <td>...</td>\n",
              "      <td>-0.010004</td>\n",
              "      <td>NaN</td>\n",
              "      <td>0.001113</td>\n",
              "      <td>1793903.00000000</td>\n",
              "      <td>64</td>\n",
              "      <td>0.180018</td>\n",
              "      <td>NaN</td>\n",
              "      <td>2025-05-26 23:57:00</td>\n",
              "      <td>2025-05-26 23:57:00</td>\n",
              "      <td>0.000137</td>\n",
              "    </tr>\n",
              "    <tr>\n",
              "      <th>131038</th>\n",
              "      <td>109417.56</td>\n",
              "      <td>0.52540000</td>\n",
              "      <td>224</td>\n",
              "      <td>0.007742</td>\n",
              "      <td>NaN</td>\n",
              "      <td>0.2858</td>\n",
              "      <td>402.00000000</td>\n",
              "      <td>3</td>\n",
              "      <td>0.035002</td>\n",
              "      <td>NaN</td>\n",
              "      <td>...</td>\n",
              "      <td>0.010005</td>\n",
              "      <td>NaN</td>\n",
              "      <td>0.001113</td>\n",
              "      <td>1397911.00000000</td>\n",
              "      <td>9</td>\n",
              "      <td>0.000000</td>\n",
              "      <td>NaN</td>\n",
              "      <td>2025-05-26 23:58:00</td>\n",
              "      <td>2025-05-26 23:58:00</td>\n",
              "      <td>0.000077</td>\n",
              "    </tr>\n",
              "    <tr>\n",
              "      <th>131039</th>\n",
              "      <td>109434.79</td>\n",
              "      <td>3.88664000</td>\n",
              "      <td>1349</td>\n",
              "      <td>0.015747</td>\n",
              "      <td>NaN</td>\n",
              "      <td>0.2858</td>\n",
              "      <td>4370.00000000</td>\n",
              "      <td>33</td>\n",
              "      <td>0.000000</td>\n",
              "      <td>NaN</td>\n",
              "      <td>...</td>\n",
              "      <td>-0.010004</td>\n",
              "      <td>NaN</td>\n",
              "      <td>0.001115</td>\n",
              "      <td>1792102.00000000</td>\n",
              "      <td>10</td>\n",
              "      <td>0.179695</td>\n",
              "      <td>NaN</td>\n",
              "      <td>2025-05-26 23:59:00</td>\n",
              "      <td>2025-05-26 23:59:00</td>\n",
              "      <td>0.000157</td>\n",
              "    </tr>\n",
              "    <tr>\n",
              "      <th>131040</th>\n",
              "      <td>109392.52</td>\n",
              "      <td>2.73521000</td>\n",
              "      <td>1338</td>\n",
              "      <td>-0.038626</td>\n",
              "      <td>NaN</td>\n",
              "      <td>0.2857</td>\n",
              "      <td>78329.00000000</td>\n",
              "      <td>138</td>\n",
              "      <td>-0.034990</td>\n",
              "      <td>NaN</td>\n",
              "      <td>...</td>\n",
              "      <td>0.010005</td>\n",
              "      <td>NaN</td>\n",
              "      <td>0.001113</td>\n",
              "      <td>3228545.00000000</td>\n",
              "      <td>16</td>\n",
              "      <td>-0.179372</td>\n",
              "      <td>NaN</td>\n",
              "      <td>2025-05-27 00:00:00</td>\n",
              "      <td>2025-05-27 00:00:00</td>\n",
              "      <td>-0.000386</td>\n",
              "    </tr>\n",
              "  </tbody>\n",
              "</table>\n",
              "<p>131041 rows × 98 columns</p>\n",
              "</div>\n",
              "    <div class=\"colab-df-buttons\">\n",
              "\n",
              "  <div class=\"colab-df-container\">\n",
              "    <button class=\"colab-df-convert\" onclick=\"convertToInteractive('df-ff7b7fe2-658d-4f51-b384-261926f00673')\"\n",
              "            title=\"Convert this dataframe to an interactive table.\"\n",
              "            style=\"display:none;\">\n",
              "\n",
              "  <svg xmlns=\"http://www.w3.org/2000/svg\" height=\"24px\" viewBox=\"0 -960 960 960\">\n",
              "    <path d=\"M120-120v-720h720v720H120Zm60-500h600v-160H180v160Zm220 220h160v-160H400v160Zm0 220h160v-160H400v160ZM180-400h160v-160H180v160Zm440 0h160v-160H620v160ZM180-180h160v-160H180v160Zm440 0h160v-160H620v160Z\"/>\n",
              "  </svg>\n",
              "    </button>\n",
              "\n",
              "  <style>\n",
              "    .colab-df-container {\n",
              "      display:flex;\n",
              "      gap: 12px;\n",
              "    }\n",
              "\n",
              "    .colab-df-convert {\n",
              "      background-color: #E8F0FE;\n",
              "      border: none;\n",
              "      border-radius: 50%;\n",
              "      cursor: pointer;\n",
              "      display: none;\n",
              "      fill: #1967D2;\n",
              "      height: 32px;\n",
              "      padding: 0 0 0 0;\n",
              "      width: 32px;\n",
              "    }\n",
              "\n",
              "    .colab-df-convert:hover {\n",
              "      background-color: #E2EBFA;\n",
              "      box-shadow: 0px 1px 2px rgba(60, 64, 67, 0.3), 0px 1px 3px 1px rgba(60, 64, 67, 0.15);\n",
              "      fill: #174EA6;\n",
              "    }\n",
              "\n",
              "    .colab-df-buttons div {\n",
              "      margin-bottom: 4px;\n",
              "    }\n",
              "\n",
              "    [theme=dark] .colab-df-convert {\n",
              "      background-color: #3B4455;\n",
              "      fill: #D2E3FC;\n",
              "    }\n",
              "\n",
              "    [theme=dark] .colab-df-convert:hover {\n",
              "      background-color: #434B5C;\n",
              "      box-shadow: 0px 1px 3px 1px rgba(0, 0, 0, 0.15);\n",
              "      filter: drop-shadow(0px 1px 2px rgba(0, 0, 0, 0.3));\n",
              "      fill: #FFFFFF;\n",
              "    }\n",
              "  </style>\n",
              "\n",
              "    <script>\n",
              "      const buttonEl =\n",
              "        document.querySelector('#df-ff7b7fe2-658d-4f51-b384-261926f00673 button.colab-df-convert');\n",
              "      buttonEl.style.display =\n",
              "        google.colab.kernel.accessAllowed ? 'block' : 'none';\n",
              "\n",
              "      async function convertToInteractive(key) {\n",
              "        const element = document.querySelector('#df-ff7b7fe2-658d-4f51-b384-261926f00673');\n",
              "        const dataTable =\n",
              "          await google.colab.kernel.invokeFunction('convertToInteractive',\n",
              "                                                    [key], {});\n",
              "        if (!dataTable) return;\n",
              "\n",
              "        const docLinkHtml = 'Like what you see? Visit the ' +\n",
              "          '<a target=\"_blank\" href=https://colab.research.google.com/notebooks/data_table.ipynb>data table notebook</a>'\n",
              "          + ' to learn more about interactive tables.';\n",
              "        element.innerHTML = '';\n",
              "        dataTable['output_type'] = 'display_data';\n",
              "        await google.colab.output.renderOutput(dataTable, element);\n",
              "        const docLink = document.createElement('div');\n",
              "        docLink.innerHTML = docLinkHtml;\n",
              "        element.appendChild(docLink);\n",
              "      }\n",
              "    </script>\n",
              "  </div>\n",
              "\n",
              "\n",
              "    <div id=\"df-8cdf7bc6-642b-4182-9f49-3dbe6580efff\">\n",
              "      <button class=\"colab-df-quickchart\" onclick=\"quickchart('df-8cdf7bc6-642b-4182-9f49-3dbe6580efff')\"\n",
              "                title=\"Suggest charts\"\n",
              "                style=\"display:none;\">\n",
              "\n",
              "<svg xmlns=\"http://www.w3.org/2000/svg\" height=\"24px\"viewBox=\"0 0 24 24\"\n",
              "     width=\"24px\">\n",
              "    <g>\n",
              "        <path d=\"M19 3H5c-1.1 0-2 .9-2 2v14c0 1.1.9 2 2 2h14c1.1 0 2-.9 2-2V5c0-1.1-.9-2-2-2zM9 17H7v-7h2v7zm4 0h-2V7h2v10zm4 0h-2v-4h2v4z\"/>\n",
              "    </g>\n",
              "</svg>\n",
              "      </button>\n",
              "\n",
              "<style>\n",
              "  .colab-df-quickchart {\n",
              "      --bg-color: #E8F0FE;\n",
              "      --fill-color: #1967D2;\n",
              "      --hover-bg-color: #E2EBFA;\n",
              "      --hover-fill-color: #174EA6;\n",
              "      --disabled-fill-color: #AAA;\n",
              "      --disabled-bg-color: #DDD;\n",
              "  }\n",
              "\n",
              "  [theme=dark] .colab-df-quickchart {\n",
              "      --bg-color: #3B4455;\n",
              "      --fill-color: #D2E3FC;\n",
              "      --hover-bg-color: #434B5C;\n",
              "      --hover-fill-color: #FFFFFF;\n",
              "      --disabled-bg-color: #3B4455;\n",
              "      --disabled-fill-color: #666;\n",
              "  }\n",
              "\n",
              "  .colab-df-quickchart {\n",
              "    background-color: var(--bg-color);\n",
              "    border: none;\n",
              "    border-radius: 50%;\n",
              "    cursor: pointer;\n",
              "    display: none;\n",
              "    fill: var(--fill-color);\n",
              "    height: 32px;\n",
              "    padding: 0;\n",
              "    width: 32px;\n",
              "  }\n",
              "\n",
              "  .colab-df-quickchart:hover {\n",
              "    background-color: var(--hover-bg-color);\n",
              "    box-shadow: 0 1px 2px rgba(60, 64, 67, 0.3), 0 1px 3px 1px rgba(60, 64, 67, 0.15);\n",
              "    fill: var(--button-hover-fill-color);\n",
              "  }\n",
              "\n",
              "  .colab-df-quickchart-complete:disabled,\n",
              "  .colab-df-quickchart-complete:disabled:hover {\n",
              "    background-color: var(--disabled-bg-color);\n",
              "    fill: var(--disabled-fill-color);\n",
              "    box-shadow: none;\n",
              "  }\n",
              "\n",
              "  .colab-df-spinner {\n",
              "    border: 2px solid var(--fill-color);\n",
              "    border-color: transparent;\n",
              "    border-bottom-color: var(--fill-color);\n",
              "    animation:\n",
              "      spin 1s steps(1) infinite;\n",
              "  }\n",
              "\n",
              "  @keyframes spin {\n",
              "    0% {\n",
              "      border-color: transparent;\n",
              "      border-bottom-color: var(--fill-color);\n",
              "      border-left-color: var(--fill-color);\n",
              "    }\n",
              "    20% {\n",
              "      border-color: transparent;\n",
              "      border-left-color: var(--fill-color);\n",
              "      border-top-color: var(--fill-color);\n",
              "    }\n",
              "    30% {\n",
              "      border-color: transparent;\n",
              "      border-left-color: var(--fill-color);\n",
              "      border-top-color: var(--fill-color);\n",
              "      border-right-color: var(--fill-color);\n",
              "    }\n",
              "    40% {\n",
              "      border-color: transparent;\n",
              "      border-right-color: var(--fill-color);\n",
              "      border-top-color: var(--fill-color);\n",
              "    }\n",
              "    60% {\n",
              "      border-color: transparent;\n",
              "      border-right-color: var(--fill-color);\n",
              "    }\n",
              "    80% {\n",
              "      border-color: transparent;\n",
              "      border-right-color: var(--fill-color);\n",
              "      border-bottom-color: var(--fill-color);\n",
              "    }\n",
              "    90% {\n",
              "      border-color: transparent;\n",
              "      border-bottom-color: var(--fill-color);\n",
              "    }\n",
              "  }\n",
              "</style>\n",
              "\n",
              "      <script>\n",
              "        async function quickchart(key) {\n",
              "          const quickchartButtonEl =\n",
              "            document.querySelector('#' + key + ' button');\n",
              "          quickchartButtonEl.disabled = true;  // To prevent multiple clicks.\n",
              "          quickchartButtonEl.classList.add('colab-df-spinner');\n",
              "          try {\n",
              "            const charts = await google.colab.kernel.invokeFunction(\n",
              "                'suggestCharts', [key], {});\n",
              "          } catch (error) {\n",
              "            console.error('Error during call to suggestCharts:', error);\n",
              "          }\n",
              "          quickchartButtonEl.classList.remove('colab-df-spinner');\n",
              "          quickchartButtonEl.classList.add('colab-df-quickchart-complete');\n",
              "        }\n",
              "        (() => {\n",
              "          let quickchartButtonEl =\n",
              "            document.querySelector('#df-8cdf7bc6-642b-4182-9f49-3dbe6580efff button');\n",
              "          quickchartButtonEl.style.display =\n",
              "            google.colab.kernel.accessAllowed ? 'block' : 'none';\n",
              "        })();\n",
              "      </script>\n",
              "    </div>\n",
              "\n",
              "  <div id=\"id_c370398b-f5f4-471c-8d6e-d7c72415ffd0\">\n",
              "    <style>\n",
              "      .colab-df-generate {\n",
              "        background-color: #E8F0FE;\n",
              "        border: none;\n",
              "        border-radius: 50%;\n",
              "        cursor: pointer;\n",
              "        display: none;\n",
              "        fill: #1967D2;\n",
              "        height: 32px;\n",
              "        padding: 0 0 0 0;\n",
              "        width: 32px;\n",
              "      }\n",
              "\n",
              "      .colab-df-generate:hover {\n",
              "        background-color: #E2EBFA;\n",
              "        box-shadow: 0px 1px 2px rgba(60, 64, 67, 0.3), 0px 1px 3px 1px rgba(60, 64, 67, 0.15);\n",
              "        fill: #174EA6;\n",
              "      }\n",
              "\n",
              "      [theme=dark] .colab-df-generate {\n",
              "        background-color: #3B4455;\n",
              "        fill: #D2E3FC;\n",
              "      }\n",
              "\n",
              "      [theme=dark] .colab-df-generate:hover {\n",
              "        background-color: #434B5C;\n",
              "        box-shadow: 0px 1px 3px 1px rgba(0, 0, 0, 0.15);\n",
              "        filter: drop-shadow(0px 1px 2px rgba(0, 0, 0, 0.3));\n",
              "        fill: #FFFFFF;\n",
              "      }\n",
              "    </style>\n",
              "    <button class=\"colab-df-generate\" onclick=\"generateWithVariable('data')\"\n",
              "            title=\"Generate code using this dataframe.\"\n",
              "            style=\"display:none;\">\n",
              "\n",
              "  <svg xmlns=\"http://www.w3.org/2000/svg\" height=\"24px\"viewBox=\"0 0 24 24\"\n",
              "       width=\"24px\">\n",
              "    <path d=\"M7,19H8.4L18.45,9,17,7.55,7,17.6ZM5,21V16.75L18.45,3.32a2,2,0,0,1,2.83,0l1.4,1.43a1.91,1.91,0,0,1,.58,1.4,1.91,1.91,0,0,1-.58,1.4L9.25,21ZM18.45,9,17,7.55Zm-12,3A5.31,5.31,0,0,0,4.9,8.1,5.31,5.31,0,0,0,1,6.5,5.31,5.31,0,0,0,4.9,4.9,5.31,5.31,0,0,0,6.5,1,5.31,5.31,0,0,0,8.1,4.9,5.31,5.31,0,0,0,12,6.5,5.46,5.46,0,0,0,6.5,12Z\"/>\n",
              "  </svg>\n",
              "    </button>\n",
              "    <script>\n",
              "      (() => {\n",
              "      const buttonEl =\n",
              "        document.querySelector('#id_c370398b-f5f4-471c-8d6e-d7c72415ffd0 button.colab-df-generate');\n",
              "      buttonEl.style.display =\n",
              "        google.colab.kernel.accessAllowed ? 'block' : 'none';\n",
              "\n",
              "      buttonEl.onclick = () => {\n",
              "        google.colab.notebook.generateWithVariable('data');\n",
              "      }\n",
              "      })();\n",
              "    </script>\n",
              "  </div>\n",
              "\n",
              "    </div>\n",
              "  </div>\n"
            ],
            "application/vnd.google.colaboratory.intrinsic+json": {
              "type": "dataframe",
              "variable_name": "data"
            }
          },
          "metadata": {},
          "execution_count": 8
        }
      ]
    },
    {
      "cell_type": "markdown",
      "source": [
        "Preparing embedding of news (Handling multi news and no news)"
      ],
      "metadata": {
        "id": "Kx_SJSGyE9vv"
      }
    },
    {
      "cell_type": "code",
      "source": [
        "import numpy as np\n",
        "df_news['embedding'] = df_news['embedding'].apply(lambda x: np.array(x))\n",
        "\n",
        "df_grouped = df_news[['time', 'embedding', 'count']].groupby('time')['embedding'].apply(\n",
        "    lambda x: np.mean(np.stack(x.values), axis=0)\n",
        ").reset_index()\n",
        "data_all = data.merge(df_grouped, on='time', how='left')\n",
        "data_all['embedding'] = data_all['embedding'].apply(\n",
        "    lambda x: no_news_vector if x is np.nan or x is None else x\n",
        ")"
      ],
      "metadata": {
        "id": "ZrcDQ89lGBgG"
      },
      "execution_count": 9,
      "outputs": []
    },
    {
      "cell_type": "code",
      "source": [
        "list_crypto_first = [x[:-4] for x in list_crypto]\n",
        "list_crypto_first"
      ],
      "metadata": {
        "colab": {
          "base_uri": "https://localhost:8080/"
        },
        "id": "7C3hYw_6e3jr",
        "outputId": "9cd5084a-70e4-44c6-fa6d-d0e31a78a9fd"
      },
      "execution_count": 10,
      "outputs": [
        {
          "output_type": "execute_result",
          "data": {
            "text/plain": [
              "['BTC',\n",
              " 'XLM',\n",
              " 'XRP',\n",
              " 'TST',\n",
              " 'W',\n",
              " 'ARK',\n",
              " 'ME',\n",
              " 'T',\n",
              " 'OG',\n",
              " 'TIA',\n",
              " 'TRX',\n",
              " 'S',\n",
              " 'GMT',\n",
              " 'JST',\n",
              " 'SEI',\n",
              " 'HBAR',\n",
              " 'D',\n",
              " 'USDC',\n",
              " 'HOT']"
            ]
          },
          "metadata": {},
          "execution_count": 10
        }
      ]
    },
    {
      "cell_type": "code",
      "source": [
        "data_all = data_all[data_all['time']>=df_news['time'].min()][data_all['time']<=df_news['time'].max()]"
      ],
      "metadata": {
        "id": "w4FR3DMt-8PD"
      },
      "execution_count": 11,
      "outputs": []
    },
    {
      "cell_type": "markdown",
      "source": [
        "Showing Data"
      ],
      "metadata": {
        "id": "F9KJ5oruFBbw"
      }
    },
    {
      "cell_type": "code",
      "source": [
        "data_all[selected_f_all]"
      ],
      "metadata": {
        "colab": {
          "base_uri": "https://localhost:8080/",
          "height": 443
        },
        "id": "KnoYdNDeA4KT",
        "outputId": "90f98806-0f33-49c4-9c92-9a3740395e47"
      },
      "execution_count": 12,
      "outputs": [
        {
          "output_type": "execute_result",
          "data": {
            "text/plain": [
              "        BTCUSDT_close BTCUSDT_volume  BTCUSDT_numberOfTrades  BTCUSDT_return  \\\n",
              "0            91785.18    44.25582000                    9784             NaN   \n",
              "1            91837.75    29.64367000                    7048        0.057275   \n",
              "2            91960.97    70.22032000                    6386        0.134171   \n",
              "3            91862.77    50.83532000                    4539       -0.106784   \n",
              "4            91670.09    62.93148000                   11779       -0.209748   \n",
              "...               ...            ...                     ...             ...   \n",
              "129596      109030.02    21.06713000                    3921        0.130437   \n",
              "129597      109024.39     5.10152000                    1789       -0.005164   \n",
              "129598      108995.95     7.48873000                     769       -0.026086   \n",
              "129599      109004.19     6.56241000                    1298        0.007560   \n",
              "129600      108956.25    12.92937000                    2879       -0.043980   \n",
              "\n",
              "        XLMUSDT_close   XLMUSDT_volume  XLMUSDT_numberOfTrades  \\\n",
              "0              0.2989  112334.00000000                     392   \n",
              "1              0.2990  209664.00000000                     398   \n",
              "2              0.3005   80701.00000000                     311   \n",
              "3              0.3000  174073.00000000                     666   \n",
              "4              0.2988  101822.00000000                     546   \n",
              "...               ...              ...                     ...   \n",
              "129596         0.2878   12764.00000000                      41   \n",
              "129597         0.2877   26887.00000000                      36   \n",
              "129598         0.2878   21890.00000000                      44   \n",
              "129599         0.2878   22099.00000000                      25   \n",
              "129600         0.2876   21526.00000000                      97   \n",
              "\n",
              "        XLMUSDT_return  XRPUSDT_close   XRPUSDT_volume  ...  \\\n",
              "0                  NaN         2.2986  809446.00000000  ...   \n",
              "1             0.033456         2.3041  517300.00000000  ...   \n",
              "2             0.501672         2.3147  229433.00000000  ...   \n",
              "3            -0.166389         2.3108  288404.00000000  ...   \n",
              "4            -0.400000         2.2979  668514.00000000  ...   \n",
              "...                ...            ...              ...  ...   \n",
              "129596        0.104348         2.3434   99206.80000000  ...   \n",
              "129597       -0.034746         2.3432   87402.20000000  ...   \n",
              "129598        0.034758         2.3417   34994.50000000  ...   \n",
              "129599        0.000000         2.3417   31291.00000000  ...   \n",
              "129600       -0.069493         2.3415   98392.30000000  ...   \n",
              "\n",
              "        DUSDT_numberOfTrades  DUSDT_return  USDCUSDT_close   USDCUSDT_volume  \\\n",
              "0                         65           NaN          1.0001   874701.00000000   \n",
              "1                          9     -0.130225          1.0001  1386578.00000000   \n",
              "2                         32      0.443343          1.0001  1136218.00000000   \n",
              "3                         61     -0.038946          1.0001   740184.00000000   \n",
              "4                          6     -0.259740          1.0000  2203330.00000000   \n",
              "...                      ...           ...             ...               ...   \n",
              "129596                     1     -0.072202          0.9995  1145036.00000000   \n",
              "129597                     1      0.120424          0.9995   623068.00000000   \n",
              "129598                     4     -0.216502          0.9995   144815.00000000   \n",
              "129599                     0      0.000000          0.9995    17396.00000000   \n",
              "129600                    10      0.024108          0.9994   477597.00000000   \n",
              "\n",
              "        USDCUSDT_numberOfTrades  USDCUSDT_return  HOTUSDT_close  \\\n",
              "0                           924              NaN       0.001424   \n",
              "1                          1009         0.000000       0.001425   \n",
              "2                           716         0.000000       0.001425   \n",
              "3                           645         0.000000       0.001431   \n",
              "4                           592        -0.009999       0.001420   \n",
              "...                         ...              ...            ...   \n",
              "129596                      215         0.000000       0.001126   \n",
              "129597                      119         0.000000       0.001126   \n",
              "129598                      146         0.000000       0.001126   \n",
              "129599                       90         0.000000       0.001126   \n",
              "129600                      203        -0.010005       0.001125   \n",
              "\n",
              "          HOTUSDT_volume  HOTUSDT_numberOfTrades  HOTUSDT_return  \n",
              "0       3866530.00000000                      22             NaN  \n",
              "1       1135592.00000000                      21        0.070225  \n",
              "2         96487.00000000                       4        0.000000  \n",
              "3       1772593.00000000                      14        0.421053  \n",
              "4        484068.00000000                       9       -0.768693  \n",
              "...                  ...                     ...             ...  \n",
              "129596        0.00000000                       0        0.000000  \n",
              "129597        0.00000000                       0        0.000000  \n",
              "129598        0.00000000                       0        0.000000  \n",
              "129599   123675.00000000                       1        0.000000  \n",
              "129600   411203.00000000                       4       -0.088810  \n",
              "\n",
              "[129601 rows x 76 columns]"
            ],
            "text/html": [
              "\n",
              "  <div id=\"df-9b499245-9301-4e09-a043-c8b87a24cfe9\" class=\"colab-df-container\">\n",
              "    <div>\n",
              "<style scoped>\n",
              "    .dataframe tbody tr th:only-of-type {\n",
              "        vertical-align: middle;\n",
              "    }\n",
              "\n",
              "    .dataframe tbody tr th {\n",
              "        vertical-align: top;\n",
              "    }\n",
              "\n",
              "    .dataframe thead th {\n",
              "        text-align: right;\n",
              "    }\n",
              "</style>\n",
              "<table border=\"1\" class=\"dataframe\">\n",
              "  <thead>\n",
              "    <tr style=\"text-align: right;\">\n",
              "      <th></th>\n",
              "      <th>BTCUSDT_close</th>\n",
              "      <th>BTCUSDT_volume</th>\n",
              "      <th>BTCUSDT_numberOfTrades</th>\n",
              "      <th>BTCUSDT_return</th>\n",
              "      <th>XLMUSDT_close</th>\n",
              "      <th>XLMUSDT_volume</th>\n",
              "      <th>XLMUSDT_numberOfTrades</th>\n",
              "      <th>XLMUSDT_return</th>\n",
              "      <th>XRPUSDT_close</th>\n",
              "      <th>XRPUSDT_volume</th>\n",
              "      <th>...</th>\n",
              "      <th>DUSDT_numberOfTrades</th>\n",
              "      <th>DUSDT_return</th>\n",
              "      <th>USDCUSDT_close</th>\n",
              "      <th>USDCUSDT_volume</th>\n",
              "      <th>USDCUSDT_numberOfTrades</th>\n",
              "      <th>USDCUSDT_return</th>\n",
              "      <th>HOTUSDT_close</th>\n",
              "      <th>HOTUSDT_volume</th>\n",
              "      <th>HOTUSDT_numberOfTrades</th>\n",
              "      <th>HOTUSDT_return</th>\n",
              "    </tr>\n",
              "  </thead>\n",
              "  <tbody>\n",
              "    <tr>\n",
              "      <th>0</th>\n",
              "      <td>91785.18</td>\n",
              "      <td>44.25582000</td>\n",
              "      <td>9784</td>\n",
              "      <td>NaN</td>\n",
              "      <td>0.2989</td>\n",
              "      <td>112334.00000000</td>\n",
              "      <td>392</td>\n",
              "      <td>NaN</td>\n",
              "      <td>2.2986</td>\n",
              "      <td>809446.00000000</td>\n",
              "      <td>...</td>\n",
              "      <td>65</td>\n",
              "      <td>NaN</td>\n",
              "      <td>1.0001</td>\n",
              "      <td>874701.00000000</td>\n",
              "      <td>924</td>\n",
              "      <td>NaN</td>\n",
              "      <td>0.001424</td>\n",
              "      <td>3866530.00000000</td>\n",
              "      <td>22</td>\n",
              "      <td>NaN</td>\n",
              "    </tr>\n",
              "    <tr>\n",
              "      <th>1</th>\n",
              "      <td>91837.75</td>\n",
              "      <td>29.64367000</td>\n",
              "      <td>7048</td>\n",
              "      <td>0.057275</td>\n",
              "      <td>0.2990</td>\n",
              "      <td>209664.00000000</td>\n",
              "      <td>398</td>\n",
              "      <td>0.033456</td>\n",
              "      <td>2.3041</td>\n",
              "      <td>517300.00000000</td>\n",
              "      <td>...</td>\n",
              "      <td>9</td>\n",
              "      <td>-0.130225</td>\n",
              "      <td>1.0001</td>\n",
              "      <td>1386578.00000000</td>\n",
              "      <td>1009</td>\n",
              "      <td>0.000000</td>\n",
              "      <td>0.001425</td>\n",
              "      <td>1135592.00000000</td>\n",
              "      <td>21</td>\n",
              "      <td>0.070225</td>\n",
              "    </tr>\n",
              "    <tr>\n",
              "      <th>2</th>\n",
              "      <td>91960.97</td>\n",
              "      <td>70.22032000</td>\n",
              "      <td>6386</td>\n",
              "      <td>0.134171</td>\n",
              "      <td>0.3005</td>\n",
              "      <td>80701.00000000</td>\n",
              "      <td>311</td>\n",
              "      <td>0.501672</td>\n",
              "      <td>2.3147</td>\n",
              "      <td>229433.00000000</td>\n",
              "      <td>...</td>\n",
              "      <td>32</td>\n",
              "      <td>0.443343</td>\n",
              "      <td>1.0001</td>\n",
              "      <td>1136218.00000000</td>\n",
              "      <td>716</td>\n",
              "      <td>0.000000</td>\n",
              "      <td>0.001425</td>\n",
              "      <td>96487.00000000</td>\n",
              "      <td>4</td>\n",
              "      <td>0.000000</td>\n",
              "    </tr>\n",
              "    <tr>\n",
              "      <th>3</th>\n",
              "      <td>91862.77</td>\n",
              "      <td>50.83532000</td>\n",
              "      <td>4539</td>\n",
              "      <td>-0.106784</td>\n",
              "      <td>0.3000</td>\n",
              "      <td>174073.00000000</td>\n",
              "      <td>666</td>\n",
              "      <td>-0.166389</td>\n",
              "      <td>2.3108</td>\n",
              "      <td>288404.00000000</td>\n",
              "      <td>...</td>\n",
              "      <td>61</td>\n",
              "      <td>-0.038946</td>\n",
              "      <td>1.0001</td>\n",
              "      <td>740184.00000000</td>\n",
              "      <td>645</td>\n",
              "      <td>0.000000</td>\n",
              "      <td>0.001431</td>\n",
              "      <td>1772593.00000000</td>\n",
              "      <td>14</td>\n",
              "      <td>0.421053</td>\n",
              "    </tr>\n",
              "    <tr>\n",
              "      <th>4</th>\n",
              "      <td>91670.09</td>\n",
              "      <td>62.93148000</td>\n",
              "      <td>11779</td>\n",
              "      <td>-0.209748</td>\n",
              "      <td>0.2988</td>\n",
              "      <td>101822.00000000</td>\n",
              "      <td>546</td>\n",
              "      <td>-0.400000</td>\n",
              "      <td>2.2979</td>\n",
              "      <td>668514.00000000</td>\n",
              "      <td>...</td>\n",
              "      <td>6</td>\n",
              "      <td>-0.259740</td>\n",
              "      <td>1.0000</td>\n",
              "      <td>2203330.00000000</td>\n",
              "      <td>592</td>\n",
              "      <td>-0.009999</td>\n",
              "      <td>0.001420</td>\n",
              "      <td>484068.00000000</td>\n",
              "      <td>9</td>\n",
              "      <td>-0.768693</td>\n",
              "    </tr>\n",
              "    <tr>\n",
              "      <th>...</th>\n",
              "      <td>...</td>\n",
              "      <td>...</td>\n",
              "      <td>...</td>\n",
              "      <td>...</td>\n",
              "      <td>...</td>\n",
              "      <td>...</td>\n",
              "      <td>...</td>\n",
              "      <td>...</td>\n",
              "      <td>...</td>\n",
              "      <td>...</td>\n",
              "      <td>...</td>\n",
              "      <td>...</td>\n",
              "      <td>...</td>\n",
              "      <td>...</td>\n",
              "      <td>...</td>\n",
              "      <td>...</td>\n",
              "      <td>...</td>\n",
              "      <td>...</td>\n",
              "      <td>...</td>\n",
              "      <td>...</td>\n",
              "      <td>...</td>\n",
              "    </tr>\n",
              "    <tr>\n",
              "      <th>129596</th>\n",
              "      <td>109030.02</td>\n",
              "      <td>21.06713000</td>\n",
              "      <td>3921</td>\n",
              "      <td>0.130437</td>\n",
              "      <td>0.2878</td>\n",
              "      <td>12764.00000000</td>\n",
              "      <td>41</td>\n",
              "      <td>0.104348</td>\n",
              "      <td>2.3434</td>\n",
              "      <td>99206.80000000</td>\n",
              "      <td>...</td>\n",
              "      <td>1</td>\n",
              "      <td>-0.072202</td>\n",
              "      <td>0.9995</td>\n",
              "      <td>1145036.00000000</td>\n",
              "      <td>215</td>\n",
              "      <td>0.000000</td>\n",
              "      <td>0.001126</td>\n",
              "      <td>0.00000000</td>\n",
              "      <td>0</td>\n",
              "      <td>0.000000</td>\n",
              "    </tr>\n",
              "    <tr>\n",
              "      <th>129597</th>\n",
              "      <td>109024.39</td>\n",
              "      <td>5.10152000</td>\n",
              "      <td>1789</td>\n",
              "      <td>-0.005164</td>\n",
              "      <td>0.2877</td>\n",
              "      <td>26887.00000000</td>\n",
              "      <td>36</td>\n",
              "      <td>-0.034746</td>\n",
              "      <td>2.3432</td>\n",
              "      <td>87402.20000000</td>\n",
              "      <td>...</td>\n",
              "      <td>1</td>\n",
              "      <td>0.120424</td>\n",
              "      <td>0.9995</td>\n",
              "      <td>623068.00000000</td>\n",
              "      <td>119</td>\n",
              "      <td>0.000000</td>\n",
              "      <td>0.001126</td>\n",
              "      <td>0.00000000</td>\n",
              "      <td>0</td>\n",
              "      <td>0.000000</td>\n",
              "    </tr>\n",
              "    <tr>\n",
              "      <th>129598</th>\n",
              "      <td>108995.95</td>\n",
              "      <td>7.48873000</td>\n",
              "      <td>769</td>\n",
              "      <td>-0.026086</td>\n",
              "      <td>0.2878</td>\n",
              "      <td>21890.00000000</td>\n",
              "      <td>44</td>\n",
              "      <td>0.034758</td>\n",
              "      <td>2.3417</td>\n",
              "      <td>34994.50000000</td>\n",
              "      <td>...</td>\n",
              "      <td>4</td>\n",
              "      <td>-0.216502</td>\n",
              "      <td>0.9995</td>\n",
              "      <td>144815.00000000</td>\n",
              "      <td>146</td>\n",
              "      <td>0.000000</td>\n",
              "      <td>0.001126</td>\n",
              "      <td>0.00000000</td>\n",
              "      <td>0</td>\n",
              "      <td>0.000000</td>\n",
              "    </tr>\n",
              "    <tr>\n",
              "      <th>129599</th>\n",
              "      <td>109004.19</td>\n",
              "      <td>6.56241000</td>\n",
              "      <td>1298</td>\n",
              "      <td>0.007560</td>\n",
              "      <td>0.2878</td>\n",
              "      <td>22099.00000000</td>\n",
              "      <td>25</td>\n",
              "      <td>0.000000</td>\n",
              "      <td>2.3417</td>\n",
              "      <td>31291.00000000</td>\n",
              "      <td>...</td>\n",
              "      <td>0</td>\n",
              "      <td>0.000000</td>\n",
              "      <td>0.9995</td>\n",
              "      <td>17396.00000000</td>\n",
              "      <td>90</td>\n",
              "      <td>0.000000</td>\n",
              "      <td>0.001126</td>\n",
              "      <td>123675.00000000</td>\n",
              "      <td>1</td>\n",
              "      <td>0.000000</td>\n",
              "    </tr>\n",
              "    <tr>\n",
              "      <th>129600</th>\n",
              "      <td>108956.25</td>\n",
              "      <td>12.92937000</td>\n",
              "      <td>2879</td>\n",
              "      <td>-0.043980</td>\n",
              "      <td>0.2876</td>\n",
              "      <td>21526.00000000</td>\n",
              "      <td>97</td>\n",
              "      <td>-0.069493</td>\n",
              "      <td>2.3415</td>\n",
              "      <td>98392.30000000</td>\n",
              "      <td>...</td>\n",
              "      <td>10</td>\n",
              "      <td>0.024108</td>\n",
              "      <td>0.9994</td>\n",
              "      <td>477597.00000000</td>\n",
              "      <td>203</td>\n",
              "      <td>-0.010005</td>\n",
              "      <td>0.001125</td>\n",
              "      <td>411203.00000000</td>\n",
              "      <td>4</td>\n",
              "      <td>-0.088810</td>\n",
              "    </tr>\n",
              "  </tbody>\n",
              "</table>\n",
              "<p>129601 rows × 76 columns</p>\n",
              "</div>\n",
              "    <div class=\"colab-df-buttons\">\n",
              "\n",
              "  <div class=\"colab-df-container\">\n",
              "    <button class=\"colab-df-convert\" onclick=\"convertToInteractive('df-9b499245-9301-4e09-a043-c8b87a24cfe9')\"\n",
              "            title=\"Convert this dataframe to an interactive table.\"\n",
              "            style=\"display:none;\">\n",
              "\n",
              "  <svg xmlns=\"http://www.w3.org/2000/svg\" height=\"24px\" viewBox=\"0 -960 960 960\">\n",
              "    <path d=\"M120-120v-720h720v720H120Zm60-500h600v-160H180v160Zm220 220h160v-160H400v160Zm0 220h160v-160H400v160ZM180-400h160v-160H180v160Zm440 0h160v-160H620v160ZM180-180h160v-160H180v160Zm440 0h160v-160H620v160Z\"/>\n",
              "  </svg>\n",
              "    </button>\n",
              "\n",
              "  <style>\n",
              "    .colab-df-container {\n",
              "      display:flex;\n",
              "      gap: 12px;\n",
              "    }\n",
              "\n",
              "    .colab-df-convert {\n",
              "      background-color: #E8F0FE;\n",
              "      border: none;\n",
              "      border-radius: 50%;\n",
              "      cursor: pointer;\n",
              "      display: none;\n",
              "      fill: #1967D2;\n",
              "      height: 32px;\n",
              "      padding: 0 0 0 0;\n",
              "      width: 32px;\n",
              "    }\n",
              "\n",
              "    .colab-df-convert:hover {\n",
              "      background-color: #E2EBFA;\n",
              "      box-shadow: 0px 1px 2px rgba(60, 64, 67, 0.3), 0px 1px 3px 1px rgba(60, 64, 67, 0.15);\n",
              "      fill: #174EA6;\n",
              "    }\n",
              "\n",
              "    .colab-df-buttons div {\n",
              "      margin-bottom: 4px;\n",
              "    }\n",
              "\n",
              "    [theme=dark] .colab-df-convert {\n",
              "      background-color: #3B4455;\n",
              "      fill: #D2E3FC;\n",
              "    }\n",
              "\n",
              "    [theme=dark] .colab-df-convert:hover {\n",
              "      background-color: #434B5C;\n",
              "      box-shadow: 0px 1px 3px 1px rgba(0, 0, 0, 0.15);\n",
              "      filter: drop-shadow(0px 1px 2px rgba(0, 0, 0, 0.3));\n",
              "      fill: #FFFFFF;\n",
              "    }\n",
              "  </style>\n",
              "\n",
              "    <script>\n",
              "      const buttonEl =\n",
              "        document.querySelector('#df-9b499245-9301-4e09-a043-c8b87a24cfe9 button.colab-df-convert');\n",
              "      buttonEl.style.display =\n",
              "        google.colab.kernel.accessAllowed ? 'block' : 'none';\n",
              "\n",
              "      async function convertToInteractive(key) {\n",
              "        const element = document.querySelector('#df-9b499245-9301-4e09-a043-c8b87a24cfe9');\n",
              "        const dataTable =\n",
              "          await google.colab.kernel.invokeFunction('convertToInteractive',\n",
              "                                                    [key], {});\n",
              "        if (!dataTable) return;\n",
              "\n",
              "        const docLinkHtml = 'Like what you see? Visit the ' +\n",
              "          '<a target=\"_blank\" href=https://colab.research.google.com/notebooks/data_table.ipynb>data table notebook</a>'\n",
              "          + ' to learn more about interactive tables.';\n",
              "        element.innerHTML = '';\n",
              "        dataTable['output_type'] = 'display_data';\n",
              "        await google.colab.output.renderOutput(dataTable, element);\n",
              "        const docLink = document.createElement('div');\n",
              "        docLink.innerHTML = docLinkHtml;\n",
              "        element.appendChild(docLink);\n",
              "      }\n",
              "    </script>\n",
              "  </div>\n",
              "\n",
              "\n",
              "    <div id=\"df-51258a99-7fab-4334-8543-faf36905592d\">\n",
              "      <button class=\"colab-df-quickchart\" onclick=\"quickchart('df-51258a99-7fab-4334-8543-faf36905592d')\"\n",
              "                title=\"Suggest charts\"\n",
              "                style=\"display:none;\">\n",
              "\n",
              "<svg xmlns=\"http://www.w3.org/2000/svg\" height=\"24px\"viewBox=\"0 0 24 24\"\n",
              "     width=\"24px\">\n",
              "    <g>\n",
              "        <path d=\"M19 3H5c-1.1 0-2 .9-2 2v14c0 1.1.9 2 2 2h14c1.1 0 2-.9 2-2V5c0-1.1-.9-2-2-2zM9 17H7v-7h2v7zm4 0h-2V7h2v10zm4 0h-2v-4h2v4z\"/>\n",
              "    </g>\n",
              "</svg>\n",
              "      </button>\n",
              "\n",
              "<style>\n",
              "  .colab-df-quickchart {\n",
              "      --bg-color: #E8F0FE;\n",
              "      --fill-color: #1967D2;\n",
              "      --hover-bg-color: #E2EBFA;\n",
              "      --hover-fill-color: #174EA6;\n",
              "      --disabled-fill-color: #AAA;\n",
              "      --disabled-bg-color: #DDD;\n",
              "  }\n",
              "\n",
              "  [theme=dark] .colab-df-quickchart {\n",
              "      --bg-color: #3B4455;\n",
              "      --fill-color: #D2E3FC;\n",
              "      --hover-bg-color: #434B5C;\n",
              "      --hover-fill-color: #FFFFFF;\n",
              "      --disabled-bg-color: #3B4455;\n",
              "      --disabled-fill-color: #666;\n",
              "  }\n",
              "\n",
              "  .colab-df-quickchart {\n",
              "    background-color: var(--bg-color);\n",
              "    border: none;\n",
              "    border-radius: 50%;\n",
              "    cursor: pointer;\n",
              "    display: none;\n",
              "    fill: var(--fill-color);\n",
              "    height: 32px;\n",
              "    padding: 0;\n",
              "    width: 32px;\n",
              "  }\n",
              "\n",
              "  .colab-df-quickchart:hover {\n",
              "    background-color: var(--hover-bg-color);\n",
              "    box-shadow: 0 1px 2px rgba(60, 64, 67, 0.3), 0 1px 3px 1px rgba(60, 64, 67, 0.15);\n",
              "    fill: var(--button-hover-fill-color);\n",
              "  }\n",
              "\n",
              "  .colab-df-quickchart-complete:disabled,\n",
              "  .colab-df-quickchart-complete:disabled:hover {\n",
              "    background-color: var(--disabled-bg-color);\n",
              "    fill: var(--disabled-fill-color);\n",
              "    box-shadow: none;\n",
              "  }\n",
              "\n",
              "  .colab-df-spinner {\n",
              "    border: 2px solid var(--fill-color);\n",
              "    border-color: transparent;\n",
              "    border-bottom-color: var(--fill-color);\n",
              "    animation:\n",
              "      spin 1s steps(1) infinite;\n",
              "  }\n",
              "\n",
              "  @keyframes spin {\n",
              "    0% {\n",
              "      border-color: transparent;\n",
              "      border-bottom-color: var(--fill-color);\n",
              "      border-left-color: var(--fill-color);\n",
              "    }\n",
              "    20% {\n",
              "      border-color: transparent;\n",
              "      border-left-color: var(--fill-color);\n",
              "      border-top-color: var(--fill-color);\n",
              "    }\n",
              "    30% {\n",
              "      border-color: transparent;\n",
              "      border-left-color: var(--fill-color);\n",
              "      border-top-color: var(--fill-color);\n",
              "      border-right-color: var(--fill-color);\n",
              "    }\n",
              "    40% {\n",
              "      border-color: transparent;\n",
              "      border-right-color: var(--fill-color);\n",
              "      border-top-color: var(--fill-color);\n",
              "    }\n",
              "    60% {\n",
              "      border-color: transparent;\n",
              "      border-right-color: var(--fill-color);\n",
              "    }\n",
              "    80% {\n",
              "      border-color: transparent;\n",
              "      border-right-color: var(--fill-color);\n",
              "      border-bottom-color: var(--fill-color);\n",
              "    }\n",
              "    90% {\n",
              "      border-color: transparent;\n",
              "      border-bottom-color: var(--fill-color);\n",
              "    }\n",
              "  }\n",
              "</style>\n",
              "\n",
              "      <script>\n",
              "        async function quickchart(key) {\n",
              "          const quickchartButtonEl =\n",
              "            document.querySelector('#' + key + ' button');\n",
              "          quickchartButtonEl.disabled = true;  // To prevent multiple clicks.\n",
              "          quickchartButtonEl.classList.add('colab-df-spinner');\n",
              "          try {\n",
              "            const charts = await google.colab.kernel.invokeFunction(\n",
              "                'suggestCharts', [key], {});\n",
              "          } catch (error) {\n",
              "            console.error('Error during call to suggestCharts:', error);\n",
              "          }\n",
              "          quickchartButtonEl.classList.remove('colab-df-spinner');\n",
              "          quickchartButtonEl.classList.add('colab-df-quickchart-complete');\n",
              "        }\n",
              "        (() => {\n",
              "          let quickchartButtonEl =\n",
              "            document.querySelector('#df-51258a99-7fab-4334-8543-faf36905592d button');\n",
              "          quickchartButtonEl.style.display =\n",
              "            google.colab.kernel.accessAllowed ? 'block' : 'none';\n",
              "        })();\n",
              "      </script>\n",
              "    </div>\n",
              "\n",
              "    </div>\n",
              "  </div>\n"
            ],
            "application/vnd.google.colaboratory.intrinsic+json": {
              "type": "dataframe"
            }
          },
          "metadata": {},
          "execution_count": 12
        }
      ]
    },
    {
      "cell_type": "markdown",
      "source": [
        "Normalizing Data Z-Score"
      ],
      "metadata": {
        "id": "G6WC00ArFE8E"
      }
    },
    {
      "cell_type": "code",
      "source": [
        "##Normalization\n",
        "\n",
        "for x in selected_f_all:\n",
        "  data_all[x] = data_all[x].fillna(0)\n",
        "  data_all[x] = data_all[x].astype(float)\n",
        "  data_all[x] = (data_all[x]-data_all[x].mean())/(data_all[x].std())"
      ],
      "metadata": {
        "id": "oYBQteQlgw_C"
      },
      "execution_count": 13,
      "outputs": []
    },
    {
      "cell_type": "markdown",
      "source": [
        "Create time index for TimseNet"
      ],
      "metadata": {
        "id": "ZfnZQuMTFHWL"
      }
    },
    {
      "cell_type": "code",
      "source": [
        "import warnings\n",
        "warnings.filterwarnings('ignore')\n",
        "from torch.utils.data import Dataset, DataLoader\n",
        "\n",
        "df_stamp = data_all[['time']].rename(columns={'time':'dateTime'})\n",
        "df_stamp['dateTime'] = pd.to_datetime(df_stamp['dateTime'])\n",
        "df_stamp['month'] = df_stamp.dateTime.apply(lambda row: row.month, 1)\n",
        "df_stamp['day'] = df_stamp.dateTime.apply(lambda row: row.day, 1)\n",
        "df_stamp['weekday'] = df_stamp.dateTime.apply(lambda row: row.weekday(), 1)\n",
        "df_stamp['hour'] = df_stamp.dateTime.apply(lambda row: row.hour, 1)\n",
        "df_stamp['minute'] = df_stamp.dateTime.apply(lambda row: row.minute, 1)\n",
        "data_stamp = df_stamp.drop(['dateTime'], axis=1)"
      ],
      "metadata": {
        "id": "PWQs34gQ7njD"
      },
      "execution_count": 14,
      "outputs": []
    },
    {
      "cell_type": "markdown",
      "source": [
        "Dataset Class and Creating DataLoader"
      ],
      "metadata": {
        "id": "dZDx752vFLTr"
      }
    },
    {
      "cell_type": "code",
      "source": [
        "import torch\n",
        "from torch.utils.data import Dataset\n",
        "import numpy as np\n",
        "from torch.utils.data import Dataset, DataLoader\n",
        "\n",
        "class NewsTimeSeriesDataset(Dataset):\n",
        "    def __init__(self, df, data_stamp, selected_f_all, stock_list, seq_len=30):\n",
        "        self.df = df.reset_index(drop=True)\n",
        "        self.data_stamp = data_stamp.reset_index(drop=True)\n",
        "        self.features = selected_f_all\n",
        "        self.seq_len = seq_len\n",
        "        self.stock_list = [x+'_target' for x in stock_list]\n",
        "\n",
        "    def __len__(self):\n",
        "        return len(self.df) - self.seq_len\n",
        "\n",
        "    def __getitem__(self, idx):\n",
        "        ts_window = self.df.loc[idx:idx + self.seq_len - 1, self.features].values.astype('float32')\n",
        "        x_mask = self.data_stamp.loc[idx:idx + self.seq_len - 1].values.astype('float32')\n",
        "        news_window = self.df.loc[idx:idx + self.seq_len - 1, 'embedding'].values\n",
        "        news_window = np.stack(news_window).astype('float32')\n",
        "        target = self.df.loc[idx + self.seq_len, self.stock_list].values.astype('float32')  # shape: [19]\n",
        "        return {\n",
        "            'timeseries': torch.tensor(ts_window),     # [30, 114]\n",
        "            'news': torch.tensor(news_window),         # [30, 768]\n",
        "            'target': torch.tensor(target),\n",
        "            'time_mask':torch.tensor(x_mask)# [19]\n",
        "        }\n",
        "\n",
        "\n",
        "split = int(0.8 * len(data_all))\n",
        "\n",
        "train_dataset = NewsTimeSeriesDataset(data_all.iloc[:split], data_stamp.iloc[:split], selected_f_all, list_crypto, seq_len=30)\n",
        "val_dataset = NewsTimeSeriesDataset(data_all.iloc[split:], data_stamp.iloc[split:], selected_f_all, list_crypto, seq_len=30)\n",
        "\n",
        "train_loader = DataLoader(train_dataset, batch_size=32, shuffle=True)\n",
        "val_loader = DataLoader(val_dataset, batch_size=32)\n"
      ],
      "metadata": {
        "id": "Pfe2ODdGKlBd"
      },
      "execution_count": 15,
      "outputs": []
    },
    {
      "cell_type": "markdown",
      "source": [
        "Model Architecture"
      ],
      "metadata": {
        "id": "06iS9y2-FNjs"
      }
    },
    {
      "cell_type": "code",
      "source": [
        "import torch\n",
        "import torch.nn as nn\n",
        "import torch.nn.functional as F\n",
        "from torch.nn.utils import weight_norm\n",
        "import math\n",
        "\n",
        "import torch\n",
        "import torch.nn as nn\n",
        "\n",
        "\n",
        "class Inception_Block_V1(nn.Module):\n",
        "    def __init__(self, in_channels, out_channels, num_kernels=6, init_weight=True):\n",
        "        super(Inception_Block_V1, self).__init__()\n",
        "        self.in_channels = in_channels\n",
        "        self.out_channels = out_channels\n",
        "        self.num_kernels = num_kernels\n",
        "        kernels = []\n",
        "        for i in range(self.num_kernels):\n",
        "            kernels.append(nn.Conv2d(in_channels, out_channels, kernel_size=2 * i + 1, padding=i))\n",
        "        self.kernels = nn.ModuleList(kernels)\n",
        "        if init_weight:\n",
        "            self._initialize_weights()\n",
        "\n",
        "    def _initialize_weights(self):\n",
        "        for m in self.modules():\n",
        "            if isinstance(m, nn.Conv2d):\n",
        "                nn.init.kaiming_normal_(m.weight, mode='fan_out', nonlinearity='relu')\n",
        "                if m.bias is not None:\n",
        "                    nn.init.constant_(m.bias, 0)\n",
        "\n",
        "    def forward(self, x):\n",
        "        res_list = []\n",
        "        for i in range(self.num_kernels):\n",
        "            res_list.append(self.kernels[i](x))\n",
        "        res = torch.stack(res_list, dim=-1).mean(-1)\n",
        "        return res\n",
        "\n",
        "\n",
        "class PositionalEmbedding(nn.Module):\n",
        "    def __init__(self, d_model, max_len=5000):\n",
        "        super(PositionalEmbedding, self).__init__()\n",
        "        # Compute the positional encodings once in log space.\n",
        "        pe = torch.zeros(max_len, d_model).float()\n",
        "        pe.require_grad = False\n",
        "\n",
        "        position = torch.arange(0, max_len).float().unsqueeze(1)\n",
        "        div_term = (torch.arange(0, d_model, 2).float()\n",
        "                    * -(math.log(10000.0) / d_model)).exp()\n",
        "\n",
        "        pe[:, 0::2] = torch.sin(position * div_term)\n",
        "        pe[:, 1::2] = torch.cos(position * div_term)\n",
        "\n",
        "        pe = pe.unsqueeze(0)\n",
        "        self.register_buffer('pe', pe)\n",
        "\n",
        "    def forward(self, x):\n",
        "        return self.pe[:, :x.size(1)]\n",
        "\n",
        "\n",
        "class TokenEmbedding(nn.Module):\n",
        "    def __init__(self, c_in, d_model):\n",
        "        super(TokenEmbedding, self).__init__()\n",
        "        padding = 1 if torch.__version__ >= '1.5.0' else 2\n",
        "        self.tokenConv = nn.Conv1d(in_channels=c_in, out_channels=d_model,\n",
        "                                   kernel_size=3, padding=padding, padding_mode='circular', bias=False)\n",
        "        for m in self.modules():\n",
        "            if isinstance(m, nn.Conv1d):\n",
        "                nn.init.kaiming_normal_(\n",
        "                    m.weight, mode='fan_in', nonlinearity='leaky_relu')\n",
        "\n",
        "    def forward(self, x):\n",
        "        x = self.tokenConv(x.permute(0, 2, 1)).transpose(1, 2)\n",
        "        return x\n",
        "\n",
        "\n",
        "class FixedEmbedding(nn.Module):\n",
        "    def __init__(self, c_in, d_model):\n",
        "        super(FixedEmbedding, self).__init__()\n",
        "\n",
        "        w = torch.zeros(c_in, d_model).float()\n",
        "        w.require_grad = False\n",
        "\n",
        "        position = torch.arange(0, c_in).float().unsqueeze(1)\n",
        "        div_term = (torch.arange(0, d_model, 2).float()\n",
        "                    * -(math.log(10000.0) / d_model)).exp()\n",
        "\n",
        "        w[:, 0::2] = torch.sin(position * div_term)\n",
        "        w[:, 1::2] = torch.cos(position * div_term)\n",
        "\n",
        "        self.emb = nn.Embedding(c_in, d_model)\n",
        "        self.emb.weight = nn.Parameter(w, requires_grad=False)\n",
        "\n",
        "    def forward(self, x):\n",
        "        return self.emb(x).detach()\n",
        "\n",
        "\n",
        "class TemporalEmbedding(nn.Module):\n",
        "    def __init__(self, d_model, embed_type='fixed', freq='h'):\n",
        "        super(TemporalEmbedding, self).__init__()\n",
        "\n",
        "        minute_size = 4\n",
        "        hour_size = 24\n",
        "        weekday_size = 7\n",
        "        day_size = 32\n",
        "        month_size = 13\n",
        "\n",
        "        Embed = FixedEmbedding if embed_type == 'fixed' else nn.Embedding\n",
        "        if freq == 't':\n",
        "            self.minute_embed = Embed(minute_size, d_model)\n",
        "        self.hour_embed = Embed(hour_size, d_model)\n",
        "        self.weekday_embed = Embed(weekday_size, d_model)\n",
        "        self.day_embed = Embed(day_size, d_model)\n",
        "        self.month_embed = Embed(month_size, d_model)\n",
        "\n",
        "    def forward(self, x):\n",
        "        x = x.long()\n",
        "        minute_x = self.minute_embed(x[:, :, 4]) if hasattr(\n",
        "            self, 'minute_embed') else 0.\n",
        "        hour_x = self.hour_embed(x[:, :, 3])\n",
        "        weekday_x = self.weekday_embed(x[:, :, 2])\n",
        "        day_x = self.day_embed(x[:, :, 1])\n",
        "        month_x = self.month_embed(x[:, :, 0])\n",
        "\n",
        "        return hour_x + weekday_x + day_x + month_x + minute_x\n",
        "\n",
        "\n",
        "class TimeFeatureEmbedding(nn.Module):\n",
        "    def __init__(self, d_model, embed_type='timeF', freq='h'):\n",
        "        super(TimeFeatureEmbedding, self).__init__()\n",
        "\n",
        "        freq_map = {'h': 4, 't': 5, 's': 6,\n",
        "                    'm': 1, 'a': 1, 'w': 2, 'd': 3, 'b': 3}\n",
        "        d_inp = freq_map[freq]\n",
        "        self.embed = nn.Linear(d_inp, d_model, bias=False)\n",
        "\n",
        "    def forward(self, x):\n",
        "        return self.embed(x)\n",
        "\n",
        "\n",
        "class DataEmbedding(nn.Module):\n",
        "    def __init__(self, c_in, d_model, embed_type='fixed', freq='h', dropout=0.1):\n",
        "        super(DataEmbedding, self).__init__()\n",
        "\n",
        "        self.value_embedding = TokenEmbedding(c_in=c_in, d_model=d_model)\n",
        "        self.position_embedding = PositionalEmbedding(d_model=d_model)\n",
        "        self.temporal_embedding = TemporalEmbedding(d_model=d_model, embed_type=embed_type,\n",
        "                                                    freq=freq) if embed_type != 'timeF' else TimeFeatureEmbedding(\n",
        "            d_model=d_model, embed_type=embed_type, freq=freq)\n",
        "        self.dropout = nn.Dropout(p=dropout)\n",
        "\n",
        "    def forward(self, x, x_mark):\n",
        "        if x_mark is None:\n",
        "            x = self.value_embedding(x) + self.position_embedding(x)\n",
        "        else:\n",
        "            x = self.value_embedding(\n",
        "                x) + self.temporal_embedding(x_mark) + self.position_embedding(x)\n",
        "        return self.dropout(x)\n",
        "\n",
        "\n",
        "class DataEmbedding_inverted(nn.Module):\n",
        "    def __init__(self, c_in, d_model, embed_type='fixed', freq='h', dropout=0.1):\n",
        "        super(DataEmbedding_inverted, self).__init__()\n",
        "        self.value_embedding = nn.Linear(c_in, d_model)\n",
        "        self.dropout = nn.Dropout(p=dropout)\n",
        "\n",
        "    def forward(self, x, x_mark):\n",
        "        x = x.permute(0, 2, 1)\n",
        "        # x: [Batch Variate Time]\n",
        "        if x_mark is None:\n",
        "            x = self.value_embedding(x)\n",
        "        else:\n",
        "            x = self.value_embedding(torch.cat([x, x_mark.permute(0, 2, 1)], 1))\n",
        "        # x: [Batch Variate d_model]\n",
        "        return self.dropout(x)\n",
        "\n",
        "\n",
        "class DataEmbedding_wo_pos(nn.Module):\n",
        "    def __init__(self, c_in, d_model, embed_type='fixed', freq='h', dropout=0.1):\n",
        "        super(DataEmbedding_wo_pos, self).__init__()\n",
        "\n",
        "        self.value_embedding = TokenEmbedding(c_in=c_in, d_model=d_model)\n",
        "        self.position_embedding = PositionalEmbedding(d_model=d_model)\n",
        "        self.temporal_embedding = TemporalEmbedding(d_model=d_model, embed_type=embed_type,\n",
        "                                                    freq=freq) if embed_type != 'timeF' else TimeFeatureEmbedding(\n",
        "            d_model=d_model, embed_type=embed_type, freq=freq)\n",
        "        self.dropout = nn.Dropout(p=dropout)\n",
        "\n",
        "    def forward(self, x, x_mark):\n",
        "        if x_mark is None:\n",
        "            x = self.value_embedding(x)\n",
        "        else:\n",
        "            x = self.value_embedding(x) + self.temporal_embedding(x_mark)\n",
        "        return self.dropout(x)\n",
        "\n",
        "\n",
        "class PatchEmbedding(nn.Module):\n",
        "    def __init__(self, d_model, patch_len, stride, padding, dropout):\n",
        "        super(PatchEmbedding, self).__init__()\n",
        "        # Patching\n",
        "        self.patch_len = patch_len\n",
        "        self.stride = stride\n",
        "        self.padding_patch_layer = nn.ReplicationPad1d((0, padding))\n",
        "\n",
        "        # Backbone, Input encoding: projection of feature vectors onto a d-dim vector space\n",
        "        self.value_embedding = nn.Linear(patch_len, d_model, bias=False)\n",
        "\n",
        "        # Positional embedding\n",
        "        self.position_embedding = PositionalEmbedding(d_model)\n",
        "\n",
        "        # Residual dropout\n",
        "        self.dropout = nn.Dropout(dropout)\n",
        "\n",
        "    def forward(self, x):\n",
        "        # do patching\n",
        "        n_vars = x.shape[1]\n",
        "        x = self.padding_patch_layer(x)\n",
        "        x = x.unfold(dimension=-1, size=self.patch_len, step=self.stride)\n",
        "        x = torch.reshape(x, (x.shape[0] * x.shape[1], x.shape[2], x.shape[3]))\n",
        "        # Input encoding\n",
        "        x = self.value_embedding(x) + self.position_embedding(x)\n",
        "        return self.dropout(x), n_vars\n",
        "\n",
        "from torch import Tensor\n",
        "class GatedCrossAttentionFusion2D(nn.Module):\n",
        "    \"\"\"\n",
        "    Fusion module for MSGCA with 2D inputs:\n",
        "    1. Cross-attention between two modalities.\n",
        "    2. Gated feature selection guided by a primary modality.\n",
        "    Inputs are 2D: (batch_size, d_model)\n",
        "    \"\"\"\n",
        "    def __init__(self, d_model: int, n_heads: int):\n",
        "        super().__init__()\n",
        "        self.d_model = d_model\n",
        "        self.n_heads = n_heads\n",
        "        self.head_dim = d_model // n_heads\n",
        "\n",
        "        # Cross-attention projections (for queries, keys, values)\n",
        "        self.q_proj = nn.Linear(d_model, d_model)\n",
        "        self.k_proj = nn.Linear(d_model, d_model)\n",
        "        self.v_proj = nn.Linear(d_model, d_model)\n",
        "\n",
        "        # Gating mechanism projections\n",
        "        self.gate_proj = nn.Linear(d_model, d_model)  # For primary modality\n",
        "        self.unstable_proj = nn.Linear(d_model, d_model)  # For unstable features\n",
        "\n",
        "        # Output projection\n",
        "        self.out_proj = nn.Linear(d_model, d_model)\n",
        "\n",
        "    def forward(self,\n",
        "                primary: torch.Tensor,\n",
        "                auxiliary: torch.Tensor,\n",
        "                ) -> torch.Tensor:\n",
        "        \"\"\"\n",
        "        Args:\n",
        "            primary:   (batch_size, d_model)\n",
        "            auxiliary: (batch_size, d_model)\n",
        "        Returns:\n",
        "            fused:     (batch_size, d_model)\n",
        "        \"\"\"\n",
        "        # --- Step 1: Unstable Cross-Attention Fusion ---\n",
        "        Q = self.q_proj(primary)  # (batch, d_model)\n",
        "        K = self.k_proj(auxiliary)\n",
        "        V = self.v_proj(auxiliary)\n",
        "\n",
        "        # Multi-head attention for 2D inputs\n",
        "        batch_size, _ = Q.size()\n",
        "\n",
        "        # Reshape for multi-head attention\n",
        "        # (batch, n_heads, head_dim)\n",
        "        Q = Q.view(batch_size, self.n_heads, self.head_dim)\n",
        "        K = K.view(batch_size, self.n_heads, self.head_dim)\n",
        "        V = V.view(batch_size, self.n_heads, self.head_dim)\n",
        "\n",
        "        # Scaled dot-product attention\n",
        "        # (batch, n_heads, n_heads)\n",
        "        attn_scores = torch.matmul(Q, K.transpose(-2, -1)) / (self.head_dim ** 0.5)\n",
        "        attn_weights = F.softmax(attn_scores, dim=-1)\n",
        "        # (batch, n_heads, head_dim)\n",
        "        attn_output = torch.matmul(attn_weights, V)\n",
        "\n",
        "        # Restore original shape: (batch, d_model)\n",
        "        attn_output = attn_output.view(batch_size, self.d_model)\n",
        "\n",
        "        # --- Step 2: Stable Gated Feature Selection ---\n",
        "        # (batch, d_model)\n",
        "        unstable_features = self.unstable_proj(attn_output)\n",
        "        gate = torch.sigmoid(self.gate_proj(primary))\n",
        "\n",
        "        # Element-wise gating\n",
        "        # (batch, d_model)\n",
        "        fused = unstable_features * gate\n",
        "\n",
        "        # Output projection\n",
        "        fused = self.out_proj(fused)\n",
        "        return fused\n",
        "\n",
        "class MSGCAFusion(nn.Module):\n",
        "    \"\"\"\n",
        "    Complete fusion module for MSGCA:\n",
        "    1. Fuses indicators + documents.\n",
        "    2. Fuses (indicators + documents) + graph.\n",
        "    \"\"\"\n",
        "    def __init__(self, d_model: int, n_heads: int):\n",
        "        super().__init__()\n",
        "        # First fusion: Indicators (primary) + Documents (auxiliary)\n",
        "        self.fusion1 = GatedCrossAttentionFusion2D(d_model, n_heads)\n",
        "\n",
        "\n",
        "    def forward(self,\n",
        "                indicators: Tensor,  # (batch, seq_len, d_model)\n",
        "                documents: Tensor  # (batch, seq_len, d_model)\n",
        "                ) -> Tensor:\n",
        "        # First fusion stage\n",
        "        fused_id = self.fusion1(primary=indicators, auxiliary=documents)  # (batch, seq_len, d_model)\n",
        "\n",
        "        return fused_id\n",
        "\n",
        "\n",
        "\n"
      ],
      "metadata": {
        "id": "avriBN1s5zrP"
      },
      "execution_count": 16,
      "outputs": []
    },
    {
      "cell_type": "code",
      "source": [
        "class InceptionBlock2D(nn.Module):\n",
        "    def __init__(self, in_channels, out_channels, dropout=0.1):\n",
        "        super().__init__()\n",
        "        self.branch1 = nn.Conv2d(in_channels, out_channels, kernel_size=(1, 7), padding=(0, 3))  # Extended time horizon for short-term patterns\n",
        "        self.branch2 = nn.Conv2d(in_channels, out_channels, kernel_size=(3, 5), padding=(1, 2))  # Balanced time-feature relationships\n",
        "        self.branch3 = nn.Conv2d(in_channels, out_channels, kernel_size=(7, 3), padding=(3, 1))  # Enhanced cross-feature interactions\n",
        "        self.relu = nn.ReLU()\n",
        "        self.bn = nn.BatchNorm2d(out_channels * 3)\n",
        "        self.dropout = nn.Dropout(dropout)\n",
        "\n",
        "    def forward(self, x):\n",
        "        out1 = self.branch1(x)\n",
        "        out2 = self.branch2(x)\n",
        "        out3 = self.branch3(x)\n",
        "        out = torch.cat([out1, out2, out3], dim=1)\n",
        "        out = self.relu(self.bn(out))\n",
        "        return self.dropout(out)\n",
        "\n",
        "class TimesBlock(nn.Module):\n",
        "    def __init__(self, d_model, top_k=3, dropout=0.1):\n",
        "        super().__init__()\n",
        "        self.top_k = top_k\n",
        "        self.d_model = d_model\n",
        "        self.inception = InceptionBlock2D(1, 1, dropout)\n",
        "        self.output_proj = nn.Linear(3, d_model)\n",
        "        self.dropout = nn.Dropout(dropout)\n",
        "\n",
        "    def forward(self, x):\n",
        "        B, C, T = x.shape\n",
        "        freq = torch.fft.rfft(x, dim=-1)\n",
        "        amplitude = freq.abs()[:, :, 1:]\n",
        "        topk_indices = torch.topk(amplitude, self.top_k, dim=-1)[1]\n",
        "        periods = (T // (topk_indices + 1)).clamp(min=2)\n",
        "        output = torch.zeros_like(x)\n",
        "\n",
        "        for k in range(self.top_k):\n",
        "            p = periods[:, :, k]\n",
        "            median_p = int(torch.median(p).item())\n",
        "            seq_len = (T // median_p) * median_p\n",
        "            views = x[:, :, :seq_len].reshape(B, C, -1, median_p)\n",
        "            views = views.view(B * C, 1, views.shape[2], median_p)\n",
        "            conv_out = self.inception(views)\n",
        "            conv_out = conv_out.mean(dim=[2, 3])\n",
        "            conv_out = conv_out.view(B, C, -1)\n",
        "            proj_out = self.output_proj(conv_out)\n",
        "            output += proj_out\n",
        "\n",
        "        return self.dropout(output / self.top_k) + x\n",
        "\n",
        "\n",
        "import torch\n",
        "import torch.nn as nn\n",
        "import torch.nn.functional as F\n",
        "import torch.fft\n",
        "from transformers import AutoTokenizer, AutoModel\n",
        "finbert_model_name = \"yiyanghkust/finbert-tone\"\n",
        "\n",
        "\n",
        "\n",
        "def FFT_for_Period(x, k=2):\n",
        "    # [B, T, C]\n",
        "    xf = torch.fft.rfft(x, dim=1)\n",
        "    # find period by amplitudes\n",
        "    frequency_list = abs(xf).mean(0).mean(-1)\n",
        "    frequency_list[0] = 0\n",
        "    _, top_list = torch.topk(frequency_list, k)\n",
        "    top_list = top_list.detach().cpu().numpy()\n",
        "    period = x.shape[1] // top_list\n",
        "    return period, abs(xf).mean(-1)[:, top_list]\n",
        "\n",
        "\n",
        "class TimesBlock(nn.Module):\n",
        "    def __init__(self, configs):\n",
        "        super(TimesBlock, self).__init__()\n",
        "        self.seq_len = configs['seq_len']\n",
        "        self.pred_len = configs['pred_len']\n",
        "        self.k = configs['top_k']\n",
        "        # parameter-efficient design\n",
        "        self.conv = nn.Sequential(\n",
        "            Inception_Block_V1(configs['d_model'], configs['d_ff'],\n",
        "                               num_kernels=configs['num_kernels']),\n",
        "            nn.GELU(),\n",
        "            Inception_Block_V1(configs['d_ff'], configs['d_model'],\n",
        "                               num_kernels=configs['num_kernels'])\n",
        "        )\n",
        "\n",
        "    def forward(self, x):\n",
        "        B, T, N = x.size()\n",
        "        period_list, period_weight = FFT_for_Period(x, self.k)\n",
        "\n",
        "        res = []\n",
        "        for i in range(self.k):\n",
        "            period = period_list[i]\n",
        "            # padding\n",
        "            if (self.seq_len + self.pred_len) % period != 0:\n",
        "                length = (\n",
        "                                 ((self.seq_len + self.pred_len) // period) + 1) * period\n",
        "                padding = torch.zeros([x.shape[0], (length - (self.seq_len + self.pred_len)), x.shape[2]]).to(x.device)\n",
        "                out = torch.cat([x, padding], dim=1)\n",
        "            else:\n",
        "                length = (self.seq_len + self.pred_len)\n",
        "                out = x\n",
        "            # reshape\n",
        "            out = out.reshape(B, length // period, period,\n",
        "                              N).permute(0, 3, 1, 2).contiguous()\n",
        "            # 2D conv: from 1d Variation to 2d Variation\n",
        "            out = self.conv(out)\n",
        "            # reshape back\n",
        "            out = out.permute(0, 2, 3, 1).reshape(B, -1, N)\n",
        "            res.append(out[:, :(self.seq_len + self.pred_len), :])\n",
        "        res = torch.stack(res, dim=-1)\n",
        "        # adaptive aggregation\n",
        "        period_weight = F.softmax(period_weight, dim=1)\n",
        "        period_weight = period_weight.unsqueeze(\n",
        "            1).unsqueeze(1).repeat(1, T, N, 1)\n",
        "        res = torch.sum(res * period_weight, -1)\n",
        "        # residual connection\n",
        "        res = res + x\n",
        "        return res\n",
        "\n",
        "\n",
        "class Model_TimesNet(nn.Module):\n",
        "    \"\"\"\n",
        "    Paper link: https://openreview.net/pdf?id=ju_Uqw384Oq\n",
        "    \"\"\"\n",
        "\n",
        "    def __init__(self, configs):\n",
        "        super(Model_TimesNet, self).__init__()\n",
        "        self.configs = configs\n",
        "        self.seq_len = configs['seq_len']\n",
        "        self.label_len = configs['label_len']\n",
        "        self.pred_len = configs['pred_len']\n",
        "        self.finbert = AutoModel.from_pretrained(finbert_model_name)\n",
        "        self.finbert_proj = nn.Linear(self.finbert.config.hidden_size, configs['d_model'])\n",
        "        self.model = nn.ModuleList([TimesBlock(configs)\n",
        "                                    for _ in range(configs['e_layers'])])\n",
        "        self.enc_embedding = DataEmbedding(configs['enc_in'], configs['d_model'], configs['embed'], configs['freq'],\n",
        "                                           configs['dropout'])\n",
        "        self.layer = configs['e_layers']\n",
        "        self.layer_norm = nn.LayerNorm(configs['d_model'])\n",
        "        self.predict_linear = nn.Linear(\n",
        "            self.seq_len, self.pred_len + self.seq_len)\n",
        "        self.projection = nn.Linear(\n",
        "            configs['d_model'], configs['c_out'], bias=True)\n",
        "        self.projection2 = nn.Linear(\n",
        "            configs['c_out'], configs['num_class'], bias=True)\n",
        "        self.fusion = MSGCAFusion(configs['d_model'], n_heads=8)\n",
        "\n",
        "\n",
        "    def forecast(self, x_enc, x_mark_enc, input_ids, attention_mask):\n",
        "        # embedding\n",
        "        enc_out = self.enc_embedding(x_enc, x_mark_enc)  # [B,T,C]\n",
        "        enc_out = self.predict_linear(enc_out.permute(0, 2, 1)).permute(\n",
        "            0, 2, 1)  # align temporal dimension\n",
        "        # TimesNet\n",
        "        for i in range(self.layer):\n",
        "            enc_out = self.layer_norm(self.model[i](enc_out))\n",
        "        # porject back\n",
        "\n",
        "        enc_out = enc_out[:, -self.pred_len:, :].squeeze(1)\n",
        "\n",
        "        with torch.set_grad_enabled(self.training):\n",
        "            outputs = self.finbert(input_ids=input_ids, attention_mask=attention_mask)\n",
        "            cls_embed = outputs.last_hidden_state[:, 0, :]  # [B, hidden]\n",
        "        x_news = self.finbert_proj(cls_embed)               # [B, d_model]\n",
        "\n",
        "        fusion = self.fusion(enc_out, x_news)\n",
        "        # fusion = torch.cat([enc_out, x_news], dim=-1)      # [B, d_model*2]\n",
        "        dec_out = self.projection(fusion)\n",
        "        return dec_out\n",
        "\n",
        "    def forward(self, x_enc, x_mark_enc, input_ids, attention_mask):\n",
        "        dec_out = self.forecast(x_enc, x_mark_enc, input_ids, attention_mask)\n",
        "\n",
        "        return dec_out  # [B, L, D]\n",
        "\n",
        "\n",
        "import torch.nn as nn\n",
        "\n",
        "class SharedFusionModel(nn.Module):\n",
        "    def __init__(self, configs, ts_input_dim, news_embed_dim, hidden_dim=64, num_stocks=19):\n",
        "        super().__init__()\n",
        "        self.num_stocks = num_stocks\n",
        "        self.configs = configs\n",
        "        self.seq_len = configs['seq_len']\n",
        "        self.label_len = configs['label_len']\n",
        "        self.pred_len = configs['pred_len']\n",
        "        self.model = nn.ModuleList([TimesBlock(configs)\n",
        "                                    for _ in range(configs['e_layers'])])\n",
        "        self.enc_embedding = DataEmbedding(configs['enc_in'], configs['d_model'], configs['embed'], configs['freq'],\n",
        "                                           configs['dropout'])\n",
        "        self.layer = configs['e_layers']\n",
        "        self.layer_norm = nn.LayerNorm(configs['d_model'])\n",
        "        self.predict_linear = nn.Linear(\n",
        "            self.seq_len, self.pred_len + self.seq_len)\n",
        "        self.projection = nn.Linear(\n",
        "            configs['d_model'], configs['c_out'], bias=True)\n",
        "        self.projection2 = nn.Linear(\n",
        "            configs['c_out'], configs['num_class'], bias=True)\n",
        "        self.fusion = MSGCAFusion(configs['d_model'], n_heads=4)\n",
        "\n",
        "\n",
        "        # 1. Project input to Transformer-compatible dim\n",
        "        self.ts_proj = nn.Linear(ts_input_dim, 128)\n",
        "        self.ts_encoder = nn.TransformerEncoder(\n",
        "            nn.TransformerEncoderLayer(d_model=128, nhead=4, dim_feedforward=256, batch_first=True),\n",
        "            num_layers=2\n",
        "        )\n",
        "        self.ts_out = nn.Linear(128, hidden_dim)\n",
        "\n",
        "        # 2. News LSTM\n",
        "        self.news_proj = nn.Linear(news_embed_dim, 64)\n",
        "        self.news_lstm = nn.LSTM(input_size=64, hidden_size=hidden_dim, batch_first=True)\n",
        "\n",
        "        # 3. Stock-specific regression heads (1 per stock)\n",
        "        self.stock_heads = nn.ModuleList([\n",
        "            nn.Sequential(\n",
        "                nn.Linear(hidden_dim, 64),\n",
        "                nn.ReLU(),\n",
        "                nn.Linear(64, 1)\n",
        "            )\n",
        "            for _ in range(num_stocks)\n",
        "        ])\n",
        "\n",
        "    def forward(self, ts_input, x_mark_enc, news_input):  # [B, 30, F], [B, 30, E]\n",
        "\n",
        "\n",
        "        enc_out = self.enc_embedding(ts_input, x_mark_enc)  # [B,T,C]\n",
        "        enc_out = self.predict_linear(enc_out.permute(0, 2, 1)).permute(\n",
        "            0, 2, 1)  # align temporal dimension\n",
        "        # TimesNet\n",
        "        for i in range(self.layer):\n",
        "            enc_out = self.layer_norm(self.model[i](enc_out))\n",
        "        # porject back\n",
        "\n",
        "        ts_emb = enc_out[:, -self.pred_len:, :].squeeze(1)\n",
        "\n",
        "\n",
        "        # ts_encoded = self.ts_proj(ts_input)\n",
        "        # ts_out = self.ts_encoder(ts_encoded)           # [B, 30, 128]\n",
        "        # ts_emb = self.ts_out(ts_out[:, -1, :])\n",
        "        # print(ts_emb.shape)\n",
        "\n",
        "\n",
        "                # [B, 64]\n",
        "        news_proj = self.news_proj(news_input)         # [B, 30, 64]\n",
        "        _, (hn, _) = self.news_lstm(news_proj)        # hn: [1, B, 64]\n",
        "        news_emb = hn[-1]                              # [B, 64]\n",
        "\n",
        "        # print(ts_emb.shape)\n",
        "        # print(news_emb.shape)\n",
        "\n",
        "        fused = self.fusion(ts_emb, news_emb)\n",
        "        # fused = torch.cat([ts_emb, news_emb], dim=1)   # [B, 128]\n",
        "\n",
        "        outputs = [head(fused).squeeze(-1) for head in self.stock_heads]\n",
        "        return torch.stack(outputs, dim=1)             # [B, 19]\n",
        "\n",
        "class SharedFusionModel(nn.Module):\n",
        "    def __init__(self, configs, ts_input_dim, news_embed_dim, hidden_dim=64, num_stocks=19):\n",
        "        super().__init__()\n",
        "        self.num_stocks = num_stocks\n",
        "        self.configs = configs\n",
        "        self.seq_len = configs['seq_len']\n",
        "        self.label_len = configs['label_len']\n",
        "        self.pred_len = configs['pred_len']\n",
        "        self.num_stocks = num_stocks\n",
        "        self.model = nn.ModuleList([TimesBlock(configs)\n",
        "                                    for _ in range(configs['e_layers'])])\n",
        "        self.enc_embedding = DataEmbedding(configs['enc_in'], configs['d_model'], configs['embed'], configs['freq'],\n",
        "                                           configs['dropout'])\n",
        "        self.layer = configs['e_layers']\n",
        "        self.layer_norm = nn.LayerNorm(configs['d_model'])\n",
        "        self.predict_linear = nn.Linear(\n",
        "            self.seq_len, self.pred_len + self.seq_len)\n",
        "        self.projection = nn.Linear(\n",
        "            configs['d_model'], configs['c_out'], bias=True)\n",
        "        self.projection2 = nn.Linear(\n",
        "            configs['c_out'], configs['num_class'], bias=True)\n",
        "        # self.fusion = MSGCAFusion(configs['d_model'], n_heads=4)\n",
        "        self.fusion = nn.ModuleList([MSGCAFusion(configs['d_model'], n_heads=4) for _ in range(num_stocks)])\n",
        "\n",
        "        # 1. Project input to Transformer-compatible dim\n",
        "        self.ts_proj = nn.Linear(ts_input_dim, 128)\n",
        "        self.ts_encoder = nn.TransformerEncoder(\n",
        "            nn.TransformerEncoderLayer(d_model=128, nhead=4, dim_feedforward=256, batch_first=True),\n",
        "            num_layers=2\n",
        "        )\n",
        "        self.ts_out = nn.Linear(128, hidden_dim)\n",
        "\n",
        "        # 2. News LSTM\n",
        "        self.news_proj = nn.Linear(news_embed_dim, 64)\n",
        "        self.news_lstm = nn.LSTM(input_size=64, hidden_size=hidden_dim, batch_first=True)\n",
        "\n",
        "        # 3. Stock-specific regression heads (1 per stock)\n",
        "        self.stock_heads = nn.ModuleList([\n",
        "            nn.Sequential(\n",
        "                nn.ReLU(),\n",
        "                nn.Linear(64, 1)\n",
        "            )\n",
        "            for _ in range(self.num_stocks)\n",
        "        ])\n",
        "\n",
        "    def forward(self, ts_input, x_mark_enc, news_input):  # [B, 30, F], [B, 30, E]\n",
        "\n",
        "\n",
        "        enc_out = self.enc_embedding(ts_input, x_mark_enc)  # [B,T,C]\n",
        "        enc_out = self.predict_linear(enc_out.permute(0, 2, 1)).permute(\n",
        "            0, 2, 1)  # align temporal dimension\n",
        "        # TimesNet\n",
        "        for i in range(self.layer):\n",
        "            enc_out = self.layer_norm(self.model[i](enc_out))\n",
        "        # porject back\n",
        "\n",
        "        ts_emb = enc_out[:, -self.pred_len:, :].squeeze(1)\n",
        "\n",
        "\n",
        "        # ts_encoded = self.ts_proj(ts_input)\n",
        "        # ts_out = self.ts_encoder(ts_encoded)           # [B, 30, 128]\n",
        "        # ts_emb = self.ts_out(ts_out[:, -1, :])\n",
        "        # print(ts_emb.shape)\n",
        "\n",
        "\n",
        "                # [B, 64]\n",
        "        news_proj = self.news_proj(news_input)         # [B, 30, 64]\n",
        "        _, (hn, _) = self.news_lstm(news_proj)        # hn: [1, B, 64]\n",
        "        news_emb = hn[-1]                              # [B, 64]\n",
        "\n",
        "        # print(ts_emb.shape)\n",
        "        # print(news_emb.shape)\n",
        "\n",
        "        fused = [fusion(ts_emb, news_emb) for fusion in self.fusion]\n",
        "        # fused = torch.cat([ts_emb, news_emb], dim=1)   # [B, 128]\n",
        "\n",
        "        outputs = [self.stock_heads[ij](fused[ij]).squeeze(-1) for ij in range(self.num_stocks)]\n",
        "\n",
        "        return torch.stack(outputs, dim=1)\n",
        "\n",
        "\n",
        "seq_len = 30\n",
        "# Configs\n",
        "configs = {\n",
        "    'task_name': 'classification',\n",
        "    'seq_len': seq_len,\n",
        "    'enc_in': len(selected_f_all),\n",
        "    'd_model': 64,\n",
        "    'c_out':2, #len(selected_f),\n",
        "    'd_ff': 128,\n",
        "    'num_kernels': 3,\n",
        "    'dropout': 0.1,\n",
        "    'e_layers': 2,\n",
        "    'top_k': 3,\n",
        "    'num_class': 2,\n",
        "    'label_len':30,\n",
        "    'pred_len':1,\n",
        "    'embed':'timeF',\n",
        "    'freq':'t'\n",
        "}\n",
        "# model = TimesNet.Model(args).float()\n",
        "# model = Model_TimesNet(configs).float()"
      ],
      "metadata": {
        "id": "suadoQon5Wu8"
      },
      "execution_count": 17,
      "outputs": []
    },
    {
      "cell_type": "code",
      "source": [
        "data_all = data_all.fillna(0)"
      ],
      "metadata": {
        "id": "EqIKS4Cz_eaG"
      },
      "execution_count": 18,
      "outputs": []
    },
    {
      "cell_type": "code",
      "source": [
        " MSGCAFusion(16, 4)"
      ],
      "metadata": {
        "colab": {
          "base_uri": "https://localhost:8080/"
        },
        "id": "cBKPFKQChwgQ",
        "outputId": "d12f4ce6-3c33-4181-f8a8-79e1c75dbd77"
      },
      "execution_count": 19,
      "outputs": [
        {
          "output_type": "execute_result",
          "data": {
            "text/plain": [
              "MSGCAFusion(\n",
              "  (fusion1): GatedCrossAttentionFusion2D(\n",
              "    (q_proj): Linear(in_features=16, out_features=16, bias=True)\n",
              "    (k_proj): Linear(in_features=16, out_features=16, bias=True)\n",
              "    (v_proj): Linear(in_features=16, out_features=16, bias=True)\n",
              "    (gate_proj): Linear(in_features=16, out_features=16, bias=True)\n",
              "    (unstable_proj): Linear(in_features=16, out_features=16, bias=True)\n",
              "    (out_proj): Linear(in_features=16, out_features=16, bias=True)\n",
              "  )\n",
              ")"
            ]
          },
          "metadata": {},
          "execution_count": 19
        }
      ]
    },
    {
      "cell_type": "markdown",
      "source": [
        "Loading Model and dataloader"
      ],
      "metadata": {
        "id": "rV-h-XAcFTia"
      }
    },
    {
      "cell_type": "code",
      "source": [
        "from torch.utils.data import DataLoader\n",
        "\n",
        "# Example setup\n",
        "# selected_f_all = list of feature columns (e.g., 6 × 19 = 114)\n",
        "# stock_list = ['AAPL', 'GOOG', ..., 'TSLA'] → 19 stock target columns\n",
        "# df = your dataframe with those columns and 'embedding' column\n",
        "\n",
        "\n",
        "split = int(0.8 * len(data_all))\n",
        "\n",
        "train_dataset = NewsTimeSeriesDataset(data_all.iloc[:split], data_stamp.iloc[:split], selected_f_all, list_crypto, seq_len=30)\n",
        "val_dataset = NewsTimeSeriesDataset(data_all.iloc[split:], data_stamp.iloc[split:], selected_f_all, list_crypto, seq_len=30)\n",
        "\n",
        "train_loader = DataLoader(train_dataset, batch_size=32, shuffle=True)\n",
        "val_loader = DataLoader(val_dataset, batch_size=32)\n",
        "\n",
        "\n",
        "model = SharedFusionModel(\n",
        "    configs,\n",
        "    ts_input_dim=len(selected_f_all),\n",
        "    news_embed_dim=len(data_all['embedding'].iloc[0]),\n",
        "    hidden_dim=64,\n",
        "    num_stocks=len(list_crypto)\n",
        ").cuda()\n",
        "\n",
        "optimizer = torch.optim.Adam(model.parameters(), lr=1e-4)\n",
        "loss_fn = nn.MSELoss()\n",
        "\n"
      ],
      "metadata": {
        "id": "dcq4GZM8gcgn"
      },
      "execution_count": 20,
      "outputs": []
    },
    {
      "cell_type": "code",
      "source": [
        "len(data_all['embedding'].iloc[0])"
      ],
      "metadata": {
        "colab": {
          "base_uri": "https://localhost:8080/"
        },
        "id": "d49vlf1LgqxT",
        "outputId": "884de8c8-f7f4-449e-b89a-0c1f4599dece"
      },
      "execution_count": 21,
      "outputs": [
        {
          "output_type": "execute_result",
          "data": {
            "text/plain": [
              "768"
            ]
          },
          "metadata": {},
          "execution_count": 21
        }
      ]
    },
    {
      "cell_type": "markdown",
      "source": [
        "Testing model pipeline"
      ],
      "metadata": {
        "id": "sGRqehA5FWaL"
      }
    },
    {
      "cell_type": "code",
      "source": [
        "# One training step\n",
        "for batch in train_loader:\n",
        "    ts_input = batch['timeseries'].cuda()\n",
        "    news_input = batch['news'].cuda()\n",
        "    target = batch['target'].cuda()\n",
        "    time_mask = batch['time_mask'].cuda()\n",
        "\n",
        "    output = model(ts_input, time_mask, news_input)  # [B, 19]\n",
        "    loss = loss_fn(output, target)\n",
        "    break"
      ],
      "metadata": {
        "id": "sk_4Oo6zhmTf"
      },
      "execution_count": null,
      "outputs": []
    },
    {
      "cell_type": "markdown",
      "source": [
        "Training model"
      ],
      "metadata": {
        "id": "yxIpdT3jFYS-"
      }
    },
    {
      "cell_type": "code",
      "source": [
        "from sklearn.metrics import r2_score\n",
        "from tqdm import tqdm\n",
        "import torch\n",
        "import numpy as np\n",
        "import os\n",
        "\n",
        "def compute_r2_per_stock(y_true, y_pred):\n",
        "    r2s = []\n",
        "    for i in range(y_true.shape[1]):\n",
        "        r2s.append(r2_score(y_true[:, i], y_pred[:, i]))\n",
        "    return r2s\n",
        "\n",
        "num_epochs=50\n",
        "patience=5\n",
        "save_path='best_model.pth'\n",
        "device='cuda'\n",
        "\n",
        "best_val_loss = float('inf')\n",
        "patience_counter = 0\n",
        "model.to(device)\n",
        "\n",
        "for epoch in range(1, num_epochs + 1):\n",
        "    model.train()\n",
        "    total_train_loss = 0\n",
        "\n",
        "    print(f\"\\n🔁 Epoch {epoch}/{num_epochs}\")\n",
        "    for step, batch in enumerate(tqdm(train_loader, desc=\"Training\")):\n",
        "        ts_input = batch['timeseries'].to(device)\n",
        "        news_input = batch['news'].to(device)\n",
        "        target = batch['target'].to(device)\n",
        "        time_mask = batch['time_mask'].to(device)\n",
        "\n",
        "        output = model(ts_input, time_mask, news_input)\n",
        "        loss = loss_fn(output, target)\n",
        "\n",
        "        optimizer.zero_grad()\n",
        "        loss.backward()\n",
        "        optimizer.step()\n",
        "        total_train_loss += loss.item()\n",
        "\n",
        "        # Step-wise print every 100 steps\n",
        "        if step % 100 == 0:\n",
        "            avg_loss = total_train_loss / (step + 1)\n",
        "            print(f\"  Step {step}/{len(train_loader)} - Batch Loss: {loss.item():.4f} - Avg Loss: {avg_loss:.4f}\")\n",
        "\n",
        "    # Validation phase\n",
        "    model.eval()\n",
        "    total_val_loss = 0\n",
        "    all_preds, all_targets = [], []\n",
        "\n",
        "    with torch.no_grad():\n",
        "        for batch in tqdm(val_loader, desc=\"Validating\"):\n",
        "            ts_input = batch['timeseries'].to(device)\n",
        "            news_input = batch['news'].to(device)\n",
        "            target = batch['target'].to(device)\n",
        "            time_mask = batch['time_mask'].to(device)\n",
        "\n",
        "            output = model(ts_input, time_mask, news_input)\n",
        "            loss = loss_fn(output, target)\n",
        "\n",
        "            total_val_loss += loss.item()\n",
        "            all_preds.append(output.cpu().numpy())\n",
        "            all_targets.append(target.cpu().numpy())\n",
        "\n",
        "    avg_train_loss = total_train_loss / len(train_loader)\n",
        "    avg_val_loss = total_val_loss / len(val_loader)\n",
        "\n",
        "    y_pred = np.concatenate(all_preds, axis=0)\n",
        "    y_true = np.concatenate(all_targets, axis=0)\n",
        "    r2_scores = compute_r2_per_stock(y_true, y_pred)\n",
        "\n",
        "    print(f\"📊 Epoch {epoch} Summary:\")\n",
        "    print(f\"  Train Loss: {avg_train_loss:.4f}\")\n",
        "    print(f\"  Val Loss: {avg_val_loss:.4f}\")\n",
        "    # print(\"  R² per stock:\", [\"{:.3f}\".format(r) for r in r2_scores])\n",
        "    print(\"  R² per stock:\", [\"{} , {:.3f}\".format(list_crypto_first[r], r2_scores[r]) for r in range(len(r2_scores))])\n",
        "\n",
        "    if epoch % 5 == 0:\n",
        "        np.save(f\"y_pred_epoch_{epoch}.npy\", y_pred)\n",
        "        np.save(f\"y_true_epoch_{epoch}.npy\", y_true)\n",
        "\n",
        "    if avg_val_loss < best_val_loss:\n",
        "        best_val_loss = avg_val_loss\n",
        "        patience_counter = 0\n",
        "        torch.save(model.state_dict(), save_path)\n",
        "        print(\"✅ Best model saved.\")\n",
        "    else:\n",
        "        patience_counter += 1\n",
        "        print(f\"⏳ Early stopping patience: {patience_counter}/{patience}\")\n",
        "\n",
        "    if patience_counter >= patience:\n",
        "        print(\"⛔ Early stopping triggered.\")\n",
        "        break\n"
      ],
      "metadata": {
        "colab": {
          "base_uri": "https://localhost:8080/"
        },
        "id": "HYSvx1aYglIR",
        "outputId": "d15d0d64-cd3f-4d8a-a90b-ec64e4b1f7ba"
      },
      "execution_count": null,
      "outputs": [
        {
          "metadata": {
            "tags": null
          },
          "name": "stdout",
          "output_type": "stream",
          "text": [
            "\n",
            "🔁 Epoch 1/50\n"
          ]
        },
        {
          "metadata": {
            "tags": null
          },
          "name": "stderr",
          "output_type": "stream",
          "text": [
            "Training:   0%|          | 1/3240 [00:03<3:14:38,  3.61s/it]"
          ]
        },
        {
          "metadata": {
            "tags": null
          },
          "name": "stdout",
          "output_type": "stream",
          "text": [
            "  Step 0/3240 - Batch Loss: 0.0340 - Avg Loss: 0.0340\n"
          ]
        },
        {
          "metadata": {
            "tags": null
          },
          "name": "stderr",
          "output_type": "stream",
          "text": [
            "Training:   3%|▎         | 101/3240 [01:12<37:10,  1.41it/s]"
          ]
        },
        {
          "metadata": {
            "tags": null
          },
          "name": "stdout",
          "output_type": "stream",
          "text": [
            "  Step 100/3240 - Batch Loss: 0.0041 - Avg Loss: 0.0142\n"
          ]
        },
        {
          "metadata": {
            "tags": null
          },
          "name": "stderr",
          "output_type": "stream",
          "text": [
            "Training:   6%|▌         | 201/3240 [02:23<35:54,  1.41it/s]"
          ]
        },
        {
          "metadata": {
            "tags": null
          },
          "name": "stdout",
          "output_type": "stream",
          "text": [
            "  Step 200/3240 - Batch Loss: 0.0089 - Avg Loss: 0.0106\n"
          ]
        },
        {
          "metadata": {
            "tags": null
          },
          "name": "stderr",
          "output_type": "stream",
          "text": [
            "Training:   9%|▉         | 301/3240 [03:34<35:21,  1.39it/s]"
          ]
        },
        {
          "metadata": {
            "tags": null
          },
          "name": "stdout",
          "output_type": "stream",
          "text": [
            "  Step 300/3240 - Batch Loss: 0.0061 - Avg Loss: 0.0095\n"
          ]
        },
        {
          "metadata": {
            "tags": null
          },
          "name": "stderr",
          "output_type": "stream",
          "text": [
            "Training:  12%|█▏        | 401/3240 [04:45<32:48,  1.44it/s]"
          ]
        },
        {
          "metadata": {
            "tags": null
          },
          "name": "stdout",
          "output_type": "stream",
          "text": [
            "  Step 400/3240 - Batch Loss: 0.0034 - Avg Loss: 0.0086\n"
          ]
        },
        {
          "metadata": {
            "tags": null
          },
          "name": "stderr",
          "output_type": "stream",
          "text": [
            "Training:  15%|█▌        | 501/3240 [05:55<32:37,  1.40it/s]"
          ]
        },
        {
          "metadata": {
            "tags": null
          },
          "name": "stdout",
          "output_type": "stream",
          "text": [
            "  Step 500/3240 - Batch Loss: 0.0028 - Avg Loss: 0.0079\n"
          ]
        },
        {
          "metadata": {
            "tags": null
          },
          "name": "stderr",
          "output_type": "stream",
          "text": [
            "Training:  19%|█▊        | 601/3240 [07:05<30:01,  1.47it/s]"
          ]
        },
        {
          "metadata": {
            "tags": null
          },
          "name": "stdout",
          "output_type": "stream",
          "text": [
            "  Step 600/3240 - Batch Loss: 0.0026 - Avg Loss: 0.0074\n"
          ]
        },
        {
          "metadata": {
            "tags": null
          },
          "name": "stderr",
          "output_type": "stream",
          "text": [
            "Training:  22%|██▏       | 701/3240 [08:11<27:44,  1.53it/s]"
          ]
        },
        {
          "metadata": {
            "tags": null
          },
          "name": "stdout",
          "output_type": "stream",
          "text": [
            "  Step 700/3240 - Batch Loss: 0.0036 - Avg Loss: 0.0070\n"
          ]
        },
        {
          "metadata": {
            "tags": null
          },
          "name": "stderr",
          "output_type": "stream",
          "text": [
            "Training:  25%|██▍       | 801/3240 [09:17<26:40,  1.52it/s]"
          ]
        },
        {
          "metadata": {
            "tags": null
          },
          "name": "stdout",
          "output_type": "stream",
          "text": [
            "  Step 800/3240 - Batch Loss: 0.0029 - Avg Loss: 0.0067\n"
          ]
        },
        {
          "metadata": {
            "tags": null
          },
          "name": "stderr",
          "output_type": "stream",
          "text": [
            "Training:  28%|██▊       | 901/3240 [10:23<25:24,  1.53it/s]"
          ]
        },
        {
          "metadata": {
            "tags": null
          },
          "name": "stdout",
          "output_type": "stream",
          "text": [
            "  Step 900/3240 - Batch Loss: 0.0049 - Avg Loss: 0.0065\n"
          ]
        },
        {
          "metadata": {
            "tags": null
          },
          "name": "stderr",
          "output_type": "stream",
          "text": [
            "Training:  31%|███       | 1001/3240 [11:29<24:35,  1.52it/s]"
          ]
        },
        {
          "metadata": {
            "tags": null
          },
          "name": "stdout",
          "output_type": "stream",
          "text": [
            "  Step 1000/3240 - Batch Loss: 0.0038 - Avg Loss: 0.0064\n"
          ]
        },
        {
          "metadata": {
            "tags": null
          },
          "name": "stderr",
          "output_type": "stream",
          "text": [
            "Training:  34%|███▍      | 1101/3240 [12:35<23:28,  1.52it/s]"
          ]
        },
        {
          "metadata": {
            "tags": null
          },
          "name": "stdout",
          "output_type": "stream",
          "text": [
            "  Step 1100/3240 - Batch Loss: 0.0020 - Avg Loss: 0.0062\n"
          ]
        },
        {
          "metadata": {
            "tags": null
          },
          "name": "stderr",
          "output_type": "stream",
          "text": [
            "Training:  37%|███▋      | 1201/3240 [13:42<23:08,  1.47it/s]"
          ]
        },
        {
          "metadata": {
            "tags": null
          },
          "name": "stdout",
          "output_type": "stream",
          "text": [
            "  Step 1200/3240 - Batch Loss: 0.0038 - Avg Loss: 0.0060\n"
          ]
        },
        {
          "metadata": {
            "tags": null
          },
          "name": "stderr",
          "output_type": "stream",
          "text": [
            "Training:  40%|████      | 1301/3240 [14:49<21:43,  1.49it/s]"
          ]
        },
        {
          "metadata": {
            "tags": null
          },
          "name": "stdout",
          "output_type": "stream",
          "text": [
            "  Step 1300/3240 - Batch Loss: 0.0030 - Avg Loss: 0.0059\n"
          ]
        },
        {
          "metadata": {
            "tags": null
          },
          "name": "stderr",
          "output_type": "stream",
          "text": [
            "Training:  43%|████▎     | 1401/3240 [15:55<20:23,  1.50it/s]"
          ]
        },
        {
          "metadata": {
            "tags": null
          },
          "name": "stdout",
          "output_type": "stream",
          "text": [
            "  Step 1400/3240 - Batch Loss: 0.0040 - Avg Loss: 0.0057\n"
          ]
        },
        {
          "metadata": {
            "tags": null
          },
          "name": "stderr",
          "output_type": "stream",
          "text": [
            "Training:  46%|████▋     | 1501/3240 [17:00<19:04,  1.52it/s]"
          ]
        },
        {
          "metadata": {
            "tags": null
          },
          "name": "stdout",
          "output_type": "stream",
          "text": [
            "  Step 1500/3240 - Batch Loss: 0.0033 - Avg Loss: 0.0056\n"
          ]
        },
        {
          "metadata": {
            "tags": null
          },
          "name": "stderr",
          "output_type": "stream",
          "text": [
            "Training:  49%|████▉     | 1601/3240 [18:06<17:55,  1.52it/s]"
          ]
        },
        {
          "metadata": {
            "tags": null
          },
          "name": "stdout",
          "output_type": "stream",
          "text": [
            "  Step 1600/3240 - Batch Loss: 0.0022 - Avg Loss: 0.0055\n"
          ]
        },
        {
          "metadata": {
            "tags": null
          },
          "name": "stderr",
          "output_type": "stream",
          "text": [
            "Training:  52%|█████▎    | 1701/3240 [19:12<16:56,  1.51it/s]"
          ]
        },
        {
          "metadata": {
            "tags": null
          },
          "name": "stdout",
          "output_type": "stream",
          "text": [
            "  Step 1700/3240 - Batch Loss: 0.0031 - Avg Loss: 0.0055\n"
          ]
        },
        {
          "metadata": {
            "tags": null
          },
          "name": "stderr",
          "output_type": "stream",
          "text": [
            "Training:  56%|█████▌    | 1801/3240 [20:18<15:54,  1.51it/s]"
          ]
        },
        {
          "metadata": {
            "tags": null
          },
          "name": "stdout",
          "output_type": "stream",
          "text": [
            "  Step 1800/3240 - Batch Loss: 0.0018 - Avg Loss: 0.0054\n"
          ]
        },
        {
          "metadata": {
            "tags": null
          },
          "name": "stderr",
          "output_type": "stream",
          "text": [
            "Training:  59%|█████▊    | 1901/3240 [21:23<14:15,  1.57it/s]"
          ]
        },
        {
          "metadata": {
            "tags": null
          },
          "name": "stdout",
          "output_type": "stream",
          "text": [
            "  Step 1900/3240 - Batch Loss: 0.0020 - Avg Loss: 0.0053\n"
          ]
        },
        {
          "metadata": {
            "tags": null
          },
          "name": "stderr",
          "output_type": "stream",
          "text": [
            "Training:  62%|██████▏   | 2001/3240 [22:26<12:58,  1.59it/s]"
          ]
        },
        {
          "metadata": {
            "tags": null
          },
          "name": "stdout",
          "output_type": "stream",
          "text": [
            "  Step 2000/3240 - Batch Loss: 0.0031 - Avg Loss: 0.0053\n"
          ]
        },
        {
          "metadata": {
            "tags": null
          },
          "name": "stderr",
          "output_type": "stream",
          "text": [
            "Training:  65%|██████▍   | 2101/3240 [23:29<11:48,  1.61it/s]"
          ]
        },
        {
          "metadata": {
            "tags": null
          },
          "name": "stdout",
          "output_type": "stream",
          "text": [
            "  Step 2100/3240 - Batch Loss: 0.0036 - Avg Loss: 0.0052\n"
          ]
        },
        {
          "metadata": {
            "tags": null
          },
          "name": "stderr",
          "output_type": "stream",
          "text": [
            "Training:  68%|██████▊   | 2201/3240 [24:32<10:50,  1.60it/s]"
          ]
        },
        {
          "metadata": {
            "tags": null
          },
          "name": "stdout",
          "output_type": "stream",
          "text": [
            "  Step 2200/3240 - Batch Loss: 0.0027 - Avg Loss: 0.0051\n"
          ]
        },
        {
          "metadata": {
            "tags": null
          },
          "name": "stderr",
          "output_type": "stream",
          "text": [
            "Training:  71%|███████   | 2301/3240 [25:35<09:58,  1.57it/s]"
          ]
        },
        {
          "metadata": {
            "tags": null
          },
          "name": "stdout",
          "output_type": "stream",
          "text": [
            "  Step 2300/3240 - Batch Loss: 0.0022 - Avg Loss: 0.0051\n"
          ]
        },
        {
          "metadata": {
            "tags": null
          },
          "name": "stderr",
          "output_type": "stream",
          "text": [
            "Training:  74%|███████▍  | 2401/3240 [26:38<08:44,  1.60it/s]"
          ]
        },
        {
          "metadata": {
            "tags": null
          },
          "name": "stdout",
          "output_type": "stream",
          "text": [
            "  Step 2400/3240 - Batch Loss: 0.0024 - Avg Loss: 0.0050\n"
          ]
        },
        {
          "metadata": {
            "tags": null
          },
          "name": "stderr",
          "output_type": "stream",
          "text": [
            "Training:  77%|███████▋  | 2501/3240 [27:41<07:40,  1.60it/s]"
          ]
        },
        {
          "metadata": {
            "tags": null
          },
          "name": "stdout",
          "output_type": "stream",
          "text": [
            "  Step 2500/3240 - Batch Loss: 0.0045 - Avg Loss: 0.0050\n"
          ]
        },
        {
          "metadata": {
            "tags": null
          },
          "name": "stderr",
          "output_type": "stream",
          "text": [
            "Training:  80%|████████  | 2601/3240 [28:44<06:43,  1.58it/s]"
          ]
        },
        {
          "metadata": {
            "tags": null
          },
          "name": "stdout",
          "output_type": "stream",
          "text": [
            "  Step 2600/3240 - Batch Loss: 0.0022 - Avg Loss: 0.0049\n"
          ]
        },
        {
          "metadata": {
            "tags": null
          },
          "name": "stderr",
          "output_type": "stream",
          "text": [
            "Training:  83%|████████▎ | 2701/3240 [29:48<05:59,  1.50it/s]"
          ]
        },
        {
          "metadata": {
            "tags": null
          },
          "name": "stdout",
          "output_type": "stream",
          "text": [
            "  Step 2700/3240 - Batch Loss: 0.0047 - Avg Loss: 0.0049\n"
          ]
        },
        {
          "metadata": {
            "tags": null
          },
          "name": "stderr",
          "output_type": "stream",
          "text": [
            "Training:  86%|████████▋ | 2801/3240 [30:53<04:41,  1.56it/s]"
          ]
        },
        {
          "metadata": {
            "tags": null
          },
          "name": "stdout",
          "output_type": "stream",
          "text": [
            "  Step 2800/3240 - Batch Loss: 0.0043 - Avg Loss: 0.0049\n"
          ]
        },
        {
          "metadata": {
            "tags": null
          },
          "name": "stderr",
          "output_type": "stream",
          "text": [
            "Training:  90%|████████▉ | 2901/3240 [32:01<03:54,  1.44it/s]"
          ]
        },
        {
          "metadata": {
            "tags": null
          },
          "name": "stdout",
          "output_type": "stream",
          "text": [
            "  Step 2900/3240 - Batch Loss: 0.0024 - Avg Loss: 0.0048\n"
          ]
        },
        {
          "metadata": {
            "tags": null
          },
          "name": "stderr",
          "output_type": "stream",
          "text": [
            "Training:  93%|█████████▎| 3001/3240 [33:07<02:41,  1.48it/s]"
          ]
        },
        {
          "metadata": {
            "tags": null
          },
          "name": "stdout",
          "output_type": "stream",
          "text": [
            "  Step 3000/3240 - Batch Loss: 0.0035 - Avg Loss: 0.0048\n"
          ]
        },
        {
          "metadata": {
            "tags": null
          },
          "name": "stderr",
          "output_type": "stream",
          "text": [
            "Training:  96%|█████████▌| 3101/3240 [34:13<01:31,  1.52it/s]"
          ]
        },
        {
          "metadata": {
            "tags": null
          },
          "name": "stdout",
          "output_type": "stream",
          "text": [
            "  Step 3100/3240 - Batch Loss: 0.0024 - Avg Loss: 0.0047\n"
          ]
        },
        {
          "metadata": {
            "tags": null
          },
          "name": "stderr",
          "output_type": "stream",
          "text": [
            "Training:  99%|█████████▉| 3201/3240 [35:20<00:26,  1.49it/s]"
          ]
        },
        {
          "metadata": {
            "tags": null
          },
          "name": "stdout",
          "output_type": "stream",
          "text": [
            "  Step 3200/3240 - Batch Loss: 0.0058 - Avg Loss: 0.0047\n"
          ]
        },
        {
          "metadata": {
            "tags": null
          },
          "name": "stderr",
          "output_type": "stream",
          "text": [
            "Training: 100%|██████████| 3240/3240 [35:45<00:00,  1.51it/s]\n",
            "Validating: 100%|██████████| 810/810 [01:54<00:00,  7.07it/s]\n"
          ]
        },
        {
          "metadata": {
            "tags": null
          },
          "name": "stdout",
          "output_type": "stream",
          "text": [
            "📊 Epoch 1 Summary:\n",
            "  Train Loss: 0.0047\n",
            "  Val Loss: 0.0055\n",
            "  R² per stock: ['BTC , 0.175', 'XLM , 0.291', 'XRP , 0.215', 'TST , 0.074', 'W , 0.116', 'ARK , 0.042', 'ME , 0.291', 'T , 0.069', 'OG , 0.078', 'TIA , -0.065', 'TRX , -0.077', 'S , 0.327', 'GMT , 0.047', 'JST , -0.370', 'SEI , 0.174', 'HBAR , 0.230', 'D , 0.142', 'USDC , -0.416', 'HOT , -0.074']\n",
            "✅ Best model saved.\n",
            "\n",
            "🔁 Epoch 2/50\n"
          ]
        },
        {
          "metadata": {
            "tags": null
          },
          "name": "stderr",
          "output_type": "stream",
          "text": [
            "Training:   0%|          | 1/3240 [00:00<33:23,  1.62it/s]"
          ]
        },
        {
          "metadata": {
            "tags": null
          },
          "name": "stdout",
          "output_type": "stream",
          "text": [
            "  Step 0/3240 - Batch Loss: 0.0018 - Avg Loss: 0.0018\n"
          ]
        },
        {
          "metadata": {
            "tags": null
          },
          "name": "stderr",
          "output_type": "stream",
          "text": [
            "Training:   3%|▎         | 101/3240 [01:03<33:23,  1.57it/s]"
          ]
        },
        {
          "metadata": {
            "tags": null
          },
          "name": "stdout",
          "output_type": "stream",
          "text": [
            "  Step 100/3240 - Batch Loss: 0.0023 - Avg Loss: 0.0035\n"
          ]
        },
        {
          "metadata": {
            "tags": null
          },
          "name": "stderr",
          "output_type": "stream",
          "text": [
            "Training:   6%|▌         | 201/3240 [02:07<33:16,  1.52it/s]"
          ]
        },
        {
          "metadata": {
            "tags": null
          },
          "name": "stdout",
          "output_type": "stream",
          "text": [
            "  Step 200/3240 - Batch Loss: 0.0059 - Avg Loss: 0.0036\n"
          ]
        },
        {
          "metadata": {
            "tags": null
          },
          "name": "stderr",
          "output_type": "stream",
          "text": [
            "Training:   9%|▉         | 301/3240 [03:11<31:21,  1.56it/s]"
          ]
        },
        {
          "metadata": {
            "tags": null
          },
          "name": "stdout",
          "output_type": "stream",
          "text": [
            "  Step 300/3240 - Batch Loss: 0.0026 - Avg Loss: 0.0037\n"
          ]
        },
        {
          "metadata": {
            "tags": null
          },
          "name": "stderr",
          "output_type": "stream",
          "text": [
            "Training:  12%|█▏        | 401/3240 [04:14<30:05,  1.57it/s]"
          ]
        },
        {
          "metadata": {
            "tags": null
          },
          "name": "stdout",
          "output_type": "stream",
          "text": [
            "  Step 400/3240 - Batch Loss: 0.0028 - Avg Loss: 0.0037\n"
          ]
        },
        {
          "metadata": {
            "tags": null
          },
          "name": "stderr",
          "output_type": "stream",
          "text": [
            "Training:  15%|█▌        | 501/3240 [05:17<28:58,  1.58it/s]"
          ]
        },
        {
          "metadata": {
            "tags": null
          },
          "name": "stdout",
          "output_type": "stream",
          "text": [
            "  Step 500/3240 - Batch Loss: 0.0027 - Avg Loss: 0.0036\n"
          ]
        },
        {
          "metadata": {
            "tags": null
          },
          "name": "stderr",
          "output_type": "stream",
          "text": [
            "Training:  19%|█▊        | 601/3240 [06:20<27:38,  1.59it/s]"
          ]
        },
        {
          "metadata": {
            "tags": null
          },
          "name": "stdout",
          "output_type": "stream",
          "text": [
            "  Step 600/3240 - Batch Loss: 0.0018 - Avg Loss: 0.0036\n"
          ]
        },
        {
          "metadata": {
            "tags": null
          },
          "name": "stderr",
          "output_type": "stream",
          "text": [
            "Training:  22%|██▏       | 701/3240 [07:23<27:08,  1.56it/s]"
          ]
        },
        {
          "metadata": {
            "tags": null
          },
          "name": "stdout",
          "output_type": "stream",
          "text": [
            "  Step 700/3240 - Batch Loss: 0.0034 - Avg Loss: 0.0036\n"
          ]
        },
        {
          "metadata": {
            "tags": null
          },
          "name": "stderr",
          "output_type": "stream",
          "text": [
            "Training:  25%|██▍       | 801/3240 [08:26<25:43,  1.58it/s]"
          ]
        },
        {
          "metadata": {
            "tags": null
          },
          "name": "stdout",
          "output_type": "stream",
          "text": [
            "  Step 800/3240 - Batch Loss: 0.0029 - Avg Loss: 0.0037\n"
          ]
        },
        {
          "metadata": {
            "tags": null
          },
          "name": "stderr",
          "output_type": "stream",
          "text": [
            "Training:  28%|██▊       | 901/3240 [09:30<24:34,  1.59it/s]"
          ]
        },
        {
          "metadata": {
            "tags": null
          },
          "name": "stdout",
          "output_type": "stream",
          "text": [
            "  Step 900/3240 - Batch Loss: 0.0063 - Avg Loss: 0.0037\n"
          ]
        },
        {
          "metadata": {
            "tags": null
          },
          "name": "stderr",
          "output_type": "stream",
          "text": [
            "Training:  31%|███       | 1001/3240 [10:33<24:07,  1.55it/s]"
          ]
        },
        {
          "metadata": {
            "tags": null
          },
          "name": "stdout",
          "output_type": "stream",
          "text": [
            "  Step 1000/3240 - Batch Loss: 0.0022 - Avg Loss: 0.0037\n"
          ]
        },
        {
          "metadata": {
            "tags": null
          },
          "name": "stderr",
          "output_type": "stream",
          "text": [
            "Training:  34%|███▍      | 1101/3240 [11:39<22:28,  1.59it/s]"
          ]
        },
        {
          "metadata": {
            "tags": null
          },
          "name": "stdout",
          "output_type": "stream",
          "text": [
            "  Step 1100/3240 - Batch Loss: 0.0036 - Avg Loss: 0.0037\n"
          ]
        },
        {
          "metadata": {
            "tags": null
          },
          "name": "stderr",
          "output_type": "stream",
          "text": [
            "Training:  37%|███▋      | 1201/3240 [12:45<23:17,  1.46it/s]"
          ]
        },
        {
          "metadata": {
            "tags": null
          },
          "name": "stdout",
          "output_type": "stream",
          "text": [
            "  Step 1200/3240 - Batch Loss: 0.0028 - Avg Loss: 0.0037\n"
          ]
        },
        {
          "metadata": {
            "tags": null
          },
          "name": "stderr",
          "output_type": "stream",
          "text": [
            "Training:  40%|████      | 1301/3240 [13:54<22:19,  1.45it/s]"
          ]
        },
        {
          "metadata": {
            "tags": null
          },
          "name": "stdout",
          "output_type": "stream",
          "text": [
            "  Step 1300/3240 - Batch Loss: 0.0032 - Avg Loss: 0.0037\n"
          ]
        },
        {
          "metadata": {
            "tags": null
          },
          "name": "stderr",
          "output_type": "stream",
          "text": [
            "Training:  43%|████▎     | 1401/3240 [15:02<19:55,  1.54it/s]"
          ]
        },
        {
          "metadata": {
            "tags": null
          },
          "name": "stdout",
          "output_type": "stream",
          "text": [
            "  Step 1400/3240 - Batch Loss: 0.0036 - Avg Loss: 0.0037\n"
          ]
        },
        {
          "metadata": {
            "tags": null
          },
          "name": "stderr",
          "output_type": "stream",
          "text": [
            "Training:  46%|████▋     | 1501/3240 [16:07<19:16,  1.50it/s]"
          ]
        },
        {
          "metadata": {
            "tags": null
          },
          "name": "stdout",
          "output_type": "stream",
          "text": [
            "  Step 1500/3240 - Batch Loss: 0.0073 - Avg Loss: 0.0037\n"
          ]
        },
        {
          "metadata": {
            "tags": null
          },
          "name": "stderr",
          "output_type": "stream",
          "text": [
            "Training:  49%|████▉     | 1601/3240 [17:10<17:37,  1.55it/s]"
          ]
        },
        {
          "metadata": {
            "tags": null
          },
          "name": "stdout",
          "output_type": "stream",
          "text": [
            "  Step 1600/3240 - Batch Loss: 0.0042 - Avg Loss: 0.0036\n"
          ]
        },
        {
          "metadata": {
            "tags": null
          },
          "name": "stderr",
          "output_type": "stream",
          "text": [
            "Training:  52%|█████▎    | 1701/3240 [18:14<15:55,  1.61it/s]"
          ]
        },
        {
          "metadata": {
            "tags": null
          },
          "name": "stdout",
          "output_type": "stream",
          "text": [
            "  Step 1700/3240 - Batch Loss: 0.0034 - Avg Loss: 0.0036\n"
          ]
        },
        {
          "output_type": "stream",
          "name": "stderr",
          "text": [
            "Training:  56%|█████▌    | 1801/3240 [19:17<15:14,  1.57it/s]"
          ]
        },
        {
          "output_type": "stream",
          "name": "stdout",
          "text": [
            "  Step 1800/3240 - Batch Loss: 0.0073 - Avg Loss: 0.0036\n"
          ]
        },
        {
          "output_type": "stream",
          "name": "stderr",
          "text": [
            "Training:  59%|█████▊    | 1901/3240 [20:20<14:11,  1.57it/s]"
          ]
        },
        {
          "output_type": "stream",
          "name": "stdout",
          "text": [
            "  Step 1900/3240 - Batch Loss: 0.0048 - Avg Loss: 0.0036\n"
          ]
        },
        {
          "output_type": "stream",
          "name": "stderr",
          "text": [
            "Training:  62%|██████▏   | 2001/3240 [21:23<13:01,  1.58it/s]"
          ]
        },
        {
          "output_type": "stream",
          "name": "stdout",
          "text": [
            "  Step 2000/3240 - Batch Loss: 0.0036 - Avg Loss: 0.0036\n"
          ]
        },
        {
          "output_type": "stream",
          "name": "stderr",
          "text": [
            "Training:  65%|██████▍   | 2101/3240 [22:27<11:57,  1.59it/s]"
          ]
        },
        {
          "output_type": "stream",
          "name": "stdout",
          "text": [
            "  Step 2100/3240 - Batch Loss: 0.0053 - Avg Loss: 0.0036\n"
          ]
        },
        {
          "output_type": "stream",
          "name": "stderr",
          "text": [
            "Training:  68%|██████▊   | 2201/3240 [23:31<11:08,  1.55it/s]"
          ]
        },
        {
          "output_type": "stream",
          "name": "stdout",
          "text": [
            "  Step 2200/3240 - Batch Loss: 0.0083 - Avg Loss: 0.0036\n"
          ]
        },
        {
          "output_type": "stream",
          "name": "stderr",
          "text": [
            "Training:  71%|███████   | 2301/3240 [24:34<09:55,  1.58it/s]"
          ]
        },
        {
          "output_type": "stream",
          "name": "stdout",
          "text": [
            "  Step 2300/3240 - Batch Loss: 0.0034 - Avg Loss: 0.0036\n"
          ]
        },
        {
          "output_type": "stream",
          "name": "stderr",
          "text": [
            "Training:  74%|███████▍  | 2401/3240 [25:38<08:45,  1.60it/s]"
          ]
        },
        {
          "output_type": "stream",
          "name": "stdout",
          "text": [
            "  Step 2400/3240 - Batch Loss: 0.0017 - Avg Loss: 0.0036\n"
          ]
        },
        {
          "output_type": "stream",
          "name": "stderr",
          "text": [
            "Training:  77%|███████▋  | 2501/3240 [26:41<07:45,  1.59it/s]"
          ]
        },
        {
          "output_type": "stream",
          "name": "stdout",
          "text": [
            "  Step 2500/3240 - Batch Loss: 0.0022 - Avg Loss: 0.0036\n"
          ]
        },
        {
          "output_type": "stream",
          "name": "stderr",
          "text": [
            "Training:  80%|████████  | 2601/3240 [27:45<06:45,  1.58it/s]"
          ]
        },
        {
          "output_type": "stream",
          "name": "stdout",
          "text": [
            "  Step 2600/3240 - Batch Loss: 0.0028 - Avg Loss: 0.0036\n"
          ]
        },
        {
          "output_type": "stream",
          "name": "stderr",
          "text": [
            "Training:  83%|████████▎ | 2701/3240 [28:48<05:39,  1.59it/s]"
          ]
        },
        {
          "output_type": "stream",
          "name": "stdout",
          "text": [
            "  Step 2700/3240 - Batch Loss: 0.0025 - Avg Loss: 0.0036\n"
          ]
        },
        {
          "output_type": "stream",
          "name": "stderr",
          "text": [
            "Training:  86%|████████▋ | 2801/3240 [29:51<04:37,  1.58it/s]"
          ]
        },
        {
          "output_type": "stream",
          "name": "stdout",
          "text": [
            "  Step 2800/3240 - Batch Loss: 0.0047 - Avg Loss: 0.0036\n"
          ]
        },
        {
          "output_type": "stream",
          "name": "stderr",
          "text": [
            "Training:  90%|████████▉ | 2901/3240 [30:55<03:40,  1.53it/s]"
          ]
        },
        {
          "output_type": "stream",
          "name": "stdout",
          "text": [
            "  Step 2900/3240 - Batch Loss: 0.0017 - Avg Loss: 0.0036\n"
          ]
        },
        {
          "output_type": "stream",
          "name": "stderr",
          "text": [
            "Training:  93%|█████████▎| 3001/3240 [31:58<02:33,  1.55it/s]"
          ]
        },
        {
          "output_type": "stream",
          "name": "stdout",
          "text": [
            "  Step 3000/3240 - Batch Loss: 0.0042 - Avg Loss: 0.0036\n"
          ]
        },
        {
          "output_type": "stream",
          "name": "stderr",
          "text": [
            "Training:  96%|█████████▌| 3101/3240 [33:01<01:26,  1.60it/s]"
          ]
        },
        {
          "output_type": "stream",
          "name": "stdout",
          "text": [
            "  Step 3100/3240 - Batch Loss: 0.0047 - Avg Loss: 0.0036\n"
          ]
        },
        {
          "output_type": "stream",
          "name": "stderr",
          "text": [
            "Training:  99%|█████████▉| 3201/3240 [34:04<00:24,  1.61it/s]"
          ]
        },
        {
          "output_type": "stream",
          "name": "stdout",
          "text": [
            "  Step 3200/3240 - Batch Loss: 0.0021 - Avg Loss: 0.0036\n"
          ]
        },
        {
          "output_type": "stream",
          "name": "stderr",
          "text": [
            "Training: 100%|██████████| 3240/3240 [34:28<00:00,  1.57it/s]\n",
            "Validating: 100%|██████████| 810/810 [01:51<00:00,  7.23it/s]\n"
          ]
        },
        {
          "output_type": "stream",
          "name": "stdout",
          "text": [
            "📊 Epoch 2 Summary:\n",
            "  Train Loss: 0.0036\n",
            "  Val Loss: 0.0056\n",
            "  R² per stock: ['BTC , 0.035', 'XLM , 0.180', 'XRP , 0.037', 'TST , 0.228', 'W , -0.366', 'ARK , 0.134', 'ME , 0.215', 'T , -0.125', 'OG , 0.070', 'TIA , -0.208', 'TRX , -0.182', 'S , 0.230', 'GMT , -0.098', 'JST , -0.788', 'SEI , 0.133', 'HBAR , 0.029', 'D , 0.158', 'USDC , -1.030', 'HOT , -0.040']\n",
            "⏳ Early stopping patience: 1/5\n",
            "\n",
            "🔁 Epoch 3/50\n"
          ]
        },
        {
          "output_type": "stream",
          "name": "stderr",
          "text": [
            "Training:   0%|          | 1/3240 [00:00<33:17,  1.62it/s]"
          ]
        },
        {
          "output_type": "stream",
          "name": "stdout",
          "text": [
            "  Step 0/3240 - Batch Loss: 0.0129 - Avg Loss: 0.0129\n"
          ]
        },
        {
          "output_type": "stream",
          "name": "stderr",
          "text": [
            "Training:   3%|▎         | 101/3240 [01:03<32:45,  1.60it/s]"
          ]
        },
        {
          "output_type": "stream",
          "name": "stdout",
          "text": [
            "  Step 100/3240 - Batch Loss: 0.0017 - Avg Loss: 0.0033\n"
          ]
        },
        {
          "output_type": "stream",
          "name": "stderr",
          "text": [
            "Training:   4%|▎         | 117/3240 [01:13<33:05,  1.57it/s]"
          ]
        }
      ]
    },
    {
      "cell_type": "code",
      "source": [
        "print(\"R² per stock: \", [\"{:.3f}\".format(r2) for r2 in r2_scores])"
      ],
      "metadata": {
        "colab": {
          "base_uri": "https://localhost:8080/"
        },
        "id": "VfpfyegKuJIS",
        "outputId": "92327010-3467-49ad-e491-47cffc3a0460"
      },
      "execution_count": null,
      "outputs": [
        {
          "output_type": "stream",
          "name": "stdout",
          "text": [
            "R² per stock:  ['0.054', '-1.257', '0.308', '0.229', '0.011', '-0.009', '0.272', '0.196', '-4.720', '0.313', '-0.141', '0.072', '-7.790', '-0.279', '-0.023', '-0.274', '-0.394', '-0.097', '0.343']\n"
          ]
        }
      ]
    }
  ],
  "metadata": {
    "accelerator": "GPU",
    "colab": {
      "gpuType": "A100",
      "provenance": []
    },
    "kernelspec": {
      "display_name": "Python 3",
      "name": "python3"
    },
    "language_info": {
      "name": "python"
    },
    "widgets": {
      "application/vnd.jupyter.widget-state+json": {
        "37dcf4839d27426f92235351bcff9e1f": {
          "model_module": "@jupyter-widgets/controls",
          "model_name": "HBoxModel",
          "model_module_version": "1.5.0",
          "state": {
            "_dom_classes": [],
            "_model_module": "@jupyter-widgets/controls",
            "_model_module_version": "1.5.0",
            "_model_name": "HBoxModel",
            "_view_count": null,
            "_view_module": "@jupyter-widgets/controls",
            "_view_module_version": "1.5.0",
            "_view_name": "HBoxView",
            "box_style": "",
            "children": [
              "IPY_MODEL_3d3dfc10dad14facb5024724f014b0c8",
              "IPY_MODEL_fa961964843247989414c8f759f365e5",
              "IPY_MODEL_bdfde0a5d3ec4d43a0a39e96cce954c5"
            ],
            "layout": "IPY_MODEL_088f328a80b44fc08cd632dffb316dc4"
          }
        },
        "3d3dfc10dad14facb5024724f014b0c8": {
          "model_module": "@jupyter-widgets/controls",
          "model_name": "HTMLModel",
          "model_module_version": "1.5.0",
          "state": {
            "_dom_classes": [],
            "_model_module": "@jupyter-widgets/controls",
            "_model_module_version": "1.5.0",
            "_model_name": "HTMLModel",
            "_view_count": null,
            "_view_module": "@jupyter-widgets/controls",
            "_view_module_version": "1.5.0",
            "_view_name": "HTMLView",
            "description": "",
            "description_tooltip": null,
            "layout": "IPY_MODEL_57d25ed1279341ecaaa5f394de79fb76",
            "placeholder": "​",
            "style": "IPY_MODEL_7da57ae64d4846c784a2ce9533ad443c",
            "value": "config.json: 100%"
          }
        },
        "fa961964843247989414c8f759f365e5": {
          "model_module": "@jupyter-widgets/controls",
          "model_name": "FloatProgressModel",
          "model_module_version": "1.5.0",
          "state": {
            "_dom_classes": [],
            "_model_module": "@jupyter-widgets/controls",
            "_model_module_version": "1.5.0",
            "_model_name": "FloatProgressModel",
            "_view_count": null,
            "_view_module": "@jupyter-widgets/controls",
            "_view_module_version": "1.5.0",
            "_view_name": "ProgressView",
            "bar_style": "success",
            "description": "",
            "description_tooltip": null,
            "layout": "IPY_MODEL_bcd20ff77bb246fdb5772dd84589a510",
            "max": 533,
            "min": 0,
            "orientation": "horizontal",
            "style": "IPY_MODEL_b85454c200a34e5fa69fd48b20804724",
            "value": 533
          }
        },
        "bdfde0a5d3ec4d43a0a39e96cce954c5": {
          "model_module": "@jupyter-widgets/controls",
          "model_name": "HTMLModel",
          "model_module_version": "1.5.0",
          "state": {
            "_dom_classes": [],
            "_model_module": "@jupyter-widgets/controls",
            "_model_module_version": "1.5.0",
            "_model_name": "HTMLModel",
            "_view_count": null,
            "_view_module": "@jupyter-widgets/controls",
            "_view_module_version": "1.5.0",
            "_view_name": "HTMLView",
            "description": "",
            "description_tooltip": null,
            "layout": "IPY_MODEL_227fe10789fb491e87578dac45488fcd",
            "placeholder": "​",
            "style": "IPY_MODEL_519335617e0c4904a5c8a4bdbd62557d",
            "value": " 533/533 [00:00&lt;00:00, 43.0kB/s]"
          }
        },
        "088f328a80b44fc08cd632dffb316dc4": {
          "model_module": "@jupyter-widgets/base",
          "model_name": "LayoutModel",
          "model_module_version": "1.2.0",
          "state": {
            "_model_module": "@jupyter-widgets/base",
            "_model_module_version": "1.2.0",
            "_model_name": "LayoutModel",
            "_view_count": null,
            "_view_module": "@jupyter-widgets/base",
            "_view_module_version": "1.2.0",
            "_view_name": "LayoutView",
            "align_content": null,
            "align_items": null,
            "align_self": null,
            "border": null,
            "bottom": null,
            "display": null,
            "flex": null,
            "flex_flow": null,
            "grid_area": null,
            "grid_auto_columns": null,
            "grid_auto_flow": null,
            "grid_auto_rows": null,
            "grid_column": null,
            "grid_gap": null,
            "grid_row": null,
            "grid_template_areas": null,
            "grid_template_columns": null,
            "grid_template_rows": null,
            "height": null,
            "justify_content": null,
            "justify_items": null,
            "left": null,
            "margin": null,
            "max_height": null,
            "max_width": null,
            "min_height": null,
            "min_width": null,
            "object_fit": null,
            "object_position": null,
            "order": null,
            "overflow": null,
            "overflow_x": null,
            "overflow_y": null,
            "padding": null,
            "right": null,
            "top": null,
            "visibility": null,
            "width": null
          }
        },
        "57d25ed1279341ecaaa5f394de79fb76": {
          "model_module": "@jupyter-widgets/base",
          "model_name": "LayoutModel",
          "model_module_version": "1.2.0",
          "state": {
            "_model_module": "@jupyter-widgets/base",
            "_model_module_version": "1.2.0",
            "_model_name": "LayoutModel",
            "_view_count": null,
            "_view_module": "@jupyter-widgets/base",
            "_view_module_version": "1.2.0",
            "_view_name": "LayoutView",
            "align_content": null,
            "align_items": null,
            "align_self": null,
            "border": null,
            "bottom": null,
            "display": null,
            "flex": null,
            "flex_flow": null,
            "grid_area": null,
            "grid_auto_columns": null,
            "grid_auto_flow": null,
            "grid_auto_rows": null,
            "grid_column": null,
            "grid_gap": null,
            "grid_row": null,
            "grid_template_areas": null,
            "grid_template_columns": null,
            "grid_template_rows": null,
            "height": null,
            "justify_content": null,
            "justify_items": null,
            "left": null,
            "margin": null,
            "max_height": null,
            "max_width": null,
            "min_height": null,
            "min_width": null,
            "object_fit": null,
            "object_position": null,
            "order": null,
            "overflow": null,
            "overflow_x": null,
            "overflow_y": null,
            "padding": null,
            "right": null,
            "top": null,
            "visibility": null,
            "width": null
          }
        },
        "7da57ae64d4846c784a2ce9533ad443c": {
          "model_module": "@jupyter-widgets/controls",
          "model_name": "DescriptionStyleModel",
          "model_module_version": "1.5.0",
          "state": {
            "_model_module": "@jupyter-widgets/controls",
            "_model_module_version": "1.5.0",
            "_model_name": "DescriptionStyleModel",
            "_view_count": null,
            "_view_module": "@jupyter-widgets/base",
            "_view_module_version": "1.2.0",
            "_view_name": "StyleView",
            "description_width": ""
          }
        },
        "bcd20ff77bb246fdb5772dd84589a510": {
          "model_module": "@jupyter-widgets/base",
          "model_name": "LayoutModel",
          "model_module_version": "1.2.0",
          "state": {
            "_model_module": "@jupyter-widgets/base",
            "_model_module_version": "1.2.0",
            "_model_name": "LayoutModel",
            "_view_count": null,
            "_view_module": "@jupyter-widgets/base",
            "_view_module_version": "1.2.0",
            "_view_name": "LayoutView",
            "align_content": null,
            "align_items": null,
            "align_self": null,
            "border": null,
            "bottom": null,
            "display": null,
            "flex": null,
            "flex_flow": null,
            "grid_area": null,
            "grid_auto_columns": null,
            "grid_auto_flow": null,
            "grid_auto_rows": null,
            "grid_column": null,
            "grid_gap": null,
            "grid_row": null,
            "grid_template_areas": null,
            "grid_template_columns": null,
            "grid_template_rows": null,
            "height": null,
            "justify_content": null,
            "justify_items": null,
            "left": null,
            "margin": null,
            "max_height": null,
            "max_width": null,
            "min_height": null,
            "min_width": null,
            "object_fit": null,
            "object_position": null,
            "order": null,
            "overflow": null,
            "overflow_x": null,
            "overflow_y": null,
            "padding": null,
            "right": null,
            "top": null,
            "visibility": null,
            "width": null
          }
        },
        "b85454c200a34e5fa69fd48b20804724": {
          "model_module": "@jupyter-widgets/controls",
          "model_name": "ProgressStyleModel",
          "model_module_version": "1.5.0",
          "state": {
            "_model_module": "@jupyter-widgets/controls",
            "_model_module_version": "1.5.0",
            "_model_name": "ProgressStyleModel",
            "_view_count": null,
            "_view_module": "@jupyter-widgets/base",
            "_view_module_version": "1.2.0",
            "_view_name": "StyleView",
            "bar_color": null,
            "description_width": ""
          }
        },
        "227fe10789fb491e87578dac45488fcd": {
          "model_module": "@jupyter-widgets/base",
          "model_name": "LayoutModel",
          "model_module_version": "1.2.0",
          "state": {
            "_model_module": "@jupyter-widgets/base",
            "_model_module_version": "1.2.0",
            "_model_name": "LayoutModel",
            "_view_count": null,
            "_view_module": "@jupyter-widgets/base",
            "_view_module_version": "1.2.0",
            "_view_name": "LayoutView",
            "align_content": null,
            "align_items": null,
            "align_self": null,
            "border": null,
            "bottom": null,
            "display": null,
            "flex": null,
            "flex_flow": null,
            "grid_area": null,
            "grid_auto_columns": null,
            "grid_auto_flow": null,
            "grid_auto_rows": null,
            "grid_column": null,
            "grid_gap": null,
            "grid_row": null,
            "grid_template_areas": null,
            "grid_template_columns": null,
            "grid_template_rows": null,
            "height": null,
            "justify_content": null,
            "justify_items": null,
            "left": null,
            "margin": null,
            "max_height": null,
            "max_width": null,
            "min_height": null,
            "min_width": null,
            "object_fit": null,
            "object_position": null,
            "order": null,
            "overflow": null,
            "overflow_x": null,
            "overflow_y": null,
            "padding": null,
            "right": null,
            "top": null,
            "visibility": null,
            "width": null
          }
        },
        "519335617e0c4904a5c8a4bdbd62557d": {
          "model_module": "@jupyter-widgets/controls",
          "model_name": "DescriptionStyleModel",
          "model_module_version": "1.5.0",
          "state": {
            "_model_module": "@jupyter-widgets/controls",
            "_model_module_version": "1.5.0",
            "_model_name": "DescriptionStyleModel",
            "_view_count": null,
            "_view_module": "@jupyter-widgets/base",
            "_view_module_version": "1.2.0",
            "_view_name": "StyleView",
            "description_width": ""
          }
        },
        "24e6bc04d4564b87a69e0c3ba1e5ed01": {
          "model_module": "@jupyter-widgets/controls",
          "model_name": "HBoxModel",
          "model_module_version": "1.5.0",
          "state": {
            "_dom_classes": [],
            "_model_module": "@jupyter-widgets/controls",
            "_model_module_version": "1.5.0",
            "_model_name": "HBoxModel",
            "_view_count": null,
            "_view_module": "@jupyter-widgets/controls",
            "_view_module_version": "1.5.0",
            "_view_name": "HBoxView",
            "box_style": "",
            "children": [
              "IPY_MODEL_1aa32ff6df1547bca969c2d9680ab8d4",
              "IPY_MODEL_98bde75e03484073a49311457bc29391",
              "IPY_MODEL_151a91b64a264176813e52f43c322512"
            ],
            "layout": "IPY_MODEL_87d2a70fd265486ab2da1909bc24b48c"
          }
        },
        "1aa32ff6df1547bca969c2d9680ab8d4": {
          "model_module": "@jupyter-widgets/controls",
          "model_name": "HTMLModel",
          "model_module_version": "1.5.0",
          "state": {
            "_dom_classes": [],
            "_model_module": "@jupyter-widgets/controls",
            "_model_module_version": "1.5.0",
            "_model_name": "HTMLModel",
            "_view_count": null,
            "_view_module": "@jupyter-widgets/controls",
            "_view_module_version": "1.5.0",
            "_view_name": "HTMLView",
            "description": "",
            "description_tooltip": null,
            "layout": "IPY_MODEL_a28a783e551945ce864ab6566a5c926b",
            "placeholder": "​",
            "style": "IPY_MODEL_6a45d351636e47d58153f4704ea864af",
            "value": "vocab.txt: "
          }
        },
        "98bde75e03484073a49311457bc29391": {
          "model_module": "@jupyter-widgets/controls",
          "model_name": "FloatProgressModel",
          "model_module_version": "1.5.0",
          "state": {
            "_dom_classes": [],
            "_model_module": "@jupyter-widgets/controls",
            "_model_module_version": "1.5.0",
            "_model_name": "FloatProgressModel",
            "_view_count": null,
            "_view_module": "@jupyter-widgets/controls",
            "_view_module_version": "1.5.0",
            "_view_name": "ProgressView",
            "bar_style": "success",
            "description": "",
            "description_tooltip": null,
            "layout": "IPY_MODEL_b57f367d2d7246439562bc3ca33cc303",
            "max": 1,
            "min": 0,
            "orientation": "horizontal",
            "style": "IPY_MODEL_438b79e428f147e6a6c57effc33518f4",
            "value": 1
          }
        },
        "151a91b64a264176813e52f43c322512": {
          "model_module": "@jupyter-widgets/controls",
          "model_name": "HTMLModel",
          "model_module_version": "1.5.0",
          "state": {
            "_dom_classes": [],
            "_model_module": "@jupyter-widgets/controls",
            "_model_module_version": "1.5.0",
            "_model_name": "HTMLModel",
            "_view_count": null,
            "_view_module": "@jupyter-widgets/controls",
            "_view_module_version": "1.5.0",
            "_view_name": "HTMLView",
            "description": "",
            "description_tooltip": null,
            "layout": "IPY_MODEL_ae37a5308ddb4fbfa0314e440b961bc4",
            "placeholder": "​",
            "style": "IPY_MODEL_de2bc4f1ddf7453bb0f0f38c7366836d",
            "value": " 226k/? [00:00&lt;00:00, 4.74MB/s]"
          }
        },
        "87d2a70fd265486ab2da1909bc24b48c": {
          "model_module": "@jupyter-widgets/base",
          "model_name": "LayoutModel",
          "model_module_version": "1.2.0",
          "state": {
            "_model_module": "@jupyter-widgets/base",
            "_model_module_version": "1.2.0",
            "_model_name": "LayoutModel",
            "_view_count": null,
            "_view_module": "@jupyter-widgets/base",
            "_view_module_version": "1.2.0",
            "_view_name": "LayoutView",
            "align_content": null,
            "align_items": null,
            "align_self": null,
            "border": null,
            "bottom": null,
            "display": null,
            "flex": null,
            "flex_flow": null,
            "grid_area": null,
            "grid_auto_columns": null,
            "grid_auto_flow": null,
            "grid_auto_rows": null,
            "grid_column": null,
            "grid_gap": null,
            "grid_row": null,
            "grid_template_areas": null,
            "grid_template_columns": null,
            "grid_template_rows": null,
            "height": null,
            "justify_content": null,
            "justify_items": null,
            "left": null,
            "margin": null,
            "max_height": null,
            "max_width": null,
            "min_height": null,
            "min_width": null,
            "object_fit": null,
            "object_position": null,
            "order": null,
            "overflow": null,
            "overflow_x": null,
            "overflow_y": null,
            "padding": null,
            "right": null,
            "top": null,
            "visibility": null,
            "width": null
          }
        },
        "a28a783e551945ce864ab6566a5c926b": {
          "model_module": "@jupyter-widgets/base",
          "model_name": "LayoutModel",
          "model_module_version": "1.2.0",
          "state": {
            "_model_module": "@jupyter-widgets/base",
            "_model_module_version": "1.2.0",
            "_model_name": "LayoutModel",
            "_view_count": null,
            "_view_module": "@jupyter-widgets/base",
            "_view_module_version": "1.2.0",
            "_view_name": "LayoutView",
            "align_content": null,
            "align_items": null,
            "align_self": null,
            "border": null,
            "bottom": null,
            "display": null,
            "flex": null,
            "flex_flow": null,
            "grid_area": null,
            "grid_auto_columns": null,
            "grid_auto_flow": null,
            "grid_auto_rows": null,
            "grid_column": null,
            "grid_gap": null,
            "grid_row": null,
            "grid_template_areas": null,
            "grid_template_columns": null,
            "grid_template_rows": null,
            "height": null,
            "justify_content": null,
            "justify_items": null,
            "left": null,
            "margin": null,
            "max_height": null,
            "max_width": null,
            "min_height": null,
            "min_width": null,
            "object_fit": null,
            "object_position": null,
            "order": null,
            "overflow": null,
            "overflow_x": null,
            "overflow_y": null,
            "padding": null,
            "right": null,
            "top": null,
            "visibility": null,
            "width": null
          }
        },
        "6a45d351636e47d58153f4704ea864af": {
          "model_module": "@jupyter-widgets/controls",
          "model_name": "DescriptionStyleModel",
          "model_module_version": "1.5.0",
          "state": {
            "_model_module": "@jupyter-widgets/controls",
            "_model_module_version": "1.5.0",
            "_model_name": "DescriptionStyleModel",
            "_view_count": null,
            "_view_module": "@jupyter-widgets/base",
            "_view_module_version": "1.2.0",
            "_view_name": "StyleView",
            "description_width": ""
          }
        },
        "b57f367d2d7246439562bc3ca33cc303": {
          "model_module": "@jupyter-widgets/base",
          "model_name": "LayoutModel",
          "model_module_version": "1.2.0",
          "state": {
            "_model_module": "@jupyter-widgets/base",
            "_model_module_version": "1.2.0",
            "_model_name": "LayoutModel",
            "_view_count": null,
            "_view_module": "@jupyter-widgets/base",
            "_view_module_version": "1.2.0",
            "_view_name": "LayoutView",
            "align_content": null,
            "align_items": null,
            "align_self": null,
            "border": null,
            "bottom": null,
            "display": null,
            "flex": null,
            "flex_flow": null,
            "grid_area": null,
            "grid_auto_columns": null,
            "grid_auto_flow": null,
            "grid_auto_rows": null,
            "grid_column": null,
            "grid_gap": null,
            "grid_row": null,
            "grid_template_areas": null,
            "grid_template_columns": null,
            "grid_template_rows": null,
            "height": null,
            "justify_content": null,
            "justify_items": null,
            "left": null,
            "margin": null,
            "max_height": null,
            "max_width": null,
            "min_height": null,
            "min_width": null,
            "object_fit": null,
            "object_position": null,
            "order": null,
            "overflow": null,
            "overflow_x": null,
            "overflow_y": null,
            "padding": null,
            "right": null,
            "top": null,
            "visibility": null,
            "width": "20px"
          }
        },
        "438b79e428f147e6a6c57effc33518f4": {
          "model_module": "@jupyter-widgets/controls",
          "model_name": "ProgressStyleModel",
          "model_module_version": "1.5.0",
          "state": {
            "_model_module": "@jupyter-widgets/controls",
            "_model_module_version": "1.5.0",
            "_model_name": "ProgressStyleModel",
            "_view_count": null,
            "_view_module": "@jupyter-widgets/base",
            "_view_module_version": "1.2.0",
            "_view_name": "StyleView",
            "bar_color": null,
            "description_width": ""
          }
        },
        "ae37a5308ddb4fbfa0314e440b961bc4": {
          "model_module": "@jupyter-widgets/base",
          "model_name": "LayoutModel",
          "model_module_version": "1.2.0",
          "state": {
            "_model_module": "@jupyter-widgets/base",
            "_model_module_version": "1.2.0",
            "_model_name": "LayoutModel",
            "_view_count": null,
            "_view_module": "@jupyter-widgets/base",
            "_view_module_version": "1.2.0",
            "_view_name": "LayoutView",
            "align_content": null,
            "align_items": null,
            "align_self": null,
            "border": null,
            "bottom": null,
            "display": null,
            "flex": null,
            "flex_flow": null,
            "grid_area": null,
            "grid_auto_columns": null,
            "grid_auto_flow": null,
            "grid_auto_rows": null,
            "grid_column": null,
            "grid_gap": null,
            "grid_row": null,
            "grid_template_areas": null,
            "grid_template_columns": null,
            "grid_template_rows": null,
            "height": null,
            "justify_content": null,
            "justify_items": null,
            "left": null,
            "margin": null,
            "max_height": null,
            "max_width": null,
            "min_height": null,
            "min_width": null,
            "object_fit": null,
            "object_position": null,
            "order": null,
            "overflow": null,
            "overflow_x": null,
            "overflow_y": null,
            "padding": null,
            "right": null,
            "top": null,
            "visibility": null,
            "width": null
          }
        },
        "de2bc4f1ddf7453bb0f0f38c7366836d": {
          "model_module": "@jupyter-widgets/controls",
          "model_name": "DescriptionStyleModel",
          "model_module_version": "1.5.0",
          "state": {
            "_model_module": "@jupyter-widgets/controls",
            "_model_module_version": "1.5.0",
            "_model_name": "DescriptionStyleModel",
            "_view_count": null,
            "_view_module": "@jupyter-widgets/base",
            "_view_module_version": "1.2.0",
            "_view_name": "StyleView",
            "description_width": ""
          }
        },
        "15b17ce70c9240ea8919ddceeaab4b01": {
          "model_module": "@jupyter-widgets/controls",
          "model_name": "HBoxModel",
          "model_module_version": "1.5.0",
          "state": {
            "_dom_classes": [],
            "_model_module": "@jupyter-widgets/controls",
            "_model_module_version": "1.5.0",
            "_model_name": "HBoxModel",
            "_view_count": null,
            "_view_module": "@jupyter-widgets/controls",
            "_view_module_version": "1.5.0",
            "_view_name": "HBoxView",
            "box_style": "",
            "children": [
              "IPY_MODEL_a16bade7b2af4c159bf1dcacaf711e2a",
              "IPY_MODEL_c355dd477ea942fdb72ed4b83ad5a13c",
              "IPY_MODEL_338a8ea3202445ea869fcbb98cb83bdd"
            ],
            "layout": "IPY_MODEL_90f580414fab4264ac82e200903fb175"
          }
        },
        "a16bade7b2af4c159bf1dcacaf711e2a": {
          "model_module": "@jupyter-widgets/controls",
          "model_name": "HTMLModel",
          "model_module_version": "1.5.0",
          "state": {
            "_dom_classes": [],
            "_model_module": "@jupyter-widgets/controls",
            "_model_module_version": "1.5.0",
            "_model_name": "HTMLModel",
            "_view_count": null,
            "_view_module": "@jupyter-widgets/controls",
            "_view_module_version": "1.5.0",
            "_view_name": "HTMLView",
            "description": "",
            "description_tooltip": null,
            "layout": "IPY_MODEL_0f42a3667ceb41e28bebacacd23dfdf0",
            "placeholder": "​",
            "style": "IPY_MODEL_64910ceeb0ea4008ab342caad767ad48",
            "value": "pytorch_model.bin: 100%"
          }
        },
        "c355dd477ea942fdb72ed4b83ad5a13c": {
          "model_module": "@jupyter-widgets/controls",
          "model_name": "FloatProgressModel",
          "model_module_version": "1.5.0",
          "state": {
            "_dom_classes": [],
            "_model_module": "@jupyter-widgets/controls",
            "_model_module_version": "1.5.0",
            "_model_name": "FloatProgressModel",
            "_view_count": null,
            "_view_module": "@jupyter-widgets/controls",
            "_view_module_version": "1.5.0",
            "_view_name": "ProgressView",
            "bar_style": "success",
            "description": "",
            "description_tooltip": null,
            "layout": "IPY_MODEL_f6a171efd4fa44139f86a5371d2c0804",
            "max": 439101405,
            "min": 0,
            "orientation": "horizontal",
            "style": "IPY_MODEL_69035cc9659e4cbeb94f9dc0fcef1a47",
            "value": 439101405
          }
        },
        "338a8ea3202445ea869fcbb98cb83bdd": {
          "model_module": "@jupyter-widgets/controls",
          "model_name": "HTMLModel",
          "model_module_version": "1.5.0",
          "state": {
            "_dom_classes": [],
            "_model_module": "@jupyter-widgets/controls",
            "_model_module_version": "1.5.0",
            "_model_name": "HTMLModel",
            "_view_count": null,
            "_view_module": "@jupyter-widgets/controls",
            "_view_module_version": "1.5.0",
            "_view_name": "HTMLView",
            "description": "",
            "description_tooltip": null,
            "layout": "IPY_MODEL_d7469ea04ba746cdac85806a4c83a062",
            "placeholder": "​",
            "style": "IPY_MODEL_4e80c12b0ba94c429edc566fec7b0f4d",
            "value": " 439M/439M [00:02&lt;00:00, 216MB/s]"
          }
        },
        "90f580414fab4264ac82e200903fb175": {
          "model_module": "@jupyter-widgets/base",
          "model_name": "LayoutModel",
          "model_module_version": "1.2.0",
          "state": {
            "_model_module": "@jupyter-widgets/base",
            "_model_module_version": "1.2.0",
            "_model_name": "LayoutModel",
            "_view_count": null,
            "_view_module": "@jupyter-widgets/base",
            "_view_module_version": "1.2.0",
            "_view_name": "LayoutView",
            "align_content": null,
            "align_items": null,
            "align_self": null,
            "border": null,
            "bottom": null,
            "display": null,
            "flex": null,
            "flex_flow": null,
            "grid_area": null,
            "grid_auto_columns": null,
            "grid_auto_flow": null,
            "grid_auto_rows": null,
            "grid_column": null,
            "grid_gap": null,
            "grid_row": null,
            "grid_template_areas": null,
            "grid_template_columns": null,
            "grid_template_rows": null,
            "height": null,
            "justify_content": null,
            "justify_items": null,
            "left": null,
            "margin": null,
            "max_height": null,
            "max_width": null,
            "min_height": null,
            "min_width": null,
            "object_fit": null,
            "object_position": null,
            "order": null,
            "overflow": null,
            "overflow_x": null,
            "overflow_y": null,
            "padding": null,
            "right": null,
            "top": null,
            "visibility": null,
            "width": null
          }
        },
        "0f42a3667ceb41e28bebacacd23dfdf0": {
          "model_module": "@jupyter-widgets/base",
          "model_name": "LayoutModel",
          "model_module_version": "1.2.0",
          "state": {
            "_model_module": "@jupyter-widgets/base",
            "_model_module_version": "1.2.0",
            "_model_name": "LayoutModel",
            "_view_count": null,
            "_view_module": "@jupyter-widgets/base",
            "_view_module_version": "1.2.0",
            "_view_name": "LayoutView",
            "align_content": null,
            "align_items": null,
            "align_self": null,
            "border": null,
            "bottom": null,
            "display": null,
            "flex": null,
            "flex_flow": null,
            "grid_area": null,
            "grid_auto_columns": null,
            "grid_auto_flow": null,
            "grid_auto_rows": null,
            "grid_column": null,
            "grid_gap": null,
            "grid_row": null,
            "grid_template_areas": null,
            "grid_template_columns": null,
            "grid_template_rows": null,
            "height": null,
            "justify_content": null,
            "justify_items": null,
            "left": null,
            "margin": null,
            "max_height": null,
            "max_width": null,
            "min_height": null,
            "min_width": null,
            "object_fit": null,
            "object_position": null,
            "order": null,
            "overflow": null,
            "overflow_x": null,
            "overflow_y": null,
            "padding": null,
            "right": null,
            "top": null,
            "visibility": null,
            "width": null
          }
        },
        "64910ceeb0ea4008ab342caad767ad48": {
          "model_module": "@jupyter-widgets/controls",
          "model_name": "DescriptionStyleModel",
          "model_module_version": "1.5.0",
          "state": {
            "_model_module": "@jupyter-widgets/controls",
            "_model_module_version": "1.5.0",
            "_model_name": "DescriptionStyleModel",
            "_view_count": null,
            "_view_module": "@jupyter-widgets/base",
            "_view_module_version": "1.2.0",
            "_view_name": "StyleView",
            "description_width": ""
          }
        },
        "f6a171efd4fa44139f86a5371d2c0804": {
          "model_module": "@jupyter-widgets/base",
          "model_name": "LayoutModel",
          "model_module_version": "1.2.0",
          "state": {
            "_model_module": "@jupyter-widgets/base",
            "_model_module_version": "1.2.0",
            "_model_name": "LayoutModel",
            "_view_count": null,
            "_view_module": "@jupyter-widgets/base",
            "_view_module_version": "1.2.0",
            "_view_name": "LayoutView",
            "align_content": null,
            "align_items": null,
            "align_self": null,
            "border": null,
            "bottom": null,
            "display": null,
            "flex": null,
            "flex_flow": null,
            "grid_area": null,
            "grid_auto_columns": null,
            "grid_auto_flow": null,
            "grid_auto_rows": null,
            "grid_column": null,
            "grid_gap": null,
            "grid_row": null,
            "grid_template_areas": null,
            "grid_template_columns": null,
            "grid_template_rows": null,
            "height": null,
            "justify_content": null,
            "justify_items": null,
            "left": null,
            "margin": null,
            "max_height": null,
            "max_width": null,
            "min_height": null,
            "min_width": null,
            "object_fit": null,
            "object_position": null,
            "order": null,
            "overflow": null,
            "overflow_x": null,
            "overflow_y": null,
            "padding": null,
            "right": null,
            "top": null,
            "visibility": null,
            "width": null
          }
        },
        "69035cc9659e4cbeb94f9dc0fcef1a47": {
          "model_module": "@jupyter-widgets/controls",
          "model_name": "ProgressStyleModel",
          "model_module_version": "1.5.0",
          "state": {
            "_model_module": "@jupyter-widgets/controls",
            "_model_module_version": "1.5.0",
            "_model_name": "ProgressStyleModel",
            "_view_count": null,
            "_view_module": "@jupyter-widgets/base",
            "_view_module_version": "1.2.0",
            "_view_name": "StyleView",
            "bar_color": null,
            "description_width": ""
          }
        },
        "d7469ea04ba746cdac85806a4c83a062": {
          "model_module": "@jupyter-widgets/base",
          "model_name": "LayoutModel",
          "model_module_version": "1.2.0",
          "state": {
            "_model_module": "@jupyter-widgets/base",
            "_model_module_version": "1.2.0",
            "_model_name": "LayoutModel",
            "_view_count": null,
            "_view_module": "@jupyter-widgets/base",
            "_view_module_version": "1.2.0",
            "_view_name": "LayoutView",
            "align_content": null,
            "align_items": null,
            "align_self": null,
            "border": null,
            "bottom": null,
            "display": null,
            "flex": null,
            "flex_flow": null,
            "grid_area": null,
            "grid_auto_columns": null,
            "grid_auto_flow": null,
            "grid_auto_rows": null,
            "grid_column": null,
            "grid_gap": null,
            "grid_row": null,
            "grid_template_areas": null,
            "grid_template_columns": null,
            "grid_template_rows": null,
            "height": null,
            "justify_content": null,
            "justify_items": null,
            "left": null,
            "margin": null,
            "max_height": null,
            "max_width": null,
            "min_height": null,
            "min_width": null,
            "object_fit": null,
            "object_position": null,
            "order": null,
            "overflow": null,
            "overflow_x": null,
            "overflow_y": null,
            "padding": null,
            "right": null,
            "top": null,
            "visibility": null,
            "width": null
          }
        },
        "4e80c12b0ba94c429edc566fec7b0f4d": {
          "model_module": "@jupyter-widgets/controls",
          "model_name": "DescriptionStyleModel",
          "model_module_version": "1.5.0",
          "state": {
            "_model_module": "@jupyter-widgets/controls",
            "_model_module_version": "1.5.0",
            "_model_name": "DescriptionStyleModel",
            "_view_count": null,
            "_view_module": "@jupyter-widgets/base",
            "_view_module_version": "1.2.0",
            "_view_name": "StyleView",
            "description_width": ""
          }
        },
        "70b77727d20c4817a3ea2a225845b23e": {
          "model_module": "@jupyter-widgets/controls",
          "model_name": "HBoxModel",
          "model_module_version": "1.5.0",
          "state": {
            "_dom_classes": [],
            "_model_module": "@jupyter-widgets/controls",
            "_model_module_version": "1.5.0",
            "_model_name": "HBoxModel",
            "_view_count": null,
            "_view_module": "@jupyter-widgets/controls",
            "_view_module_version": "1.5.0",
            "_view_name": "HBoxView",
            "box_style": "",
            "children": [
              "IPY_MODEL_28854c9c8a044340a0f6edeb8699f483",
              "IPY_MODEL_ec30f57aa6df45f69836412ebc0f0aad",
              "IPY_MODEL_23f7e494a8294e3eb81f0273aa572f71"
            ],
            "layout": "IPY_MODEL_0bcc3654d8b140758184bf2eb462a179"
          }
        },
        "28854c9c8a044340a0f6edeb8699f483": {
          "model_module": "@jupyter-widgets/controls",
          "model_name": "HTMLModel",
          "model_module_version": "1.5.0",
          "state": {
            "_dom_classes": [],
            "_model_module": "@jupyter-widgets/controls",
            "_model_module_version": "1.5.0",
            "_model_name": "HTMLModel",
            "_view_count": null,
            "_view_module": "@jupyter-widgets/controls",
            "_view_module_version": "1.5.0",
            "_view_name": "HTMLView",
            "description": "",
            "description_tooltip": null,
            "layout": "IPY_MODEL_6f1c8fd525b34a48ad6ba5ab0606b3c2",
            "placeholder": "​",
            "style": "IPY_MODEL_e19fd16c1fa9435fbf71d0d218323b99",
            "value": "model.safetensors: 100%"
          }
        },
        "ec30f57aa6df45f69836412ebc0f0aad": {
          "model_module": "@jupyter-widgets/controls",
          "model_name": "FloatProgressModel",
          "model_module_version": "1.5.0",
          "state": {
            "_dom_classes": [],
            "_model_module": "@jupyter-widgets/controls",
            "_model_module_version": "1.5.0",
            "_model_name": "FloatProgressModel",
            "_view_count": null,
            "_view_module": "@jupyter-widgets/controls",
            "_view_module_version": "1.5.0",
            "_view_name": "ProgressView",
            "bar_style": "success",
            "description": "",
            "description_tooltip": null,
            "layout": "IPY_MODEL_2cdf07a51dd349bbbf197d8f485d1669",
            "max": 439044180,
            "min": 0,
            "orientation": "horizontal",
            "style": "IPY_MODEL_a4133a0c10ec4e168488c5299fb29b50",
            "value": 439044180
          }
        },
        "23f7e494a8294e3eb81f0273aa572f71": {
          "model_module": "@jupyter-widgets/controls",
          "model_name": "HTMLModel",
          "model_module_version": "1.5.0",
          "state": {
            "_dom_classes": [],
            "_model_module": "@jupyter-widgets/controls",
            "_model_module_version": "1.5.0",
            "_model_name": "HTMLModel",
            "_view_count": null,
            "_view_module": "@jupyter-widgets/controls",
            "_view_module_version": "1.5.0",
            "_view_name": "HTMLView",
            "description": "",
            "description_tooltip": null,
            "layout": "IPY_MODEL_d2b52f96e27841338cb1c6559f9a8407",
            "placeholder": "​",
            "style": "IPY_MODEL_fbf6d4f7ee914efcb97d2a6bac258d35",
            "value": " 439M/439M [00:09&lt;00:00, 40.3MB/s]"
          }
        },
        "0bcc3654d8b140758184bf2eb462a179": {
          "model_module": "@jupyter-widgets/base",
          "model_name": "LayoutModel",
          "model_module_version": "1.2.0",
          "state": {
            "_model_module": "@jupyter-widgets/base",
            "_model_module_version": "1.2.0",
            "_model_name": "LayoutModel",
            "_view_count": null,
            "_view_module": "@jupyter-widgets/base",
            "_view_module_version": "1.2.0",
            "_view_name": "LayoutView",
            "align_content": null,
            "align_items": null,
            "align_self": null,
            "border": null,
            "bottom": null,
            "display": null,
            "flex": null,
            "flex_flow": null,
            "grid_area": null,
            "grid_auto_columns": null,
            "grid_auto_flow": null,
            "grid_auto_rows": null,
            "grid_column": null,
            "grid_gap": null,
            "grid_row": null,
            "grid_template_areas": null,
            "grid_template_columns": null,
            "grid_template_rows": null,
            "height": null,
            "justify_content": null,
            "justify_items": null,
            "left": null,
            "margin": null,
            "max_height": null,
            "max_width": null,
            "min_height": null,
            "min_width": null,
            "object_fit": null,
            "object_position": null,
            "order": null,
            "overflow": null,
            "overflow_x": null,
            "overflow_y": null,
            "padding": null,
            "right": null,
            "top": null,
            "visibility": null,
            "width": null
          }
        },
        "6f1c8fd525b34a48ad6ba5ab0606b3c2": {
          "model_module": "@jupyter-widgets/base",
          "model_name": "LayoutModel",
          "model_module_version": "1.2.0",
          "state": {
            "_model_module": "@jupyter-widgets/base",
            "_model_module_version": "1.2.0",
            "_model_name": "LayoutModel",
            "_view_count": null,
            "_view_module": "@jupyter-widgets/base",
            "_view_module_version": "1.2.0",
            "_view_name": "LayoutView",
            "align_content": null,
            "align_items": null,
            "align_self": null,
            "border": null,
            "bottom": null,
            "display": null,
            "flex": null,
            "flex_flow": null,
            "grid_area": null,
            "grid_auto_columns": null,
            "grid_auto_flow": null,
            "grid_auto_rows": null,
            "grid_column": null,
            "grid_gap": null,
            "grid_row": null,
            "grid_template_areas": null,
            "grid_template_columns": null,
            "grid_template_rows": null,
            "height": null,
            "justify_content": null,
            "justify_items": null,
            "left": null,
            "margin": null,
            "max_height": null,
            "max_width": null,
            "min_height": null,
            "min_width": null,
            "object_fit": null,
            "object_position": null,
            "order": null,
            "overflow": null,
            "overflow_x": null,
            "overflow_y": null,
            "padding": null,
            "right": null,
            "top": null,
            "visibility": null,
            "width": null
          }
        },
        "e19fd16c1fa9435fbf71d0d218323b99": {
          "model_module": "@jupyter-widgets/controls",
          "model_name": "DescriptionStyleModel",
          "model_module_version": "1.5.0",
          "state": {
            "_model_module": "@jupyter-widgets/controls",
            "_model_module_version": "1.5.0",
            "_model_name": "DescriptionStyleModel",
            "_view_count": null,
            "_view_module": "@jupyter-widgets/base",
            "_view_module_version": "1.2.0",
            "_view_name": "StyleView",
            "description_width": ""
          }
        },
        "2cdf07a51dd349bbbf197d8f485d1669": {
          "model_module": "@jupyter-widgets/base",
          "model_name": "LayoutModel",
          "model_module_version": "1.2.0",
          "state": {
            "_model_module": "@jupyter-widgets/base",
            "_model_module_version": "1.2.0",
            "_model_name": "LayoutModel",
            "_view_count": null,
            "_view_module": "@jupyter-widgets/base",
            "_view_module_version": "1.2.0",
            "_view_name": "LayoutView",
            "align_content": null,
            "align_items": null,
            "align_self": null,
            "border": null,
            "bottom": null,
            "display": null,
            "flex": null,
            "flex_flow": null,
            "grid_area": null,
            "grid_auto_columns": null,
            "grid_auto_flow": null,
            "grid_auto_rows": null,
            "grid_column": null,
            "grid_gap": null,
            "grid_row": null,
            "grid_template_areas": null,
            "grid_template_columns": null,
            "grid_template_rows": null,
            "height": null,
            "justify_content": null,
            "justify_items": null,
            "left": null,
            "margin": null,
            "max_height": null,
            "max_width": null,
            "min_height": null,
            "min_width": null,
            "object_fit": null,
            "object_position": null,
            "order": null,
            "overflow": null,
            "overflow_x": null,
            "overflow_y": null,
            "padding": null,
            "right": null,
            "top": null,
            "visibility": null,
            "width": null
          }
        },
        "a4133a0c10ec4e168488c5299fb29b50": {
          "model_module": "@jupyter-widgets/controls",
          "model_name": "ProgressStyleModel",
          "model_module_version": "1.5.0",
          "state": {
            "_model_module": "@jupyter-widgets/controls",
            "_model_module_version": "1.5.0",
            "_model_name": "ProgressStyleModel",
            "_view_count": null,
            "_view_module": "@jupyter-widgets/base",
            "_view_module_version": "1.2.0",
            "_view_name": "StyleView",
            "bar_color": null,
            "description_width": ""
          }
        },
        "d2b52f96e27841338cb1c6559f9a8407": {
          "model_module": "@jupyter-widgets/base",
          "model_name": "LayoutModel",
          "model_module_version": "1.2.0",
          "state": {
            "_model_module": "@jupyter-widgets/base",
            "_model_module_version": "1.2.0",
            "_model_name": "LayoutModel",
            "_view_count": null,
            "_view_module": "@jupyter-widgets/base",
            "_view_module_version": "1.2.0",
            "_view_name": "LayoutView",
            "align_content": null,
            "align_items": null,
            "align_self": null,
            "border": null,
            "bottom": null,
            "display": null,
            "flex": null,
            "flex_flow": null,
            "grid_area": null,
            "grid_auto_columns": null,
            "grid_auto_flow": null,
            "grid_auto_rows": null,
            "grid_column": null,
            "grid_gap": null,
            "grid_row": null,
            "grid_template_areas": null,
            "grid_template_columns": null,
            "grid_template_rows": null,
            "height": null,
            "justify_content": null,
            "justify_items": null,
            "left": null,
            "margin": null,
            "max_height": null,
            "max_width": null,
            "min_height": null,
            "min_width": null,
            "object_fit": null,
            "object_position": null,
            "order": null,
            "overflow": null,
            "overflow_x": null,
            "overflow_y": null,
            "padding": null,
            "right": null,
            "top": null,
            "visibility": null,
            "width": null
          }
        },
        "fbf6d4f7ee914efcb97d2a6bac258d35": {
          "model_module": "@jupyter-widgets/controls",
          "model_name": "DescriptionStyleModel",
          "model_module_version": "1.5.0",
          "state": {
            "_model_module": "@jupyter-widgets/controls",
            "_model_module_version": "1.5.0",
            "_model_name": "DescriptionStyleModel",
            "_view_count": null,
            "_view_module": "@jupyter-widgets/base",
            "_view_module_version": "1.2.0",
            "_view_name": "StyleView",
            "description_width": ""
          }
        }
      }
    }
  },
  "nbformat": 4,
  "nbformat_minor": 0
}